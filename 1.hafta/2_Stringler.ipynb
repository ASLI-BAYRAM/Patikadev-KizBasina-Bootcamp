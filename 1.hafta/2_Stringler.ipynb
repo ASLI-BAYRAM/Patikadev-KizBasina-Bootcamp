{
 "cells": [
  {
   "cell_type": "markdown",
   "id": "b22bcc9c-93e7-4045-85bb-e64b2e41a310",
   "metadata": {},
   "source": [
    " <h1 style=\"text-align: center; color: RED\">STRİNG VERİ TİPİ</h1> \n",
    "\n",
    " \n",
    "\n",
    " Stringler karakterlerden oluşan bir dizidir aslında. Stringlerin elemanları karakterlerdir.\n",
    "\n",
    "\n",
    "Karakterler: (a,b,c,d...) gibi harfler, (*, ?, =, <, >, /...) gibi özel karakterler, (1,2,3...) gibi yazı biçiminde sayılar, boşluk(space) karakter olarak adlandırılabilir.\n",
    "\n",
    "\n",
    "String'ler karakterlerden veya bunların kombinasyonlarından oluşabilirler.\n",
    "\n",
    "\n",
    "Bir şeyin string olduğunu belirtmek için yazacaklarımızı ikili tırnak (\"örnek\") veya tekli tırnak ('örnek') içine yazarız.\n",
    "\n",
    "\n",
    "Tırnak işaretlerinin yaptığı şey aslında: Bu tırnak işaretlerinin içinde verdiğim diziye karakterler dizisi olarak davran, öyle algıla demek.\n",
    "\n",
    "\n",
    "İkili tırnak içine de yazsak, tekli tırnak içine de yazsak aynı şekilde algılanır. Önemli olan hangisiyle başladıysak onunla bitirmek.\n",
    "\n",
    "\n",
    "Scalar ve Non-scalar objelerden bahsetmiştik. Non-scalar veri tiplerinin daha alt parçalara bölünebilen, elemanlar içeren yapılar olduğunu konuşmuştuk. String non-scalar bir veri tipi. İçsel yapı olarak karakterlerden oluşuyor.\n",
    "\n",
    "\n",
    "Stringler immutable veri tipidir.\n",
    "\n",
    "\n",
    "Immutable: Elemanlarının değerleri değiştirilemez.\n"
   ]
  },
  {
   "cell_type": "code",
   "execution_count": 7,
   "id": "298f98f7-f5d5-4b54-8d90-eeab7b9bdc56",
   "metadata": {},
   "outputs": [
    {
     "data": {
      "text/plain": [
       "'5'"
      ]
     },
     "execution_count": 7,
     "metadata": {},
     "output_type": "execute_result"
    }
   ],
   "source": [
    "\"5\""
   ]
  },
  {
   "cell_type": "code",
   "execution_count": 9,
   "id": "d83f7b62-2873-4a6d-9f1e-8e92cb0a7795",
   "metadata": {},
   "outputs": [
    {
     "data": {
      "text/plain": [
       "'a'"
      ]
     },
     "execution_count": 9,
     "metadata": {},
     "output_type": "execute_result"
    }
   ],
   "source": [
    "\"a\""
   ]
  },
  {
   "cell_type": "code",
   "execution_count": 11,
   "id": "51810ce3-b6b5-4692-af17-859f1d33bf36",
   "metadata": {},
   "outputs": [
    {
     "ename": "SyntaxError",
     "evalue": "unterminated string literal (detected at line 2) (2742994915.py, line 2)",
     "output_type": "error",
     "traceback": [
      "\u001b[1;36m  Cell \u001b[1;32mIn[11], line 2\u001b[1;36m\u001b[0m\n\u001b[1;33m    \"a'\u001b[0m\n\u001b[1;37m    ^\u001b[0m\n\u001b[1;31mSyntaxError\u001b[0m\u001b[1;31m:\u001b[0m unterminated string literal (detected at line 2)\n"
     ]
    }
   ],
   "source": [
    "# Hangisiyle başladıysak onunla bitirmeliyiz\n",
    "\"a'"
   ]
  },
  {
   "cell_type": "code",
   "execution_count": 13,
   "id": "a2910785-0857-4942-bf38-6a6874797aa4",
   "metadata": {},
   "outputs": [
    {
     "data": {
      "text/plain": [
       "'5 + 10'"
      ]
     },
     "execution_count": 13,
     "metadata": {},
     "output_type": "execute_result"
    }
   ],
   "source": [
    "# Burada +'ya operatör olarak davranılmıyor, yazı olarak davranılıyor.\n",
    "\"5 + 10\""
   ]
  },
  {
   "cell_type": "code",
   "execution_count": 15,
   "id": "92a7f927-a5aa-4124-b498-90554ff760eb",
   "metadata": {},
   "outputs": [
    {
     "data": {
      "text/plain": [
       "str"
      ]
     },
     "execution_count": 15,
     "metadata": {},
     "output_type": "execute_result"
    }
   ],
   "source": [
    "type('Hmm o zaman x=5 diyebilir miyiz?')"
   ]
  },
  {
   "cell_type": "code",
   "execution_count": 17,
   "id": "34f8c09d-6e1d-428a-871c-5801bb8dfb60",
   "metadata": {},
   "outputs": [
    {
     "data": {
      "text/plain": [
       "str"
      ]
     },
     "execution_count": 17,
     "metadata": {},
     "output_type": "execute_result"
    }
   ],
   "source": [
    "type(\"5\")"
   ]
  },
  {
   "cell_type": "markdown",
   "id": "5265376e-a861-4f99-82db-0758c9395040",
   "metadata": {},
   "source": [
    "Hangisiyle başladıysak onunla bitireceğimiz için kesme işareti ve alıntı yapmada hangisiyle başladığımız önemli olabilir (bu ayrımı nasıl yapacağım, buna göre mi tasarlayacağım diyenler için iyi haber - escape character kısmını işleyince daha iyi bir yolunu göreceğiz)"
   ]
  },
  {
   "cell_type": "code",
   "execution_count": 20,
   "id": "60214bdd-f491-4d35-9899-7e2f26ecb990",
   "metadata": {},
   "outputs": [
    {
     "data": {
      "text/plain": [
       "\"Bugün Kadıköy'e gidiyorum\""
      ]
     },
     "execution_count": 20,
     "metadata": {},
     "output_type": "execute_result"
    }
   ],
   "source": [
    "\"Bugün Kadıköy'e gidiyorum\""
   ]
  },
  {
   "cell_type": "code",
   "execution_count": 22,
   "id": "5db11063-0f65-4607-be8d-160bac5c2d15",
   "metadata": {},
   "outputs": [
    {
     "ename": "SyntaxError",
     "evalue": "unterminated string literal (detected at line 1) (1141162360.py, line 1)",
     "output_type": "error",
     "traceback": [
      "\u001b[1;36m  Cell \u001b[1;32mIn[22], line 1\u001b[1;36m\u001b[0m\n\u001b[1;33m    'Bugün Kadıköy'e gidiyorum'\u001b[0m\n\u001b[1;37m                              ^\u001b[0m\n\u001b[1;31mSyntaxError\u001b[0m\u001b[1;31m:\u001b[0m unterminated string literal (detected at line 1)\n"
     ]
    }
   ],
   "source": [
    "'Bugün Kadıköy'e gidiyorum'"
   ]
  },
  {
   "cell_type": "code",
   "execution_count": 24,
   "id": "acf244eb-b95d-4436-ae8c-4826302f4f9c",
   "metadata": {},
   "outputs": [
    {
     "data": {
      "text/plain": [
       "\"Bugün Kadıköy'e gidiyorum\""
      ]
     },
     "execution_count": 24,
     "metadata": {},
     "output_type": "execute_result"
    }
   ],
   "source": [
    "'Bugün Kadıköy\\'e gidiyorum'"
   ]
  },
  {
   "cell_type": "code",
   "execution_count": 26,
   "id": "4591ab10-3733-45c1-9a80-c73435613ab0",
   "metadata": {},
   "outputs": [
    {
     "ename": "SyntaxError",
     "evalue": "unterminated string literal (detected at line 1) (1473336850.py, line 1)",
     "output_type": "error",
     "traceback": [
      "\u001b[1;36m  Cell \u001b[1;32mIn[26], line 1\u001b[1;36m\u001b[0m\n\u001b[1;33m    'Bana \"Bugün Kadıköy'e gidiyorum\" dedi'\u001b[0m\n\u001b[1;37m                                    ^\u001b[0m\n\u001b[1;31mSyntaxError\u001b[0m\u001b[1;31m:\u001b[0m unterminated string literal (detected at line 1)\n"
     ]
    }
   ],
   "source": [
    "'Bana \"Bugün Kadıköy'e gidiyorum\" dedi'"
   ]
  },
  {
   "cell_type": "code",
   "execution_count": 52,
   "id": "d2f50f4f-7ee0-41e7-a2ab-23f391be006e",
   "metadata": {},
   "outputs": [
    {
     "data": {
      "text/plain": [
       "'Bana \"Bugün Kadıköy\\'e gidiyorum\" dedi'"
      ]
     },
     "execution_count": 52,
     "metadata": {},
     "output_type": "execute_result"
    }
   ],
   "source": [
    "\"Bana \\\"Bugün Kadıköy'e gidiyorum\\\" dedi\""
   ]
  },
  {
   "cell_type": "code",
   "execution_count": 54,
   "id": "2f161042-15f6-42b0-9b88-255f4c0905ba",
   "metadata": {},
   "outputs": [
    {
     "name": "stdout",
     "output_type": "stream",
     "text": [
      "hey\n",
      "nasılsın\n"
     ]
    }
   ],
   "source": [
    "print(\"hey\\nnasılsın\") #\\n bir alt satıra geçmeyi sağlar"
   ]
  },
  {
   "cell_type": "markdown",
   "id": "2388a447-31f4-49d0-b569-7dd2fe67aab5",
   "metadata": {},
   "source": [
    " <span style=\"color: blue; font-weight: bold;\">Escape Sequence</span> :"
   ]
  },
  {
   "cell_type": "code",
   "execution_count": 62,
   "id": "a08ff55d-6c7b-49f3-b90e-b2050577f402",
   "metadata": {},
   "outputs": [
    {
     "data": {
      "text/plain": [
       "'Bana \"Bugün ne yapıyorsun\" dedi'"
      ]
     },
     "execution_count": 62,
     "metadata": {},
     "output_type": "execute_result"
    }
   ],
   "source": [
    "\"Bana \\\"Bugün ne yapıyorsun\\\" dedi\""
   ]
  },
  {
   "cell_type": "code",
   "execution_count": 64,
   "id": "ad7bb889-caa6-4937-9e99-5a232349d8f8",
   "metadata": {},
   "outputs": [
    {
     "data": {
      "text/plain": [
       "\"Bugün Kadıköy'e gidiyorum\""
      ]
     },
     "execution_count": 64,
     "metadata": {},
     "output_type": "execute_result"
    }
   ],
   "source": [
    "'Bugün Kadıköy\\'e gidiyorum'"
   ]
  },
  {
   "cell_type": "code",
   "execution_count": 66,
   "id": "9ccfa930-df1c-41aa-91d0-3b3cea5574ea",
   "metadata": {},
   "outputs": [
    {
     "name": "stdout",
     "output_type": "stream",
     "text": [
      "hey\n",
      "nasılsın\n"
     ]
    }
   ],
   "source": [
    "print(\"hey\\nnasılsın\")"
   ]
  },
  {
   "cell_type": "code",
   "execution_count": 68,
   "id": "61ecc7f1-5aa1-4179-bbb6-3fef47d13914",
   "metadata": {},
   "outputs": [
    {
     "name": "stdout",
     "output_type": "stream",
     "text": [
      "hey\tnasılsın\n"
     ]
    }
   ],
   "source": [
    "print(\"hey\\tnasılsın\")"
   ]
  },
  {
   "cell_type": "code",
   "execution_count": 70,
   "id": "9a6ea632-43b6-4993-8408-5296c31a7853",
   "metadata": {},
   "outputs": [
    {
     "ename": "SyntaxError",
     "evalue": "unterminated string literal (detected at line 1) (2002776260.py, line 1)",
     "output_type": "error",
     "traceback": [
      "\u001b[1;36m  Cell \u001b[1;32mIn[70], line 1\u001b[1;36m\u001b[0m\n\u001b[1;33m    print(\"hmm \\\")\u001b[0m\n\u001b[1;37m          ^\u001b[0m\n\u001b[1;31mSyntaxError\u001b[0m\u001b[1;31m:\u001b[0m unterminated string literal (detected at line 1)\n"
     ]
    }
   ],
   "source": [
    "print(\"hmm \\\")"
   ]
  },
  {
   "cell_type": "code",
   "execution_count": 72,
   "id": "bb9235c7-2174-4314-a5e1-8e81056874f9",
   "metadata": {},
   "outputs": [
    {
     "name": "stdout",
     "output_type": "stream",
     "text": [
      "hmm \\\n"
     ]
    }
   ],
   "source": [
    "print(\"hmm \\\\\")"
   ]
  },
  {
   "cell_type": "markdown",
   "id": "6c08cc8d-a4dc-4659-b55c-7af0d181cd32",
   "metadata": {},
   "source": [
    " <h3 style=\"text-align: center; color: RED\">STRİNG VERİ TİPİ</h3> "
   ]
  },
  {
   "cell_type": "markdown",
   "id": "bfd3dee4-936d-4268-a8ad-3c246adeb147",
   "metadata": {},
   "source": [
    " <span style=\"color: blue; font-weight: bold;\">String'lerde Değer Atama(Variable Assignment)\n",
    "</span> : Sayısal veri tiplerinde nasıl ki değer atayabiliyor, verilerin değerlerine isim verebiliyorsak, aynısını stringler için de yapabiliyoruz."
   ]
  },
  {
   "cell_type": "code",
   "execution_count": 88,
   "id": "400ea90a-a941-41a6-b829-3d6ddf5c4233",
   "metadata": {},
   "outputs": [
    {
     "name": "stdout",
     "output_type": "stream",
     "text": [
      "Merhaba nasılsın bugün?\n"
     ]
    }
   ],
   "source": [
    "merhaba = \"Merhaba nasılsın bugün?\"\n",
    "print(merhaba)"
   ]
  },
  {
   "cell_type": "markdown",
   "id": "7e117a6a-0e90-4ce6-8e1e-92cf3905041c",
   "metadata": {},
   "source": [
    " <span style=\"color: blue; font-weight: bold;\">String Concatenation:</span> \n",
    "\n",
    "Operatörlerin uygulandıkları objelere göre değişik şeyler ifade edebileceğini konuşmuştuk.\n",
    "\n",
    "'+' operatörü sayısal veri tipleri üzerine etki edince toplama işlemi yapıyor. Ama uygulandığı objeler string ise yapacağı işlem concatenation (birleştirme) olacak. İki string'i art arta birleştirecek.\n",
    "\n",
    "En çok karıştırılan durumlardan biri string olarak ifade edilen sayıları + operatörüne sokmak.\n",
    "\n"
   ]
  },
  {
   "cell_type": "code",
   "execution_count": 91,
   "id": "04fcb040-64f0-4eaf-b840-65b04bb6e404",
   "metadata": {},
   "outputs": [
    {
     "data": {
      "text/plain": [
       "'54'"
      ]
     },
     "execution_count": 91,
     "metadata": {},
     "output_type": "execute_result"
    }
   ],
   "source": [
    "\"5\" + \"4\""
   ]
  },
  {
   "cell_type": "markdown",
   "id": "84e317e2-498f-48f9-8133-cf0c93dcd3e9",
   "metadata": {},
   "source": [
    "Python tırnak işareti içinde verdiklerimize karater olarak davrandığı için artık 5 ve 4 ü sayı olarak algılamıyor. + işlemi burada artık bu iki değeri yan yana koy demek, topla demek değil!"
   ]
  },
  {
   "cell_type": "code",
   "execution_count": 94,
   "id": "0abe4023-8db4-4c26-9bda-df62d92004b4",
   "metadata": {},
   "outputs": [
    {
     "data": {
      "text/plain": [
       "'heynasılsın?'"
      ]
     },
     "execution_count": 94,
     "metadata": {},
     "output_type": "execute_result"
    }
   ],
   "source": [
    "\"hey\"+\"nasılsın?\""
   ]
  },
  {
   "cell_type": "markdown",
   "id": "073b59f6-0204-4557-b6c0-2ec1730edd53",
   "metadata": {},
   "source": [
    "'+' operatörünün tek yaptığı birleştirmek, stringlerde boşluk(space) olmadığı için ifadenin sonucu boşluksuz çıktı."
   ]
  },
  {
   "cell_type": "code",
   "execution_count": 97,
   "id": "11409e92-03c0-4489-ab82-4a13482b6fd6",
   "metadata": {},
   "outputs": [
    {
     "data": {
      "text/plain": [
       "'hey nasılsın?'"
      ]
     },
     "execution_count": 97,
     "metadata": {},
     "output_type": "execute_result"
    }
   ],
   "source": [
    "\"hey\" + \" \" + \"nasılsın?\""
   ]
  },
  {
   "cell_type": "markdown",
   "id": "172512e9-00dd-4fca-8413-93c667e0af7b",
   "metadata": {},
   "source": [
    "Aynısını değer ataması yaparak da yapabilirdik.\n",
    "Diyelim ki karşılama mesajı yazmak istiyoruz. İsim ve karşılama kısmını ayrı tutacağız. Çünkü belki karşılayacağımız kişinin ismi değişecek ve ben kodumda sadece o değeri değiştirerek karşılama mantığını korumaya devam edeyim istiyorum.\n"
   ]
  },
  {
   "cell_type": "code",
   "execution_count": 100,
   "id": "efc296fd-9520-4536-af7c-e5bf87df1358",
   "metadata": {},
   "outputs": [
    {
     "data": {
      "text/plain": [
       "'Merhaba Berkay'"
      ]
     },
     "execution_count": 100,
     "metadata": {},
     "output_type": "execute_result"
    }
   ],
   "source": [
    "mesaj = \"Merhaba\"\n",
    "isim = \"Berkay\"\n",
    "mesaj + \" \" + isim"
   ]
  },
  {
   "cell_type": "markdown",
   "id": "fff6a2ae-5bf2-48e5-b56f-5f997ae51faa",
   "metadata": {},
   "source": [
    " <span style=\"color: blue; font-weight: bold;\">Successive Concatenation(Ardışık Birleştirme):</span> \n",
    "\n",
    " '*' operatörü sayı objeleri için çarpım olarak tanımlanmışken, stringler için ard arda birleştirme işlemi yapıyor."
   ]
  },
  {
   "cell_type": "code",
   "execution_count": 106,
   "id": "27060f3c-2724-4961-a529-ab67be8aec8e",
   "metadata": {},
   "outputs": [
    {
     "data": {
      "text/plain": [
       "'heyheyheyhey'"
      ]
     },
     "execution_count": 106,
     "metadata": {},
     "output_type": "execute_result"
    }
   ],
   "source": [
    "4 * \"hey\""
   ]
  },
  {
   "cell_type": "code",
   "execution_count": 108,
   "id": "b86e9f96-57cc-4c65-93fb-72e20ce75b23",
   "metadata": {},
   "outputs": [
    {
     "data": {
      "text/plain": [
       "'10000000000'"
      ]
     },
     "execution_count": 108,
     "metadata": {},
     "output_type": "execute_result"
    }
   ],
   "source": [
    "\"1\" + \"0\" * 10"
   ]
  },
  {
   "cell_type": "markdown",
   "id": "267f8c8d-68e1-4c5a-81cc-4d5b15fad073",
   "metadata": {},
   "source": [
    "\n",
    " <span style=\"color: blue; font-weight: bold;\">len()</span>\n",
    "\n",
    "Bu metod ile (metodları ileride ayrıntılı olara göreceğiz), elimizdeki string'in kaç karakterden oluştuğunu öğrenebiliriz (boşluklar da karakter olduğu için onlar da sayılıyor)"
   ]
  },
  {
   "cell_type": "code",
   "execution_count": 113,
   "id": "989b2202-7586-47c4-8c7b-740506ef6c6b",
   "metadata": {},
   "outputs": [
    {
     "data": {
      "text/plain": [
       "1"
      ]
     },
     "execution_count": 113,
     "metadata": {},
     "output_type": "execute_result"
    }
   ],
   "source": [
    "len(\"4\")"
   ]
  },
  {
   "cell_type": "code",
   "execution_count": 115,
   "id": "bbc64a19-aac8-4253-b2fe-8294a9eeaae8",
   "metadata": {},
   "outputs": [
    {
     "data": {
      "text/plain": [
       "3"
      ]
     },
     "execution_count": 115,
     "metadata": {},
     "output_type": "execute_result"
    }
   ],
   "source": [
    "len(\"hey\")"
   ]
  },
  {
   "cell_type": "code",
   "execution_count": 117,
   "id": "ddbd1c38-8c08-41a9-87ef-d37700fb0361",
   "metadata": {},
   "outputs": [
    {
     "data": {
      "text/plain": [
       "13"
      ]
     },
     "execution_count": 117,
     "metadata": {},
     "output_type": "execute_result"
    }
   ],
   "source": [
    "len(\"hey nasılsın?\")"
   ]
  },
  {
   "cell_type": "markdown",
   "id": "0c9576b6-ba6d-4d51-b083-6f325b3071dd",
   "metadata": {},
   "source": [
    " <h3 style=\"text-align: center; color: RED\">STRINGLERDE INDEXLEME</h3> "
   ]
  },
  {
   "cell_type": "markdown",
   "id": "5601068d-dd61-4f27-9a08-b940a5eef823",
   "metadata": {},
   "source": [
    "<span style=\"color: blue; font-weight: bold;\">Indexing (Elemanlara Erişme)</span>\n",
    "\n",
    "Stringlerin non-scalar veri tiplerine örnek olduğunu konuşmuştuk. Stringler elemanları karakter olan, alt birim olarak karakterler içeren bir veri tipi.\n",
    "\n",
    "\n",
    "Stringler karakterler dizisi olduğu için, bu dizideki spesifik konumdaki elemanlara erişmek isteyebiliriz. Mesela string'in ilk karakteri nedir gibi.\n",
    "\n",
    "\n",
    "Bir yapının alt elemanına erişmek için yapacağımız işleme indexing deniyor. Bunu köşeli parantez [] ile sağlayacağız.\n",
    "\n",
    "\n",
    "İsim diye bir değişken oluşturup, string'e eşitleyip, ilk elemanına(karakterine) erişelim.\n",
    "\n",
    "Python'da indexler 0dan başlıyor. Yani biz ilk elemana ulaşmak istiyorsak [0] ile sorgulamamız lazım."
   ]
  },
  {
   "cell_type": "code",
   "execution_count": 123,
   "id": "efa0fd32-ac04-4030-a86e-55fe736f3d6c",
   "metadata": {},
   "outputs": [
    {
     "data": {
      "text/plain": [
       "'e'"
      ]
     },
     "execution_count": 123,
     "metadata": {},
     "output_type": "execute_result"
    }
   ],
   "source": [
    "isim = \"Deniz\"\n",
    "isim[1]"
   ]
  },
  {
   "cell_type": "code",
   "execution_count": 125,
   "id": "9ae62d16-6750-4482-8838-5e4060e914ef",
   "metadata": {},
   "outputs": [
    {
     "data": {
      "text/plain": [
       "'e'"
      ]
     },
     "execution_count": 125,
     "metadata": {},
     "output_type": "execute_result"
    }
   ],
   "source": [
    "\"Deniz\"[1]"
   ]
  },
  {
   "cell_type": "code",
   "execution_count": 128,
   "id": "57be965d-4247-4658-95d6-44114a032e0b",
   "metadata": {},
   "outputs": [
    {
     "data": {
      "text/plain": [
       "'z'"
      ]
     },
     "execution_count": 128,
     "metadata": {},
     "output_type": "execute_result"
    }
   ],
   "source": [
    "#Son elemanı elde etmek için [-1] yazabiliriz.\n",
    "isim[-1]"
   ]
  },
  {
   "cell_type": "code",
   "execution_count": 130,
   "id": "54e8b2d0-718b-4a01-a8cb-f8ce97c29101",
   "metadata": {},
   "outputs": [
    {
     "data": {
      "text/plain": [
       "'i'"
      ]
     },
     "execution_count": 130,
     "metadata": {},
     "output_type": "execute_result"
    }
   ],
   "source": [
    "#Sondan ikinci için [-2]\n",
    "isim[-2]"
   ]
  },
  {
   "cell_type": "markdown",
   "id": "b66ac02f-63e5-4ed8-92ea-3c49eb362b71",
   "metadata": {},
   "source": [
    "Deniz 5 karakterden oluşuyor. Indexleri 0,1,2,3,4. Eğer ben 4 ten büyük bir index verirsem o indexte bir elemanı olmadığı için hata alırım."
   ]
  },
  {
   "cell_type": "code",
   "execution_count": 133,
   "id": "116db5d0-97e0-4410-a2b1-4f9e5dcdaf75",
   "metadata": {},
   "outputs": [
    {
     "data": {
      "text/plain": [
       "5"
      ]
     },
     "execution_count": 133,
     "metadata": {},
     "output_type": "execute_result"
    }
   ],
   "source": [
    "len(isim)"
   ]
  },
  {
   "cell_type": "code",
   "execution_count": 135,
   "id": "3b1501bc-28e1-4383-9a80-86fce2a9edb1",
   "metadata": {},
   "outputs": [
    {
     "ename": "IndexError",
     "evalue": "string index out of range",
     "output_type": "error",
     "traceback": [
      "\u001b[1;31m---------------------------------------------------------------------------\u001b[0m",
      "\u001b[1;31mIndexError\u001b[0m                                Traceback (most recent call last)",
      "Cell \u001b[1;32mIn[135], line 1\u001b[0m\n\u001b[1;32m----> 1\u001b[0m isim[\u001b[38;5;241m5\u001b[39m]\n",
      "\u001b[1;31mIndexError\u001b[0m: string index out of range"
     ]
    }
   ],
   "source": [
    "isim[5]"
   ]
  },
  {
   "cell_type": "markdown",
   "id": "fdae16b8-00e4-430f-a3ad-bcb374b188c6",
   "metadata": {},
   "source": [
    "* Stringlerin elemanlarının değiştirilemez olduğundan bahsetmiştik (immutable). O yüzden şöyle şeyler yapamayız: (elemanlarını değiştirebildiğimiz non-scalar veri tiplerini de göreceğiz)"
   ]
  },
  {
   "cell_type": "code",
   "execution_count": 139,
   "id": "5c45e513-e17d-486b-bfea-2b9a0547144d",
   "metadata": {},
   "outputs": [
    {
     "ename": "TypeError",
     "evalue": "'str' object does not support item assignment",
     "output_type": "error",
     "traceback": [
      "\u001b[1;31m---------------------------------------------------------------------------\u001b[0m",
      "\u001b[1;31mTypeError\u001b[0m                                 Traceback (most recent call last)",
      "Cell \u001b[1;32mIn[139], line 1\u001b[0m\n\u001b[1;32m----> 1\u001b[0m isim[\u001b[38;5;241m0\u001b[39m] \u001b[38;5;241m=\u001b[39m \u001b[38;5;124m\"\u001b[39m\u001b[38;5;124mb\u001b[39m\u001b[38;5;124m\"\u001b[39m\n",
      "\u001b[1;31mTypeError\u001b[0m: 'str' object does not support item assignment"
     ]
    }
   ],
   "source": [
    "isim[0] = \"b\""
   ]
  },
  {
   "cell_type": "markdown",
   "id": "4fafdffe-5aba-4bf5-bffb-636be4db0095",
   "metadata": {},
   "source": [
    "<span style=\"color: blue; font-weight: bold;\">Slicing (Dilimleme)</span>\n",
    "\n",
    "Indexing ile sonuç olarak sadece bir eleman elde ettik. Ama birkaç tanesini arka arkaya, bir öbek olarak istiyorsam ne yapardım?\n",
    "\n",
    "\n",
    "Diyelim ki ilk elemandan başlayarak 3. elemana kadar olan karakterleri elde etmek istiyorum (0. indexten 3. indexe kadar olanları)"
   ]
  },
  {
   "cell_type": "code",
   "execution_count": 143,
   "id": "f294f37b-b55d-4b33-9688-7ba5d949e6d6",
   "metadata": {},
   "outputs": [
    {
     "data": {
      "text/plain": [
       "'Den'"
      ]
     },
     "execution_count": 143,
     "metadata": {},
     "output_type": "execute_result"
    }
   ],
   "source": [
    "# Burada önemli olan nokta ilk belirtilen indexing dahil edilip son olarak yazılanın dahil edilmemesi\n",
    "# 0,1,2 indexlerindekileri döndürdü sonuç olarak\n",
    "\n",
    "isim[0:3]"
   ]
  },
  {
   "cell_type": "markdown",
   "id": "b96b6edc-63cf-4b5f-ab4e-f71a0fa693d7",
   "metadata": {},
   "source": [
    "* başlangıç:bitiş olarak veriyoruz ve bitiş olarak verdiğimiz index dahil olmuyor. Başlangıcı belirtmezsek Python default olarak başlangıç değerini 0 alıyor."
   ]
  },
  {
   "cell_type": "code",
   "execution_count": 146,
   "id": "303b3ea3-3f08-444e-872c-dac38ea8cf19",
   "metadata": {},
   "outputs": [
    {
     "data": {
      "text/plain": [
       "'Den'"
      ]
     },
     "execution_count": 146,
     "metadata": {},
     "output_type": "execute_result"
    }
   ],
   "source": [
    "isim[:3]"
   ]
  },
  {
   "cell_type": "markdown",
   "id": "c20ff892-4d53-4b42-a5ea-9ef7c0a45242",
   "metadata": {},
   "source": [
    "* Bitişi belirtmezseniz Python String'in sonuna kadar alıyor, bu sefer son elemanını da dahil ediyor."
   ]
  },
  {
   "cell_type": "code",
   "execution_count": 179,
   "id": "6bcb698c-4de1-48ad-9c86-7f33451fe2ba",
   "metadata": {},
   "outputs": [
    {
     "data": {
      "text/plain": [
       "'eniz'"
      ]
     },
     "execution_count": 179,
     "metadata": {},
     "output_type": "execute_result"
    }
   ],
   "source": [
    "isim[1:]"
   ]
  },
  {
   "cell_type": "code",
   "execution_count": 181,
   "id": "20c639f1-9143-4708-b35e-f485273790eb",
   "metadata": {},
   "outputs": [
    {
     "data": {
      "text/plain": [
       "'Deniz'"
      ]
     },
     "execution_count": 181,
     "metadata": {},
     "output_type": "execute_result"
    }
   ],
   "source": [
    "isim[:]"
   ]
  },
  {
   "cell_type": "markdown",
   "id": "4b51d5fb-9075-4ca9-882c-08b3c9319891",
   "metadata": {},
   "source": [
    "* Slicing yaparken bitiş olarak verdiğimiz değer en büyük indeximizden büyükse hata almayız, sadece sonuna kadar almış olur (sadece indexing yaparken en büyük indexten büyük değer verince hata alıyorduk.)"
   ]
  },
  {
   "cell_type": "code",
   "execution_count": 152,
   "id": "20257446-66ca-4f2e-9042-e57cb47b3619",
   "metadata": {},
   "outputs": [
    {
     "data": {
      "text/plain": [
       "'eniz'"
      ]
     },
     "execution_count": 152,
     "metadata": {},
     "output_type": "execute_result"
    }
   ],
   "source": [
    "isim[1:20]"
   ]
  },
  {
   "cell_type": "code",
   "execution_count": 154,
   "id": "09119b88-d934-4677-aa5b-5f72e85b75c9",
   "metadata": {},
   "outputs": [
    {
     "data": {
      "text/plain": [
       "'eniz'"
      ]
     },
     "execution_count": 154,
     "metadata": {},
     "output_type": "execute_result"
    }
   ],
   "source": [
    "isim[1:200]"
   ]
  },
  {
   "cell_type": "markdown",
   "id": "19b48f0d-054d-4d80-b864-fa607d830046",
   "metadata": {},
   "source": [
    "* başlangıç:bitiş olarak slicing yapabileceğimiz gibi, başlangıç:bitiş:adım formunda da slicing yapabiliriz. Burada adım parametresi kaçar kaçar gideceğimizi belirler."
   ]
  },
  {
   "cell_type": "code",
   "execution_count": 158,
   "id": "ef5cdf01-d7dd-4b82-a2aa-8b81e554efed",
   "metadata": {},
   "outputs": [
    {
     "data": {
      "text/plain": [
       "'Dnz'"
      ]
     },
     "execution_count": 158,
     "metadata": {},
     "output_type": "execute_result"
    }
   ],
   "source": [
    "isim[0:10:2]"
   ]
  },
  {
   "cell_type": "code",
   "execution_count": 160,
   "id": "dd0d00ae-61ff-45c1-9aea-2e1f5ece48f2",
   "metadata": {},
   "outputs": [
    {
     "data": {
      "text/plain": [
       "'Di'"
      ]
     },
     "execution_count": 160,
     "metadata": {},
     "output_type": "execute_result"
    }
   ],
   "source": [
    "isim[0:10:3]"
   ]
  },
  {
   "cell_type": "markdown",
   "id": "5ffe66e1-c335-4648-8737-6dfe44dfeb38",
   "metadata": {},
   "source": [
    "* Adım eksi bir değer de olabilir. Böylece ters yönce gitmiş oluruz. Ama başlangıç değerinin bitiş değerinden büyük olması lazım bunu yapabilmem için."
   ]
  },
  {
   "cell_type": "code",
   "execution_count": 163,
   "id": "c5c2635b-47d6-41b7-8ad4-08f116d07d9b",
   "metadata": {},
   "outputs": [
    {
     "data": {
      "text/plain": [
       "''"
      ]
     },
     "execution_count": 163,
     "metadata": {},
     "output_type": "execute_result"
    }
   ],
   "source": [
    "# 0. indexten 10. indexe 2 azalarak gidemez, o yüzden boş string döndürür\n",
    "isim[0:10:-1]"
   ]
  },
  {
   "cell_type": "code",
   "execution_count": 165,
   "id": "c537d704-6edb-479a-8650-a6f236aabefb",
   "metadata": {},
   "outputs": [
    {
     "data": {
      "text/plain": [
       "'zine'"
      ]
     },
     "execution_count": 165,
     "metadata": {},
     "output_type": "execute_result"
    }
   ],
   "source": [
    "isim[10:0:-1]"
   ]
  },
  {
   "cell_type": "code",
   "execution_count": 167,
   "id": "7cfd5bdd-5f8c-4c47-add2-2a8ce11b9e66",
   "metadata": {},
   "outputs": [
    {
     "data": {
      "text/plain": [
       "'zineD'"
      ]
     },
     "execution_count": 167,
     "metadata": {},
     "output_type": "execute_result"
    }
   ],
   "source": [
    "isim[::-1]"
   ]
  },
  {
   "cell_type": "code",
   "execution_count": 169,
   "id": "7d2ba84d-62bd-4e15-a064-b50cb418e4ae",
   "metadata": {},
   "outputs": [
    {
     "data": {
      "text/plain": [
       "'znD'"
      ]
     },
     "execution_count": 169,
     "metadata": {},
     "output_type": "execute_result"
    }
   ],
   "source": [
    "isim[::-2]"
   ]
  },
  {
   "cell_type": "code",
   "execution_count": 171,
   "id": "ed9a94c9-3ea4-487b-bb25-1ea21122a8da",
   "metadata": {},
   "outputs": [
    {
     "data": {
      "text/plain": [
       "'z'"
      ]
     },
     "execution_count": 171,
     "metadata": {},
     "output_type": "execute_result"
    }
   ],
   "source": [
    "isim[len(isim)-1]"
   ]
  },
  {
   "cell_type": "markdown",
   "id": "d5f9d333-ba22-4fa2-b849-405b42d782a8",
   "metadata": {},
   "source": [
    " <h3 style=\"text-align: center; color: RED\">STRINGLERDE CASTING</h3> "
   ]
  },
  {
   "cell_type": "code",
   "execution_count": 193,
   "id": "9641ab39-b509-4ac6-9f8b-5b58b5898215",
   "metadata": {},
   "outputs": [
    {
     "data": {
      "text/plain": [
       "'5'"
      ]
     },
     "execution_count": 193,
     "metadata": {},
     "output_type": "execute_result"
    }
   ],
   "source": [
    "a = \"5\"\n",
    "a"
   ]
  },
  {
   "cell_type": "code",
   "execution_count": 195,
   "id": "5945a0e4-0fd3-45a9-b8af-a707d0688f06",
   "metadata": {},
   "outputs": [
    {
     "data": {
      "text/plain": [
       "'5.3'"
      ]
     },
     "execution_count": 195,
     "metadata": {},
     "output_type": "execute_result"
    }
   ],
   "source": [
    "b = \"5.3\"\n",
    "b"
   ]
  },
  {
   "cell_type": "code",
   "execution_count": 189,
   "id": "409e0925-f06b-4647-9856-55c8e764ac35",
   "metadata": {},
   "outputs": [
    {
     "data": {
      "text/plain": [
       "5"
      ]
     },
     "execution_count": 189,
     "metadata": {},
     "output_type": "execute_result"
    }
   ],
   "source": [
    "int(a) #str tipini int veri yapısına çevirdim.b5 gibi birşeyi int cast yapamazsın"
   ]
  },
  {
   "cell_type": "code",
   "execution_count": 191,
   "id": "36357c27-9b1b-4717-acba-e6c1e18ecae1",
   "metadata": {},
   "outputs": [
    {
     "data": {
      "text/plain": [
       "5.3"
      ]
     },
     "execution_count": 191,
     "metadata": {},
     "output_type": "execute_result"
    }
   ],
   "source": [
    "float(b)"
   ]
  },
  {
   "cell_type": "code",
   "execution_count": 197,
   "id": "d1376cda-052d-4841-83a8-2d994f67478f",
   "metadata": {},
   "outputs": [
    {
     "ename": "ValueError",
     "evalue": "invalid literal for int() with base 10: '5.3'",
     "output_type": "error",
     "traceback": [
      "\u001b[1;31m---------------------------------------------------------------------------\u001b[0m",
      "\u001b[1;31mValueError\u001b[0m                                Traceback (most recent call last)",
      "Cell \u001b[1;32mIn[197], line 1\u001b[0m\n\u001b[1;32m----> 1\u001b[0m \u001b[38;5;28mint\u001b[39m(b)\n",
      "\u001b[1;31mValueError\u001b[0m: invalid literal for int() with base 10: '5.3'"
     ]
    }
   ],
   "source": [
    "int(b)"
   ]
  },
  {
   "cell_type": "code",
   "execution_count": 199,
   "id": "6e4de3d7-b420-4108-a39e-ea4c3165d4d2",
   "metadata": {},
   "outputs": [
    {
     "data": {
      "text/plain": [
       "5"
      ]
     },
     "execution_count": 199,
     "metadata": {},
     "output_type": "execute_result"
    }
   ],
   "source": [
    "int(float(b))#ilk floata cevir sonra int"
   ]
  },
  {
   "cell_type": "markdown",
   "id": "9feaa444-7ecf-4b66-8e01-86fd491276e2",
   "metadata": {},
   "source": [
    " <h3 style=\"text-align: center; color: RED\">INPUT</h3> \n",
    "\n",
    "Bazen kullanacağımız değeri kullanıcıdan almak isteyebiliriz. Bunu input metodu ile yapacağız.\n",
    "\n",
    "input'un içinde yazacağımız bize kullanıcıya gösterilecek yazıyı verecek, kullanıcıdan girdi bekleyip enter'a basmasını bekleyecek, ve girdiyi string olarak döndürecek."
   ]
  },
  {
   "cell_type": "code",
   "execution_count": 204,
   "id": "d66d709c-536c-4a12-b256-11cf840c83dc",
   "metadata": {},
   "outputs": [
    {
     "name": "stdin",
     "output_type": "stream",
     "text": [
      "Bir sayı girin: 10\n"
     ]
    }
   ],
   "source": [
    "x = input(\"Bir sayı girin:\")"
   ]
  },
  {
   "cell_type": "code",
   "execution_count": 206,
   "id": "05fc2034-f197-4279-ad20-b12d5876aff7",
   "metadata": {},
   "outputs": [
    {
     "ename": "TypeError",
     "evalue": "can only concatenate str (not \"int\") to str",
     "output_type": "error",
     "traceback": [
      "\u001b[1;31m---------------------------------------------------------------------------\u001b[0m",
      "\u001b[1;31mTypeError\u001b[0m                                 Traceback (most recent call last)",
      "Cell \u001b[1;32mIn[206], line 1\u001b[0m\n\u001b[1;32m----> 1\u001b[0m x \u001b[38;5;241m+\u001b[39m \u001b[38;5;241m10\u001b[39m\n",
      "\u001b[1;31mTypeError\u001b[0m: can only concatenate str (not \"int\") to str"
     ]
    }
   ],
   "source": [
    "x + 10 #hata verir çünkü kullanıcıdan alınan değer stringtir.bunu int toplayamazsın"
   ]
  },
  {
   "cell_type": "code",
   "execution_count": 208,
   "id": "6e5abcf5-df28-4b75-a99b-ce158412ae6c",
   "metadata": {},
   "outputs": [
    {
     "data": {
      "text/plain": [
       "str"
      ]
     },
     "execution_count": 208,
     "metadata": {},
     "output_type": "execute_result"
    }
   ],
   "source": [
    "type(x)"
   ]
  },
  {
   "cell_type": "code",
   "execution_count": 210,
   "id": "a5095a42-8317-4bef-9b12-5c7f09715fb2",
   "metadata": {},
   "outputs": [
    {
     "data": {
      "text/plain": [
       "20"
      ]
     },
     "execution_count": 210,
     "metadata": {},
     "output_type": "execute_result"
    }
   ],
   "source": [
    "int(x) + 10"
   ]
  },
  {
   "cell_type": "code",
   "execution_count": 212,
   "id": "c200e7f3-7c5a-4f3e-8943-fefd782dbd62",
   "metadata": {},
   "outputs": [
    {
     "name": "stdin",
     "output_type": "stream",
     "text": [
      "Bir sayı girin: 10\n"
     ]
    }
   ],
   "source": [
    "x = int(input(\"Bir sayı girin:\"))"
   ]
  },
  {
   "cell_type": "code",
   "execution_count": 214,
   "id": "1435a648-43d9-49c5-b109-868fc164cd97",
   "metadata": {},
   "outputs": [
    {
     "data": {
      "text/plain": [
       "20"
      ]
     },
     "execution_count": 214,
     "metadata": {},
     "output_type": "execute_result"
    }
   ],
   "source": [
    "x + 10"
   ]
  },
  {
   "cell_type": "code",
   "execution_count": 216,
   "id": "aca2174a-aa74-4351-bfd4-7ede0fb9abe9",
   "metadata": {},
   "outputs": [
    {
     "name": "stdin",
     "output_type": "stream",
     "text": [
      "Mesajı girin: MERHABA\n"
     ]
    }
   ],
   "source": [
    "mesaj = input(\"Mesajı girin:\")\n"
   ]
  },
  {
   "cell_type": "code",
   "execution_count": 218,
   "id": "b91d0d17-8c1c-409b-aeb1-b211ac89ada2",
   "metadata": {},
   "outputs": [
    {
     "name": "stdin",
     "output_type": "stream",
     "text": [
      "İsim girin: ULAŞ\n"
     ]
    }
   ],
   "source": [
    "isim = input(\"İsim girin:\")"
   ]
  },
  {
   "cell_type": "code",
   "execution_count": 220,
   "id": "6cb43ce1-f93b-4c74-be67-d84cff9c5321",
   "metadata": {},
   "outputs": [
    {
     "data": {
      "text/plain": [
       "'MERHABA ULAŞ'"
      ]
     },
     "execution_count": 220,
     "metadata": {},
     "output_type": "execute_result"
    }
   ],
   "source": [
    "mesaj + \" \" + isim"
   ]
  },
  {
   "cell_type": "markdown",
   "id": "60fbc10e-1846-44e1-8639-0c0e25714d92",
   "metadata": {},
   "source": [
    " <h3 style=\"text-align: center; color: RED\">KODA YORUM EKLEME</h3> \n",
    "\n",
    "Diyelim ki birkaç kişilik bir projede çalışıyorsunuz, programın farklı kısımlarını farklı insanlar yazıyor.\n",
    "\n",
    "Başkası sizin yazdığınız kodu kullanmak istediğinde kodun ne yaptığını bilmesi gerekiyor. İşte burada comment (yorum) devreye giriyor. Yazdığımız kodun ne yaptığını anlatan açıklamalar.\n",
    "\n",
    "Yorumlar sadece insanların okuması için, program çalışırken burası program tarafından algılanmayacak.\n",
    "\n",
    "Sadece başkasının okuması da şart değil, seneler sonra yazdığınız kodu yeniden kullanmak isteyebilirsiniz ve neyin ne olduğunu, kodun ne yaptığını unutmuş olabilirsiniz, bu yüzden bu açıklamalar kendi kodunuzu okurken de önemli. (seneler geçmesine de gerek yok, çok parçası olan bir problem üzerine çalışıyorsanız, şurada ne yapmıştım diye kendinizi bulmanız çok muhtemel - o yüzden yorum eklemeyi bir alışkanlık haline getirmek gayet yararlı bir durum.)\n",
    " \n"
   ]
  },
  {
   "cell_type": "markdown",
   "id": "eec88840-1132-40cb-9d1b-24b1ad4219b7",
   "metadata": {},
   "source": [
    "<span style=\"color: blue; font-weight: bold;\">Tek Satıra Yorum Eklemek</span>"
   ]
  },
  {
   "cell_type": "code",
   "execution_count": 227,
   "id": "19b929b6-1aec-40d3-b948-772e1db5039a",
   "metadata": {},
   "outputs": [],
   "source": [
    "# limon değişkeni satılan limonları ifade ediyor\n",
    "limon = 2"
   ]
  },
  {
   "cell_type": "code",
   "execution_count": 229,
   "id": "95b211ee-5d21-4ea4-87b6-0a3f2a33c3e5",
   "metadata": {},
   "outputs": [
    {
     "name": "stdout",
     "output_type": "stream",
     "text": [
      "14\n"
     ]
    }
   ],
   "source": [
    "# sonuc değişkeni bir haftada kaç limon satıldığını belirtiyor\n",
    "sonuc = limon * 7\n",
    "print(sonuc)"
   ]
  },
  {
   "cell_type": "markdown",
   "id": "516376cb-5ad5-4c9a-b4f1-21f362b73e59",
   "metadata": {},
   "source": [
    "Bunları ifadelerin yanlarına da yazabilirdik."
   ]
  },
  {
   "cell_type": "code",
   "execution_count": 232,
   "id": "c5c85789-4d31-42aa-afc4-c081cc6ebca1",
   "metadata": {},
   "outputs": [],
   "source": [
    "limon = 2 # limon değişkeni satılan limonları ifade ediyor."
   ]
  },
  {
   "cell_type": "markdown",
   "id": "b51b814f-7a60-43b2-ac08-0261bea02bee",
   "metadata": {},
   "source": [
    "<span style=\"color: blue; font-weight: bold;\">Birden Çok Satırı Kapsayan Yorum Yazmak</span>"
   ]
  },
  {
   "cell_type": "code",
   "execution_count": 236,
   "id": "cda91845-c6fa-4207-8b36-b7c9724d1393",
   "metadata": {},
   "outputs": [
    {
     "name": "stdout",
     "output_type": "stream",
     "text": [
      "14\n"
     ]
    }
   ],
   "source": [
    "\"\"\"\n",
    "limon değişkeni satılan limonları ifade ediyor. \n",
    "sonuc değişkeni bir haftada kaç limon satıldığını belirtiyor.\n",
    "\"\"\"\n",
    "\n",
    "limon = 2\n",
    "\n",
    "sonuc = limon * 7\n",
    "\n",
    "print(sonuc)"
   ]
  },
  {
   "cell_type": "code",
   "execution_count": null,
   "id": "8b10d182-8f3b-4148-afcf-c55017e0dfcf",
   "metadata": {},
   "outputs": [],
   "source": []
  }
 ],
 "metadata": {
  "kernelspec": {
   "display_name": "Python [conda env:base] *",
   "language": "python",
   "name": "conda-base-py"
  },
  "language_info": {
   "codemirror_mode": {
    "name": "ipython",
    "version": 3
   },
   "file_extension": ".py",
   "mimetype": "text/x-python",
   "name": "python",
   "nbconvert_exporter": "python",
   "pygments_lexer": "ipython3",
   "version": "3.12.7"
  }
 },
 "nbformat": 4,
 "nbformat_minor": 5
}
