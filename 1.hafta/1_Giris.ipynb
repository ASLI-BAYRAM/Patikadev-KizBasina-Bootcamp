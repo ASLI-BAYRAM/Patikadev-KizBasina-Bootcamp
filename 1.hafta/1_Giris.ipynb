{
 "cells": [
  {
   "cell_type": "markdown",
   "id": "691f1243-0477-4a3f-ac3d-76be7249c370",
   "metadata": {},
   "source": [
    " <h1 style=\"text-align: center; color: RED\">PROGRAMLAMA NEDİR?</h1> "
   ]
  },
  {
   "cell_type": "markdown",
   "id": "2f52d735-15fc-4a18-961b-194327047f4a",
   "metadata": {},
   "source": [
    "Programlamayı insan ile bilgisayar arasındaki iletişim aracı olarak düşünebiliriz.Programlamayı basit olarak verilen girdilerden istenilen çıktıların elde eden bir yapı olarak ifade edebiliriz."
   ]
  },
  {
   "cell_type": "markdown",
   "id": "4156d26a-b5d7-424e-9dd8-c19b6b654f8f",
   "metadata": {},
   "source": [
    " <h1 style=\"text-align: center; color: RED\">TEMEL VERİ TİPLERİ</h1> \n",
    "\n",
    "Bilgisayarların belirli inputlar ile bir işlem yapabilmeleri için öncelikle bu inputları bilgisayarın anlayacağı şekilde ifade edip tutmalıyız. Bu amaçla ilk olarak Python dilindeki temel veri tiplerine bakacağız. Programlar veri objelerini manipüle ederek istediklerimizi yaparlar.Veri objeleri ikiye ayrılır:\n",
    "\n",
    "1) Scalar: Daha alt parçalara bölünmeyen yapılar(sayılar vb.)\n",
    "2) Non-scalar: Daha alt parçalara bölünebilen, içsel yapısına erişilebilen(sayıalrı ard arda koyduğumuz bir yapı örenk verilebilir.)\n",
    "\n",
    "Her objenin bir tipi vardır., program bu tiplere göre onlarla nasıl işlem yapabileceğine karar verir."
   ]
  },
  {
   "cell_type": "markdown",
   "id": "a3027172-498d-4ba7-8fec-5e84507888f8",
   "metadata": {},
   "source": [
    "<span style=\"color: blue; font-weight: bold;\">İnteger</span> : Integer'ler küsuratı olmayan, 1,2,3,4 gibi sayılardır. Integer'ler negatif değerler de alabilir. Nasıl tam sayılarda aritmetik işlemler yapıyorsak integerlarla da yapabiliriz"
   ]
  },
  {
   "cell_type": "code",
   "execution_count": 7,
   "id": "6b8cae5f-07fd-4a51-8716-711bd82e243c",
   "metadata": {},
   "outputs": [
    {
     "data": {
      "text/plain": [
       "2"
      ]
     },
     "execution_count": 7,
     "metadata": {},
     "output_type": "execute_result"
    }
   ],
   "source": [
    "2"
   ]
  },
  {
   "cell_type": "code",
   "execution_count": 20,
   "id": "f8d8d56c-28f6-44a3-97f1-6e87debce097",
   "metadata": {},
   "outputs": [
    {
     "data": {
      "text/plain": [
       "4"
      ]
     },
     "execution_count": 20,
     "metadata": {},
     "output_type": "execute_result"
    }
   ],
   "source": [
    "2*2"
   ]
  },
  {
   "cell_type": "markdown",
   "id": "100279e6-4a56-451b-a036-f014e15d330f",
   "metadata": {},
   "source": [
    "<span style=\"color: blue; font-weight: bold;\">Float</span> : Float'lar küsuratı olan, virgülden sonra (kodlarda . olarak göreceğiz, o yüzden sayılarda nokta gördüğünüzde virgülden sonrası diye düşünebilirsiniz)değerler barındıran veri tipleridir. 1.3,2.4,3.3,4.6 gibi sayılardır. 3.0 gibi sayıların virgülden sonrası 0 olabilir, ama virgül mantığını ortaya koyduğumuz için bu sayılar yine de float sayılacaktır. Nasıl kesirli aritmetik işlemler yapıyorsak float'larla da yapabiliriz"
   ]
  },
  {
   "cell_type": "code",
   "execution_count": 12,
   "id": "61d405ed-1a7e-4fc7-afb7-7198f5e672f8",
   "metadata": {},
   "outputs": [
    {
     "data": {
      "text/plain": [
       "3.4"
      ]
     },
     "execution_count": 12,
     "metadata": {},
     "output_type": "execute_result"
    }
   ],
   "source": [
    "3.4"
   ]
  },
  {
   "cell_type": "code",
   "execution_count": 23,
   "id": "11b50ed3-68c9-4862-9796-5ecd70f57e69",
   "metadata": {},
   "outputs": [
    {
     "data": {
      "text/plain": [
       "4.4"
      ]
     },
     "execution_count": 23,
     "metadata": {},
     "output_type": "execute_result"
    }
   ],
   "source": [
    "2.2 * 2"
   ]
  },
  {
   "cell_type": "markdown",
   "id": "71e84874-0627-47e7-bc9f-ec712c035c6c",
   "metadata": {},
   "source": [
    "<span style=\"color: blue; font-weight: bold;\">Boolean</span> : Daha ileriki konularda if-else mantığını gördüğümüzde daha iyi oturacak bir veri tipi. Özetle bir şeyin doğru (True) veya yanlış (False) olduğunu belirten bir yapıantıksal yapılardır. True- False"
   ]
  },
  {
   "cell_type": "code",
   "execution_count": 15,
   "id": "5fb64633-0dd6-4ea8-b34a-5e87042b661e",
   "metadata": {},
   "outputs": [
    {
     "data": {
      "text/plain": [
       "False"
      ]
     },
     "execution_count": 15,
     "metadata": {},
     "output_type": "execute_result"
    }
   ],
   "source": [
    "2>3"
   ]
  },
  {
   "cell_type": "code",
   "execution_count": 17,
   "id": "3f941675-8769-4837-a23d-1b4bdacf8e2e",
   "metadata": {},
   "outputs": [
    {
     "data": {
      "text/plain": [
       "True"
      ]
     },
     "execution_count": 17,
     "metadata": {},
     "output_type": "execute_result"
    }
   ],
   "source": [
    "True"
   ]
  },
  {
   "cell_type": "markdown",
   "id": "2e4dd27e-c9a9-458a-9932-5d61d792a64c",
   "metadata": {},
   "source": [
    "<span style=\"color: blue; font-weight: bold;\">type()</span> : Objelerin tiplerine type() ile bakabiliriz"
   ]
  },
  {
   "cell_type": "code",
   "execution_count": 28,
   "id": "bf83d2e2-d082-4d90-b152-198791700107",
   "metadata": {},
   "outputs": [
    {
     "data": {
      "text/plain": [
       "int"
      ]
     },
     "execution_count": 28,
     "metadata": {},
     "output_type": "execute_result"
    }
   ],
   "source": [
    "type(2)"
   ]
  },
  {
   "cell_type": "code",
   "execution_count": 30,
   "id": "995eb3d1-4ccc-4d47-a07d-af5d007e5fbb",
   "metadata": {},
   "outputs": [
    {
     "data": {
      "text/plain": [
       "bool"
      ]
     },
     "execution_count": 30,
     "metadata": {},
     "output_type": "execute_result"
    }
   ],
   "source": [
    "type(True)"
   ]
  },
  {
   "cell_type": "markdown",
   "id": "0caebf4b-8558-443f-be91-51db0b33e716",
   "metadata": {},
   "source": [
    "<span style=\"color: blue; font-weight: bold;\">Type Casting (Tip Dönüştürmesi)</span> : Data objelerinin tipini değiştirebiliyoruz, buna casting deniyor"
   ]
  },
  {
   "cell_type": "code",
   "execution_count": 34,
   "id": "6c7ed5f1-a421-4e62-9c88-2713a5da52d1",
   "metadata": {},
   "outputs": [
    {
     "data": {
      "text/plain": [
       "2"
      ]
     },
     "execution_count": 34,
     "metadata": {},
     "output_type": "execute_result"
    }
   ],
   "source": [
    "int(2.4)"
   ]
  },
  {
   "cell_type": "markdown",
   "id": "041a554d-f3a0-43c7-aeeb-edf9e10ffb50",
   "metadata": {},
   "source": [
    "Burada olan işlem sayıyı yuvarlama işlemi değil, sadece tam kısmını alıyoruz"
   ]
  },
  {
   "cell_type": "markdown",
   "id": "7c9d5f58-163b-48b1-868e-800f2441f75a",
   "metadata": {},
   "source": [
    " <h1 style=\"text-align: center; color: RED\">DEĞİŞKEN ATAMA  (Variable Assignment)</h1> \n",
    "\n",
    "Bazı değerleri bilgisayarın hafızasında tutmak ve daha sonra bunlara verdiğimiz adlarla erişmek isteyebiliriz. Bunu variable'ler ile gerçekleştireceğiz.\n",
    "\n",
    "İlk olarak yapacağımız şey variable'ye vereceğimiz ismi yazmak. Bu isim penguen, uzunluk, maaş gibi istediğiniz bir isim olabilir (burada dikkat edilmesi gereken yer, verilecek ismin daha önceden Python'un default olarak kullanmadığı isimler olması. Mesela if, continue, for gibi keyword'ler daha önceden ayrıldığı için bunları variable ismi olarak kullanamayız)\n",
    "\n",
    "Python'un daha önceden kendisine ayırdığı isimler (reserved words):\n",
    "\n",
    "\n",
    "  and       del       from      not       while    \n",
    "  as        elif      global    or        with     \n",
    "  assert    else      if        pass      yield    \n",
    "  break     except    import    print     True         \n",
    "  class     exec      in        raise     False         \n",
    "  continue  finally   is        return             \n",
    "  def       for       lambda    try\n",
    "  \n",
    "Variable ismini seçtikten sonra bu ismin değerinin ne olacağını söylemeliyiz. Bu aşamadan sonra Python verdiğimiz ismi gördüğünde aslında verdiğimiz değeri çağırıyor olacak.\n",
    "\n",
    "\n",
    "Bu değer atama işlemini = sembolü ile yapacağız. Normalde bildiğimiz anlamından farklı bu = işareti. Eşitliğin sağındaki değeri solda yazdığımızın değeri olarak ata demiş oluyoruz bununla. Bu işleme variable assignment deniyor.\n",
    "\n",
    " "
   ]
  },
  {
   "cell_type": "code",
   "execution_count": 41,
   "id": "3ec13aaa-d95c-4713-9edf-c46a8d864cee",
   "metadata": {},
   "outputs": [
    {
     "data": {
      "text/plain": [
       "2"
      ]
     },
     "execution_count": 41,
     "metadata": {},
     "output_type": "execute_result"
    }
   ],
   "source": [
    "a = 2\n",
    "a"
   ]
  },
  {
   "cell_type": "code",
   "execution_count": 43,
   "id": "1da59bb3-7c79-410e-b89e-d42af9797769",
   "metadata": {},
   "outputs": [
    {
     "data": {
      "text/plain": [
       "7"
      ]
     },
     "execution_count": 43,
     "metadata": {},
     "output_type": "execute_result"
    }
   ],
   "source": [
    "a + 5"
   ]
  },
  {
   "cell_type": "markdown",
   "id": "adbc205e-1118-4403-9b74-b7873cd2b4e6",
   "metadata": {},
   "source": [
    "Artık kodun başka bir yerinde a ile işlem yapmaya çalışsam python a'ya 2 olarak davranacak. Variable Assingment'i kafamızda canlandırmak için şöyle düşünebiliriz:\n",
    "Variable'a bir isim verip bir atama yaptığımızda Python bilgisayarın hafızasında o isimli bir konteyner oluşturuyor ve ismini verdiğimiz isim yapıyor. Daha sonra bu isim çağrıldığında o konteynera gidiyor ve o değeri alıyor."
   ]
  },
  {
   "cell_type": "code",
   "execution_count": 47,
   "id": "ceb54f08-aa8f-4dd7-ad40-179dcfdf11fd",
   "metadata": {},
   "outputs": [
    {
     "data": {
      "text/plain": [
       "6"
      ]
     },
     "execution_count": 47,
     "metadata": {},
     "output_type": "execute_result"
    }
   ],
   "source": [
    "b = 2 + 4\n",
    "b"
   ]
  },
  {
   "cell_type": "code",
   "execution_count": 49,
   "id": "f624d399-02d9-4e74-9954-36594284f027",
   "metadata": {},
   "outputs": [
    {
     "data": {
      "text/plain": [
       "6"
      ]
     },
     "execution_count": 49,
     "metadata": {},
     "output_type": "execute_result"
    }
   ],
   "source": [
    "b+4\n",
    "b"
   ]
  },
  {
   "cell_type": "code",
   "execution_count": 51,
   "id": "1784ea8b-7d4e-4e7c-9dbb-6d78035fde59",
   "metadata": {},
   "outputs": [
    {
     "data": {
      "text/plain": [
       "7"
      ]
     },
     "execution_count": 51,
     "metadata": {},
     "output_type": "execute_result"
    }
   ],
   "source": [
    "b = a + 5\n",
    "b"
   ]
  },
  {
   "cell_type": "markdown",
   "id": "01584192-8321-47a4-97a8-fb9d02155501",
   "metadata": {},
   "source": [
    " <h1 style=\"text-align: center; color: RED\">OPERATÖRLER VE İFADELER</h1>\n",
    "\n",
    " Expressions(ifadeler):\n",
    "* Objeler(object) ve operatörlerin(operator) birleşimi expression'ları oluşturur.\n",
    "* Expression'ların değerleri (value)'ları vardır ve tabii ki de bunların tipleri vardır.\n",
    "* İfadeler şöyler oluşturulur: (object) (operator) (object)\n",
    "* Expression'ların tiplerini operator'un uygulandığı objelerin tipleri belirler.\n"
   ]
  },
  {
   "cell_type": "code",
   "execution_count": 55,
   "id": "699fa683-d2df-4711-9c59-bea6a38447e2",
   "metadata": {},
   "outputs": [
    {
     "data": {
      "text/plain": [
       "4"
      ]
     },
     "execution_count": 55,
     "metadata": {},
     "output_type": "execute_result"
    }
   ],
   "source": [
    "# + operator\n",
    "2 + 2"
   ]
  },
  {
   "cell_type": "code",
   "execution_count": 57,
   "id": "a7964b2b-06d4-4351-b9c2-7c110037f64a",
   "metadata": {},
   "outputs": [
    {
     "data": {
      "text/plain": [
       "int"
      ]
     },
     "execution_count": 57,
     "metadata": {},
     "output_type": "execute_result"
    }
   ],
   "source": [
    "type(2+2)"
   ]
  },
  {
   "cell_type": "code",
   "execution_count": 59,
   "id": "3531024d-1933-4375-b1ee-218f4efa4aae",
   "metadata": {},
   "outputs": [
    {
     "data": {
      "text/plain": [
       "4.9"
      ]
     },
     "execution_count": 59,
     "metadata": {},
     "output_type": "execute_result"
    }
   ],
   "source": [
    "# İki tane float'un toplamı float verir.\n",
    "2.4 + 2.5"
   ]
  },
  {
   "cell_type": "code",
   "execution_count": 61,
   "id": "d87631cd-b20e-469d-93e2-a7f8329e4d53",
   "metadata": {},
   "outputs": [
    {
     "data": {
      "text/plain": [
       "float"
      ]
     },
     "execution_count": 61,
     "metadata": {},
     "output_type": "execute_result"
    }
   ],
   "source": [
    "type(2.4 + 2.5)"
   ]
  },
  {
   "cell_type": "code",
   "execution_count": 63,
   "id": "45ceeb48-7329-42fa-94d2-617a197f0338",
   "metadata": {},
   "outputs": [
    {
     "data": {
      "text/plain": [
       "5.4"
      ]
     },
     "execution_count": 63,
     "metadata": {},
     "output_type": "execute_result"
    }
   ],
   "source": [
    "#Eğer objelerden biri bile float ise toplama işleminde expression'un tipi float olur.\n",
    "2.4 + 3"
   ]
  },
  {
   "cell_type": "code",
   "execution_count": 65,
   "id": "d7afea3e-4417-4791-9e71-2f25752169e1",
   "metadata": {},
   "outputs": [
    {
     "data": {
      "text/plain": [
       "float"
      ]
     },
     "execution_count": 65,
     "metadata": {},
     "output_type": "execute_result"
    }
   ],
   "source": [
    "type(2.4 + 3) "
   ]
  },
  {
   "cell_type": "code",
   "execution_count": 67,
   "id": "372e8ac9-2a5c-4af5-a834-56deea99f823",
   "metadata": {},
   "outputs": [
    {
     "data": {
      "text/plain": [
       "1"
      ]
     },
     "execution_count": 67,
     "metadata": {},
     "output_type": "execute_result"
    }
   ],
   "source": [
    "#- operator\n",
    "3 - 2"
   ]
  },
  {
   "cell_type": "code",
   "execution_count": 69,
   "id": "4f4dc15c-ed19-4f11-95cb-7d551fde5a03",
   "metadata": {},
   "outputs": [
    {
     "data": {
      "text/plain": [
       "0.5"
      ]
     },
     "execution_count": 69,
     "metadata": {},
     "output_type": "execute_result"
    }
   ],
   "source": [
    "2.6 - 2.1"
   ]
  },
  {
   "cell_type": "code",
   "execution_count": 71,
   "id": "94b538fe-ab47-4da4-b568-98ab0d77b43b",
   "metadata": {},
   "outputs": [
    {
     "data": {
      "text/plain": [
       "-0.5"
      ]
     },
     "execution_count": 71,
     "metadata": {},
     "output_type": "execute_result"
    }
   ],
   "source": [
    "2.5 - 3"
   ]
  },
  {
   "cell_type": "code",
   "execution_count": 73,
   "id": "57423df8-1fe3-42a6-9cee-033920a34d3c",
   "metadata": {},
   "outputs": [
    {
     "data": {
      "text/plain": [
       "float"
      ]
     },
     "execution_count": 73,
     "metadata": {},
     "output_type": "execute_result"
    }
   ],
   "source": [
    "type(2.5 - 3)"
   ]
  },
  {
   "cell_type": "code",
   "execution_count": 75,
   "id": "d17ed56c-53d1-4074-83d3-107bb236d359",
   "metadata": {},
   "outputs": [
    {
     "data": {
      "text/plain": [
       "6"
      ]
     },
     "execution_count": 75,
     "metadata": {},
     "output_type": "execute_result"
    }
   ],
   "source": [
    "# * operator\n",
    "3 * 2"
   ]
  },
  {
   "cell_type": "code",
   "execution_count": 77,
   "id": "6093934c-141c-4113-9562-77d97eda14d3",
   "metadata": {},
   "outputs": [
    {
     "data": {
      "text/plain": [
       "6.24"
      ]
     },
     "execution_count": 77,
     "metadata": {},
     "output_type": "execute_result"
    }
   ],
   "source": [
    "2.6 * 2.4"
   ]
  },
  {
   "cell_type": "code",
   "execution_count": 79,
   "id": "edc6a714-c258-4137-ae9c-daa2309b16b0",
   "metadata": {},
   "outputs": [
    {
     "data": {
      "text/plain": [
       "7.5"
      ]
     },
     "execution_count": 79,
     "metadata": {},
     "output_type": "execute_result"
    }
   ],
   "source": [
    "2.5 * 3"
   ]
  },
  {
   "cell_type": "code",
   "execution_count": 81,
   "id": "d8ca92ba-0073-48e4-a423-848e24fc9ff1",
   "metadata": {},
   "outputs": [
    {
     "data": {
      "text/plain": [
       "1.5"
      ]
     },
     "execution_count": 81,
     "metadata": {},
     "output_type": "execute_result"
    }
   ],
   "source": [
    "# / operator\n",
    "#İşleme giren objelerin tipi ne olursa olsun cevap float olur.\n",
    "3 / 2"
   ]
  },
  {
   "cell_type": "code",
   "execution_count": 83,
   "id": "f729f42e-8a87-4561-b575-ddd873439e5c",
   "metadata": {},
   "outputs": [
    {
     "data": {
      "text/plain": [
       "2.0"
      ]
     },
     "execution_count": 83,
     "metadata": {},
     "output_type": "execute_result"
    }
   ],
   "source": [
    "3 / 1.5"
   ]
  },
  {
   "cell_type": "code",
   "execution_count": 85,
   "id": "e5e5f549-26d0-4a67-8301-0a442d384f40",
   "metadata": {},
   "outputs": [
    {
     "data": {
      "text/plain": [
       "4.0"
      ]
     },
     "execution_count": 85,
     "metadata": {},
     "output_type": "execute_result"
    }
   ],
   "source": [
    "2.4 / 0.6"
   ]
  },
  {
   "cell_type": "code",
   "execution_count": 87,
   "id": "0917fc48-ae41-4ec9-a9a4-113c999e302e",
   "metadata": {},
   "outputs": [
    {
     "data": {
      "text/plain": [
       "2"
      ]
     },
     "execution_count": 87,
     "metadata": {},
     "output_type": "execute_result"
    }
   ],
   "source": [
    "# // operator (int division)\n",
    "# Eğer işleme girenlerden biri bile float ise cevap float olur.\n",
    "5 // 2"
   ]
  },
  {
   "cell_type": "code",
   "execution_count": 89,
   "id": "bf21e74f-d957-4d23-8a96-569e5f71850c",
   "metadata": {},
   "outputs": [
    {
     "data": {
      "text/plain": [
       "2.0"
      ]
     },
     "execution_count": 89,
     "metadata": {},
     "output_type": "execute_result"
    }
   ],
   "source": [
    "5 // 2.5"
   ]
  },
  {
   "cell_type": "code",
   "execution_count": 91,
   "id": "190e644e-0dd8-49fe-8ba9-60d8e1a2ebd1",
   "metadata": {},
   "outputs": [
    {
     "data": {
      "text/plain": [
       "0.0"
      ]
     },
     "execution_count": 91,
     "metadata": {},
     "output_type": "execute_result"
    }
   ],
   "source": [
    "4.2 // 5"
   ]
  },
  {
   "cell_type": "code",
   "execution_count": 93,
   "id": "058a4e07-150b-41e2-8312-f8c8d468ef5f",
   "metadata": {},
   "outputs": [
    {
     "data": {
      "text/plain": [
       "1.0"
      ]
     },
     "execution_count": 93,
     "metadata": {},
     "output_type": "execute_result"
    }
   ],
   "source": [
    "8.2 // 5"
   ]
  },
  {
   "cell_type": "code",
   "execution_count": 95,
   "id": "77007ce1-9da6-4c44-8f88-57aece8c16c8",
   "metadata": {},
   "outputs": [
    {
     "data": {
      "text/plain": [
       "1"
      ]
     },
     "execution_count": 95,
     "metadata": {},
     "output_type": "execute_result"
    }
   ],
   "source": [
    "# % operator (Remainder/kalan)\n",
    "# Eğer kalan float ise cevap float olur yoksa integer olur.\n",
    "5 % 2\n"
   ]
  },
  {
   "cell_type": "code",
   "execution_count": 97,
   "id": "a96d8665-75e7-4b92-babc-c5516c89e452",
   "metadata": {},
   "outputs": [
    {
     "data": {
      "text/plain": [
       "1"
      ]
     },
     "execution_count": 97,
     "metadata": {},
     "output_type": "execute_result"
    }
   ],
   "source": [
    "10 % 3"
   ]
  },
  {
   "cell_type": "code",
   "execution_count": 99,
   "id": "54291378-242c-49a7-81ab-01840094fefb",
   "metadata": {},
   "outputs": [
    {
     "data": {
      "text/plain": [
       "0.5"
      ]
     },
     "execution_count": 99,
     "metadata": {},
     "output_type": "execute_result"
    }
   ],
   "source": [
    "2.5 % 2"
   ]
  },
  {
   "cell_type": "code",
   "execution_count": 101,
   "id": "f4165e8e-cb79-43c1-be77-004ac24b429c",
   "metadata": {},
   "outputs": [
    {
     "data": {
      "text/plain": [
       "9"
      ]
     },
     "execution_count": 101,
     "metadata": {},
     "output_type": "execute_result"
    }
   ],
   "source": [
    "# ** operator\n",
    "3 ** 2"
   ]
  },
  {
   "cell_type": "code",
   "execution_count": 103,
   "id": "a526ca0f-f068-46d8-95e0-d89ec8a215b8",
   "metadata": {},
   "outputs": [
    {
     "data": {
      "text/plain": [
       "5.76"
      ]
     },
     "execution_count": 103,
     "metadata": {},
     "output_type": "execute_result"
    }
   ],
   "source": [
    "2.4 ** 2"
   ]
  },
  {
   "cell_type": "code",
   "execution_count": 107,
   "id": "736bc65f-23bf-42ad-a2ce-7310d5535c3d",
   "metadata": {},
   "outputs": [
    {
     "data": {
      "text/plain": [
       "0.04"
      ]
     },
     "execution_count": 107,
     "metadata": {},
     "output_type": "execute_result"
    }
   ],
   "source": [
    "5**-2"
   ]
  },
  {
   "cell_type": "code",
   "execution_count": 105,
   "id": "6ccc98bb-4149-419d-b783-0504dfcd08d9",
   "metadata": {},
   "outputs": [
    {
     "name": "stdout",
     "output_type": "stream",
     "text": [
      "5\n"
     ]
    }
   ],
   "source": [
    "#print(): Bazen sadece bazı değerleri bastırmak isteriz, bunun için print() metodunu kullanabiliriz.\n",
    "print(5)"
   ]
  },
  {
   "cell_type": "code",
   "execution_count": null,
   "id": "eef05fd9-bc70-4c7c-b19e-dc66eeec43f0",
   "metadata": {},
   "outputs": [],
   "source": []
  }
 ],
 "metadata": {
  "kernelspec": {
   "display_name": "Python [conda env:base] *",
   "language": "python",
   "name": "conda-base-py"
  },
  "language_info": {
   "codemirror_mode": {
    "name": "ipython",
    "version": 3
   },
   "file_extension": ".py",
   "mimetype": "text/x-python",
   "name": "python",
   "nbconvert_exporter": "python",
   "pygments_lexer": "ipython3",
   "version": "3.12.7"
  }
 },
 "nbformat": 4,
 "nbformat_minor": 5
}
