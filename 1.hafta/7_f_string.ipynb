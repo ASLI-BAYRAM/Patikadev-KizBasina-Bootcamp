{
 "cells": [
  {
   "cell_type": "markdown",
   "id": "c2f29577-0741-4abc-b8e1-c95955789825",
   "metadata": {},
   "source": [
    " <h1 style=\"text-align: center; color: RED\">F_STRING</h1> "
   ]
  },
  {
   "cell_type": "markdown",
   "id": "9f6177ec-297d-49ef-b223-07c9b4dc735a",
   "metadata": {},
   "source": [
    "Değişkenlerimizin değerlerini direkt olarak string'lerin içine koymak isteyebiliriz.f-string de yaptığımız tek şey aslında değişkenlerin değerlerini veya hesaplamaların sonucunu stringin içine gömmek.f\"...\" diye göreceğimiz yapının adını String Interpolation diye görebilirsiniz.\n",
    "\n",
    "İçine değer gömeceğimiz string'i tanımlarken başına f yazarak başlıyoruz f\"....\". Gömmek istediğimiz değeri/değişkeni süslü parantez içine yazıyoruz f\".....{}....\". Birden çok değer de gömmek isteyebiliriz, o zaman kaç tane yapacaksak o kadar süslü parantez koymamız gerekirdi f\".....{}....{}..\""
   ]
  },
  {
   "cell_type": "code",
   "execution_count": 6,
   "id": "b1458e2c-0806-423a-bc89-461ca2cccfc0",
   "metadata": {},
   "outputs": [
    {
     "data": {
      "text/plain": [
       "'x in değerinin iki fazlası 4'"
      ]
     },
     "execution_count": 6,
     "metadata": {},
     "output_type": "execute_result"
    }
   ],
   "source": [
    "x=2\n",
    "f\"x in değerinin iki fazlası {x+2}\""
   ]
  },
  {
   "cell_type": "code",
   "execution_count": 8,
   "id": "2730c8d5-c8f6-42d3-9c57-a49ba4ccabc3",
   "metadata": {},
   "outputs": [
    {
     "name": "stdin",
     "output_type": "stream",
     "text": [
      "İsim: engin\n"
     ]
    }
   ],
   "source": [
    "isim = input(\"İsim:\")"
   ]
  },
  {
   "cell_type": "code",
   "execution_count": 10,
   "id": "befcce82-7f0d-4c99-974f-e6c01513e673",
   "metadata": {},
   "outputs": [
    {
     "data": {
      "text/plain": [
       "'verilen isim engin'"
      ]
     },
     "execution_count": 10,
     "metadata": {},
     "output_type": "execute_result"
    }
   ],
   "source": [
    "f\"verilen isim {isim}\""
   ]
  },
  {
   "cell_type": "code",
   "execution_count": 12,
   "id": "d22d5249-e2e8-4b50-9ed1-b576319bdbbe",
   "metadata": {},
   "outputs": [
    {
     "data": {
      "text/plain": [
       "'verilen liste [1, 2, 3, 4]'"
      ]
     },
     "execution_count": 12,
     "metadata": {},
     "output_type": "execute_result"
    }
   ],
   "source": [
    "l = [1,2,3,4]\n",
    "f\"verilen liste {l}\""
   ]
  },
  {
   "cell_type": "markdown",
   "id": "5b7ed6da-c607-4619-ad4d-78e10be06ae6",
   "metadata": {},
   "source": [
    "* {} içerisine değeri hesaplanacak herhangi bir şey yazılabilir."
   ]
  },
  {
   "cell_type": "code",
   "execution_count": 15,
   "id": "8690efcf-39ae-4147-bab7-b0e7207bd195",
   "metadata": {},
   "outputs": [
    {
     "data": {
      "text/plain": [
       "'verilen isim Engin'"
      ]
     },
     "execution_count": 15,
     "metadata": {},
     "output_type": "execute_result"
    }
   ],
   "source": [
    "f\"verilen isim {isim.capitalize()}\""
   ]
  },
  {
   "cell_type": "markdown",
   "id": "c2dcc63d-4c45-4f17-b8c7-dd68d6528d72",
   "metadata": {},
   "source": [
    "* Süslü parantezin içine fonksiyon da yazabiliriz."
   ]
  },
  {
   "cell_type": "code",
   "execution_count": 18,
   "id": "fa00e63b-0b23-40d4-ba9f-5b38b377b387",
   "metadata": {},
   "outputs": [],
   "source": [
    "def kare(x):\n",
    "    return x**2"
   ]
  },
  {
   "cell_type": "code",
   "execution_count": 20,
   "id": "3d7dcb0d-280c-4879-be37-bcb887faac11",
   "metadata": {},
   "outputs": [],
   "source": [
    "x = 10"
   ]
  },
  {
   "cell_type": "code",
   "execution_count": 22,
   "id": "c2ebd9cb-7df1-41af-a6b4-ef17b5063dcb",
   "metadata": {},
   "outputs": [
    {
     "data": {
      "text/plain": [
       "'10 sayısının karesi 100'"
      ]
     },
     "execution_count": 22,
     "metadata": {},
     "output_type": "execute_result"
    }
   ],
   "source": [
    "f\"{x} sayısının karesi {kare(x)}\""
   ]
  }
 ],
 "metadata": {
  "kernelspec": {
   "display_name": "Python [conda env:base] *",
   "language": "python",
   "name": "conda-base-py"
  },
  "language_info": {
   "codemirror_mode": {
    "name": "ipython",
    "version": 3
   },
   "file_extension": ".py",
   "mimetype": "text/x-python",
   "name": "python",
   "nbconvert_exporter": "python",
   "pygments_lexer": "ipython3",
   "version": "3.12.7"
  }
 },
 "nbformat": 4,
 "nbformat_minor": 5
}
