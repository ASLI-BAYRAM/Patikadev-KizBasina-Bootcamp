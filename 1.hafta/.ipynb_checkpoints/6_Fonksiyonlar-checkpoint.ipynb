{
 "cells": [
  {
   "cell_type": "markdown",
   "id": "b96780e5-2e0d-4006-b969-2635670565cb",
   "metadata": {},
   "source": [
    " <h1 style=\"text-align: center; color: RED\">FONKSİYONLAR</h1> "
   ]
  },
  {
   "cell_type": "markdown",
   "id": "25cfceb8-5cc8-47a8-acd0-4200ca3bd1ab",
   "metadata": {},
   "source": [
    "Çok kod yazmak her zaman iyi bir şey demek değil.Minimal ve okunabilir olması daha önemli.Gereksiz kod tekrarından kaçınmak gerekir.Bu konularda gayet yardımcı olabilecek bir yapıyı göreceğiz bugün. - fonksiyonlar\n",
    "Belirli Fonksiyonalite katan kod bloklarını belirli bir yapı altında tutup, o işleme ihtiyaç duyduğum zaman tekrar tekrar kullanabilirim. Bu yapılara fonksiyon denşr.\n",
    "Fonksiyonlar kodumuzda abstraction (soyutlama) ve decomposition (problemi küçük parçalara ayırma) (modülerlik) yapmamızı sağlar.\n",
    "\n",
    "Abstraction Nedir?\n",
    "\n",
    "Bir araba düşünün: Araba bizi istediğimiz yere götüren bir araçtır.Arabanın hareketini sağlayan arka planda çokça mekanizma var.Motor, yanma vs gibi...Ama aracı kullanırken bunları hiç düşünmüyoruz, sürmemiz için gerekli olan sadece pedallara basmak ve direksiyonu çevirmek.abstraction 'nın temel mantığı ayrıntılardansa bütünü düşünmek. Arabayı kullanmak için, arabanın nasıl çalıştığının ayrıntısını bilmeme gerek yok. Tek bilmem gereken direksiyon ve pedallar ile nasıl kontrol edebileceğim.\n",
    "\n",
    "Bu mantık yanlış anlaşılmasın. Bu \"Kodun bazı kısımlarını yazmakla ilgilenmeyeceğiz.\" anlamına gelmiyor. İstediğimiz komutlar bütününü bir fonksiyon altında toplayıp (bu örnekte tüm o ateşleme, motorun çalışmasını pedal fonksiyonu altına topladığınızı düşünün), artık o eylemi yapmak istediğim zaman sadece o fonksiyonu çağırıyorum ve bu fonksiyonun yaptığını kullanarak daha komplike davranışlar tanımlayabiliyorum. Buradaki en önemli nokta, üst üste koyarak inşa ettiğim yapıda yazdığım fonksiyonların ayrıntılarındansa ne yaptıklarını bilip ona göre üzerilerine, onları yapının bir parçası olarak görerek mantık kurmak.\n",
    "\n",
    "Özet olarak: Fonksiyonun o işi nasıl yaptığıyla ne yaptığını ayırmak ve ne yaptığına odaklanıp onun üzerine mantık kurmak.\n",
    "\n",
    "Decomposition Nedir?\n",
    "\n",
    "Elimdeki problemi kendi içerisinde anlamlı, daha küçük problemlere bölmektir. Arabanın çalışması arkada yatan bir çok mekanizmayla gerçekleşir. Motorun ateşlenmesi, havanın motora alınması, yakıtın aktarılması vs... Bunların hepsini aslında ayrı ayrı fonksiyonlar olarak düşünebiliriz. Problemi (arabanın hareket etmesini) alt birimlere ayırıp, tanımlayıp, çözüyoruz. Birden çok alt yapı bir arada çalışıp daha büyük bir sistem oluşturuyor.\n",
    "Kodumuzun farklı yerlerinde kullanılabilecek, beraber bir mantık oluşturacak kodlarımı fonksiyon tanımlayıp içine yazacağım.Fonksiyonların adı, parametreleri(0 veya daha fazla), açıklaması(opsiyoneli ama iyi bir pratik), ve kodları bulunur.Sadece adlarını yazınca çağrılmazlar. () ile çağırmamız lazım (function call veya function invocation olarak geçer.)"
   ]
  },
  {
   "cell_type": "markdown",
   "id": "d04017ff-53dd-4cef-b7b7-c43cea03a67f",
   "metadata": {},
   "source": [
    "<span style=\"color: blue; font-weight: bold;\">RETURN</span> :\n",
    "\n",
    "Bir fonksiyonu çalıştırdığımızda onun sonucuyla bir şeyler yapmak isteyebilirim. Sonucu bana versin diye özellikle söylemem lazım ve bunu return keyword(anahtar kelime)'u ile sağlayacağız.\n",
    "return yazmasaydık fonksiyon hiç bir şey döndürmezdi.\n",
    "fonksiyon tanımladığımı Python'a anlatmak için yapım:\n",
    "def fonksiyonun_adı(input): öbür yapılarda da olduğu gibi, bir kod bloğunun belirttiğimiz yapıya ait olduğunu anlatmak için boşluk bırakarak içine yazmamız gerekiyor.\n",
    "Verdiğimiz değerin karesini alan bir fonksiyon yazalım.\n",
    "\n"
   ]
  },
  {
   "cell_type": "code",
   "execution_count": 5,
   "id": "1be78c3a-0b2d-4839-ae3a-3bda6df5e221",
   "metadata": {},
   "outputs": [],
   "source": [
    "def square(x):\n",
    "    x*x"
   ]
  },
  {
   "cell_type": "markdown",
   "id": "62ba4ce0-c251-4980-8dd9-a948ca61a256",
   "metadata": {},
   "source": [
    "* fonksiyonu tanımladıktan sonra tanımladığımız adla onu çağırabiliriz. Yapımız şöyle olacak: fonksiyonun_adı(input), bir fonksiyonu çağırmak için inputları ()'ın içine yazmalıyız. Bazı durumlarda hiç input olmayabilir, bazı durumlarda birden çok olabilir."
   ]
  },
  {
   "cell_type": "code",
   "execution_count": 8,
   "id": "7796a681-6a82-4711-98f6-8b2fd8fb9b3c",
   "metadata": {},
   "outputs": [
    {
     "name": "stdout",
     "output_type": "stream",
     "text": [
      "None\n"
     ]
    }
   ],
   "source": [
    "square(3)\n",
    "a = square(3)\n",
    "a\n",
    "print(a)"
   ]
  },
  {
   "cell_type": "markdown",
   "id": "51e68160-ac7b-4db0-a9cf-8ff1f70ff29f",
   "metadata": {},
   "source": [
    "* bize x*x i değer olarak vermedi. Vermesi için bana o değeri döndür diye özellikle söylemem lazım. Bunu return ile sağlıyoruz."
   ]
  },
  {
   "cell_type": "code",
   "execution_count": 11,
   "id": "d88739f3-9694-4fcd-aa83-e21952052073",
   "metadata": {},
   "outputs": [
    {
     "data": {
      "text/plain": [
       "4"
      ]
     },
     "execution_count": 11,
     "metadata": {},
     "output_type": "execute_result"
    }
   ],
   "source": [
    "def square(x): \n",
    "    return x * x \n",
    "square(2)\n",
    "a = square(2)\n",
    "a\n"
   ]
  },
  {
   "cell_type": "markdown",
   "id": "efef0dff-a4d3-476a-9ac4-fc323054eba9",
   "metadata": {},
   "source": [
    "* Fonksiyonlar return'e geldikten sonrasına bakmıyor, return 'ün sağına yazılan değeri veriyor ve fonksiyondan çıkıyor."
   ]
  },
  {
   "cell_type": "code",
   "execution_count": 14,
   "id": "4bae99b8-4674-4185-a90a-dc1e969794d6",
   "metadata": {},
   "outputs": [],
   "source": [
    "def square(x):\n",
    "    \n",
    "    res = x * x\n",
    "    \n",
    "    return res\n",
    "    \n",
    "    print(\"Square of \" + str(x) + \": \" + str(res))"
   ]
  },
  {
   "cell_type": "code",
   "execution_count": 16,
   "id": "7a6e7313-ba18-4f2d-a4de-2fc87860a1be",
   "metadata": {},
   "outputs": [
    {
     "data": {
      "text/plain": [
       "16"
      ]
     },
     "execution_count": 16,
     "metadata": {},
     "output_type": "execute_result"
    }
   ],
   "source": [
    "square(4)"
   ]
  },
  {
   "cell_type": "markdown",
   "id": "0608b447-de17-489a-8451-63ddcbf97d17",
   "metadata": {},
   "source": [
    "* Bu yüzden burada bastırma kısmını yapmadı çünkü o kod return 'ün altında yer alıyor."
   ]
  },
  {
   "cell_type": "code",
   "execution_count": 19,
   "id": "c91056f2-fe54-44ef-88f8-1301c3141f40",
   "metadata": {},
   "outputs": [],
   "source": [
    "def square(x):\n",
    "    \n",
    "    res = x * x\n",
    "    \n",
    "    print(\"Square of \" + str(x) + \": \" + str(res))\n",
    "    \n",
    "    return res"
   ]
  },
  {
   "cell_type": "code",
   "execution_count": 21,
   "id": "1cd0bbe4-8e4c-4f0e-9a5a-3f0192d2749e",
   "metadata": {},
   "outputs": [
    {
     "name": "stdout",
     "output_type": "stream",
     "text": [
      "Square of 4: 16\n"
     ]
    },
    {
     "data": {
      "text/plain": [
       "16"
      ]
     },
     "execution_count": 21,
     "metadata": {},
     "output_type": "execute_result"
    }
   ],
   "source": [
    "square(4)"
   ]
  },
  {
   "cell_type": "markdown",
   "id": "0dfdf46c-0695-4b10-a50c-46defe7ee3cf",
   "metadata": {},
   "source": [
    "* Fonksiyona durumsallık da katabiliriz."
   ]
  },
  {
   "cell_type": "code",
   "execution_count": 24,
   "id": "6229c620-558c-4f65-9900-bde94b3ed315",
   "metadata": {},
   "outputs": [],
   "source": [
    "def f(x):\n",
    "    \n",
    "    res = x * x\n",
    "    \n",
    "    if x % 2 == 0:\n",
    "        \n",
    "        return res\n",
    "    else:\n",
    "        return res + 10\n",
    "    \n",
    "    print(\"Square of \" + str(x) + \": \" + str(res))"
   ]
  },
  {
   "cell_type": "code",
   "execution_count": 26,
   "id": "5d7b59fd-1a73-4797-a720-ebcbae0352ca",
   "metadata": {},
   "outputs": [
    {
     "data": {
      "text/plain": [
       "100"
      ]
     },
     "execution_count": 26,
     "metadata": {},
     "output_type": "execute_result"
    }
   ],
   "source": [
    "f(10)"
   ]
  },
  {
   "cell_type": "markdown",
   "id": "6a3238e6-a127-4d9a-9088-82ffe97bbdde",
   "metadata": {},
   "source": [
    "* Fonksiyonların içinde döngü mantığı da olabilir."
   ]
  },
  {
   "cell_type": "code",
   "execution_count": 33,
   "id": "a55c653f-28ad-4553-9319-996ae4ac5ad0",
   "metadata": {},
   "outputs": [
    {
     "data": {
      "text/plain": [
       "120"
      ]
     },
     "execution_count": 33,
     "metadata": {},
     "output_type": "execute_result"
    }
   ],
   "source": [
    "def f(x): \n",
    "    res = x * x \n",
    "    for i in range(10): \n",
    "        res += 20\n",
    "        return res\n",
    "    print(\"hey\")\n",
    "f(10)"
   ]
  },
  {
   "cell_type": "code",
   "execution_count": 35,
   "id": "6e3d56bc-41e7-455b-899c-19e3dff59a4a",
   "metadata": {},
   "outputs": [
    {
     "data": {
      "text/plain": [
       "300"
      ]
     },
     "execution_count": 35,
     "metadata": {},
     "output_type": "execute_result"
    }
   ],
   "source": [
    "def f(x): \n",
    "    res = x * x \n",
    "    for i in range(10): \n",
    "        res += 20\n",
    "    return res\n",
    "    print(\"hey\")\n",
    "f(10)"
   ]
  },
  {
   "cell_type": "code",
   "execution_count": 37,
   "id": "6af10687-bbe7-426e-87b6-20d8a776532b",
   "metadata": {},
   "outputs": [
    {
     "data": {
      "text/plain": [
       "[120, 140, 160, 180, 200, 220, 240, 260, 280, 300]"
      ]
     },
     "execution_count": 37,
     "metadata": {},
     "output_type": "execute_result"
    }
   ],
   "source": [
    "def f(x):\n",
    "    l = []\n",
    "    res = x * x\n",
    "    for i in range(10):\n",
    "        res += 20\n",
    "        l.append(res)\n",
    "    return l\n",
    "f(10)"
   ]
  },
  {
   "cell_type": "markdown",
   "id": "6d58103e-ddf0-4133-b400-995c2731b7a6",
   "metadata": {},
   "source": [
    "* Void Fonksiyonlar (Değer Döndürmeyen Fonksiyonlar)"
   ]
  },
  {
   "cell_type": "code",
   "execution_count": 40,
   "id": "35737f37-2b04-40a5-8702-afeb375aa693",
   "metadata": {},
   "outputs": [],
   "source": [
    "def f(x): \n",
    "    x = 2\n",
    "f(2)"
   ]
  },
  {
   "cell_type": "code",
   "execution_count": 42,
   "id": "85c9aaa2-55d6-47a4-98f4-818361e13312",
   "metadata": {},
   "outputs": [
    {
     "ename": "TypeError",
     "evalue": "unsupported operand type(s) for +: 'NoneType' and 'int'",
     "output_type": "error",
     "traceback": [
      "\u001b[1;31m---------------------------------------------------------------------------\u001b[0m",
      "\u001b[1;31mTypeError\u001b[0m                                 Traceback (most recent call last)",
      "Cell \u001b[1;32mIn[42], line 1\u001b[0m\n\u001b[1;32m----> 1\u001b[0m f(\u001b[38;5;241m10\u001b[39m) \u001b[38;5;241m+\u001b[39m \u001b[38;5;241m4\u001b[39m\n",
      "\u001b[1;31mTypeError\u001b[0m: unsupported operand type(s) for +: 'NoneType' and 'int'"
     ]
    }
   ],
   "source": [
    "f(10) + 4"
   ]
  },
  {
   "cell_type": "code",
   "execution_count": 44,
   "id": "3222b2da-d777-466b-8089-af05ad6023a1",
   "metadata": {},
   "outputs": [
    {
     "name": "stdout",
     "output_type": "stream",
     "text": [
      "None\n"
     ]
    }
   ],
   "source": [
    "print(f(3))\n",
    "\n",
    "\n"
   ]
  },
  {
   "cell_type": "code",
   "execution_count": 46,
   "id": "155491c8-e3fe-4dcb-9445-301e26fe099f",
   "metadata": {},
   "outputs": [
    {
     "data": {
      "text/plain": [
       "NoneType"
      ]
     },
     "execution_count": 46,
     "metadata": {},
     "output_type": "execute_result"
    }
   ],
   "source": [
    "type(f(3))\n"
   ]
  },
  {
   "cell_type": "code",
   "execution_count": 48,
   "id": "547cceee-bbd3-4a69-8e43-d25d4b6e840b",
   "metadata": {},
   "outputs": [
    {
     "name": "stdout",
     "output_type": "stream",
     "text": [
      "3 in/ün/un karesi: 9\n"
     ]
    }
   ],
   "source": [
    "# Bu kod x in karesini değer olarak bize vermiyor, sadece ekrana bastıracak\n",
    "def square(x):\n",
    "    print(x,\"in/ün/un karesi:\", x*x)\n",
    "square(3)"
   ]
  },
  {
   "cell_type": "code",
   "execution_count": 50,
   "id": "a020c548-1aa0-49b6-88bd-1d84837533cb",
   "metadata": {},
   "outputs": [],
   "source": [
    "# hem bir değer bastırıp aynı anda o değeri döndüre de bilirdi\n",
    "\n",
    "def square(x):\n",
    "    \n",
    "    res = x * x\n",
    "    \n",
    "    print(x,\"in/ün/un karesi:\", x*x)\n",
    "    \n",
    "    return res"
   ]
  },
  {
   "cell_type": "code",
   "execution_count": 52,
   "id": "3fb9b154-4c57-4a30-bf0c-5e395e262b39",
   "metadata": {},
   "outputs": [
    {
     "name": "stdout",
     "output_type": "stream",
     "text": [
      "4 in/ün/un karesi: 16\n"
     ]
    },
    {
     "data": {
      "text/plain": [
       "16"
      ]
     },
     "execution_count": 52,
     "metadata": {},
     "output_type": "execute_result"
    }
   ],
   "source": [
    "square(4)"
   ]
  },
  {
   "cell_type": "markdown",
   "id": "e2ae9cec-bbde-4bd9-8a5e-1db46e7eca10",
   "metadata": {},
   "source": [
    "<span style=\"color: blue; font-weight: bold;\">Birden Fazla Değer Döndürme/input İçerme</span> :\n",
    "\n",
    "Fonksiyonların birden çok parametresi olabilir."
   ]
  },
  {
   "cell_type": "code",
   "execution_count": 61,
   "id": "164e18fb-056d-40b8-9fe0-c7efbb32d9da",
   "metadata": {},
   "outputs": [
    {
     "data": {
      "text/plain": [
       "8"
      ]
     },
     "execution_count": 61,
     "metadata": {},
     "output_type": "execute_result"
    }
   ],
   "source": [
    "def power(x, y):\n",
    "    \n",
    "    return x ** y\n",
    "power(2, 3)"
   ]
  },
  {
   "cell_type": "markdown",
   "id": "c130697b-7ba2-4c33-9dc4-5105cb4dacd4",
   "metadata": {},
   "source": [
    "<span style=\"color: blue; font-weight: bold;\">Birden Çok Değer Döndüren Fonksiyonlar</span> :"
   ]
  },
  {
   "cell_type": "code",
   "execution_count": 67,
   "id": "5a6a6fab-d809-4ecd-aeb6-cbf515c73276",
   "metadata": {},
   "outputs": [
    {
     "data": {
      "text/plain": [
       "(20, 100)"
      ]
     },
     "execution_count": 67,
     "metadata": {},
     "output_type": "execute_result"
    }
   ],
   "source": [
    "def f(x):\n",
    "    \n",
    "    return 2*x, 10*x\n",
    "f(10)"
   ]
  },
  {
   "cell_type": "markdown",
   "id": "01df74db-36d1-4b26-9869-0c155d1d4db3",
   "metadata": {},
   "source": [
    "Bana sonucu tuple olarak döndürdü.\n",
    "Variable Unpacking kısmında gördüğümüz gibi bu iki değeri farklı değişkenlere eşitleyebilirim."
   ]
  },
  {
   "cell_type": "code",
   "execution_count": 70,
   "id": "69726022-99e8-406f-87f8-05088d45090c",
   "metadata": {},
   "outputs": [],
   "source": [
    "a, b = f(10)"
   ]
  },
  {
   "cell_type": "code",
   "execution_count": 72,
   "id": "74b69a9d-3645-4ff8-ba7a-c25202a59305",
   "metadata": {},
   "outputs": [
    {
     "data": {
      "text/plain": [
       "20"
      ]
     },
     "execution_count": 72,
     "metadata": {},
     "output_type": "execute_result"
    }
   ],
   "source": [
    "a"
   ]
  },
  {
   "cell_type": "code",
   "execution_count": 74,
   "id": "100fe1ce-2ae1-4235-b9b2-7a2c703c1fb5",
   "metadata": {},
   "outputs": [
    {
     "data": {
      "text/plain": [
       "100"
      ]
     },
     "execution_count": 74,
     "metadata": {},
     "output_type": "execute_result"
    }
   ],
   "source": [
    "b"
   ]
  },
  {
   "cell_type": "markdown",
   "id": "034159c9-e223-41e2-9429-9ba763306700",
   "metadata": {},
   "source": [
    "<span style=\"color: blue; font-weight: bold;\">Predefined Parameters</span> :"
   ]
  },
  {
   "cell_type": "code",
   "execution_count": 78,
   "id": "87af7d31-0a26-4708-81c7-bf3fee44eafd",
   "metadata": {},
   "outputs": [
    {
     "name": "stdout",
     "output_type": "stream",
     "text": [
      "Hello Denis\n"
     ]
    }
   ],
   "source": [
    "def hello(end, start = \"Hello\"):\n",
    "   \n",
    "  print(start + \" \" + end)\n",
    "\n",
    "hello(\"Denis\")"
   ]
  },
  {
   "cell_type": "code",
   "execution_count": 80,
   "id": "8d0d9b06-e62e-49ff-8deb-ebe8c7a1f506",
   "metadata": {},
   "outputs": [
    {
     "name": "stdout",
     "output_type": "stream",
     "text": [
      "Hey Denis\n"
     ]
    }
   ],
   "source": [
    "\n",
    "hello(\"Denis\", start = \"Hey\")"
   ]
  },
  {
   "cell_type": "code",
   "execution_count": 82,
   "id": "41e5bffc-1dfb-4e6c-b290-e12ca901dee0",
   "metadata": {},
   "outputs": [],
   "source": [
    "def power(x, y=1):\n",
    "    \n",
    "    return x ** y"
   ]
  },
  {
   "cell_type": "code",
   "execution_count": 84,
   "id": "e48744ff-6c9f-456e-92a7-fa0550add5e6",
   "metadata": {},
   "outputs": [
    {
     "data": {
      "text/plain": [
       "3"
      ]
     },
     "execution_count": 84,
     "metadata": {},
     "output_type": "execute_result"
    }
   ],
   "source": [
    "power(3)"
   ]
  },
  {
   "cell_type": "code",
   "execution_count": 86,
   "id": "9ba83fd4-a943-45bc-930f-9493e2813d35",
   "metadata": {},
   "outputs": [
    {
     "data": {
      "text/plain": [
       "16"
      ]
     },
     "execution_count": 86,
     "metadata": {},
     "output_type": "execute_result"
    }
   ],
   "source": [
    "power(4, 2)"
   ]
  },
  {
   "cell_type": "markdown",
   "id": "d6e87c1e-715e-4dd0-83e2-64f2d793f220",
   "metadata": {},
   "source": [
    "<span style=\"color: blue; font-weight: bold;\">First Class Function</span> :"
   ]
  },
  {
   "cell_type": "markdown",
   "id": "6fad9cd1-13a3-4087-ad8f-25c1e78356a1",
   "metadata": {},
   "source": [
    "Python'da fonksiyonlar first class function olarak değerlendirilir. Bunun anlamı fonksiyonların diğer veri tipleri gibi manipüle edilebilir ve başka fonksiyonlara argüman olarak verilebilir.\n",
    "Bir fonksiyonu bir değişkene atayabiliriz."
   ]
  },
  {
   "cell_type": "code",
   "execution_count": 91,
   "id": "89b49707-09e6-4a89-9864-62050b3f6672",
   "metadata": {},
   "outputs": [],
   "source": [
    "def kare(x):\n",
    "    return x**2"
   ]
  },
  {
   "cell_type": "code",
   "execution_count": 93,
   "id": "9618660f-2b79-4cd1-882d-bd4b9546f190",
   "metadata": {},
   "outputs": [],
   "source": [
    "a = kare"
   ]
  },
  {
   "cell_type": "code",
   "execution_count": 95,
   "id": "6c3f468c-6ce6-4844-aa30-791886da72f4",
   "metadata": {},
   "outputs": [
    {
     "data": {
      "text/plain": [
       "25"
      ]
     },
     "execution_count": 95,
     "metadata": {},
     "output_type": "execute_result"
    }
   ],
   "source": [
    "kare(5)"
   ]
  },
  {
   "cell_type": "code",
   "execution_count": 97,
   "id": "7c8a83de-ef44-47db-8c02-de936b1b6649",
   "metadata": {},
   "outputs": [
    {
     "data": {
      "text/plain": [
       "25"
      ]
     },
     "execution_count": 97,
     "metadata": {},
     "output_type": "execute_result"
    }
   ],
   "source": [
    "a(5)"
   ]
  },
  {
   "cell_type": "markdown",
   "id": "4d4bdc3b-8964-4f4c-b331-caf18001651b",
   "metadata": {},
   "source": [
    "* Bir fonksiyonu başka bir fonksiyona argüman olarak verebiliriz."
   ]
  },
  {
   "cell_type": "code",
   "execution_count": 102,
   "id": "2962ca8a-f118-4aa6-b61e-7fa6fa2967c9",
   "metadata": {},
   "outputs": [],
   "source": [
    "def f2(x, f):\n",
    "    return f(x) + 4"
   ]
  },
  {
   "cell_type": "code",
   "execution_count": 104,
   "id": "324b2d56-e52e-4e9f-a515-13f2b6b6c7a3",
   "metadata": {},
   "outputs": [
    {
     "data": {
      "text/plain": [
       "13"
      ]
     },
     "execution_count": 104,
     "metadata": {},
     "output_type": "execute_result"
    }
   ],
   "source": [
    "f2(3,kare)"
   ]
  },
  {
   "cell_type": "code",
   "execution_count": 106,
   "id": "9626a47e-c0da-44ed-bb24-b80192877bec",
   "metadata": {},
   "outputs": [
    {
     "data": {
      "text/plain": [
       "36"
      ]
     },
     "execution_count": 106,
     "metadata": {},
     "output_type": "execute_result"
    }
   ],
   "source": [
    "def f3(x):\n",
    "    return x**5\n",
    "f2(2, f3)"
   ]
  },
  {
   "cell_type": "code",
   "execution_count": 108,
   "id": "8ec0056e-d13f-48a6-87ef-f57d9660d1b9",
   "metadata": {},
   "outputs": [],
   "source": [
    "l = [1,2,3,4]"
   ]
  },
  {
   "cell_type": "code",
   "execution_count": 110,
   "id": "2c2bb5b7-2ade-4326-ba79-556088086d77",
   "metadata": {},
   "outputs": [],
   "source": [
    "def apply(l, f):\n",
    "    \"\"\" l bir liste, f listenin tüm elemanlarına uygulanacak fonksiyon sonunda listenin orijinali elemanlarına fonksiyonun uygulanmış haliyle güncellenir \"\"\"\n",
    "    \n",
    "    n = len(l)\n",
    "    \n",
    "    for i in range(n):\n",
    "        l[i] = f(l[i])\n"
   ]
  },
  {
   "cell_type": "code",
   "execution_count": 112,
   "id": "5d904328-ebab-415d-8589-202fe05d8f50",
   "metadata": {},
   "outputs": [],
   "source": [
    "def kare(x):\n",
    "    return x**2"
   ]
  },
  {
   "cell_type": "code",
   "execution_count": 114,
   "id": "2928b298-bf7e-4217-97ab-af2efd679aca",
   "metadata": {},
   "outputs": [],
   "source": [
    "apply(l, kare)"
   ]
  },
  {
   "cell_type": "code",
   "execution_count": 116,
   "id": "eaa6c7d0-336a-4e05-b2d7-085851e3a849",
   "metadata": {},
   "outputs": [
    {
     "data": {
      "text/plain": [
       "[1, 4, 9, 16]"
      ]
     },
     "execution_count": 116,
     "metadata": {},
     "output_type": "execute_result"
    }
   ],
   "source": [
    "l"
   ]
  },
  {
   "cell_type": "code",
   "execution_count": 118,
   "id": "00a4e45a-2356-4703-b10e-4419b6271c25",
   "metadata": {},
   "outputs": [],
   "source": [
    "def kup(x):\n",
    "    return x**3"
   ]
  },
  {
   "cell_type": "code",
   "execution_count": 120,
   "id": "7870de08-d9ba-42f2-96ec-06b71561a156",
   "metadata": {},
   "outputs": [],
   "source": [
    "apply(l, kup)"
   ]
  },
  {
   "cell_type": "code",
   "execution_count": 122,
   "id": "73c7ce4b-155f-4547-a2de-df2176f4be66",
   "metadata": {},
   "outputs": [
    {
     "data": {
      "text/plain": [
       "[1, 64, 729, 4096]"
      ]
     },
     "execution_count": 122,
     "metadata": {},
     "output_type": "execute_result"
    }
   ],
   "source": [
    "l"
   ]
  },
  {
   "cell_type": "code",
   "execution_count": 124,
   "id": "73028c43-8f82-4db2-9aae-fe7ee04645ed",
   "metadata": {},
   "outputs": [],
   "source": [
    "def apply_funcs(f_list, x): \n",
    "    l = []\n",
    "    for f in f_list:\n",
    "        l.append(f(x))\n",
    "        \n",
    "    return l"
   ]
  },
  {
   "cell_type": "code",
   "execution_count": 126,
   "id": "d02d0b93-38df-4722-abf5-b9fa7ad4f5ac",
   "metadata": {},
   "outputs": [
    {
     "data": {
      "text/plain": [
       "[25, 125]"
      ]
     },
     "execution_count": 126,
     "metadata": {},
     "output_type": "execute_result"
    }
   ],
   "source": [
    "apply_funcs([kare, kup], 5)"
   ]
  },
  {
   "cell_type": "code",
   "execution_count": null,
   "id": "d5faa9d6-f991-48a9-a610-2601da87e128",
   "metadata": {},
   "outputs": [],
   "source": []
  }
 ],
 "metadata": {
  "kernelspec": {
   "display_name": "Python [conda env:base] *",
   "language": "python",
   "name": "conda-base-py"
  },
  "language_info": {
   "codemirror_mode": {
    "name": "ipython",
    "version": 3
   },
   "file_extension": ".py",
   "mimetype": "text/x-python",
   "name": "python",
   "nbconvert_exporter": "python",
   "pygments_lexer": "ipython3",
   "version": "3.12.7"
  }
 },
 "nbformat": 4,
 "nbformat_minor": 5
}
