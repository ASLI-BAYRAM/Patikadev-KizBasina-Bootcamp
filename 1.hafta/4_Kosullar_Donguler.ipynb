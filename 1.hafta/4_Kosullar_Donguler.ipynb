{
 "cells": [
  {
   "cell_type": "markdown",
   "id": "e9c32996-fe30-492d-a84c-8c6b9c158db5",
   "metadata": {},
   "source": [
    " <h1 style=\"text-align: center; color: RED\">KOŞULLAR </h1>"
   ]
  },
  {
   "cell_type": "markdown",
   "id": "b625a975-e513-4a47-bbe3-35926efbcec8",
   "metadata": {},
   "source": [
    "<h3 style=\"text-align: center; color: RED\">IF-ELİF -ELSE</h3> \n",
    "\n",
    "İfadelerin değerlerinin True veya False olduklarını veren karşılaştırmalara ve mantıksal operatörlere bakmıştık.\n",
    "Şimdi bunların sonuçlarına göre programımızı dallandırmaya bakacağız.\n",
    "\n",
    "if:\n",
    "\n",
    "Eğer testimin değeri True ise if bloğunun içinde yazanı yapacağız.\n",
    "\n",
    "Yapılacakların if bloğuna ait olduğunu anlatmak için kodu if in içine yazarız. Python'ın o bloğun içinde olduğumuzu anlaması için boşluk bırakmamız gerekir.\n",
    "\n",
    "else:\n",
    "if ile kontrolümüz (veya elseif-elif) False sonucu döndürülürse yapılacak blok\n",
    "\n",
    "elif:\n",
    "elif if ile yaptığımız teste ek olarak başka testler yapmak istiyorsak kullanılır."
   ]
  },
  {
   "cell_type": "code",
   "execution_count": 4,
   "id": "2e49be9d-1139-4143-838e-873d09bd1d03",
   "metadata": {},
   "outputs": [
    {
     "name": "stdin",
     "output_type": "stream",
     "text": [
      "Bir sayı girin:  3\n"
     ]
    },
    {
     "name": "stdout",
     "output_type": "stream",
     "text": [
      "Programınız sona ulaştı\n"
     ]
    }
   ],
   "source": [
    "x = int(input(\"Bir sayı girin: \"))\n",
    "\n",
    "if x % 2 == 0: \n",
    "    print(\"Sayınız çift sayı\")\n",
    "\n",
    "print(\"Programınız sona ulaştı\")"
   ]
  },
  {
   "cell_type": "code",
   "execution_count": 8,
   "id": "e1c440c1-0aab-465f-b887-355ee765e721",
   "metadata": {},
   "outputs": [
    {
     "name": "stdin",
     "output_type": "stream",
     "text": [
      "Bir sayı girin:  2\n"
     ]
    },
    {
     "name": "stdout",
     "output_type": "stream",
     "text": [
      "Sayınız çift sayı\n",
      "Programınız sona ulaştı\n"
     ]
    }
   ],
   "source": [
    "x = int(input(\"Bir sayı girin: \"))\n",
    "\n",
    "if x % 2 == 0:\n",
    "    print(\"Sayınız çift sayı\")\n",
    "else:\n",
    "    print(\"Sayınız tek sayı\")\n",
    "\n",
    "print(\"Programınız sona ulaştı\")"
   ]
  },
  {
   "cell_type": "code",
   "execution_count": 11,
   "id": "e86018ec-3bee-4fca-99d8-98eaefaaa473",
   "metadata": {},
   "outputs": [
    {
     "name": "stdin",
     "output_type": "stream",
     "text": [
      "Bir sayı girin:  10\n"
     ]
    },
    {
     "name": "stdout",
     "output_type": "stream",
     "text": [
      "Sayı 10'a eşit\n",
      "Programınız sona ulaştı\n"
     ]
    }
   ],
   "source": [
    "x = int(input(\"Bir sayı girin: \"))\n",
    "\n",
    "if x < 10:\n",
    "    print(\"Sayı 10'dan küçük\")\n",
    "\n",
    "    \n",
    "elif x == 10:\n",
    "    print(\"Sayı 10'a eşit\")\n",
    "    \n",
    "else:\n",
    "    print(\"Sayı 10'dan büyük\")\n",
    "    \n",
    "print(\"Programınız sona ulaştı\")"
   ]
  },
  {
   "cell_type": "code",
   "execution_count": 13,
   "id": "8760b1bb-c9d3-4c92-9118-2774670e5559",
   "metadata": {},
   "outputs": [
    {
     "name": "stdin",
     "output_type": "stream",
     "text": [
      "0 ile 100 arasında bir sayı girin:  82\n"
     ]
    },
    {
     "name": "stdout",
     "output_type": "stream",
     "text": [
      "Sayı 80 ile 90 arasında\n",
      "Programınız sona ulaştı\n"
     ]
    }
   ],
   "source": [
    "x = int(input(\"0 ile 100 arasında bir sayı girin: \"))\n",
    "\n",
    "if x == 100:\n",
    "    print(\"Sayı 100\")\n",
    "\n",
    "elif x >= 90:\n",
    "    print(\"Sayı 90 ile 100 arasında\")\n",
    "\n",
    "elif x >= 80:\n",
    "    print(\"Sayı 80 ile 90 arasında\")\n",
    "    \n",
    "else:\n",
    "    print(\"Sayı 80'den küçük\")\n",
    "    \n",
    "print(\"Programınız sona ulaştı\")"
   ]
  },
  {
   "cell_type": "markdown",
   "id": "ae3319ed-ec28-4bd3-ba37-efa5aef0c0bd",
   "metadata": {},
   "source": [
    "<span style=\"color: blue; font-weight: bold;\">Nested If</span> :  if, elif ve else bloğunun içine yazdığımız kod normal koddan farklı değil, o yüzden bunların içine de ayrıca if, elif ve else yazabiliriz."
   ]
  },
  {
   "cell_type": "code",
   "execution_count": 16,
   "id": "f18911c8-2311-470d-805a-1468c79a8582",
   "metadata": {},
   "outputs": [
    {
     "name": "stdin",
     "output_type": "stream",
     "text": [
      "Bir sayı girin:  9\n"
     ]
    },
    {
     "name": "stdout",
     "output_type": "stream",
     "text": [
      "Sayı 3'e bölünüyor ama 2'ye bölünmüyor\n",
      "Programınız sona ulaştı\n"
     ]
    }
   ],
   "source": [
    "x = int(input(\"Bir sayı girin: \"))\n",
    "\n",
    "if x % 3 == 0:\n",
    "    if x % 2 == 0:\n",
    "        print(\"Sayı hem 2'ye hem de 3'e bölünüyor\")\n",
    "    else:\n",
    "        print(\"Sayı 3'e bölünüyor ama 2'ye bölünmüyor\")\n",
    "\n",
    "else:\n",
    "    \n",
    "    print(\"3'e bölünmüyor\")\n",
    "    \n",
    "print(\"Programınız sona ulaştı\")"
   ]
  },
  {
   "cell_type": "code",
   "execution_count": 18,
   "id": "7572e600-8ccf-455e-88cb-fa5afc6ed7e6",
   "metadata": {},
   "outputs": [
    {
     "name": "stdin",
     "output_type": "stream",
     "text": [
      "Bir sayı girin:  9\n"
     ]
    },
    {
     "name": "stdout",
     "output_type": "stream",
     "text": [
      "Programınız sona ulaştı\n"
     ]
    }
   ],
   "source": [
    "x = int(input(\"Bir sayı girin: \"))\n",
    "\n",
    "if (x % 3 == 0) and (x % 2) == 0:\n",
    "    print(\"Sayı hem 2'ye hem de 3'e bölünüyor\")\n",
    "    \n",
    "print(\"Programınız sona ulaştı\")"
   ]
  },
  {
   "cell_type": "code",
   "execution_count": 24,
   "id": "7feea2a0-c555-41d5-aaee-e5c0114d3626",
   "metadata": {},
   "outputs": [
    {
     "name": "stdin",
     "output_type": "stream",
     "text": [
      "Bir sayı girin:  9\n"
     ]
    },
    {
     "name": "stdout",
     "output_type": "stream",
     "text": [
      "Sayı 2 veya 3'den en az birine bölünüyor\n",
      "Programınız sona ulaştı\n"
     ]
    }
   ],
   "source": [
    "x = int(input(\"Bir sayı girin: \"))\n",
    "if (x % 3 == 0) or (x % 2 == 0):\n",
    "    print(\"Sayı 2 veya 3'den en az birine bölünüyor\")\n",
    "    \n",
    "print(\"Programınız sona ulaştı\")"
   ]
  },
  {
   "cell_type": "markdown",
   "id": "f1b90616-d284-454e-bab7-b4107ae2b012",
   "metadata": {},
   "source": [
    "<span style=\"color: blue; font-weight: bold;\">Ternary Conditionals</span> : \n",
    "\n",
    "Ternary Conditionals aslında daha önce yapamadığımız bir şeyi yapabilmemize olanak sağlamayacak. if-else mantığını tek satırda kullanıp döndürülecek, sonucu ona göre belirlememizi sağlayacak.\n",
    "\n",
    "Diyelim ki belirli bir durumu test edip, x değişkeninin değerini bu testin sonucuna göre belirlemek istiyorum. Soruya cevabım \"y\" olursa değeri 2'ye, yoksa 0'a eşitleyeceği"
   ]
  },
  {
   "cell_type": "code",
   "execution_count": 28,
   "id": "25e59a34-5417-435b-8439-988d0d7ea178",
   "metadata": {},
   "outputs": [
    {
     "name": "stdin",
     "output_type": "stream",
     "text": [
      "x in değeri 2 olsun mu? y/n y\n"
     ]
    },
    {
     "name": "stdout",
     "output_type": "stream",
     "text": [
      "2\n"
     ]
    }
   ],
   "source": [
    "# cevap olarak \"y\" (yes->evet) veya \"n\"(no->hayır) vereceğiz\n",
    "cevap = input(\"x in değeri 2 olsun mu? y/n\")\n",
    "if cevap == \"y\": # cevap == \"y\" testimiz oluyor\n",
    "    x = 2\n",
    "else:\n",
    "    x = 0\n",
    "\n",
    "print(x)"
   ]
  },
  {
   "cell_type": "code",
   "execution_count": 34,
   "id": "53a9a182-d10a-4524-bf70-57b0cb2741ac",
   "metadata": {},
   "outputs": [
    {
     "name": "stdin",
     "output_type": "stream",
     "text": [
      "x in değeri 2 olsun mu? y/n n\n"
     ]
    },
    {
     "name": "stdout",
     "output_type": "stream",
     "text": [
      "0\n"
     ]
    }
   ],
   "source": [
    "#tek satırda yazmak\n",
    "cevap = input(\"x in değeri 2 olsun mu? y/n\")\n",
    "\n",
    "x = 2 if cevap==\"y\" else 0\n",
    "print(x)\n"
   ]
  },
  {
   "cell_type": "markdown",
   "id": "de42a419-0e96-43e0-9732-e1d8e4913ce8",
   "metadata": {},
   "source": [
    " <h1 style=\"text-align: center; color: RED\">DÖNGÜLER</h1>\n",
    "\n",
    " Tekrar eden işlemler"
   ]
  },
  {
   "cell_type": "markdown",
   "id": "79a1f882-cef4-4347-86ed-99ae05bff620",
   "metadata": {},
   "source": [
    "<span style=\"color: blue; font-weight: bold;\">While</span> : \n",
    "\n",
    "While döngüsünün içine yazdığım yapı belirttiğim ifade doğru olduğu sürece çalışacak. \n",
    "\n",
    "Örnek olarak kullanıcıdan pozitif bir sayı bekleyen negatif sayı girdikçe bir daha soran bir yapıyı düşünelim.Burada bir döngü mantığına ihtiyacımız var çünkü kullanıcının kaç defa negatif sayı gireceğini önceden bilemiyoruz."
   ]
  },
  {
   "cell_type": "code",
   "execution_count": 54,
   "id": "f85a70d4-0ce8-4565-86aa-c8061d8899ee",
   "metadata": {},
   "outputs": [
    {
     "name": "stdin",
     "output_type": "stream",
     "text": [
      "Bir sayı girin: -2\n"
     ]
    },
    {
     "name": "stdout",
     "output_type": "stream",
     "text": [
      "Sayı negatif. Lütfen poziitf bir sayı girin\n"
     ]
    },
    {
     "name": "stdin",
     "output_type": "stream",
     "text": [
      "Bir sayı girin: -8\n"
     ]
    },
    {
     "name": "stdout",
     "output_type": "stream",
     "text": [
      "Sayı negatif. Lütfen poziitf bir sayı girin\n"
     ]
    },
    {
     "name": "stdin",
     "output_type": "stream",
     "text": [
      "Bir sayı girin: 6\n"
     ]
    },
    {
     "name": "stdout",
     "output_type": "stream",
     "text": [
      "Pozitif sayı girdiniz\n"
     ]
    }
   ],
   "source": [
    "x = int(input('Bir sayı girin:'))\n",
    "while  x<0:\n",
    "    print('Sayı negatif. Lütfen poziitf bir sayı girin')\n",
    "    x = int(input('Bir sayı girin:'))\n",
    "\n",
    "print('Pozitif sayı girdiniz')"
   ]
  },
  {
   "cell_type": "markdown",
   "id": "f99e1603-8300-41bd-9086-9801defc57b8",
   "metadata": {},
   "source": [
    "0'dan 100'e kadar olan sayıların toplamını bulan döngü"
   ]
  },
  {
   "cell_type": "code",
   "execution_count": 57,
   "id": "e26467f5-ae5d-445e-8e1d-dc86b79e5fbe",
   "metadata": {},
   "outputs": [
    {
     "name": "stdout",
     "output_type": "stream",
     "text": [
      "4950\n"
     ]
    }
   ],
   "source": [
    "x = 0\n",
    "toplam = 0\n",
    "while x<100:\n",
    "    toplam+=x\n",
    "    x+=1\n",
    "print(toplam)"
   ]
  },
  {
   "cell_type": "markdown",
   "id": "7c3e34ad-a2a0-4295-93f7-cf9c4139c9d4",
   "metadata": {},
   "source": [
    "* Döngünün içinde kontrol ettiğim yapıyı güncelleyecek bir ifadenin olması lazım yoksa sonsuz döngüye girer."
   ]
  },
  {
   "cell_type": "markdown",
   "id": "5beabc4c-b1c5-4d97-afaf-c9aacb9da778",
   "metadata": {},
   "source": [
    "<span style=\"color: blue; font-weight: bold;\">FOR</span> : \n",
    "\n",
    "for döngüsü in'den sonra yazdığımız yapının bütün değerleri üzerinde dolanıp, eleman sayısı kadar içindeki kodu çalıştıracak. x in <obje> yapısı ile tanımlandığında, x döngünün her adımında in den sonra tanımlanan yapının elemanlarının değerlerini alacak.\n",
    "\n",
    "for <değişken> in <obje>\n",
    "\n",
    "for döngüsünün en başında <değişken>, <obje>'nin ilk elemanının değerini alıyor. İçindeki kod 1 kere çalışıp bittikten sonra ikinci kere çalıştırıyor ve <değişken>, <obje>'nin ikinci elemanının değerini alıyor. Bu <obje>'nin tüm elemanları bitene kadar devam ediyor."
   ]
  },
  {
   "cell_type": "code",
   "execution_count": 83,
   "id": "0f10e4ab-a6fe-4213-a702-74d687c6dfd3",
   "metadata": {},
   "outputs": [
    {
     "name": "stdout",
     "output_type": "stream",
     "text": [
      "hey"
     ]
    }
   ],
   "source": [
    "for c in \"hey\":\n",
    "    print(c, end='') #ned='' bir alt satıra gecmemesini sağladı"
   ]
  },
  {
   "cell_type": "code",
   "execution_count": 65,
   "id": "114407bb-b13b-498b-96eb-9e03ba60241c",
   "metadata": {},
   "outputs": [
    {
     "name": "stdout",
     "output_type": "stream",
     "text": [
      "5050\n"
     ]
    }
   ],
   "source": [
    "toplam = 0\n",
    "\n",
    "for x in range(101):\n",
    "    toplam += x\n",
    "print(toplam)"
   ]
  },
  {
   "cell_type": "code",
   "execution_count": 67,
   "id": "a2db99aa-f46e-43d3-b8ae-eb49ef0aec52",
   "metadata": {},
   "outputs": [
    {
     "name": "stdout",
     "output_type": "stream",
     "text": [
      "0\n",
      "1\n",
      "2\n",
      "3\n",
      "4\n"
     ]
    }
   ],
   "source": [
    "for x in range(5):\n",
    "    print(x)"
   ]
  },
  {
   "cell_type": "code",
   "execution_count": 69,
   "id": "5a46eca4-035f-45e8-8b90-0eaf94706881",
   "metadata": {},
   "outputs": [
    {
     "name": "stdout",
     "output_type": "stream",
     "text": [
      "3125\n"
     ]
    }
   ],
   "source": [
    "carpim = 1\n",
    "for i in range(5):\n",
    "    carpim *=5\n",
    "    \n",
    "print(carpim)"
   ]
  },
  {
   "cell_type": "code",
   "execution_count": 71,
   "id": "5fc54eff-e1aa-443a-aa82-74300e132faf",
   "metadata": {},
   "outputs": [
    {
     "name": "stdout",
     "output_type": "stream",
     "text": [
      "3125\n"
     ]
    }
   ],
   "source": [
    "toplam = 1\n",
    "for _ in range(5): #burda _ yazma sebebimiz sadece döngü yapacağımız _ bunu herhangi bir yerde kullanmayacağımız\n",
    "    toplam *=5\n",
    "    \n",
    "print(toplam)"
   ]
  },
  {
   "cell_type": "markdown",
   "id": "76e6b3a2-5eea-4613-a0c3-b11322c8097a",
   "metadata": {},
   "source": [
    "<span style=\"color: blue; font-weight: bold;\">for vs while</span> : \n",
    "while yapısında kaç kere iterasyon yapacağımızı bilmiyoruz, for'da eleman sayısı kadar iterasyon var. (break veya continue ile bölünmezse)\n",
    "\n",
    "Aslında for döngüsünü while döngüsünü kullanarak yazabiliriz, ama while döngüsünü for kullanarak yazamayız, çünkü for'da test mekanizması yok."
   ]
  },
  {
   "cell_type": "code",
   "execution_count": 75,
   "id": "372d4df0-80ce-42a1-81a8-373b96167e2b",
   "metadata": {},
   "outputs": [
    {
     "name": "stdout",
     "output_type": "stream",
     "text": [
      "h\n",
      "e\n",
      "y\n"
     ]
    }
   ],
   "source": [
    "s = \"hey\"\n",
    "for c in s:\n",
    "    print(c)"
   ]
  },
  {
   "cell_type": "code",
   "execution_count": 77,
   "id": "13decfb5-ccdf-43fb-84ad-6d7aa4bcdc8a",
   "metadata": {},
   "outputs": [
    {
     "name": "stdout",
     "output_type": "stream",
     "text": [
      "h\n",
      "e\n",
      "y\n"
     ]
    }
   ],
   "source": [
    "n = len(s)\n",
    "index = 0\n",
    "\n",
    "while index < n:\n",
    "        print(s[index])\n",
    "        index += 1"
   ]
  },
  {
   "cell_type": "markdown",
   "id": "bd7899d5-99cf-477d-b5d8-8d81b852ddb2",
   "metadata": {},
   "source": [
    "<span style=\"color: blue; font-weight: bold;\">Continue-Break</span> : \n",
    "\n",
    "break\n",
    "\n",
    "Belki bir şart sağlandığı zaman döngüden aniden çıkmak istersek, bunu break ile sağlıyoruz.\n",
    "break komutunu gördüğümüz yerde döngüden çıkıyoruz.\n",
    "\n"
   ]
  },
  {
   "cell_type": "code",
   "execution_count": 97,
   "id": "fb008357-0a36-4756-997e-b8a061adf77b",
   "metadata": {},
   "outputs": [
    {
     "name": "stdout",
     "output_type": "stream",
     "text": [
      "0\n",
      "1\n",
      "2\n"
     ]
    }
   ],
   "source": [
    "for i in range(10):\n",
    "    if i == 3: break\n",
    "    print(i)"
   ]
  },
  {
   "cell_type": "code",
   "execution_count": 99,
   "id": "b7902757-fd22-40dd-b557-c01eac854cd2",
   "metadata": {},
   "outputs": [
    {
     "name": "stdout",
     "output_type": "stream",
     "text": [
      "0\n",
      "1\n",
      "2\n"
     ]
    }
   ],
   "source": [
    "x = 0\n",
    "while x < 10:  \n",
    "    print(x)\n",
    "    x += 1\n",
    "    if x == 3:\n",
    "        break"
   ]
  },
  {
   "cell_type": "markdown",
   "id": "79e78aaf-23fc-4163-8395-c177551edf2c",
   "metadata": {},
   "source": [
    "continue\n",
    "\n",
    "Bazen döngülerde bir şart sağlandığında bir sonraki iterasyondan devam etmek isteyebilirim. Bunu continue ile sağlayacağız\n",
    "continue komutu ile karşılaşıldığı zaman, döngünün bir sonraki iterasyonuna geçilir."
   ]
  },
  {
   "cell_type": "code",
   "execution_count": 106,
   "id": "031f3295-607e-4471-85b3-4c87e1cb21f3",
   "metadata": {},
   "outputs": [
    {
     "name": "stdout",
     "output_type": "stream",
     "text": [
      "0\n",
      "1\n",
      "2\n",
      "4\n",
      "5\n",
      "6\n",
      "7\n",
      "8\n",
      "9\n"
     ]
    }
   ],
   "source": [
    "for i in range(10): \n",
    "    if i == 3: continue\n",
    "    print(i)"
   ]
  },
  {
   "cell_type": "code",
   "execution_count": 108,
   "id": "287e35f4-0345-449a-b16c-c0d68645a0b8",
   "metadata": {},
   "outputs": [
    {
     "name": "stdout",
     "output_type": "stream",
     "text": [
      "1\n",
      "2\n",
      "4\n",
      "5\n",
      "6\n",
      "7\n",
      "8\n",
      "9\n",
      "10\n"
     ]
    }
   ],
   "source": [
    "x = 0\n",
    "\n",
    "while x < 10:\n",
    "    \n",
    "    x += 1\n",
    "    \n",
    "    if x == 3:\n",
    "        continue\n",
    "    \n",
    "    print(x)"
   ]
  },
  {
   "cell_type": "code",
   "execution_count": null,
   "id": "84fcc2f5-b4ca-4642-8df7-3748b811d527",
   "metadata": {},
   "outputs": [],
   "source": []
  }
 ],
 "metadata": {
  "kernelspec": {
   "display_name": "Python [conda env:base] *",
   "language": "python",
   "name": "conda-base-py"
  },
  "language_info": {
   "codemirror_mode": {
    "name": "ipython",
    "version": 3
   },
   "file_extension": ".py",
   "mimetype": "text/x-python",
   "name": "python",
   "nbconvert_exporter": "python",
   "pygments_lexer": "ipython3",
   "version": "3.12.7"
  }
 },
 "nbformat": 4,
 "nbformat_minor": 5
}
