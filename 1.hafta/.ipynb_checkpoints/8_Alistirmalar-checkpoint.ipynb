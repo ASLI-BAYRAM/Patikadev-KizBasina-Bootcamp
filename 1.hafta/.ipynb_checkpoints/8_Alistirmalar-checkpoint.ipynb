{
 "cells": [
  {
   "cell_type": "markdown",
   "id": "72924b8d-7b07-4d43-ba62-4f51a594e5e9",
   "metadata": {},
   "source": [
    "1- Bir listeyi düzleştiren (flatten) fonksiyon yazın. Elemanları birden çok katmanlı listelerden ([[3],2] gibi) oluşabileceği gibi, non-scalar verilerden de oluşabilir. Örnek olarak:\n",
    "\n",
    "input: [[1,'a',['cat'],2],[[[3]],'dog'],4,5]\n",
    "\n",
    "output: [1,'a','cat',2,3,'dog',4,5]"
   ]
  },
  {
   "cell_type": "code",
   "execution_count": 8,
   "id": "7c191378-ff4c-4a8d-8a6b-2fdc6ec422db",
   "metadata": {},
   "outputs": [],
   "source": [
    "def flatten(lst):\n",
    "    new_list = []\n",
    "    for i in lst:\n",
    "        if isinstance(i, list):\n",
    "            new_list.extend(flatten(i))#extend() sadece başka bir listeyi parçalayarak eklemek içindir.\n",
    "        else:\n",
    "            new_list.append(i) # i bir tekil (skalar) değer ise appendle ekle\n",
    "    return new_list"
   ]
  },
  {
   "cell_type": "code",
   "execution_count": 10,
   "id": "6e32b0c8-8520-404d-a329-41f42f62b972",
   "metadata": {},
   "outputs": [
    {
     "data": {
      "text/plain": [
       "[1, 'a', 'cat', 2, 3, 'dog', 4, 5]"
      ]
     },
     "execution_count": 10,
     "metadata": {},
     "output_type": "execute_result"
    }
   ],
   "source": [
    "flatten([[1,'a',['cat'],2],[[[3]],'dog'],4,5])"
   ]
  },
  {
   "cell_type": "markdown",
   "id": "9ce8df83-b3d8-4bf3-8eb4-406962fceec5",
   "metadata": {},
   "source": [
    "2- Verilen listenin içindeki elemanları tersine döndüren bir fonksiyon yazın. Eğer listenin içindeki elemanlar da liste içeriyorsa onların elemanlarını da tersine döndürün. Örnek olarak:\n",
    "\n",
    "input: [[1, 2], [3, 4], [5, 6, 7]]\n",
    "\n",
    "output: [[[7, 6, 5], [4, 3], [2, 1]]"
   ]
  },
  {
   "cell_type": "code",
   "execution_count": 9,
   "id": "a7c42ad9-bd07-43c7-88a7-89f38c5f080e",
   "metadata": {},
   "outputs": [
    {
     "data": {
      "text/plain": [
       "[[7, 6, 5], [4, 3], [2, 1]]"
      ]
     },
     "execution_count": 9,
     "metadata": {},
     "output_type": "execute_result"
    }
   ],
   "source": [
    "def reverse_list(x):\n",
    "    if isinstance(x, list):\n",
    "        return [reverse_list(i) for i in x[::-1]]\n",
    "    return x\n",
    "reverse_list([[1, 2], [3, 4], [5, 6, 7]])       "
   ]
  },
  {
   "cell_type": "code",
   "execution_count": null,
   "id": "edccb09f-a317-4554-9e46-0519349e2cb7",
   "metadata": {},
   "outputs": [],
   "source": []
  }
 ],
 "metadata": {
  "kernelspec": {
   "display_name": "Python [conda env:base] *",
   "language": "python",
   "name": "conda-base-py"
  },
  "language_info": {
   "codemirror_mode": {
    "name": "ipython",
    "version": 3
   },
   "file_extension": ".py",
   "mimetype": "text/x-python",
   "name": "python",
   "nbconvert_exporter": "python",
   "pygments_lexer": "ipython3",
   "version": "3.12.7"
  }
 },
 "nbformat": 4,
 "nbformat_minor": 5
}
