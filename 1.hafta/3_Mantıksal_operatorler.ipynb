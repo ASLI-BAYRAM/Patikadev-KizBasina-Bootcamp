{
 "cells": [
  {
   "cell_type": "markdown",
   "id": "a8dbb0d1-85f7-4a22-8a61-5a67ebea7457",
   "metadata": {},
   "source": [
    " <h1 style=\"text-align: center; color: RED\">KODA DURUMSALLIK KATMAK</h1> \n",
    "\n",
    "  \n",
    "\n",
    "  "
   ]
  },
  {
   "cell_type": "markdown",
   "id": "c21cc012-7d8f-4e80-9adb-988126275288",
   "metadata": {},
   "source": [
    "<h3 style=\"text-align: center; color: RED\">SAYISAL VERİLERDE KARŞILAŞTIRMA</h3> \n",
    "\n",
    "Bir programın farklı durumlar olduğunda başka davranışlar göstermesini isteyebiliriz. Bunun için belirli testler yapmam lazım ve bu testler sonucuca göre farklı davranışlar tasarlamam lazım.\n",
    "\n",
    "Bu testler için verilerimizi birbirleri ile karşılaştırabilir olmamız lazım. Bunları Comparison Operator'lar (karşılaştırma operatörleri) ile yapacağız. Cevabın True veya False olmasına göre, farklı durumlarda farklı davranacak program tasarlayabiliriz. Bu karşılaştırmalar o programların temelini oluşturacak.\n",
    "\n",
    "Nümerik veri tiplerinde karşılaştırma deyince aklımıza bir kaç şey gelebilir:\n",
    "\n",
    "* i==j eşitlik testi (equality test). i ve j birbirlerine eşitse bu ifadenin değeri boolean veri objesi True, eşit değilse False olacak. = değişken atama operatörü olarak tanımlandığı için eşitlik test ederken onu kullanırsak ='in sağındaki değere solundaki adı vermiş oluruz.\n",
    "\n",
    "* i!=j eşitsizlik testi (inequality test). i ve j birbirlerine eşit değilse bu ifadenin değeri boolean veri objesi True, eşitse False olacak.\n",
    "\n",
    "* i>j i, j'den büyükse bu ifadenin değeri boolean veri objesi True, eşit veya az ise False olacak.\n",
    "\n",
    "* i>=j i, j'den büyükse veya eşitse bu ifadenin değeri boolean veri objesi True, az ise False olacak.\n",
    "\n",
    "* i<j i, j'den küçükse bu ifadenin değeri boolean veri objesi True, eşit veya büyük ise False olacak.\n",
    "\n",
    "* i<=j i, j'den küçükse veya eşitse bu ifadenin değeri boolean veri objesi True, büyük ise False olacak.\n",
    "   \n"
   ]
  },
  {
   "cell_type": "markdown",
   "id": "6fe9b5bd-1622-4e1a-a4cd-1f5f03c47663",
   "metadata": {},
   "source": [
    "<span style=\"color: blue; font-weight: bold;\">== Operator</span> :"
   ]
  },
  {
   "cell_type": "code",
   "execution_count": 9,
   "id": "22a7a666-66ca-43c1-a85b-32918c027f62",
   "metadata": {},
   "outputs": [
    {
     "data": {
      "text/plain": [
       "False"
      ]
     },
     "execution_count": 9,
     "metadata": {},
     "output_type": "execute_result"
    }
   ],
   "source": [
    "5 == 4"
   ]
  },
  {
   "cell_type": "code",
   "execution_count": 11,
   "id": "9bb1d7cf-358f-488a-927f-0219c798e782",
   "metadata": {},
   "outputs": [
    {
     "data": {
      "text/plain": [
       "True"
      ]
     },
     "execution_count": 11,
     "metadata": {},
     "output_type": "execute_result"
    }
   ],
   "source": [
    "5 == 5"
   ]
  },
  {
   "cell_type": "code",
   "execution_count": 13,
   "id": "a894fe25-8e03-4c48-b257-18a21f07625b",
   "metadata": {},
   "outputs": [
    {
     "data": {
      "text/plain": [
       "False"
      ]
     },
     "execution_count": 13,
     "metadata": {},
     "output_type": "execute_result"
    }
   ],
   "source": [
    "i = 10\n",
    "j = 20\n",
    "i == j"
   ]
  },
  {
   "cell_type": "markdown",
   "id": "cbb81bda-9fd2-4dd8-9ca6-2576d806d7e8",
   "metadata": {},
   "source": [
    "* Float veri tipleri için eşitlik karşılaştırması yaparken == kullanılması çok mantıklı değil, bunun nedenini ileriki derslerde göreceğiz."
   ]
  },
  {
   "cell_type": "code",
   "execution_count": 15,
   "id": "9df149b7-4384-409f-8c41-26ed239203c9",
   "metadata": {},
   "outputs": [
    {
     "data": {
      "text/plain": [
       "False"
      ]
     },
     "execution_count": 15,
     "metadata": {},
     "output_type": "execute_result"
    }
   ],
   "source": [
    "x = (0.3 * 3) + 0.1\n",
    "y = 1.0\n",
    "x == y"
   ]
  },
  {
   "cell_type": "code",
   "execution_count": 17,
   "id": "31fb1e9e-7fef-4049-aaee-e2e5883e494f",
   "metadata": {},
   "outputs": [
    {
     "data": {
      "text/plain": [
       "0.9999999999999999"
      ]
     },
     "execution_count": 17,
     "metadata": {},
     "output_type": "execute_result"
    }
   ],
   "source": [
    "x"
   ]
  },
  {
   "cell_type": "code",
   "execution_count": 19,
   "id": "ffee9402-6a63-4d5a-8e87-fcb16df8e645",
   "metadata": {},
   "outputs": [
    {
     "data": {
      "text/plain": [
       "1.0"
      ]
     },
     "execution_count": 19,
     "metadata": {},
     "output_type": "execute_result"
    }
   ],
   "source": [
    "y"
   ]
  },
  {
   "cell_type": "markdown",
   "id": "ca006418-9eaa-4d0f-ad21-d356b1cca963",
   "metadata": {},
   "source": [
    "<span style=\"color: blue; font-weight: bold;\">!= Operator</span> :"
   ]
  },
  {
   "cell_type": "code",
   "execution_count": 26,
   "id": "2f3a90ef-725e-4060-82de-4622e8917549",
   "metadata": {},
   "outputs": [
    {
     "data": {
      "text/plain": [
       "True"
      ]
     },
     "execution_count": 26,
     "metadata": {},
     "output_type": "execute_result"
    }
   ],
   "source": [
    "5 != 4"
   ]
  },
  {
   "cell_type": "code",
   "execution_count": 28,
   "id": "f406f529-c68b-4830-b0b2-12fd91fd3998",
   "metadata": {},
   "outputs": [
    {
     "data": {
      "text/plain": [
       "True"
      ]
     },
     "execution_count": 28,
     "metadata": {},
     "output_type": "execute_result"
    }
   ],
   "source": [
    "i = 10\n",
    "j = 20\n",
    "i != j"
   ]
  },
  {
   "cell_type": "markdown",
   "id": "a876fdfc-f3fb-4ed8-b8ad-c9e1c7c07342",
   "metadata": {},
   "source": [
    "<span style=\"color: blue; font-weight: bold;\">> Operator</span> :"
   ]
  },
  {
   "cell_type": "code",
   "execution_count": 32,
   "id": "e171f527-45e9-4020-8945-996a5d410614",
   "metadata": {},
   "outputs": [
    {
     "data": {
      "text/plain": [
       "True"
      ]
     },
     "execution_count": 32,
     "metadata": {},
     "output_type": "execute_result"
    }
   ],
   "source": [
    "5 > 4"
   ]
  },
  {
   "cell_type": "code",
   "execution_count": 34,
   "id": "09b7824f-f9f0-41bf-bd14-74476d75f6a2",
   "metadata": {},
   "outputs": [
    {
     "data": {
      "text/plain": [
       "False"
      ]
     },
     "execution_count": 34,
     "metadata": {},
     "output_type": "execute_result"
    }
   ],
   "source": [
    "5 > 5"
   ]
  },
  {
   "cell_type": "code",
   "execution_count": 36,
   "id": "4fbdfb5e-523a-413d-b8cf-b146bb784eff",
   "metadata": {},
   "outputs": [
    {
     "data": {
      "text/plain": [
       "False"
      ]
     },
     "execution_count": 36,
     "metadata": {},
     "output_type": "execute_result"
    }
   ],
   "source": [
    "i = 10\n",
    "j = 20\n",
    "i > j"
   ]
  },
  {
   "cell_type": "markdown",
   "id": "4e376241-3bdc-41fa-bd43-d2fc1bd1f4f9",
   "metadata": {},
   "source": [
    "<span style=\"color: blue; font-weight: bold;\">>= Operator</span> :"
   ]
  },
  {
   "cell_type": "code",
   "execution_count": 41,
   "id": "05a55a03-4dbb-476d-ab7c-d69441ff26fd",
   "metadata": {},
   "outputs": [
    {
     "data": {
      "text/plain": [
       "True"
      ]
     },
     "execution_count": 41,
     "metadata": {},
     "output_type": "execute_result"
    }
   ],
   "source": [
    "5 >= 4"
   ]
  },
  {
   "cell_type": "code",
   "execution_count": 43,
   "id": "a02e273c-484c-4ec7-ac14-12b8f08f491a",
   "metadata": {},
   "outputs": [
    {
     "data": {
      "text/plain": [
       "True"
      ]
     },
     "execution_count": 43,
     "metadata": {},
     "output_type": "execute_result"
    }
   ],
   "source": [
    "5 >= 5"
   ]
  },
  {
   "cell_type": "markdown",
   "id": "3dc64395-a7bf-449b-b258-d2f185ab4887",
   "metadata": {},
   "source": [
    "<span style=\"color: blue; font-weight: bold;\">< Operator</span> :"
   ]
  },
  {
   "cell_type": "code",
   "execution_count": 47,
   "id": "13c73de0-15db-4545-827b-68fbe4b9ed62",
   "metadata": {},
   "outputs": [
    {
     "data": {
      "text/plain": [
       "False"
      ]
     },
     "execution_count": 47,
     "metadata": {},
     "output_type": "execute_result"
    }
   ],
   "source": [
    "5 < 5"
   ]
  },
  {
   "cell_type": "code",
   "execution_count": 49,
   "id": "08a178ae-5f2a-48c1-9fab-500830abe7ae",
   "metadata": {},
   "outputs": [
    {
     "data": {
      "text/plain": [
       "False"
      ]
     },
     "execution_count": 49,
     "metadata": {},
     "output_type": "execute_result"
    }
   ],
   "source": [
    "5 < 4"
   ]
  },
  {
   "cell_type": "markdown",
   "id": "287efd73-c726-48f1-bf3c-78b74abda594",
   "metadata": {},
   "source": [
    "<span style=\"color: blue; font-weight: bold;\"><= Operator</span> :"
   ]
  },
  {
   "cell_type": "code",
   "execution_count": 53,
   "id": "d8e1e3ac-f50e-43e6-98ca-e93f1d3b79ee",
   "metadata": {},
   "outputs": [
    {
     "data": {
      "text/plain": [
       "False"
      ]
     },
     "execution_count": 53,
     "metadata": {},
     "output_type": "execute_result"
    }
   ],
   "source": [
    "5 <= 4"
   ]
  },
  {
   "cell_type": "code",
   "execution_count": 55,
   "id": "53e9bf18-632c-4ac5-a76f-1f5becc3c1ce",
   "metadata": {},
   "outputs": [
    {
     "data": {
      "text/plain": [
       "True"
      ]
     },
     "execution_count": 55,
     "metadata": {},
     "output_type": "execute_result"
    }
   ],
   "source": [
    "5 <= 5"
   ]
  },
  {
   "cell_type": "markdown",
   "id": "679b384b-ef8c-439e-9668-a11511200cac",
   "metadata": {},
   "source": [
    "<h3 style=\"text-align: center; color: RED\">STRİNGLERDE KARŞILAŞTIRMA</h3> "
   ]
  },
  {
   "cell_type": "code",
   "execution_count": 60,
   "id": "8460ef6d-717a-4b14-b38c-b77b2c8c6b47",
   "metadata": {},
   "outputs": [
    {
     "data": {
      "text/plain": [
       "False"
      ]
     },
     "execution_count": 60,
     "metadata": {},
     "output_type": "execute_result"
    }
   ],
   "source": [
    "\"Elma\" == \"elma\" #büyük küçük harf duyarlılığı var."
   ]
  },
  {
   "cell_type": "code",
   "execution_count": 62,
   "id": "45cb7f3b-e6ff-44c6-a546-8c2a989cd256",
   "metadata": {},
   "outputs": [
    {
     "data": {
      "text/plain": [
       "True"
      ]
     },
     "execution_count": 62,
     "metadata": {},
     "output_type": "execute_result"
    }
   ],
   "source": [
    "\"Elma\" != \"elma\""
   ]
  },
  {
   "cell_type": "code",
   "execution_count": 64,
   "id": "705567c4-0bb9-462e-bb37-21659bb5ce66",
   "metadata": {},
   "outputs": [
    {
     "data": {
      "text/plain": [
       "True"
      ]
     },
     "execution_count": 64,
     "metadata": {},
     "output_type": "execute_result"
    }
   ],
   "source": [
    "\"elma\" == \"elma\""
   ]
  },
  {
   "cell_type": "code",
   "execution_count": 66,
   "id": "6e3af01b-7e6d-4529-ac01-c3b03a44ad1f",
   "metadata": {},
   "outputs": [
    {
     "data": {
      "text/plain": [
       "True"
      ]
     },
     "execution_count": 66,
     "metadata": {},
     "output_type": "execute_result"
    }
   ],
   "source": [
    "a = \"elma\"\n",
    "b = \"elma\"\n",
    "a == b"
   ]
  },
  {
   "cell_type": "code",
   "execution_count": 68,
   "id": "3eee9db3-e1d4-496e-a76f-bf2ba5394b25",
   "metadata": {},
   "outputs": [
    {
     "data": {
      "text/plain": [
       "True"
      ]
     },
     "execution_count": 68,
     "metadata": {},
     "output_type": "execute_result"
    }
   ],
   "source": [
    "\"a\" < \"b\""
   ]
  },
  {
   "cell_type": "code",
   "execution_count": 70,
   "id": "abce45c4-5873-48c5-8fe6-64ea378d5f87",
   "metadata": {},
   "outputs": [
    {
     "data": {
      "text/plain": [
       "True"
      ]
     },
     "execution_count": 70,
     "metadata": {},
     "output_type": "execute_result"
    }
   ],
   "source": [
    "\"ab\" < \"b\""
   ]
  },
  {
   "cell_type": "code",
   "execution_count": 72,
   "id": "5e4f68f1-bd93-4ec4-b790-661249dbdf7f",
   "metadata": {},
   "outputs": [
    {
     "data": {
      "text/plain": [
       "True"
      ]
     },
     "execution_count": 72,
     "metadata": {},
     "output_type": "execute_result"
    }
   ],
   "source": [
    "\"ab\" < \"badsfadsf\" #ilk harflere bakıp karşılaştırıyor"
   ]
  },
  {
   "cell_type": "code",
   "execution_count": 76,
   "id": "0feabc30-f3f6-4373-8de2-2f00b54c2552",
   "metadata": {},
   "outputs": [
    {
     "data": {
      "text/plain": [
       "True"
      ]
     },
     "execution_count": 76,
     "metadata": {},
     "output_type": "execute_result"
    }
   ],
   "source": [
    "\"ab\" < \"ac\""
   ]
  },
  {
   "cell_type": "code",
   "execution_count": 78,
   "id": "68475b0c-6979-4574-a206-0d4467d5d79e",
   "metadata": {},
   "outputs": [
    {
     "data": {
      "text/plain": [
       "False"
      ]
     },
     "execution_count": 78,
     "metadata": {},
     "output_type": "execute_result"
    }
   ],
   "source": [
    "\"abc\" < \"abb\""
   ]
  },
  {
   "cell_type": "markdown",
   "id": "72da0732-e7c5-4489-8aa5-9f96aff4064b",
   "metadata": {},
   "source": [
    "<h3 style=\"text-align: center; color: RED\">MANTIKSAL OPERATÖRLER</h3> \n",
    "\n",
    "Verilerimizle nasıl karşılaştırma yapabileceğimizi gördük. Bunların cevaplarını birleştirmek isteyebiliriz. İki ifadenin sonucu da doğru olunca bir şey yapmak veya en az biri doğruyken bir şey yapmak isteyebilirim.\n",
    "\n",
    "Bunu sağlayabilmek için boolean veri tipleri üzerine uygulanabilecek mantıksal operatörlere bakacağız.\n",
    "\n",
    "Göreceğimiz mantıksal operatörlerinin uygulandığı veri tipleri boolean olmalı."
   ]
  },
  {
   "cell_type": "markdown",
   "id": "d00791bd-2023-4a83-8e06-ba210c58b393",
   "metadata": {},
   "source": [
    "<span style=\"color: blue; font-weight: bold;\">not</span> :"
   ]
  },
  {
   "cell_type": "code",
   "execution_count": 85,
   "id": "8d33902f-3f70-4a94-b69e-98d3415a83b2",
   "metadata": {},
   "outputs": [
    {
     "data": {
      "text/plain": [
       "False"
      ]
     },
     "execution_count": 85,
     "metadata": {},
     "output_type": "execute_result"
    }
   ],
   "source": [
    "not True"
   ]
  },
  {
   "cell_type": "code",
   "execution_count": 87,
   "id": "7b346eda-fa7d-4951-be98-e425acba9b01",
   "metadata": {},
   "outputs": [
    {
     "data": {
      "text/plain": [
       "True"
      ]
     },
     "execution_count": 87,
     "metadata": {},
     "output_type": "execute_result"
    }
   ],
   "source": [
    "not False"
   ]
  },
  {
   "cell_type": "code",
   "execution_count": 89,
   "id": "49a01c88-2c4a-4882-9d9a-212ee4730b26",
   "metadata": {},
   "outputs": [
    {
     "data": {
      "text/plain": [
       "False"
      ]
     },
     "execution_count": 89,
     "metadata": {},
     "output_type": "execute_result"
    }
   ],
   "source": [
    "not 5 < 6"
   ]
  },
  {
   "cell_type": "code",
   "execution_count": 91,
   "id": "b8745014-7445-4a1b-8911-c41968b99f12",
   "metadata": {},
   "outputs": [
    {
     "data": {
      "text/plain": [
       "False"
      ]
     },
     "execution_count": 91,
     "metadata": {},
     "output_type": "execute_result"
    }
   ],
   "source": [
    "not 5 == 5"
   ]
  },
  {
   "cell_type": "code",
   "execution_count": 93,
   "id": "c479a5b7-b56e-42df-9946-5f0f6dcac831",
   "metadata": {},
   "outputs": [
    {
     "data": {
      "text/plain": [
       "False"
      ]
     },
     "execution_count": 93,
     "metadata": {},
     "output_type": "execute_result"
    }
   ],
   "source": [
    "a = 4\n",
    "b = 10\n",
    "\n",
    "not a < b"
   ]
  },
  {
   "cell_type": "code",
   "execution_count": 95,
   "id": "383e89c5-7658-43b0-af29-e9c2e04b88f9",
   "metadata": {},
   "outputs": [
    {
     "data": {
      "text/plain": [
       "True"
      ]
     },
     "execution_count": 95,
     "metadata": {},
     "output_type": "execute_result"
    }
   ],
   "source": [
    "not (a > b)"
   ]
  },
  {
   "cell_type": "markdown",
   "id": "ebf2a652-274b-44de-a432-8e57f0809024",
   "metadata": {},
   "source": [
    "<span style=\"color: blue; font-weight: bold;\">and</span> : Sadece iki ifade de True ise True sonucu verir, yoksa False olur."
   ]
  },
  {
   "cell_type": "code",
   "execution_count": 100,
   "id": "1e60b8e6-f850-438c-ac96-18f58c210d80",
   "metadata": {},
   "outputs": [
    {
     "data": {
      "text/plain": [
       "True"
      ]
     },
     "execution_count": 100,
     "metadata": {},
     "output_type": "execute_result"
    }
   ],
   "source": [
    "True and True"
   ]
  },
  {
   "cell_type": "code",
   "execution_count": 102,
   "id": "1e2066ea-7217-41d0-9683-c3e014792c43",
   "metadata": {},
   "outputs": [
    {
     "data": {
      "text/plain": [
       "False"
      ]
     },
     "execution_count": 102,
     "metadata": {},
     "output_type": "execute_result"
    }
   ],
   "source": [
    "True and False"
   ]
  },
  {
   "cell_type": "code",
   "execution_count": 104,
   "id": "82209e48-3b7c-450c-a32d-44b0c2dd9fee",
   "metadata": {},
   "outputs": [
    {
     "data": {
      "text/plain": [
       "True"
      ]
     },
     "execution_count": 104,
     "metadata": {},
     "output_type": "execute_result"
    }
   ],
   "source": [
    "a = 4\n",
    "b = 1\n",
    "c = 10\n",
    "\n",
    "(a > b) and (b < c)"
   ]
  },
  {
   "cell_type": "code",
   "execution_count": 106,
   "id": "b7b57b04-e868-4c9f-ae29-61afdc76a232",
   "metadata": {},
   "outputs": [
    {
     "data": {
      "text/plain": [
       "False"
      ]
     },
     "execution_count": 106,
     "metadata": {},
     "output_type": "execute_result"
    }
   ],
   "source": [
    "(a > b) and (b > c)"
   ]
  },
  {
   "cell_type": "markdown",
   "id": "3ddeb575-db77-49ff-a309-a4a907c51bb9",
   "metadata": {},
   "source": [
    "<span style=\"color: blue; font-weight: bold;\">or</span> : Sadece iki ifade de False ise False sonucu verir, yoksa True olur."
   ]
  },
  {
   "cell_type": "code",
   "execution_count": 110,
   "id": "f4db69d7-dc52-4a21-86c8-8660d4d01a80",
   "metadata": {},
   "outputs": [
    {
     "data": {
      "text/plain": [
       "True"
      ]
     },
     "execution_count": 110,
     "metadata": {},
     "output_type": "execute_result"
    }
   ],
   "source": [
    "True or True"
   ]
  },
  {
   "cell_type": "code",
   "execution_count": 112,
   "id": "d55ec4e7-0998-48b5-bbbd-a25d92bb74af",
   "metadata": {},
   "outputs": [
    {
     "data": {
      "text/plain": [
       "True"
      ]
     },
     "execution_count": 112,
     "metadata": {},
     "output_type": "execute_result"
    }
   ],
   "source": [
    "True or False"
   ]
  },
  {
   "cell_type": "code",
   "execution_count": 116,
   "id": "e51a69d8-10d6-4647-b737-53fb76d86f7e",
   "metadata": {},
   "outputs": [
    {
     "data": {
      "text/plain": [
       "False"
      ]
     },
     "execution_count": 116,
     "metadata": {},
     "output_type": "execute_result"
    }
   ],
   "source": [
    "False or False\n"
   ]
  },
  {
   "cell_type": "code",
   "execution_count": 118,
   "id": "41566097-1b41-4d60-b366-c8c4adb13143",
   "metadata": {},
   "outputs": [
    {
     "data": {
      "text/plain": [
       "True"
      ]
     },
     "execution_count": 118,
     "metadata": {},
     "output_type": "execute_result"
    }
   ],
   "source": [
    "a = 4\n",
    "b = 1\n",
    "c = 10\n",
    "(a > b) or (b < c)"
   ]
  },
  {
   "cell_type": "code",
   "execution_count": 120,
   "id": "70730f57-d0d9-40a0-a594-942eac079633",
   "metadata": {},
   "outputs": [
    {
     "data": {
      "text/plain": [
       "True"
      ]
     },
     "execution_count": 120,
     "metadata": {},
     "output_type": "execute_result"
    }
   ],
   "source": [
    "(a > b) or (b > c)"
   ]
  },
  {
   "cell_type": "markdown",
   "id": "6f1eedaf-9a34-491b-ada7-6c7bc59f201c",
   "metadata": {},
   "source": [
    "(a < b) or (b > c)"
   ]
  },
  {
   "cell_type": "markdown",
   "id": "7e38cee1-437d-4239-9cbd-7b41abd6629c",
   "metadata": {},
   "source": [
    "<h3 style=\"text-align: center; color: RED\">SHORT CIRCUIT</h3>"
   ]
  },
  {
   "cell_type": "code",
   "execution_count": 126,
   "id": "a4258e1b-6c41-4b6b-967f-a6d2d6184525",
   "metadata": {},
   "outputs": [
    {
     "data": {
      "text/plain": [
       "False"
      ]
     },
     "execution_count": 126,
     "metadata": {},
     "output_type": "execute_result"
    }
   ],
   "source": [
    "(5 < 3) and print(\"hey\") #and için ilki false ise diğerine bakmaya gerek yok direk false dur."
   ]
  },
  {
   "cell_type": "code",
   "execution_count": 128,
   "id": "7d5c2b43-e9ca-48e6-ad7a-912de640f2da",
   "metadata": {},
   "outputs": [
    {
     "data": {
      "text/plain": [
       "True"
      ]
     },
     "execution_count": 128,
     "metadata": {},
     "output_type": "execute_result"
    }
   ],
   "source": [
    "(5 > 3) or print(\"hey\")"
   ]
  },
  {
   "cell_type": "code",
   "execution_count": 130,
   "id": "37aa6293-8bdc-455a-8144-c8e589057cf8",
   "metadata": {},
   "outputs": [
    {
     "name": "stdout",
     "output_type": "stream",
     "text": [
      "hey\n"
     ]
    }
   ],
   "source": [
    "(5 < 3) or print(\"hey\")"
   ]
  },
  {
   "cell_type": "code",
   "execution_count": 132,
   "id": "63113a01-e6d1-4f03-8869-88876be86f86",
   "metadata": {},
   "outputs": [
    {
     "name": "stdout",
     "output_type": "stream",
     "text": [
      "hey\n"
     ]
    }
   ],
   "source": [
    "(5 > 3) and print(\"hey\")"
   ]
  },
  {
   "cell_type": "markdown",
   "id": "76954f21-a6d9-4cbb-bff9-1afd63230013",
   "metadata": {},
   "source": [
    "<h3 style=\"text-align: center; color: RED\">SHORT CIRCUIT OLMAYAN MANTIKSAL OPERATORLER</h3>\n",
    "\n",
    "&'da and'in yaptığını yapar ama short-circuit davranışı göstermez."
   ]
  },
  {
   "cell_type": "code",
   "execution_count": 136,
   "id": "74c9c626-9db0-4727-bfd9-85f05ae57e04",
   "metadata": {},
   "outputs": [
    {
     "data": {
      "text/plain": [
       "True"
      ]
     },
     "execution_count": 136,
     "metadata": {},
     "output_type": "execute_result"
    }
   ],
   "source": [
    "(2 == 2) & (3 == 3)"
   ]
  },
  {
   "cell_type": "code",
   "execution_count": 138,
   "id": "aa58f442-e3db-4ad1-85f1-f0ad6baf37c0",
   "metadata": {},
   "outputs": [
    {
     "name": "stdout",
     "output_type": "stream",
     "text": [
      "hey\n"
     ]
    },
    {
     "ename": "TypeError",
     "evalue": "unsupported operand type(s) for &: 'bool' and 'NoneType'",
     "output_type": "error",
     "traceback": [
      "\u001b[1;31m---------------------------------------------------------------------------\u001b[0m",
      "\u001b[1;31mTypeError\u001b[0m                                 Traceback (most recent call last)",
      "Cell \u001b[1;32mIn[138], line 1\u001b[0m\n\u001b[1;32m----> 1\u001b[0m (\u001b[38;5;241m5\u001b[39m \u001b[38;5;241m<\u001b[39m \u001b[38;5;241m3\u001b[39m) \u001b[38;5;241m&\u001b[39m \u001b[38;5;28mprint\u001b[39m(\u001b[38;5;124m\"\u001b[39m\u001b[38;5;124mhey\u001b[39m\u001b[38;5;124m\"\u001b[39m)\n",
      "\u001b[1;31mTypeError\u001b[0m: unsupported operand type(s) for &: 'bool' and 'NoneType'"
     ]
    }
   ],
   "source": [
    "(5 < 3) & print(\"hey\")"
   ]
  },
  {
   "cell_type": "markdown",
   "id": "74e598a2-4c09-4e96-80a7-64db1b9da33a",
   "metadata": {},
   "source": [
    "* 5 < 3 and print(\"hey\") karşılaştırması yaptığımızda hata almıyorken 5 < 3 & print(\"hey\")'de hata alıyoruz. and boolean ile NoneType karşılaştırırken hata vermezken, & hata veriyor."
   ]
  },
  {
   "cell_type": "markdown",
   "id": "c70a983b-de0f-437e-ab38-e207e6970b42",
   "metadata": {},
   "source": [
    "|'da or'un yaptığını yapar ama short-circuit davranışı göstermez."
   ]
  },
  {
   "cell_type": "code",
   "execution_count": 142,
   "id": "2dce6e63-dc06-4e53-8b6c-7127c354dde6",
   "metadata": {},
   "outputs": [
    {
     "data": {
      "text/plain": [
       "True"
      ]
     },
     "execution_count": 142,
     "metadata": {},
     "output_type": "execute_result"
    }
   ],
   "source": [
    "(2 == 2) | (3 < 3)"
   ]
  },
  {
   "cell_type": "code",
   "execution_count": 144,
   "id": "221a642c-5ab5-4d4d-8371-f301eefeb189",
   "metadata": {},
   "outputs": [
    {
     "data": {
      "text/plain": [
       "True"
      ]
     },
     "execution_count": 144,
     "metadata": {},
     "output_type": "execute_result"
    }
   ],
   "source": [
    "(5 > 3) or print(\"hey\")"
   ]
  },
  {
   "cell_type": "code",
   "execution_count": 146,
   "id": "0c8c8cbc-9951-4c0d-8bec-1b5666637d21",
   "metadata": {},
   "outputs": [
    {
     "name": "stdout",
     "output_type": "stream",
     "text": [
      "hey\n"
     ]
    },
    {
     "ename": "TypeError",
     "evalue": "unsupported operand type(s) for |: 'bool' and 'NoneType'",
     "output_type": "error",
     "traceback": [
      "\u001b[1;31m---------------------------------------------------------------------------\u001b[0m",
      "\u001b[1;31mTypeError\u001b[0m                                 Traceback (most recent call last)",
      "Cell \u001b[1;32mIn[146], line 1\u001b[0m\n\u001b[1;32m----> 1\u001b[0m (\u001b[38;5;241m5\u001b[39m \u001b[38;5;241m>\u001b[39m \u001b[38;5;241m3\u001b[39m) \u001b[38;5;241m|\u001b[39m \u001b[38;5;28mprint\u001b[39m(\u001b[38;5;124m\"\u001b[39m\u001b[38;5;124mhey\u001b[39m\u001b[38;5;124m\"\u001b[39m)\n",
      "\u001b[1;31mTypeError\u001b[0m: unsupported operand type(s) for |: 'bool' and 'NoneType'"
     ]
    }
   ],
   "source": [
    "(5 > 3) | print(\"hey\")"
   ]
  },
  {
   "cell_type": "markdown",
   "id": "e01b6b23-ccbc-402a-bb1d-11ed6331be6a",
   "metadata": {},
   "source": [
    "* 5 < 3 or print(\"hey\") karşılaştırması yaptığımızda hata almıyorken 5 < 3 | print(\"hey\")'de hata alıyoruz. or boolean ile NoneType karşılaştırırken hata vermezken, | hata veriyor."
   ]
  },
  {
   "cell_type": "code",
   "execution_count": null,
   "id": "eb441873-0ba8-48b5-abc6-f1ac152c4c72",
   "metadata": {},
   "outputs": [],
   "source": []
  }
 ],
 "metadata": {
  "kernelspec": {
   "display_name": "Python [conda env:base] *",
   "language": "python",
   "name": "conda-base-py"
  },
  "language_info": {
   "codemirror_mode": {
    "name": "ipython",
    "version": 3
   },
   "file_extension": ".py",
   "mimetype": "text/x-python",
   "name": "python",
   "nbconvert_exporter": "python",
   "pygments_lexer": "ipython3",
   "version": "3.12.7"
  }
 },
 "nbformat": 4,
 "nbformat_minor": 5
}
