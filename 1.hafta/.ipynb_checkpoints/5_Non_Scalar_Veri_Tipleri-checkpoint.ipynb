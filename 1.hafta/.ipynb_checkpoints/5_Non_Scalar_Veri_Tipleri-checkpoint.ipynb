{
 "cells": [
  {
   "cell_type": "markdown",
   "id": "428af610-2cd8-43a3-ae58-13f6284f9f84",
   "metadata": {},
   "source": [
    "<h3 style=\"text-align: center; color: RED\">LİSTE</h3> "
   ]
  },
  {
   "cell_type": "markdown",
   "id": "51682703-3f89-4bae-93d3-c8995ef1e66d",
   "metadata": {},
   "source": [
    "Elimizdeki verileri gruplamak bir yapı altında tutmak isteyebiliriz.\n",
    "Mesela bir sınıftaki öğrencilerin notlarını tutmak istiyorum. 5 farklı öğrenci var, şimdiye kadar öğrendiklerimizle şöyle yapabilirdim:\n",
    "\n",
    "ogrenci_1 = 78\n",
    "ogrenci_2 = 80\n",
    "ogrenci_3 = 43\n",
    "ogrenci_4 = 65\n",
    "ogrenci_5 = 90\n",
    "\n",
    "Bunların hepsi bir sınıftaki notları ifade ediyor. Bunları bir veri tipi olarak bir arada tutsak daha mantıklı olmaz mı?list veri tipi de tam burada devreye giriyor. Birden çok veriyi gruplayıp bir arada tutmak istediğimizde kullanabileceğimiz bir yapıdır. listler belirtirken köşeli parantezle belirtiyoruz: [element1, element2,...]. listler içsel yapı içerdikleri için non-scalar veri tipidir. Elemanları arasına virgül koyarak farklı eleman belirtmeye başladığımı ifade ediyorum.\n",
    "\n",
    "notlar = [78, 80, 43, 65, 90]\n",
    "Nasıl ki stringlerde elemanlarına indexleme yaparak [0] gibi değerlerle ulaşabiliyorsak, listlerde de aynı durum söz konusu. notlar listesinin ilk elemanına ulaşmak için:"
   ]
  },
  {
   "cell_type": "code",
   "execution_count": 25,
   "id": "13979842-e17c-444d-a572-71d3169f6b70",
   "metadata": {},
   "outputs": [
    {
     "data": {
      "text/plain": [
       "78"
      ]
     },
     "execution_count": 25,
     "metadata": {},
     "output_type": "execute_result"
    }
   ],
   "source": [
    "notlar = [78, 80, 43, 65, 90]\n",
    "notlar[0]"
   ]
  },
  {
   "cell_type": "markdown",
   "id": "5ea76f59-555a-4dc9-b17e-3873adba1daa",
   "metadata": {},
   "source": [
    "* list'lerin içine istediğimiz veri tipini koyabiliriz. listeleri sadece verilerimi içine koyduğumuz bir kutu olarak düşünün, listlerin tek yaptığı şey bunları bir arada tutmak. Elemanları istediğim veri objesi olabilir. int, float, string, hatta listler bile!\n"
   ]
  },
  {
   "cell_type": "code",
   "execution_count": 8,
   "id": "e43507bf-c914-4046-83b4-6386c0243402",
   "metadata": {},
   "outputs": [
    {
     "data": {
      "text/plain": [
       "[[1, 2], [3, 4, 5]]"
      ]
     },
     "execution_count": 8,
     "metadata": {},
     "output_type": "execute_result"
    }
   ],
   "source": [
    "[\"a\",\"b\"]\n",
    "[True, False]\n",
    "[[1,2], [3,4,5]]"
   ]
  },
  {
   "cell_type": "markdown",
   "id": "10c5381f-e23e-4673-90e7-938fdb610e81",
   "metadata": {},
   "source": [
    "* Aynı list'in içine farklı tipte veri tipleri koyabiliriz."
   ]
  },
  {
   "cell_type": "code",
   "execution_count": 11,
   "id": "9d5bb31c-19be-4e85-b86f-8735b037011b",
   "metadata": {},
   "outputs": [],
   "source": [
    "l = [1, 2, \"a\", \"b\", True, 4.5, [1,2,3]]"
   ]
  },
  {
   "cell_type": "markdown",
   "id": "5477163f-65ce-4cd0-8227-053db7059310",
   "metadata": {},
   "source": [
    "* String konusunda yaptığımız indexleme mantığı ve slicing mantığı tamamen listler için de geçerli."
   ]
  },
  {
   "cell_type": "code",
   "execution_count": 27,
   "id": "85cf42c6-dba5-4794-9cd1-562a5bc7c608",
   "metadata": {},
   "outputs": [
    {
     "data": {
      "text/plain": [
       "90"
      ]
     },
     "execution_count": 27,
     "metadata": {},
     "output_type": "execute_result"
    }
   ],
   "source": [
    "notlar[-1]"
   ]
  },
  {
   "cell_type": "code",
   "execution_count": 29,
   "id": "089cf134-ea1b-47cb-b3a6-2c2e29241c65",
   "metadata": {},
   "outputs": [
    {
     "data": {
      "text/plain": [
       "[80, 43]"
      ]
     },
     "execution_count": 29,
     "metadata": {},
     "output_type": "execute_result"
    }
   ],
   "source": [
    "notlar[1:3]"
   ]
  },
  {
   "cell_type": "code",
   "execution_count": 31,
   "id": "c8907183-4a03-4a90-b35d-07c348a89233",
   "metadata": {},
   "outputs": [
    {
     "data": {
      "text/plain": [
       "[78, 80, 43, 65, 90]"
      ]
     },
     "execution_count": 31,
     "metadata": {},
     "output_type": "execute_result"
    }
   ],
   "source": [
    "notlar[:200]"
   ]
  },
  {
   "cell_type": "code",
   "execution_count": 33,
   "id": "8f45faf7-dd44-4504-a1f1-5df5a26429b9",
   "metadata": {},
   "outputs": [
    {
     "data": {
      "text/plain": [
       "[80, 43, 65, 90]"
      ]
     },
     "execution_count": 33,
     "metadata": {},
     "output_type": "execute_result"
    }
   ],
   "source": [
    "notlar[1:]"
   ]
  },
  {
   "cell_type": "markdown",
   "id": "184e3aea-3d15-4ce7-8a86-fa18521317e9",
   "metadata": {},
   "source": [
    "* Listeler mutable veri tipleridir. Elemanlarını güncelleyebiliriz."
   ]
  },
  {
   "cell_type": "code",
   "execution_count": 37,
   "id": "efbed5a8-5382-4a62-8360-01b8c1341ffd",
   "metadata": {},
   "outputs": [
    {
     "data": {
      "text/plain": [
       "[78, 90, 43, 65, 90]"
      ]
     },
     "execution_count": 37,
     "metadata": {},
     "output_type": "execute_result"
    }
   ],
   "source": [
    "notlar[1] += 5\n",
    "notlar"
   ]
  },
  {
   "cell_type": "markdown",
   "id": "23caf55e-b365-4dc6-abc2-be82f4717735",
   "metadata": {},
   "source": [
    "* Birden çok elemanı da değiştirebiliriz."
   ]
  },
  {
   "cell_type": "code",
   "execution_count": 40,
   "id": "b3367e39-33ea-48f7-bf0b-c39cd2e68d1d",
   "metadata": {},
   "outputs": [
    {
     "data": {
      "text/plain": [
       "[30, 40, 60, 4]"
      ]
     },
     "execution_count": 40,
     "metadata": {},
     "output_type": "execute_result"
    }
   ],
   "source": [
    "l = [1, 2, 3, 4]\n",
    "l[0:3] = 30, 40, 60\n",
    "l"
   ]
  },
  {
   "cell_type": "markdown",
   "id": "d48f81c7-cc7c-46a7-a661-433c410319cf",
   "metadata": {},
   "source": [
    "* Slicing'in sonucuna tek bir değer yazacaksak bile direkt tek olarak veremeyiz, iterable olması gerekir. Bunun ayrıntısını ileride göreceğiz şimdilik sol tarafı list olarak verebileceğimizi bilmeniz yeterli."
   ]
  },
  {
   "cell_type": "code",
   "execution_count": 43,
   "id": "7965f2b8-cad3-4fb5-8e86-f695b21d7ae1",
   "metadata": {},
   "outputs": [
    {
     "data": {
      "text/plain": [
       "[30, 4]"
      ]
     },
     "execution_count": 43,
     "metadata": {},
     "output_type": "execute_result"
    }
   ],
   "source": [
    "l[0:3] = [30] #tek değer vermek istiyorsak liste içerisinde vermelyiz\n",
    "l"
   ]
  },
  {
   "cell_type": "markdown",
   "id": "70adb599-2880-4d5b-a343-21ce670bf968",
   "metadata": {},
   "source": [
    "* len():Bize list'te kaç eleman olduğunu verir."
   ]
  },
  {
   "cell_type": "code",
   "execution_count": 46,
   "id": "f849aeac-2181-4177-b6a2-9f5ebed8f20b",
   "metadata": {},
   "outputs": [
    {
     "data": {
      "text/plain": [
       "2"
      ]
     },
     "execution_count": 46,
     "metadata": {},
     "output_type": "execute_result"
    }
   ],
   "source": [
    "len(l)"
   ]
  },
  {
   "cell_type": "markdown",
   "id": "6ba1f0d0-b22b-4336-9e3c-7f8f091c8c46",
   "metadata": {},
   "source": [
    "* append():İçine yazılan elemanı listenin sonuna ekler."
   ]
  },
  {
   "cell_type": "code",
   "execution_count": 116,
   "id": "ed1837cf-2b72-4417-b154-fbae3f990d33",
   "metadata": {},
   "outputs": [
    {
     "data": {
      "text/plain": [
       "[1, 2, 3, [200, 300]]"
      ]
     },
     "execution_count": 116,
     "metadata": {},
     "output_type": "execute_result"
    }
   ],
   "source": [
    "l = [1,2,3]\n",
    "l.append([200,300])\n",
    "l"
   ]
  },
  {
   "cell_type": "markdown",
   "id": "24bdbe94-c53c-4fc0-9265-1a375d68dae9",
   "metadata": {},
   "source": [
    "* extend():İçine yazılan birden çok elemanı listenin sonuna ekler."
   ]
  },
  {
   "cell_type": "code",
   "execution_count": 52,
   "id": "cd3c9c79-462e-40c8-a380-6ff73a6bd68b",
   "metadata": {},
   "outputs": [
    {
     "data": {
      "text/plain": [
       "[1, 2, 3, 100, 200, 300]"
      ]
     },
     "execution_count": 52,
     "metadata": {},
     "output_type": "execute_result"
    }
   ],
   "source": [
    "l = [1,2,3]\n",
    "l.extend([100,200,300])\n",
    "l"
   ]
  },
  {
   "cell_type": "markdown",
   "id": "da238b0e-3f01-4612-b73b-35c2145e4cc3",
   "metadata": {},
   "source": [
    "* insert(): Belki list'in sonuna değil, spesifik bir indexine eleman eklemek istiyoruz. Bunu inser() ile yapabiliriz.\n"
   ]
  },
  {
   "cell_type": "code",
   "execution_count": 55,
   "id": "23df4533-9c74-4f2f-abdc-28002430062b",
   "metadata": {},
   "outputs": [
    {
     "data": {
      "text/plain": [
       "[100, 2, 3, 4, 5]"
      ]
     },
     "execution_count": 55,
     "metadata": {},
     "output_type": "execute_result"
    }
   ],
   "source": [
    "l = [1, 2, 3, 4, 5]\n",
    "l[0] = 100 # bu 0. indexteki elemanı değiştirir\n",
    "l"
   ]
  },
  {
   "cell_type": "code",
   "execution_count": 57,
   "id": "d23854a3-ad92-4996-b128-81287539bb09",
   "metadata": {},
   "outputs": [
    {
     "data": {
      "text/plain": [
       "[100, 1, 2, 3, 4, 5]"
      ]
     },
     "execution_count": 57,
     "metadata": {},
     "output_type": "execute_result"
    }
   ],
   "source": [
    "l = [1, 2, 3, 4, 5]\n",
    "l.insert(0, 100) # bu değiştirmeden istediğim indexe ekleme yapar\n",
    "l"
   ]
  },
  {
   "cell_type": "markdown",
   "id": "9cb0a8ad-cb4f-4593-b684-9eb5992b9e9f",
   "metadata": {},
   "source": [
    "eğer l[0] = 100 yazmış olsaydık, liste 100,2,3,4,5 e dönerdi, ama ben 1->100 dönüşümü yapmak istemiyorum, ilk indexe 100'ü eklemek istiyorum. l.insert(0,100) tam da istediğimi yapıyor. 0. indexe 100 değerini yazıyor ve 1 değerini sağa kaydırıyor, listeden silmemiş oluyor.\n"
   ]
  },
  {
   "cell_type": "markdown",
   "id": "8275818e-4775-4953-bb6b-ab351cfec5cc",
   "metadata": {},
   "source": [
    "* remove():Belirli bir elemanı listeden silmemize yarar. Eğer yazılan eleman listede yoksa error verir."
   ]
  },
  {
   "cell_type": "code",
   "execution_count": 61,
   "id": "ea125457-3202-4d41-ae4d-746616f66920",
   "metadata": {},
   "outputs": [
    {
     "data": {
      "text/plain": [
       "[1, 2, 3, 30, 40]"
      ]
     },
     "execution_count": 61,
     "metadata": {},
     "output_type": "execute_result"
    }
   ],
   "source": [
    "l = [1,2,3,40,30,40]\n",
    "l.remove(40)\n",
    "l"
   ]
  },
  {
   "cell_type": "markdown",
   "id": "5ce2a6cb-468c-4bd4-9bf4-702c5f2e42a2",
   "metadata": {},
   "source": [
    "* pop(): istenin belirli indexindeki elemanı silmeye ve o değeri döndürmeye yarar.remove() sadece siliyordu, pop() aynı zamanda o değeri döndürüyor."
   ]
  },
  {
   "cell_type": "code",
   "execution_count": 64,
   "id": "9bc80719-27e8-48f4-9871-e26dea046206",
   "metadata": {},
   "outputs": [
    {
     "data": {
      "text/plain": [
       "2"
      ]
     },
     "execution_count": 64,
     "metadata": {},
     "output_type": "execute_result"
    }
   ],
   "source": [
    "l = [1,2,3,4,5,6]\n",
    "l.pop(1)#sildiği elemanı gösterir."
   ]
  },
  {
   "cell_type": "markdown",
   "id": "3149d874-2e6f-43ee-a6e2-aaf8b0c6eaf9",
   "metadata": {},
   "source": [
    "* count():count()'un içine yazdığımız değerin listede kaç defa göründüğünü döndürür"
   ]
  },
  {
   "cell_type": "code",
   "execution_count": 69,
   "id": "de64fcb1-5817-4e99-ae64-0054e6cd9bb9",
   "metadata": {},
   "outputs": [
    {
     "data": {
      "text/plain": [
       "2"
      ]
     },
     "execution_count": 69,
     "metadata": {},
     "output_type": "execute_result"
    }
   ],
   "source": [
    "l = [1, 2, 44, 4, 5, 1]\n",
    "l.count(1)"
   ]
  },
  {
   "cell_type": "markdown",
   "id": "e428c396-0196-4324-ab17-74deaa30c93b",
   "metadata": {},
   "source": [
    "* copy() : kopylama işlemi yapar."
   ]
  },
  {
   "cell_type": "code",
   "execution_count": 72,
   "id": "96661f5a-5397-425b-a933-1b6ae8df4a99",
   "metadata": {},
   "outputs": [
    {
     "data": {
      "text/plain": [
       "[1, 2, 44, 4, 5, 1]"
      ]
     },
     "execution_count": 72,
     "metadata": {},
     "output_type": "execute_result"
    }
   ],
   "source": [
    "l2 = l.copy()\n",
    "l2"
   ]
  },
  {
   "cell_type": "markdown",
   "id": "309415a5-27bf-41e6-8ea8-0415b439ee22",
   "metadata": {},
   "source": [
    "* l üzerinde yaptığım değişiklik l2 yi etkilemez"
   ]
  },
  {
   "cell_type": "code",
   "execution_count": 75,
   "id": "32a1720c-3498-4207-a49a-00d3ba0b6b10",
   "metadata": {},
   "outputs": [],
   "source": [
    "l2 = l # bu kullanımda l2 üzerinde yaptugum değişiklik l'yide etkiler"
   ]
  },
  {
   "cell_type": "markdown",
   "id": "ab1a0252-4551-4981-86f7-ae23f28cf5a7",
   "metadata": {},
   "source": [
    "* '+' operatörü listelerde concatenation yapar."
   ]
  },
  {
   "cell_type": "code",
   "execution_count": 79,
   "id": "a4d4b1b5-f5aa-4892-b86b-089eb6e706fc",
   "metadata": {},
   "outputs": [],
   "source": [
    "l = [1,2,3]\n",
    "l2 = [4,5,6]"
   ]
  },
  {
   "cell_type": "code",
   "execution_count": 81,
   "id": "7168376d-3aec-4d30-9098-1603217ea852",
   "metadata": {},
   "outputs": [
    {
     "data": {
      "text/plain": [
       "[1, 2, 3, 4, 5, 6]"
      ]
     },
     "execution_count": 81,
     "metadata": {},
     "output_type": "execute_result"
    }
   ],
   "source": [
    "l+l2"
   ]
  },
  {
   "cell_type": "markdown",
   "id": "673812eb-8793-41e8-9bd3-bc317545cc95",
   "metadata": {},
   "source": [
    "* index():Belirli Bir Elemanın Indexini Bulur"
   ]
  },
  {
   "cell_type": "code",
   "execution_count": 88,
   "id": "5422f802-617d-4128-a93b-68c3ee9b5ae8",
   "metadata": {},
   "outputs": [],
   "source": [
    "l = [1, 2, 3, 4, 3, 5, 6]"
   ]
  },
  {
   "cell_type": "code",
   "execution_count": 90,
   "id": "07233e5f-1827-4220-afbe-1bb377023b64",
   "metadata": {},
   "outputs": [
    {
     "data": {
      "text/plain": [
       "2"
      ]
     },
     "execution_count": 90,
     "metadata": {},
     "output_type": "execute_result"
    }
   ],
   "source": [
    "l.index(3) # İlk hangi indexte görünüyorsa onun değerini döndürür."
   ]
  },
  {
   "cell_type": "code",
   "execution_count": 92,
   "id": "3a4e57b0-5131-40ca-9f2a-f38bb536cf53",
   "metadata": {},
   "outputs": [
    {
     "data": {
      "text/plain": [
       "3"
      ]
     },
     "execution_count": 92,
     "metadata": {},
     "output_type": "execute_result"
    }
   ],
   "source": [
    "l.index(4)"
   ]
  },
  {
   "cell_type": "markdown",
   "id": "ee50db75-ea9a-4ea5-966b-3431ccbb3e95",
   "metadata": {},
   "source": [
    "* reverse() :listeyi tersine çevirir. "
   ]
  },
  {
   "cell_type": "code",
   "execution_count": 95,
   "id": "725101c1-05a2-4f1e-9a56-009db2805391",
   "metadata": {},
   "outputs": [
    {
     "data": {
      "text/plain": [
       "[4, 3, 2, 1]"
      ]
     },
     "execution_count": 95,
     "metadata": {},
     "output_type": "execute_result"
    }
   ],
   "source": [
    "l = [1,2,3,4]\n",
    "l.reverse()\n",
    "l"
   ]
  },
  {
   "cell_type": "code",
   "execution_count": 97,
   "id": "237dff17-eb3f-4386-8df8-70e921e4b724",
   "metadata": {},
   "outputs": [
    {
     "data": {
      "text/plain": [
       "[1, 2, 3, 4]"
      ]
     },
     "execution_count": 97,
     "metadata": {},
     "output_type": "execute_result"
    }
   ],
   "source": [
    "l[::-1] #orjinal listeyi değiştirmez değiştirmek için atama yapmak lazım"
   ]
  },
  {
   "cell_type": "markdown",
   "id": "dbe76768-4911-4d8d-95c8-06b5a379d25d",
   "metadata": {},
   "source": [
    "* sorted() orijinal listeyi güncellemez.sorted() ve .sort() a bakacağız. İkisi de default olarak küçükten büyüğe sıralar. Sayısal verilerde sayısal değerine göre, stringlerde alfabetik sıraya göre sıralar."
   ]
  },
  {
   "cell_type": "code",
   "execution_count": 100,
   "id": "dd2e4962-7904-4c1d-85bd-c3d4a453b3f1",
   "metadata": {},
   "outputs": [
    {
     "data": {
      "text/plain": [
       "['a', 'b', 'c']"
      ]
     },
     "execution_count": 100,
     "metadata": {},
     "output_type": "execute_result"
    }
   ],
   "source": [
    "l = [\"b\",\"a\",\"c\"]\n",
    "sorted(l) #orjinl listeyi güncellmez"
   ]
  },
  {
   "cell_type": "code",
   "execution_count": null,
   "id": "9e2bffc0-1d87-4feb-ad2a-2ab1f7ff872d",
   "metadata": {},
   "outputs": [],
   "source": [
    "l3 = sorted(l) #atama yapmamız gerekir"
   ]
  },
  {
   "cell_type": "code",
   "execution_count": 104,
   "id": "16873b3d-8dd5-477f-a6e6-78b109de59c6",
   "metadata": {},
   "outputs": [
    {
     "data": {
      "text/plain": [
       "['a', 'b', 'c']"
      ]
     },
     "execution_count": 104,
     "metadata": {},
     "output_type": "execute_result"
    }
   ],
   "source": [
    "l = [\"b\",\"a\",\"c\"]\n",
    "l.sort() #listeyi günceller atama yapmaya gerek yok\n",
    "l"
   ]
  },
  {
   "cell_type": "code",
   "execution_count": 106,
   "id": "594e42d3-9747-4835-b4db-b17e7f4beb38",
   "metadata": {},
   "outputs": [
    {
     "data": {
      "text/plain": [
       "[-1, 1, 2, 3, 10]"
      ]
     },
     "execution_count": 106,
     "metadata": {},
     "output_type": "execute_result"
    }
   ],
   "source": [
    "l = [1,2,10,3,-1]\n",
    "sorted(l)"
   ]
  },
  {
   "cell_type": "code",
   "execution_count": 108,
   "id": "a49031c2-e45b-44e3-972e-5afba0633597",
   "metadata": {},
   "outputs": [
    {
     "ename": "TypeError",
     "evalue": "'<' not supported between instances of 'int' and 'str'",
     "output_type": "error",
     "traceback": [
      "\u001b[1;31m---------------------------------------------------------------------------\u001b[0m",
      "\u001b[1;31mTypeError\u001b[0m                                 Traceback (most recent call last)",
      "Cell \u001b[1;32mIn[108], line 2\u001b[0m\n\u001b[0;32m      1\u001b[0m l \u001b[38;5;241m=\u001b[39m [\u001b[38;5;124m\"\u001b[39m\u001b[38;5;124mb\u001b[39m\u001b[38;5;124m\"\u001b[39m,\u001b[38;5;124m\"\u001b[39m\u001b[38;5;124ma\u001b[39m\u001b[38;5;124m\"\u001b[39m,\u001b[38;5;124m\"\u001b[39m\u001b[38;5;124mc\u001b[39m\u001b[38;5;124m\"\u001b[39m,\u001b[38;5;241m1\u001b[39m,\u001b[38;5;241m2\u001b[39m]\n\u001b[1;32m----> 2\u001b[0m l\u001b[38;5;241m.\u001b[39msort()\n",
      "\u001b[1;31mTypeError\u001b[0m: '<' not supported between instances of 'int' and 'str'"
     ]
    }
   ],
   "source": [
    "l = [\"b\",\"a\",\"c\",1,2]\n",
    "l.sort() #farkı veri tipleri var sıralama yapamadı"
   ]
  },
  {
   "cell_type": "code",
   "execution_count": 110,
   "id": "d33afd4f-9a15-40d1-9a8d-15b0d1578e8b",
   "metadata": {},
   "outputs": [
    {
     "data": {
      "text/plain": [
       "['0.6', '1', '3.5', '4', '5.6', 'a', 'b', 'c']"
      ]
     },
     "execution_count": 110,
     "metadata": {},
     "output_type": "execute_result"
    }
   ],
   "source": [
    "l = [\"b\",\"a\",\"c\",\"1\",\"3.5\",\"4\",\"5.6\", \"0.6\"]\n",
    "l.sort()\n",
    "l"
   ]
  },
  {
   "cell_type": "code",
   "execution_count": 112,
   "id": "8a9782f4-3e54-45cc-861b-e8918f281685",
   "metadata": {},
   "outputs": [
    {
     "data": {
      "text/plain": [
       "[[1, -20, 3], [2, -200, -3]]"
      ]
     },
     "execution_count": 112,
     "metadata": {},
     "output_type": "execute_result"
    }
   ],
   "source": [
    "l = [[1,-20,3], [2,-200,-3]]\n",
    "l.sort()\n",
    "l"
   ]
  },
  {
   "cell_type": "code",
   "execution_count": 114,
   "id": "3244a267-d888-47b5-afb0-9615b4603912",
   "metadata": {},
   "outputs": [
    {
     "data": {
      "text/plain": [
       "[[2, -2, 3], [10, -20, -3]]"
      ]
     },
     "execution_count": 114,
     "metadata": {},
     "output_type": "execute_result"
    }
   ],
   "source": [
    "l = [[10,-20,-3], [2,-2,3]]#ilk elemanlara göre sıralar\n",
    "l.sort()\n",
    "l"
   ]
  },
  {
   "cell_type": "markdown",
   "id": "96f5be87-4a5e-4cbc-bd0c-9411b6da9529",
   "metadata": {},
   "source": [
    "<h3 style=\"text-align: center; color: RED\">TUPLE</h3> "
   ]
  },
  {
   "cell_type": "markdown",
   "id": "9472f842-4a39-437f-b7fd-102dd5d31161",
   "metadata": {},
   "source": [
    "tuple veri tipi listeler gibi birden çok veri tipini bir arada tutmamızı sağlar. listelerden farklı olarak tuple'lar immutabledır.\n",
    "\n",
    "Mesela bir deniz fenerinin konumunu belirtmek istiyoruz. bunun x ve y koordinat değerleri var (x,y). Deniz fenerini söküp götüremiyoruz, ben bu iki değerin sabit, değiştirilemez olmasını istiyorum. Burada bu iki değeri tutmak için tuple kullanmam mantıklı olabilir.Değişmeyeceğini bildiğim değerleri bir arada tutmak için.\n",
    "tuple'lar (element1,element2...) şeklinde tanımlanır.\n",
    "tuple'lar listeler gibi farklı veri yapılarında elemanlardan oluşabilir. Elemanları tuple bile olabilir."
   ]
  },
  {
   "cell_type": "code",
   "execution_count": 121,
   "id": "ed718dd2-350c-468b-9076-7103bafd0c8e",
   "metadata": {},
   "outputs": [],
   "source": [
    "x = 10\n",
    "y = 34\n",
    "konum = (10, 34)"
   ]
  },
  {
   "cell_type": "markdown",
   "id": "639770b4-336f-4e82-9fc1-2ba61e3986b3",
   "metadata": {},
   "source": [
    "* Aynı listelerdeki gibi indexleme yapabiliyoruz."
   ]
  },
  {
   "cell_type": "code",
   "execution_count": 124,
   "id": "8f016cbd-b79d-4f0b-89d4-9677e3dbb9a5",
   "metadata": {},
   "outputs": [
    {
     "data": {
      "text/plain": [
       "10"
      ]
     },
     "execution_count": 124,
     "metadata": {},
     "output_type": "execute_result"
    }
   ],
   "source": [
    "konum[0]"
   ]
  },
  {
   "cell_type": "code",
   "execution_count": 126,
   "id": "eb4624e7-2379-49e4-a6cc-edf3442699a2",
   "metadata": {},
   "outputs": [
    {
     "data": {
      "text/plain": [
       "(10, 34)"
      ]
     },
     "execution_count": 126,
     "metadata": {},
     "output_type": "execute_result"
    }
   ],
   "source": [
    "konum[:]"
   ]
  },
  {
   "cell_type": "markdown",
   "id": "10bed000-5e5e-44eb-8962-8ba20995c06a",
   "metadata": {},
   "source": [
    "* Ama değerlerini değiştiremiyoruz."
   ]
  },
  {
   "cell_type": "code",
   "execution_count": 129,
   "id": "2f95e318-d39f-45f7-a90c-0cc31bbd1b92",
   "metadata": {},
   "outputs": [
    {
     "ename": "TypeError",
     "evalue": "'tuple' object does not support item assignment",
     "output_type": "error",
     "traceback": [
      "\u001b[1;31m---------------------------------------------------------------------------\u001b[0m",
      "\u001b[1;31mTypeError\u001b[0m                                 Traceback (most recent call last)",
      "Cell \u001b[1;32mIn[129], line 1\u001b[0m\n\u001b[1;32m----> 1\u001b[0m konum[\u001b[38;5;241m0\u001b[39m] \u001b[38;5;241m=\u001b[39m \u001b[38;5;241m100\u001b[39m\n",
      "\u001b[1;31mTypeError\u001b[0m: 'tuple' object does not support item assignment"
     ]
    }
   ],
   "source": [
    "konum[0] = 100"
   ]
  },
  {
   "cell_type": "markdown",
   "id": "ba32c012-2d33-4682-b8de-8357dcfa4ad4",
   "metadata": {},
   "source": [
    "* Farklı veri tipleri barındırabiliyor."
   ]
  },
  {
   "cell_type": "code",
   "execution_count": 132,
   "id": "f1dfeb6c-9f9c-40e4-88e9-6086ee826101",
   "metadata": {},
   "outputs": [
    {
     "data": {
      "text/plain": [
       "(1, 2, 3, 'a')"
      ]
     },
     "execution_count": 132,
     "metadata": {},
     "output_type": "execute_result"
    }
   ],
   "source": [
    "t = (1,2,3,\"a\")\n",
    "t"
   ]
  },
  {
   "cell_type": "code",
   "execution_count": 134,
   "id": "e7dd7180-bbe2-47fd-9d7e-ce88992d02f5",
   "metadata": {},
   "outputs": [],
   "source": [
    "t = ((1,2),3)"
   ]
  },
  {
   "cell_type": "code",
   "execution_count": 136,
   "id": "462f7d7f-558d-4362-8026-9e609ce94a66",
   "metadata": {},
   "outputs": [
    {
     "data": {
      "text/plain": [
       "(1, 2)"
      ]
     },
     "execution_count": 136,
     "metadata": {},
     "output_type": "execute_result"
    }
   ],
   "source": [
    "t[0]"
   ]
  },
  {
   "cell_type": "code",
   "execution_count": 142,
   "id": "e5d252f6-bfd3-4cc7-b8b8-163c3cd75b7b",
   "metadata": {},
   "outputs": [
    {
     "data": {
      "text/plain": [
       "([1, 2, 3], 2, (1, 2))"
      ]
     },
     "execution_count": 142,
     "metadata": {},
     "output_type": "execute_result"
    }
   ],
   "source": [
    "t = ([1,2,3],2,(1,2))\n",
    "t"
   ]
  },
  {
   "cell_type": "code",
   "execution_count": 144,
   "id": "7d03acec-980c-4222-88e6-3f85b5d1ecb9",
   "metadata": {},
   "outputs": [],
   "source": [
    "t[0][0] = 23"
   ]
  },
  {
   "cell_type": "code",
   "execution_count": 146,
   "id": "4a5d0ebc-ccd2-40af-8415-c10d904487a0",
   "metadata": {},
   "outputs": [
    {
     "data": {
      "text/plain": [
       "([23, 2, 3], 2, (1, 2))"
      ]
     },
     "execution_count": 146,
     "metadata": {},
     "output_type": "execute_result"
    }
   ],
   "source": [
    "t"
   ]
  },
  {
   "cell_type": "markdown",
   "id": "59ff1276-4c11-4808-9086-aa0d0a43049e",
   "metadata": {},
   "source": [
    "<span style=\"color: blue; font-weight: bold;\">Elemanların Değerlerini Değiştirmek</span> :\n"
   ]
  },
  {
   "cell_type": "code",
   "execution_count": 149,
   "id": "20beeb7c-ff96-4078-a2b4-78f0d60ef024",
   "metadata": {},
   "outputs": [],
   "source": [
    "x = 2\n",
    "y = 3\n"
   ]
  },
  {
   "cell_type": "code",
   "execution_count": 151,
   "id": "533b37ca-51a3-4dad-895a-0f5129d6e0a9",
   "metadata": {},
   "outputs": [],
   "source": [
    "temp = x\n",
    "x = y\n",
    "y = temp"
   ]
  },
  {
   "cell_type": "code",
   "execution_count": 153,
   "id": "a62b3c3a-a0a4-42f1-9ca1-4b8c2db818d1",
   "metadata": {},
   "outputs": [
    {
     "data": {
      "text/plain": [
       "3"
      ]
     },
     "execution_count": 153,
     "metadata": {},
     "output_type": "execute_result"
    }
   ],
   "source": [
    "x"
   ]
  },
  {
   "cell_type": "code",
   "execution_count": 155,
   "id": "fd5d7762-d1c1-4364-809a-f2d05c1fcc96",
   "metadata": {},
   "outputs": [
    {
     "data": {
      "text/plain": [
       "2"
      ]
     },
     "execution_count": 155,
     "metadata": {},
     "output_type": "execute_result"
    }
   ],
   "source": [
    "y"
   ]
  },
  {
   "cell_type": "markdown",
   "id": "81fe96a1-3920-4ac5-9a32-b1952f2c553d",
   "metadata": {},
   "source": [
    "* Ama bunu tuple'lar ile 1 satırda yapabiliriz."
   ]
  },
  {
   "cell_type": "code",
   "execution_count": 158,
   "id": "d1d3e57e-0fdf-4a30-b4b7-6a7d3bc61934",
   "metadata": {},
   "outputs": [],
   "source": [
    "x = 2\n",
    "y = 3"
   ]
  },
  {
   "cell_type": "code",
   "execution_count": 160,
   "id": "577cf42a-54d5-4907-b29e-1cfdb0580a07",
   "metadata": {},
   "outputs": [],
   "source": [
    "(x, y) = (y, x)"
   ]
  },
  {
   "cell_type": "code",
   "execution_count": 162,
   "id": "c1af296e-3c8f-435e-9f56-383dd1936998",
   "metadata": {},
   "outputs": [
    {
     "data": {
      "text/plain": [
       "3"
      ]
     },
     "execution_count": 162,
     "metadata": {},
     "output_type": "execute_result"
    }
   ],
   "source": [
    "x"
   ]
  },
  {
   "cell_type": "code",
   "execution_count": 164,
   "id": "43da50c3-6939-4bed-8c63-bb543fe2b759",
   "metadata": {},
   "outputs": [
    {
     "data": {
      "text/plain": [
       "2"
      ]
     },
     "execution_count": 164,
     "metadata": {},
     "output_type": "execute_result"
    }
   ],
   "source": [
    "y"
   ]
  },
  {
   "cell_type": "markdown",
   "id": "a466ceae-4cdc-46d9-8db0-5803c15021df",
   "metadata": {},
   "source": [
    "* parantez koymamıza da gerek yok. 1,2,3,\"a\"... gibi parantezsiz belirtsek de Python onu tuple olarak görüyor."
   ]
  },
  {
   "cell_type": "code",
   "execution_count": 168,
   "id": "b9d4776e-e6e9-42d7-86ee-b4ae290531d8",
   "metadata": {},
   "outputs": [
    {
     "data": {
      "text/plain": [
       "(1, 2, 3, 4)"
      ]
     },
     "execution_count": 168,
     "metadata": {},
     "output_type": "execute_result"
    }
   ],
   "source": [
    "a = 1,2,3,4\n",
    "a"
   ]
  },
  {
   "cell_type": "code",
   "execution_count": 170,
   "id": "4eff124e-fe5f-4e5c-bfd5-5a9ddbca4b3f",
   "metadata": {},
   "outputs": [
    {
     "data": {
      "text/plain": [
       "tuple"
      ]
     },
     "execution_count": 170,
     "metadata": {},
     "output_type": "execute_result"
    }
   ],
   "source": [
    "type(a)"
   ]
  },
  {
   "cell_type": "code",
   "execution_count": 172,
   "id": "2721a00b-2620-479d-99f7-dfbb73dd2c8f",
   "metadata": {},
   "outputs": [],
   "source": [
    "x = 2\n",
    "y = 3"
   ]
  },
  {
   "cell_type": "code",
   "execution_count": 174,
   "id": "a756d6af-f115-4a3b-9e26-9aab8ff4e6da",
   "metadata": {},
   "outputs": [],
   "source": [
    "x, y = y, x"
   ]
  },
  {
   "cell_type": "code",
   "execution_count": 176,
   "id": "e8144f04-b566-4bb9-af89-834d19366478",
   "metadata": {},
   "outputs": [
    {
     "data": {
      "text/plain": [
       "3"
      ]
     },
     "execution_count": 176,
     "metadata": {},
     "output_type": "execute_result"
    }
   ],
   "source": [
    "x"
   ]
  },
  {
   "cell_type": "code",
   "execution_count": 178,
   "id": "56439c48-6196-4601-9bd8-49538576f8a4",
   "metadata": {},
   "outputs": [
    {
     "data": {
      "text/plain": [
       "(5, 5)"
      ]
     },
     "execution_count": 178,
     "metadata": {},
     "output_type": "execute_result"
    }
   ],
   "source": [
    "x=5\n",
    "\n",
    "y=7\n",
    "\n",
    "temp=x\n",
    "\n",
    "y=temp\n",
    "\n",
    "(x,y)"
   ]
  },
  {
   "cell_type": "markdown",
   "id": "edba9aeb-a397-46ac-acb8-a6a305067fb7",
   "metadata": {},
   "source": [
    "<h3 style=\"text-align: center; color: RED\">Tuple ve List'lerde Eleman Kontrolü</h3> "
   ]
  },
  {
   "cell_type": "markdown",
   "id": "0bd81532-7114-4d8e-ab59-75d9f697d234",
   "metadata": {},
   "source": [
    "Belirli bir eleman listede veya tuple'da var mı diye in keyword'ü ile sorgu yapabilirim."
   ]
  },
  {
   "cell_type": "code",
   "execution_count": 183,
   "id": "b4985dde-7649-4d3d-a89c-10c843421a4d",
   "metadata": {},
   "outputs": [],
   "source": [
    "l = [1,2,3,4]"
   ]
  },
  {
   "cell_type": "code",
   "execution_count": 185,
   "id": "3598edb8-2775-4c68-9a4c-e29e9654d54e",
   "metadata": {},
   "outputs": [
    {
     "data": {
      "text/plain": [
       "False"
      ]
     },
     "execution_count": 185,
     "metadata": {},
     "output_type": "execute_result"
    }
   ],
   "source": [
    "40 in l"
   ]
  },
  {
   "cell_type": "code",
   "execution_count": 187,
   "id": "684be063-dea6-4422-a5a2-4aef194b77bf",
   "metadata": {},
   "outputs": [
    {
     "data": {
      "text/plain": [
       "True"
      ]
     },
     "execution_count": 187,
     "metadata": {},
     "output_type": "execute_result"
    }
   ],
   "source": [
    "2 in l"
   ]
  },
  {
   "cell_type": "code",
   "execution_count": 189,
   "id": "557632bc-b0eb-4f09-a0a9-8063666c2c8d",
   "metadata": {},
   "outputs": [],
   "source": [
    "t = (1,2,3,4)"
   ]
  },
  {
   "cell_type": "code",
   "execution_count": 191,
   "id": "ff0d67f1-03da-4267-9ab3-9e72d6380aa9",
   "metadata": {},
   "outputs": [
    {
     "data": {
      "text/plain": [
       "False"
      ]
     },
     "execution_count": 191,
     "metadata": {},
     "output_type": "execute_result"
    }
   ],
   "source": [
    "40 in t"
   ]
  },
  {
   "cell_type": "code",
   "execution_count": 193,
   "id": "d4d695f1-4de5-4176-86e3-4f5c0d5096e9",
   "metadata": {},
   "outputs": [
    {
     "data": {
      "text/plain": [
       "True"
      ]
     },
     "execution_count": 193,
     "metadata": {},
     "output_type": "execute_result"
    }
   ],
   "source": [
    "3 in t"
   ]
  },
  {
   "cell_type": "markdown",
   "id": "45d31237-98e6-460b-b0df-a1e235e30eeb",
   "metadata": {},
   "source": [
    "<h3 style=\"text-align: center; color: RED\">DICTIONARIES</h3> "
   ]
  },
  {
   "cell_type": "markdown",
   "id": "8731400d-f9e2-4afa-8991-66ae3d057f54",
   "metadata": {},
   "source": [
    "Dictionary yapısının elemanlarına erişmek için belirli keyler kullanacağız ve o da bize value'lar verecek. dictionary'leri süslü parantez {} ile belirteceğiz. Formumuz {key1:value1, key2:value2...} şeklinde olacak. Elemanlarına ulaşmak için öbür non-scalar veri tiplerinde yaptığımız gibi [] kullanacağız. Ama - dictionary'lerin elemanlarına ulaşmak için belirlediğimiz keyleri kullanacağız, integer indexing değil. dictionary'lerin keyleri immutable herhangi bir yapıda olabilir. value'lar mutable da immutable da olabilir. int, float, bool, string, list, tuple, set, even dictionaries itself!\n"
   ]
  },
  {
   "cell_type": "code",
   "execution_count": 198,
   "id": "27ac588f-f024-430f-9624-13c7165e49db",
   "metadata": {},
   "outputs": [],
   "source": [
    "notlar = {\"Deniz\": 80, \"Ege\":72, \"Gizem\": 95}"
   ]
  },
  {
   "cell_type": "code",
   "execution_count": 200,
   "id": "c6f2b96c-8f74-4bb0-8d83-c5692988b449",
   "metadata": {},
   "outputs": [
    {
     "data": {
      "text/plain": [
       "72"
      ]
     },
     "execution_count": 200,
     "metadata": {},
     "output_type": "execute_result"
    }
   ],
   "source": [
    "notlar[\"Ege\"]"
   ]
  },
  {
   "cell_type": "code",
   "execution_count": 202,
   "id": "7aca1be4-4fe6-465c-8f10-eff8073578ed",
   "metadata": {},
   "outputs": [
    {
     "data": {
      "text/plain": [
       "95"
      ]
     },
     "execution_count": 202,
     "metadata": {},
     "output_type": "execute_result"
    }
   ],
   "source": [
    "notlar[\"Gizem\"]"
   ]
  },
  {
   "cell_type": "code",
   "execution_count": 204,
   "id": "0d8254c1-bfc8-429b-8ac2-9174d74f5df2",
   "metadata": {},
   "outputs": [],
   "source": [
    "ogrenciler = {\"Deniz\": {\"not\":80, \"ogrenci_no\":703}, \"Ege\":{\"not\":72, \"ogrenci_no\":408}, \"Gizem\": {\"not\":95, \"ogrenci_no\":690}}"
   ]
  },
  {
   "cell_type": "code",
   "execution_count": 206,
   "id": "9ffaea00-58dd-45ca-baf5-5648325205d2",
   "metadata": {},
   "outputs": [
    {
     "data": {
      "text/plain": [
       "{'not': 72, 'ogrenci_no': 408}"
      ]
     },
     "execution_count": 206,
     "metadata": {},
     "output_type": "execute_result"
    }
   ],
   "source": [
    "ogrenciler[\"Ege\"]"
   ]
  },
  {
   "cell_type": "code",
   "execution_count": 210,
   "id": "465d6243-e0e4-4b77-8835-44ac0f74a655",
   "metadata": {},
   "outputs": [
    {
     "data": {
      "text/plain": [
       "72"
      ]
     },
     "execution_count": 210,
     "metadata": {},
     "output_type": "execute_result"
    }
   ],
   "source": [
    "ogrenciler[\"Ege\"][\"not\"]"
   ]
  },
  {
   "cell_type": "code",
   "execution_count": 212,
   "id": "7f289e96-4b7b-4a0e-8735-229375cf3620",
   "metadata": {},
   "outputs": [
    {
     "data": {
      "text/plain": [
       "408"
      ]
     },
     "execution_count": 212,
     "metadata": {},
     "output_type": "execute_result"
    }
   ],
   "source": [
    "ogrenciler[\"Ege\"][\"ogrenci_no\"]"
   ]
  },
  {
   "cell_type": "markdown",
   "id": "9b4c162d-4032-4875-8b1a-82264c23b9fc",
   "metadata": {},
   "source": [
    "* Dictionary'ler key-value mantığı ile çalışıyor. O yüzden biz notlar[0] gibi bir sorgu yaptığımızda, 0 diye bir key var mı diye bakıyor yoksa hata veriyor."
   ]
  },
  {
   "cell_type": "code",
   "execution_count": 215,
   "id": "231efb27-b84c-4621-ab9a-487b7be26b5c",
   "metadata": {},
   "outputs": [
    {
     "ename": "KeyError",
     "evalue": "0",
     "output_type": "error",
     "traceback": [
      "\u001b[1;31m---------------------------------------------------------------------------\u001b[0m",
      "\u001b[1;31mKeyError\u001b[0m                                  Traceback (most recent call last)",
      "Cell \u001b[1;32mIn[215], line 1\u001b[0m\n\u001b[1;32m----> 1\u001b[0m notlar[\u001b[38;5;241m0\u001b[39m]\n",
      "\u001b[1;31mKeyError\u001b[0m: 0"
     ]
    }
   ],
   "source": [
    "notlar[0]"
   ]
  },
  {
   "cell_type": "markdown",
   "id": "817aaf6e-e3dd-4726-a5d8-83d4290cac43",
   "metadata": {},
   "source": [
    "* Value Değerlerini Değiştirmek"
   ]
  },
  {
   "cell_type": "code",
   "execution_count": 218,
   "id": "059cf426-525a-4aa3-b07a-3acc3bd6aab3",
   "metadata": {},
   "outputs": [],
   "source": [
    "notlar = {\"Deniz\": 80, \"Ege\":72, \"Gizem\": 95}"
   ]
  },
  {
   "cell_type": "code",
   "execution_count": 221,
   "id": "de0719c0-5f93-4a7e-a36e-be1de857beec",
   "metadata": {},
   "outputs": [],
   "source": [
    "notlar[\"Ege\"] = notlar[\"Ege\"] + 5"
   ]
  },
  {
   "cell_type": "code",
   "execution_count": 223,
   "id": "71921062-eb73-43b9-8587-d26b7f9ba116",
   "metadata": {},
   "outputs": [
    {
     "data": {
      "text/plain": [
       "77"
      ]
     },
     "execution_count": 223,
     "metadata": {},
     "output_type": "execute_result"
    }
   ],
   "source": [
    "notlar[\"Ege\"]"
   ]
  },
  {
   "cell_type": "markdown",
   "id": "713c204a-742d-4425-a0d2-7c4fc3cd6797",
   "metadata": {},
   "source": [
    "* len() fonksiyonunu dictionary'lerde kullandığımız zaman bize kaç tane key varsa onun sayısını veriyor."
   ]
  },
  {
   "cell_type": "code",
   "execution_count": 226,
   "id": "badd9073-b7c5-404f-9522-cbc65dc6335b",
   "metadata": {},
   "outputs": [
    {
     "data": {
      "text/plain": [
       "3"
      ]
     },
     "execution_count": 226,
     "metadata": {},
     "output_type": "execute_result"
    }
   ],
   "source": [
    "len(notlar)"
   ]
  },
  {
   "cell_type": "markdown",
   "id": "f7dee304-1334-4309-865c-1a1f79b9a7ab",
   "metadata": {},
   "source": [
    "* Eleman Eklemek"
   ]
  },
  {
   "cell_type": "code",
   "execution_count": 229,
   "id": "1e641941-3601-4cc2-af81-643b50df8e3d",
   "metadata": {},
   "outputs": [],
   "source": [
    "notlar = {\"Deniz\": 80, \"Ege\":72, \"Gizem\": 95}"
   ]
  },
  {
   "cell_type": "code",
   "execution_count": 231,
   "id": "486472e3-cfc9-4e24-89be-da0606c7d0a9",
   "metadata": {},
   "outputs": [],
   "source": [
    "notlar[\"Mert\"] = 58"
   ]
  },
  {
   "cell_type": "code",
   "execution_count": 233,
   "id": "cd37c787-5f64-4ad2-8de0-57b18983b858",
   "metadata": {},
   "outputs": [
    {
     "data": {
      "text/plain": [
       "{'Deniz': 80, 'Ege': 72, 'Gizem': 95, 'Mert': 58}"
      ]
     },
     "execution_count": 233,
     "metadata": {},
     "output_type": "execute_result"
    }
   ],
   "source": [
    "notlar"
   ]
  },
  {
   "cell_type": "markdown",
   "id": "5417cc77-0141-4f50-90f7-c10126c3064e",
   "metadata": {},
   "source": [
    "* Eleman Silmek\n",
    "Eleman silmeyi del keyword'ü ile yapabiliriz."
   ]
  },
  {
   "cell_type": "code",
   "execution_count": 236,
   "id": "67482c8f-3b01-432f-89d5-442d2f431bb7",
   "metadata": {},
   "outputs": [],
   "source": [
    "del notlar[\"Mert\"]"
   ]
  },
  {
   "cell_type": "code",
   "execution_count": 238,
   "id": "fcb22a3b-0a03-4aed-8a91-06587e63efba",
   "metadata": {},
   "outputs": [
    {
     "data": {
      "text/plain": [
       "{'Deniz': 80, 'Ege': 72, 'Gizem': 95}"
      ]
     },
     "execution_count": 238,
     "metadata": {},
     "output_type": "execute_result"
    }
   ],
   "source": [
    "notlar"
   ]
  },
  {
   "cell_type": "markdown",
   "id": "ea64a34e-6c38-4767-9472-6625703cdee8",
   "metadata": {},
   "source": [
    "* Boş Bir Dictionary Oluşturmak"
   ]
  },
  {
   "cell_type": "code",
   "execution_count": 240,
   "id": "bc039a5e-4ff2-49d7-b65f-27961001a588",
   "metadata": {},
   "outputs": [
    {
     "data": {
      "text/plain": [
       "{}"
      ]
     },
     "execution_count": 240,
     "metadata": {},
     "output_type": "execute_result"
    }
   ],
   "source": [
    "d = {}\n",
    "d"
   ]
  },
  {
   "cell_type": "code",
   "execution_count": 242,
   "id": "96404760-e30f-4c60-8249-004f061c0661",
   "metadata": {},
   "outputs": [],
   "source": [
    "d[1] = \"a\""
   ]
  },
  {
   "cell_type": "code",
   "execution_count": 244,
   "id": "8e52ad81-dc40-4f71-8339-08738737c8e4",
   "metadata": {},
   "outputs": [
    {
     "data": {
      "text/plain": [
       "{1: 'a'}"
      ]
     },
     "execution_count": 244,
     "metadata": {},
     "output_type": "execute_result"
    }
   ],
   "source": [
    "d"
   ]
  },
  {
   "cell_type": "markdown",
   "id": "b8048f3d-ee58-4f1f-a1c6-427f96a3e599",
   "metadata": {},
   "source": [
    "* Bir Değer Keyler Arasında Var mı Sorgusu Yapmak"
   ]
  },
  {
   "cell_type": "code",
   "execution_count": 248,
   "id": "d8c5ae7f-8bd2-49e9-b607-f36607d10361",
   "metadata": {},
   "outputs": [
    {
     "data": {
      "text/plain": [
       "False"
      ]
     },
     "execution_count": 248,
     "metadata": {},
     "output_type": "execute_result"
    }
   ],
   "source": [
    "\"Mert\" in notlar"
   ]
  },
  {
   "cell_type": "code",
   "execution_count": 250,
   "id": "28c52c20-6ce8-4249-af23-a3cb4b01bb61",
   "metadata": {},
   "outputs": [
    {
     "data": {
      "text/plain": [
       "True"
      ]
     },
     "execution_count": 250,
     "metadata": {},
     "output_type": "execute_result"
    }
   ],
   "source": [
    "\"Deniz\" in notlar"
   ]
  },
  {
   "cell_type": "markdown",
   "id": "8e13efc0-5198-4e51-bb81-14d209ff38f3",
   "metadata": {},
   "source": [
    "<h3 style=\"text-align: center; color: RED\">SET</h3> "
   ]
  },
  {
   "cell_type": "markdown",
   "id": "3e0c672d-a4f4-4276-89e3-044956c00cee",
   "metadata": {},
   "source": [
    "Setleri kümeler olarak düşünebiliriz.\n",
    "Sadece özgün değerleri tutan, içerisinde bir eleman var mı yok mu, başka bir setle hangi elemanları farklı gibi işlemleri performanslı bir şekilde yapabileceğimiz bir veri yapısıdır.\n",
    "Dictionary'ler gibi eleman sorgusu yapmak hızlıdır. Dictionarylerde key-value çift olarak bulunduğu için aynı uzunluktaki bir setten daha fazla yer kaplar.\n",
    "Setler indexlenemez.\n",
    "Setler mutable'dır."
   ]
  },
  {
   "cell_type": "code",
   "execution_count": 255,
   "id": "be75e31d-bab8-4a6b-8fab-754cd48461a7",
   "metadata": {},
   "outputs": [],
   "source": [
    "s = {1,2,3,4,5}"
   ]
  },
  {
   "cell_type": "code",
   "execution_count": 257,
   "id": "abc8ff3d-3efc-4500-89f8-ab9a14eb08b9",
   "metadata": {},
   "outputs": [
    {
     "data": {
      "text/plain": [
       "{1, 2, 3, 4, 5}"
      ]
     },
     "execution_count": 257,
     "metadata": {},
     "output_type": "execute_result"
    }
   ],
   "source": [
    "s"
   ]
  },
  {
   "cell_type": "code",
   "execution_count": 259,
   "id": "8f05c45d-a11e-4d35-833c-157c9ba7bf5e",
   "metadata": {},
   "outputs": [],
   "source": [
    "s2 = {1,2,2,2,1,4,5,6}"
   ]
  },
  {
   "cell_type": "code",
   "execution_count": 261,
   "id": "d8ef06c5-0c7a-4061-8ace-8d3a839be4b6",
   "metadata": {},
   "outputs": [
    {
     "data": {
      "text/plain": [
       "{1, 2, 4, 5, 6}"
      ]
     },
     "execution_count": 261,
     "metadata": {},
     "output_type": "execute_result"
    }
   ],
   "source": [
    "s2"
   ]
  },
  {
   "cell_type": "markdown",
   "id": "050b21f0-fdf2-4810-a042-975a3830e1d5",
   "metadata": {},
   "source": [
    "* Boş set oluşturma:"
   ]
  },
  {
   "cell_type": "code",
   "execution_count": 264,
   "id": "e3e0221a-2a2e-4517-89dc-6504c946a47d",
   "metadata": {},
   "outputs": [
    {
     "data": {
      "text/plain": [
       "dict"
      ]
     },
     "execution_count": 264,
     "metadata": {},
     "output_type": "execute_result"
    }
   ],
   "source": [
    "a = {} # Boş bir seti {} ile yaratamayız,çünkü bu boş bir dictionary yaratmak için ayrılmış\n",
    "type(a)"
   ]
  },
  {
   "cell_type": "code",
   "execution_count": 266,
   "id": "f7734068-162b-45da-9ad3-790a3f3c78af",
   "metadata": {},
   "outputs": [
    {
     "data": {
      "text/plain": [
       "set()"
      ]
     },
     "execution_count": 266,
     "metadata": {},
     "output_type": "execute_result"
    }
   ],
   "source": [
    "s = set()\n",
    "s"
   ]
  },
  {
   "cell_type": "code",
   "execution_count": 268,
   "id": "2793c903-e7aa-45ce-b097-f71cf712faea",
   "metadata": {},
   "outputs": [
    {
     "data": {
      "text/plain": [
       "{1, 2, 3, 4}"
      ]
     },
     "execution_count": 268,
     "metadata": {},
     "output_type": "execute_result"
    }
   ],
   "source": [
    "l = [1,2,3,4]\n",
    "s = set(l)\n",
    "s"
   ]
  },
  {
   "cell_type": "code",
   "execution_count": 270,
   "id": "8a69c636-1c29-44c7-b0e6-3ad3d967e560",
   "metadata": {},
   "outputs": [
    {
     "data": {
      "text/plain": [
       "{1, 2, 3, 4}"
      ]
     },
     "execution_count": 270,
     "metadata": {},
     "output_type": "execute_result"
    }
   ],
   "source": [
    "l = [1,2,3,4,1,2]\n",
    "set(l)\n",
    "s"
   ]
  },
  {
   "cell_type": "markdown",
   "id": "7ae55ae7-65d2-4b76-b1fc-2511caaf5b25",
   "metadata": {},
   "source": [
    "* Setin içinde bir elemanı birden çok göremezsiniz."
   ]
  },
  {
   "cell_type": "markdown",
   "id": "825c6897-d7c0-497f-82a6-c8648668a716",
   "metadata": {},
   "source": [
    "* Setler Indexlenemez"
   ]
  },
  {
   "cell_type": "code",
   "execution_count": 274,
   "id": "e8d60eb9-3506-40a1-9ec2-e5970ebc58b3",
   "metadata": {},
   "outputs": [
    {
     "data": {
      "text/plain": [
       "{1, 2, 3, 4, 5}"
      ]
     },
     "execution_count": 274,
     "metadata": {},
     "output_type": "execute_result"
    }
   ],
   "source": [
    "s = set([1,2,3,4,5])\n",
    "s"
   ]
  },
  {
   "cell_type": "code",
   "execution_count": 276,
   "id": "860fcefe-9ca5-4e5e-ab06-e243290d48a0",
   "metadata": {},
   "outputs": [
    {
     "ename": "TypeError",
     "evalue": "'set' object is not subscriptable",
     "output_type": "error",
     "traceback": [
      "\u001b[1;31m---------------------------------------------------------------------------\u001b[0m",
      "\u001b[1;31mTypeError\u001b[0m                                 Traceback (most recent call last)",
      "Cell \u001b[1;32mIn[276], line 1\u001b[0m\n\u001b[1;32m----> 1\u001b[0m s[\u001b[38;5;241m0\u001b[39m]\n",
      "\u001b[1;31mTypeError\u001b[0m: 'set' object is not subscriptable"
     ]
    }
   ],
   "source": [
    "s[0]"
   ]
  },
  {
   "cell_type": "markdown",
   "id": "4df94a11-a721-4243-a367-8e6b9eb232cf",
   "metadata": {},
   "source": [
    "* Set'e Eleman Ekleme"
   ]
  },
  {
   "cell_type": "code",
   "execution_count": 279,
   "id": "f82dd957-54b5-4390-a2d3-5d679f1496e6",
   "metadata": {},
   "outputs": [],
   "source": [
    "s = {1, 2, 3, 4, 5}\n"
   ]
  },
  {
   "cell_type": "code",
   "execution_count": 281,
   "id": "e183769a-c62c-433e-94c7-f366a9708cf2",
   "metadata": {},
   "outputs": [],
   "source": [
    "s.add(6)"
   ]
  },
  {
   "cell_type": "code",
   "execution_count": 283,
   "id": "82c716fe-ecd7-4117-be62-a1438c55fc26",
   "metadata": {},
   "outputs": [
    {
     "data": {
      "text/plain": [
       "{1, 2, 3, 4, 5, 6}"
      ]
     },
     "execution_count": 283,
     "metadata": {},
     "output_type": "execute_result"
    }
   ],
   "source": [
    "s"
   ]
  },
  {
   "cell_type": "code",
   "execution_count": 287,
   "id": "b6e3f34a-81dc-4635-8b6e-ba397e480e0b",
   "metadata": {},
   "outputs": [
    {
     "data": {
      "text/plain": [
       "{1, 2, 3, 4, 5, 6}"
      ]
     },
     "execution_count": 287,
     "metadata": {},
     "output_type": "execute_result"
    }
   ],
   "source": [
    "# Bu kod bir error vermeyecek, ama 5 zaten sette olduğu için eklemeyecek de\n",
    "s.add(5)\n",
    "s"
   ]
  },
  {
   "cell_type": "markdown",
   "id": "9837eb9a-494f-4f6d-95ac-a634c8aa72ce",
   "metadata": {},
   "source": [
    "*  Set'ten Eleman Silmek"
   ]
  },
  {
   "cell_type": "code",
   "execution_count": 290,
   "id": "ed965c34-b375-4db3-b704-b0ddc327ed83",
   "metadata": {},
   "outputs": [
    {
     "data": {
      "text/plain": [
       "{1, 3, 4, 5, 6}"
      ]
     },
     "execution_count": 290,
     "metadata": {},
     "output_type": "execute_result"
    }
   ],
   "source": [
    "s.remove(2)\n",
    "s"
   ]
  },
  {
   "cell_type": "code",
   "execution_count": 292,
   "id": "04831a5e-9c99-48fa-a476-7617d02be08d",
   "metadata": {},
   "outputs": [
    {
     "ename": "KeyError",
     "evalue": "9",
     "output_type": "error",
     "traceback": [
      "\u001b[1;31m---------------------------------------------------------------------------\u001b[0m",
      "\u001b[1;31mKeyError\u001b[0m                                  Traceback (most recent call last)",
      "Cell \u001b[1;32mIn[292], line 2\u001b[0m\n\u001b[0;32m      1\u001b[0m \u001b[38;5;66;03m# add()'in aksine, remove() hata veriyor.\u001b[39;00m\n\u001b[1;32m----> 2\u001b[0m s\u001b[38;5;241m.\u001b[39mremove(\u001b[38;5;241m9\u001b[39m)\n",
      "\u001b[1;31mKeyError\u001b[0m: 9"
     ]
    }
   ],
   "source": [
    "# add()'in aksine, remove() hata veriyor.\n",
    "s.remove(9)"
   ]
  },
  {
   "cell_type": "code",
   "execution_count": 294,
   "id": "5b87f21c-96ba-47b2-8d64-6dcb61666dab",
   "metadata": {},
   "outputs": [],
   "source": [
    "# Eğer silmek istediğimiz eleman yoksa hata almak istemiyorsak, discard()'ı kullanabiliriz.\n",
    "s.discard(10)"
   ]
  },
  {
   "cell_type": "code",
   "execution_count": 296,
   "id": "9d0dff13-cfe1-4cce-bf1e-4609933ce597",
   "metadata": {},
   "outputs": [
    {
     "data": {
      "text/plain": [
       "{1, 3, 4, 5, 6}"
      ]
     },
     "execution_count": 296,
     "metadata": {},
     "output_type": "execute_result"
    }
   ],
   "source": [
    "s"
   ]
  },
  {
   "cell_type": "code",
   "execution_count": 298,
   "id": "a5c0c29c-d96c-4505-8e74-52c09956b649",
   "metadata": {},
   "outputs": [
    {
     "data": {
      "text/plain": [
       "{1, 3, 4, 5, 6, 10}"
      ]
     },
     "execution_count": 298,
     "metadata": {},
     "output_type": "execute_result"
    }
   ],
   "source": [
    "s.add(10)\n",
    "s"
   ]
  },
  {
   "cell_type": "code",
   "execution_count": 300,
   "id": "a70a313c-db43-4ec6-b5fa-5f2860b76d3d",
   "metadata": {},
   "outputs": [
    {
     "data": {
      "text/plain": [
       "{1, 3, 4, 5, 6}"
      ]
     },
     "execution_count": 300,
     "metadata": {},
     "output_type": "execute_result"
    }
   ],
   "source": [
    "s.discard(10)\n",
    "s"
   ]
  },
  {
   "cell_type": "markdown",
   "id": "73ef7fb9-707d-4c9b-ab93-4d0fcdc953a1",
   "metadata": {},
   "source": [
    "<span style=\"color: blue; font-weight: bold;\">Difference (fark)</span> : Evet geldik şimdi kümelerdeki fark konusuna. s1 kümesi ile s2 kümesinin farkına bakacağız. (s1 – s2) veya (s1 \\ s2)"
   ]
  },
  {
   "cell_type": "code",
   "execution_count": 303,
   "id": "36c809d6-aa36-4195-b300-9525806ec0e2",
   "metadata": {},
   "outputs": [],
   "source": [
    "s1 = set([1,5,10])\n",
    "s2 = set([2,5,3])\n"
   ]
  },
  {
   "cell_type": "code",
   "execution_count": 305,
   "id": "1cd6c20d-7001-4097-8333-a2bc9605fea8",
   "metadata": {},
   "outputs": [
    {
     "data": {
      "text/plain": [
       "{1, 10}"
      ]
     },
     "execution_count": 305,
     "metadata": {},
     "output_type": "execute_result"
    }
   ],
   "source": [
    "# s1 in hangi elemanları s2 den farklıdır.\n",
    "s1.difference(s2)"
   ]
  },
  {
   "cell_type": "code",
   "execution_count": 307,
   "id": "b4c7f5bb-42c4-4398-9387-328236ffaf9d",
   "metadata": {},
   "outputs": [
    {
     "data": {
      "text/plain": [
       "{1, 10}"
      ]
     },
     "execution_count": 307,
     "metadata": {},
     "output_type": "execute_result"
    }
   ],
   "source": [
    "# '-' operatörü setlerde kullanıldığında bize farkı verir.\n",
    "s1 - s2"
   ]
  },
  {
   "cell_type": "code",
   "execution_count": 309,
   "id": "4ddd3deb-f4cf-49c5-a569-d08202b74f72",
   "metadata": {},
   "outputs": [
    {
     "data": {
      "text/plain": [
       "{2, 3}"
      ]
     },
     "execution_count": 309,
     "metadata": {},
     "output_type": "execute_result"
    }
   ],
   "source": [
    "# s2 nin hangi elemanları s1 den farklıdır\n",
    "s2.difference(s1)"
   ]
  },
  {
   "cell_type": "code",
   "execution_count": 311,
   "id": "a1f5c68f-6c37-46f4-ba67-ce5f47f62413",
   "metadata": {},
   "outputs": [
    {
     "data": {
      "text/plain": [
       "{2, 3}"
      ]
     },
     "execution_count": 311,
     "metadata": {},
     "output_type": "execute_result"
    }
   ],
   "source": [
    "s2 - s1"
   ]
  },
  {
   "cell_type": "markdown",
   "id": "b9bd03df-98e7-4159-bd8f-217ac4e0c37f",
   "metadata": {},
   "source": [
    "<span style=\"color: blue; font-weight: bold;\">Symmetric Difference</span> : s1'in s2 den farkı ile s2'nin s1 den farkının birleşimi. (s1 \\ s2) U (s2 \\ s1) - > s1 U s2 - (s1 n s2)"
   ]
  },
  {
   "cell_type": "code",
   "execution_count": 345,
   "id": "3688fd1d-14cb-4076-b057-565d7d2edfd3",
   "metadata": {},
   "outputs": [],
   "source": [
    "s1 = set([1,5,10])\n",
    "s2 = set([2,5,3])\n"
   ]
  },
  {
   "cell_type": "code",
   "execution_count": 327,
   "id": "9d9087f1-0b4e-46c2-97ee-3ce088d84ca8",
   "metadata": {},
   "outputs": [
    {
     "data": {
      "text/plain": [
       "{1, 2, 3, 10}"
      ]
     },
     "execution_count": 327,
     "metadata": {},
     "output_type": "execute_result"
    }
   ],
   "source": [
    "s1.symmetric_difference(s2)"
   ]
  },
  {
   "cell_type": "markdown",
   "id": "acb05ac9-9f7b-40eb-8331-750029124fd7",
   "metadata": {},
   "source": [
    "<span style=\"color: blue; font-weight: bold;\">Intersection (kesişim)</span> :"
   ]
  },
  {
   "cell_type": "code",
   "execution_count": 321,
   "id": "1516e10d-ea71-4f6c-b5d0-d3802029fdaa",
   "metadata": {},
   "outputs": [
    {
     "data": {
      "text/plain": [
       "{5}"
      ]
     },
     "execution_count": 321,
     "metadata": {},
     "output_type": "execute_result"
    }
   ],
   "source": [
    "s1.intersection(s2)"
   ]
  },
  {
   "cell_type": "code",
   "execution_count": 323,
   "id": "f12f9660-4aa9-4df3-8810-a684e4f7e623",
   "metadata": {},
   "outputs": [
    {
     "data": {
      "text/plain": [
       "{5}"
      ]
     },
     "execution_count": 323,
     "metadata": {},
     "output_type": "execute_result"
    }
   ],
   "source": [
    "s2.intersection(s1)"
   ]
  },
  {
   "cell_type": "code",
   "execution_count": 329,
   "id": "56666d37-dbbe-46d4-8585-57151ee242b1",
   "metadata": {},
   "outputs": [
    {
     "data": {
      "text/plain": [
       "{5}"
      ]
     },
     "execution_count": 329,
     "metadata": {},
     "output_type": "execute_result"
    }
   ],
   "source": [
    "# `&` operatörü setlere uygulanınca kesişim olur\n",
    "s1 & s2"
   ]
  },
  {
   "cell_type": "markdown",
   "id": "58840ee8-f264-47df-b2d6-fb3603d4765c",
   "metadata": {},
   "source": [
    "<span style=\"color: blue; font-weight: bold;\">Union (Birleşim)</span> :"
   ]
  },
  {
   "cell_type": "code",
   "execution_count": 333,
   "id": "c9aa20ab-0f86-4efe-be43-eeaf78c99cea",
   "metadata": {},
   "outputs": [
    {
     "data": {
      "text/plain": [
       "{1, 2, 3, 5, 10}"
      ]
     },
     "execution_count": 333,
     "metadata": {},
     "output_type": "execute_result"
    }
   ],
   "source": [
    "s1.union(s2)"
   ]
  },
  {
   "cell_type": "markdown",
   "id": "3b4a6b38-b093-4002-a90a-61d478ddc213",
   "metadata": {},
   "source": [
    "<span style=\"color: blue; font-weight: bold;\">Disjoint Sets</span> :"
   ]
  },
  {
   "cell_type": "code",
   "execution_count": 337,
   "id": "e840f064-bac7-428a-be00-a1fb755b569b",
   "metadata": {},
   "outputs": [
    {
     "data": {
      "text/plain": [
       "False"
      ]
     },
     "execution_count": 337,
     "metadata": {},
     "output_type": "execute_result"
    }
   ],
   "source": [
    "s1.isdisjoint(s2) # s1 ∩ s2 ≠ Ø(boş küme) değil, o yüzden False döner"
   ]
  },
  {
   "cell_type": "markdown",
   "id": "57808cc7-4fa9-4741-a893-707ef64ede1c",
   "metadata": {},
   "source": [
    "<span style=\"color: blue; font-weight: bold;\">Subset (Alt küme)</span> : s1.issubset(s2), s1'in s2'nin alt kümesi olup olmadığını kontrol eder"
   ]
  },
  {
   "cell_type": "code",
   "execution_count": 343,
   "id": "0ef22081-23c0-44a9-a7cd-c75ba5148cff",
   "metadata": {},
   "outputs": [
    {
     "data": {
      "text/plain": [
       "False"
      ]
     },
     "execution_count": 343,
     "metadata": {},
     "output_type": "execute_result"
    }
   ],
   "source": [
    "s1.issubset(s2)"
   ]
  },
  {
   "cell_type": "code",
   "execution_count": 347,
   "id": "b1d002ca-2e7a-426e-827c-643a00402365",
   "metadata": {},
   "outputs": [
    {
     "data": {
      "text/plain": [
       "False"
      ]
     },
     "execution_count": 347,
     "metadata": {},
     "output_type": "execute_result"
    }
   ],
   "source": [
    "s2.issubset(s1)"
   ]
  },
  {
   "cell_type": "markdown",
   "id": "668ad74b-4635-445e-ad03-65087a8efc3c",
   "metadata": {},
   "source": [
    "<span style=\"color: blue; font-weight: bold;\">Superset (üst küme)</span> : s2.issuperset(s3) s2'nin s3'ün üst kümesi olup olmadığını sorgular"
   ]
  },
  {
   "cell_type": "code",
   "execution_count": 350,
   "id": "c208f914-6dc4-4242-a60f-838693aa40bc",
   "metadata": {},
   "outputs": [
    {
     "data": {
      "text/plain": [
       "False"
      ]
     },
     "execution_count": 350,
     "metadata": {},
     "output_type": "execute_result"
    }
   ],
   "source": [
    "s1.issuperset(s2)"
   ]
  },
  {
   "cell_type": "markdown",
   "id": "9b6ddc76-8567-4b23-8450-a04818b7b5e3",
   "metadata": {},
   "source": [
    "<h3 style=\"text-align: center; color: RED\">Non-scalar Veri Tiplerinde For</h3> "
   ]
  },
  {
   "cell_type": "markdown",
   "id": "7237832c-e251-4c37-945c-a10c59d7440a",
   "metadata": {},
   "source": [
    "for döngüsünü işlerken for <değişken> in <obje> yapısında, her iterasyonda değişkenin tek tek objenin elemanlarına eşit olduğunu konuşmuştuk.list, tuple, dictionary non-scalar veri tiplerini gördük ve bunların hepsinin içsel bir yapısı var, şimdi bunların elemanlarında for kullanarak iterasyon yapmaya bakalım."
   ]
  },
  {
   "cell_type": "markdown",
   "id": "ad541c87-c7f8-4326-a857-a2a2e4b1704e",
   "metadata": {},
   "source": [
    "<span style=\"color: blue; font-weight: bold;\">Listelerde İterasyon</span> "
   ]
  },
  {
   "cell_type": "code",
   "execution_count": 358,
   "id": "1d278602-de0a-4799-92cb-15e9e7fed622",
   "metadata": {},
   "outputs": [
    {
     "name": "stdout",
     "output_type": "stream",
     "text": [
      "90\n",
      "72\n",
      "81\n",
      "77\n"
     ]
    }
   ],
   "source": [
    "notlar = [90,72,81,77]\n",
    "\n",
    "for e in notlar:\n",
    "    print(e)"
   ]
  },
  {
   "cell_type": "markdown",
   "id": "027e05a1-6095-448e-a04b-9898766433e2",
   "metadata": {},
   "source": [
    "* Bu sınıftaki not ortalamasına bakmak istiyor olabilirim. Burada e 'nin özel bir anlamı yok, sadece döngünün içinde onu kullanırken o adla referans veriyorum, adı penguen de olabilirdi."
   ]
  },
  {
   "cell_type": "code",
   "execution_count": 364,
   "id": "8d4a1715-ac81-4b48-8d23-c7f32bda45cc",
   "metadata": {},
   "outputs": [
    {
     "name": "stdout",
     "output_type": "stream",
     "text": [
      "80.0\n"
     ]
    }
   ],
   "source": [
    "t = 0\n",
    "for e in notlar:\n",
    "    t += e\n",
    "    \n",
    "ortalama = t / len(notlar)\n",
    "\n",
    "print(ortalama)"
   ]
  },
  {
   "cell_type": "code",
   "execution_count": 366,
   "id": "c2ff1eae-9f41-4996-a823-9566cb607c0b",
   "metadata": {},
   "outputs": [
    {
     "name": "stdout",
     "output_type": "stream",
     "text": [
      "Iteration:  0\n",
      "Iteration:  1\n",
      "Iteration:  2\n",
      "Iteration:  3\n"
     ]
    }
   ],
   "source": [
    "for i in range(4):\n",
    "    print(\"Iteration: \", i)"
   ]
  },
  {
   "cell_type": "code",
   "execution_count": 368,
   "id": "b893a9af-69a0-4783-ba2a-d58931f63d61",
   "metadata": {},
   "outputs": [
    {
     "name": "stdout",
     "output_type": "stream",
     "text": [
      "Ortalama: 80.0\n"
     ]
    }
   ],
   "source": [
    "t = 0\n",
    "\n",
    "for i in range(len(notlar)):\n",
    "    t += notlar[i]\n",
    "    \n",
    "ortalama = t / len(notlar)\n",
    "\n",
    "print(\"Ortalama:\",ortalama)"
   ]
  },
  {
   "cell_type": "markdown",
   "id": "f955a2ce-86c8-4f3b-a0a2-41e4c9ccf908",
   "metadata": {},
   "source": [
    "* Diyelim ki öğretmen farketti ki herkese 5 puan az vermiş, herkesin puanını 5 arttırmak istiyor, bunu direkt listenin elemanlarında iterasyon yaparak yapamam. Listenin indexlerine erişip o değeri güncellemem lazım."
   ]
  },
  {
   "cell_type": "code",
   "execution_count": 381,
   "id": "30dfdda0-2542-49b1-be42-51896cca399c",
   "metadata": {},
   "outputs": [
    {
     "name": "stdout",
     "output_type": "stream",
     "text": [
      "90\n",
      "72\n",
      "81\n",
      "77\n"
     ]
    }
   ],
   "source": [
    "notlar = [90,72,81,77]\n",
    "[90, 72, 81, 77]\n",
    "for e in notlar:\n",
    "    print(e)"
   ]
  },
  {
   "cell_type": "markdown",
   "id": "af09bf45-13a2-48b9-be18-bb0a8ab15462",
   "metadata": {},
   "source": [
    "* Buradaki e sadece notların içindeki değerler,e 'yi değiştirmek listenin elemanlarını değiştirmez!"
   ]
  },
  {
   "cell_type": "code",
   "execution_count": 374,
   "id": "4dfd9db4-09cc-4451-a69c-9ce7ba44c7f4",
   "metadata": {},
   "outputs": [
    {
     "name": "stdout",
     "output_type": "stream",
     "text": [
      "90\n",
      "100\n",
      "[90, 72, 81, 77]\n",
      "--------------\n",
      "72\n",
      "82\n",
      "[90, 72, 81, 77]\n",
      "--------------\n",
      "81\n",
      "91\n",
      "[90, 72, 81, 77]\n",
      "--------------\n",
      "77\n",
      "87\n",
      "[90, 72, 81, 77]\n",
      "--------------\n",
      "[90, 72, 81, 77]\n"
     ]
    }
   ],
   "source": [
    "for e in notlar:\n",
    "    print(e)\n",
    "    e = e + 10\n",
    "    print(e)\n",
    "    print(notlar)\n",
    "    print(\"--------------\")\n",
    "\n",
    "print(notlar)"
   ]
  },
  {
   "cell_type": "markdown",
   "id": "9ae216f5-b340-4daf-b641-7b3b779741b2",
   "metadata": {},
   "source": [
    "* Güncelleme mantığını range() ile indexlerinde iterasyon yaparak yapacağım."
   ]
  },
  {
   "cell_type": "code",
   "execution_count": 383,
   "id": "74c65bf7-8789-434e-a4bc-994acb0fe756",
   "metadata": {},
   "outputs": [
    {
     "data": {
      "text/plain": [
       "[95, 77, 86, 82]"
      ]
     },
     "execution_count": 383,
     "metadata": {},
     "output_type": "execute_result"
    }
   ],
   "source": [
    "for i in range(len(notlar)): notlar[i] += 5\n",
    "\n",
    "notlar"
   ]
  },
  {
   "cell_type": "markdown",
   "id": "3f4bf95a-8704-4706-be16-ab27379da4f5",
   "metadata": {},
   "source": [
    "* Hadi biraz da continue mantığının alıştırmasını yapmış olalım. Diyelim ki öğretmen 2. öğrencinin kağıdını doğru okumuş, 2. öğrenci (index 1'deki) hariç hepsinin değerini 5 arttıracak:"
   ]
  },
  {
   "cell_type": "code",
   "execution_count": 386,
   "id": "405cc14e-2baa-45e9-b40e-98762e69ce36",
   "metadata": {},
   "outputs": [
    {
     "name": "stdout",
     "output_type": "stream",
     "text": [
      "[95, 72, 86, 82]\n"
     ]
    }
   ],
   "source": [
    "notlar = [90,72,81,77]\n",
    "for i in range(len(notlar)):\n",
    "    if i==1:\n",
    "        continue\n",
    "    notlar[i]+=5\n",
    "print(notlar)"
   ]
  },
  {
   "cell_type": "markdown",
   "id": "2a82048f-26bf-4107-aa3b-9951118a7e97",
   "metadata": {},
   "source": [
    "Şimdi de break egzersizi yapalım.Diyelim ki bir listenin içinde belirli bir eleman var mı diye kontrol etmek istiyoruz. Bulunca aramaya devam etmeyeceğim. Devam etme mantığını break ile sağlayacağım.İlk kullanıcıya hangi sayıyı aradığını soracağız, sonra bu sayı var mı kontrol edeceğiz."
   ]
  },
  {
   "cell_type": "code",
   "execution_count": 389,
   "id": "bce75de2-3725-4e6d-89ed-3bbc2c791d25",
   "metadata": {},
   "outputs": [
    {
     "name": "stdin",
     "output_type": "stream",
     "text": [
      "Hangi sayıyı kontrol edeyim?: 100\n"
     ]
    },
    {
     "name": "stdout",
     "output_type": "stream",
     "text": [
      "2\n",
      "3\n",
      "40\n",
      "100\n",
      "Buldum!!\n"
     ]
    }
   ],
   "source": [
    "x = int(input(\"Hangi sayıyı kontrol edeyim?:\"))\n",
    "\n",
    "l = [2,3,40,100,10,1]\n",
    "\n",
    "for e in l:\n",
    "    print(e) # iterasyon break ile çıkmış mı görelim mi diye\n",
    "    if e == x:\n",
    "        print(\"Buldum!!\")\n",
    "        break"
   ]
  },
  {
   "cell_type": "markdown",
   "id": "b5045a12-eac5-4c57-98f5-a32e0418d481",
   "metadata": {},
   "source": [
    "<span style=\"color: blue; font-weight: bold;\">Dictionary'lerde İterasyon</span> "
   ]
  },
  {
   "cell_type": "code",
   "execution_count": 393,
   "id": "1e9882bf-1844-4da6-b41c-98467874eb55",
   "metadata": {},
   "outputs": [],
   "source": [
    "d = {\"student_1\": [90,89], \"student_2\": [80,83], \"student_3\": [72,71]}"
   ]
  },
  {
   "cell_type": "code",
   "execution_count": 395,
   "id": "5ace055c-a9cf-4c8d-9252-d982ff7b376e",
   "metadata": {},
   "outputs": [
    {
     "name": "stdout",
     "output_type": "stream",
     "text": [
      "student_1\n",
      "student_2\n",
      "student_3\n"
     ]
    }
   ],
   "source": [
    "for k in d:\n",
    "    print(k)"
   ]
  },
  {
   "cell_type": "markdown",
   "id": "f070b252-6297-4948-b6ab-51b5a3d9c52f",
   "metadata": {},
   "source": [
    "* Değerlerine ulaşmak istiyorsam şöyle yapabilirdim:"
   ]
  },
  {
   "cell_type": "code",
   "execution_count": 398,
   "id": "8e98f221-ce49-4639-80b4-7332cf87bf44",
   "metadata": {},
   "outputs": [
    {
     "name": "stdout",
     "output_type": "stream",
     "text": [
      "[90, 89]\n",
      "[80, 83]\n",
      "[72, 71]\n"
     ]
    }
   ],
   "source": [
    "for k in d:\n",
    "    v = d[k]\n",
    "    print(v)"
   ]
  },
  {
   "cell_type": "markdown",
   "id": "7331dea5-e15d-4b24-bc85-5f1d73fa3c89",
   "metadata": {},
   "source": [
    "* Veya d.values() diyerek value'lerında iterasyon yapabilirim. Burada for <değişken> in <obje> yapısında <değişken> int vs gibi şeyler değil liste gibi yapılar da olabilir iterasyon içerisinde, burada da öyle oldu. bu .values() 'dan dolayı olan bir şey değil, dictionary'nin value'lerı int olsa böyle olmazdı."
   ]
  },
  {
   "cell_type": "code",
   "execution_count": 401,
   "id": "d4b7eae5-ea14-4a11-9431-9d29fadce4dd",
   "metadata": {},
   "outputs": [],
   "source": [
    "d = {\"student_1\": 90, \"student_2\": 80, \"student_3\": 72}"
   ]
  },
  {
   "cell_type": "code",
   "execution_count": 403,
   "id": "18affed4-f0fa-4f60-954e-7785262a4ace",
   "metadata": {},
   "outputs": [
    {
     "name": "stdout",
     "output_type": "stream",
     "text": [
      "90\n",
      "80\n",
      "72\n"
     ]
    }
   ],
   "source": [
    "for v in d.values():\n",
    "    print(v)"
   ]
  },
  {
   "cell_type": "markdown",
   "id": "50ff5d20-d77c-4bff-839b-fabb8685daef",
   "metadata": {},
   "source": [
    "* 85'den fazla alan biri var mı diye bakmak istiyorum diyelim, ve bunun kim olduğunu (olduklarını) bulmak istiyorum."
   ]
  },
  {
   "cell_type": "code",
   "execution_count": 406,
   "id": "6ac88efb-e5a6-46d0-ba66-ab461832fdc7",
   "metadata": {},
   "outputs": [],
   "source": [
    "d = {\"student_1\": 90, \"student_2\": 80, \"student_3\": 72}"
   ]
  },
  {
   "cell_type": "code",
   "execution_count": 408,
   "id": "0c70e761-73f4-4f14-90af-c81d20cd9a47",
   "metadata": {},
   "outputs": [
    {
     "name": "stdout",
     "output_type": "stream",
     "text": [
      "student_1\n"
     ]
    }
   ],
   "source": [
    "for k in d:\n",
    "    value = d[k]\n",
    "    \n",
    "    if value > 85:\n",
    "        print(k)"
   ]
  },
  {
   "cell_type": "markdown",
   "id": "3473b3aa-fe34-4859-8868-5be7b8067143",
   "metadata": {},
   "source": [
    "* Aynı anda hem key hem de value'larda iterasyon yapmak için:"
   ]
  },
  {
   "cell_type": "code",
   "execution_count": 411,
   "id": "f8d4ae0b-cbb6-4108-8077-94771c94e91e",
   "metadata": {},
   "outputs": [
    {
     "name": "stdout",
     "output_type": "stream",
     "text": [
      "key değeri: student_1 value değeri: 90\n",
      "key değeri: student_2 value değeri: 80\n",
      "key değeri: student_3 value değeri: 72\n"
     ]
    }
   ],
   "source": [
    "d = {\"student_1\": 90, \"student_2\": 80, \"student_3\": 72}\n",
    "for k,v in d.items():\n",
    "    print(\"key değeri:\", k, \"value değeri:\", v)"
   ]
  },
  {
   "cell_type": "markdown",
   "id": "e50d545c-4135-48e4-a4c5-7ebaf1808fe1",
   "metadata": {},
   "source": [
    "<h3 style=\"text-align: center; color: RED\">SPLIT-JOIN</h3> "
   ]
  },
  {
   "cell_type": "markdown",
   "id": "681a09c4-ba1f-4c1f-8785-0988e2736137",
   "metadata": {},
   "source": [
    "split(): Belirli bir bölme kriterine göre string'in alt parçalarını listenin elemanları olarak dönüştürebiliriz."
   ]
  },
  {
   "cell_type": "code",
   "execution_count": 416,
   "id": "db7504a4-1199-41d6-b3f4-974cd6134b60",
   "metadata": {},
   "outputs": [],
   "source": [
    "s = \"merhaba nasılsın ?\""
   ]
  },
  {
   "cell_type": "code",
   "execution_count": 418,
   "id": "020ac516-8b29-4c96-8d58-f59a2aec2a4a",
   "metadata": {},
   "outputs": [
    {
     "data": {
      "text/plain": [
       "['merhaba', 'nasılsın', '?']"
      ]
     },
     "execution_count": 418,
     "metadata": {},
     "output_type": "execute_result"
    }
   ],
   "source": [
    "s.split(\" \")"
   ]
  },
  {
   "cell_type": "markdown",
   "id": "eac9e5e9-96d5-46d2-a28d-c7c66dffc9bf",
   "metadata": {},
   "source": [
    "* hiç bir şey yazmazsak default olarak boşluğa göre böler."
   ]
  },
  {
   "cell_type": "markdown",
   "id": "62d97bc3-d737-4393-b26b-f982fe4ec0b5",
   "metadata": {},
   "source": [
    "s.split()"
   ]
  },
  {
   "cell_type": "code",
   "execution_count": 423,
   "id": "3d81a2cf-2778-47ce-a37b-aba1a73228b9",
   "metadata": {},
   "outputs": [
    {
     "data": {
      "text/plain": [
       "['limon,portakal,elma']"
      ]
     },
     "execution_count": 423,
     "metadata": {},
     "output_type": "execute_result"
    }
   ],
   "source": [
    "s2 = \"limon,portakal,elma\"\n",
    "s2.split()"
   ]
  },
  {
   "cell_type": "code",
   "execution_count": 425,
   "id": "cc7dbe1e-1f53-46ef-af3d-a160750de606",
   "metadata": {},
   "outputs": [
    {
     "data": {
      "text/plain": [
       "['limon', 'portakal', 'elma']"
      ]
     },
     "execution_count": 425,
     "metadata": {},
     "output_type": "execute_result"
    }
   ],
   "source": [
    "s2.split(',')"
   ]
  },
  {
   "cell_type": "markdown",
   "id": "169fd557-416b-4ec5-8237-e723f93572b6",
   "metadata": {},
   "source": [
    "join(): listenin elemanları arasına belirtilen yapıyı koyup string'e dönüştürür.\n",
    "\n",
    "\"patern\".join(elemanları kullanılacak liste)"
   ]
  },
  {
   "cell_type": "code",
   "execution_count": 428,
   "id": "e6161198-1924-42fb-837a-570a8ce4e15b",
   "metadata": {},
   "outputs": [
    {
     "data": {
      "text/plain": [
       "'limon,portakal,elma'"
      ]
     },
     "execution_count": 428,
     "metadata": {},
     "output_type": "execute_result"
    }
   ],
   "source": [
    "l = ['limon', 'portakal', 'elma']\n",
    "\",\".join(l)"
   ]
  },
  {
   "cell_type": "code",
   "execution_count": 430,
   "id": "19c2707c-34c1-4662-bf95-dfeedcf747ff",
   "metadata": {},
   "outputs": [
    {
     "data": {
      "text/plain": [
       "'limon-portakal-elma'"
      ]
     },
     "execution_count": 430,
     "metadata": {},
     "output_type": "execute_result"
    }
   ],
   "source": [
    "\"-\".join(l)"
   ]
  },
  {
   "cell_type": "code",
   "execution_count": 432,
   "id": "481089db-c1de-447e-bae5-d2050f884005",
   "metadata": {},
   "outputs": [
    {
     "data": {
      "text/plain": [
       "'limon/portakal/elma'"
      ]
     },
     "execution_count": 432,
     "metadata": {},
     "output_type": "execute_result"
    }
   ],
   "source": [
    "\"/\".join(l)"
   ]
  },
  {
   "cell_type": "code",
   "execution_count": 436,
   "id": "cd27ed71-e979-44c0-b949-74738cc9bcb6",
   "metadata": {},
   "outputs": [
    {
     "name": "stdout",
     "output_type": "stream",
     "text": [
      "['ad1.soyad1@gmail.com', 'ad2.soyad2@gmail.com', 'ad3.soyad3@gmail.com']\n"
     ]
    }
   ],
   "source": [
    "mailler={'kisi1':\"ad1.soyad1@gmail.com\",'kisi2':\"ad2.soyad2@gmail.com\",'kisi3':\"ad3.soyad3@gmail.com\"} \n",
    "l=[]\n",
    "for v in mailler.values():\n",
    "    l.append(v)\n",
    "print(l)"
   ]
  },
  {
   "cell_type": "code",
   "execution_count": 448,
   "id": "a568739e-d9b0-4353-8bd2-cc977115d0b3",
   "metadata": {},
   "outputs": [
    {
     "data": {
      "text/plain": [
       "'ad1.soyad1@gmail.com,ad2.soyad2@gmail.com,ad3.soyad3@gmail.com'"
      ]
     },
     "execution_count": 448,
     "metadata": {},
     "output_type": "execute_result"
    }
   ],
   "source": [
    "\",\".join(l)"
   ]
  },
  {
   "cell_type": "markdown",
   "id": "f7f743a0-f86d-4c35-a1fc-cc5307101e6c",
   "metadata": {},
   "source": [
    "<h3 style=\"text-align: center; color: RED\">List Comprehensions</h3> "
   ]
  },
  {
   "cell_type": "code",
   "execution_count": 454,
   "id": "d92d0dda-ed08-40d9-a461-47b5a27bad41",
   "metadata": {},
   "outputs": [
    {
     "data": {
      "text/plain": [
       "[1, 4, 9, 16, 25, 36, 49, 64, 81, 100]"
      ]
     },
     "execution_count": 454,
     "metadata": {},
     "output_type": "execute_result"
    }
   ],
   "source": [
    "squares = []\n",
    "\n",
    "for i in range(1,11):\n",
    "    squares.append(i*i)\n",
    "squares"
   ]
  },
  {
   "cell_type": "markdown",
   "id": "9c936734-b3f4-4802-8a2d-d5572b31e4d3",
   "metadata": {},
   "source": [
    "* Bunun aynısını list comprehension kullanarak da yapabiliriz."
   ]
  },
  {
   "cell_type": "code",
   "execution_count": 457,
   "id": "58159924-09d3-4c30-bfd2-8bc61dd8419a",
   "metadata": {},
   "outputs": [],
   "source": [
    "squares = [i * i for i in range(1,11)]"
   ]
  },
  {
   "cell_type": "code",
   "execution_count": 459,
   "id": "ed3033ac-4bf1-404a-b1b4-c748dc2afb73",
   "metadata": {},
   "outputs": [
    {
     "data": {
      "text/plain": [
       "[1, 4, 9, 16, 25, 36, 49, 64, 81, 100]"
      ]
     },
     "execution_count": 459,
     "metadata": {},
     "output_type": "execute_result"
    }
   ],
   "source": [
    "squares"
   ]
  },
  {
   "cell_type": "code",
   "execution_count": 461,
   "id": "90dce635-4dda-4fa5-a81f-7a70d0b34efd",
   "metadata": {},
   "outputs": [],
   "source": [
    "# list comprehension ve fonksiyon mantığını birleştirme\n",
    "\n",
    "def cube(x):\n",
    "    return x * x * x # x ** 3"
   ]
  },
  {
   "cell_type": "code",
   "execution_count": 463,
   "id": "d1897500-ca96-45c4-88ff-c39c47a764ca",
   "metadata": {},
   "outputs": [],
   "source": [
    "cubes = [cube(x) for x in range(1,11)]"
   ]
  },
  {
   "cell_type": "code",
   "execution_count": 465,
   "id": "c2e0d72b-91d5-4a0d-9895-3ec1927e3563",
   "metadata": {},
   "outputs": [
    {
     "data": {
      "text/plain": [
       "[1, 8, 27, 64, 125, 216, 343, 512, 729, 1000]"
      ]
     },
     "execution_count": 465,
     "metadata": {},
     "output_type": "execute_result"
    }
   ],
   "source": [
    "cubes"
   ]
  },
  {
   "cell_type": "markdown",
   "id": "5152e177-c995-4c86-85b5-3015c828b8ea",
   "metadata": {},
   "source": [
    "* List Comprehension'larda Conditional Yapıların Kullanılması"
   ]
  },
  {
   "cell_type": "code",
   "execution_count": 468,
   "id": "8afe22c2-5902-4a78-a8bf-756d56cb422a",
   "metadata": {},
   "outputs": [],
   "source": [
    "squares = [1, 4, 9, 16, 25, 36, 49, 64, 81, 100]\n",
    "odd_squares = []\n",
    "\n",
    "for e in squares:\n",
    "    \n",
    "    if e % 2 == 1:\n",
    "        odd_squares.append(e)"
   ]
  },
  {
   "cell_type": "code",
   "execution_count": 470,
   "id": "8c1eb737-e8f3-41ff-9949-15c6ca5ab964",
   "metadata": {},
   "outputs": [
    {
     "data": {
      "text/plain": [
       "[1, 9, 25, 49, 81]"
      ]
     },
     "execution_count": 470,
     "metadata": {},
     "output_type": "execute_result"
    }
   ],
   "source": [
    "odd_squares"
   ]
  },
  {
   "cell_type": "code",
   "execution_count": 472,
   "id": "b3a0db0a-e0f2-45df-bf6f-d0a389e36846",
   "metadata": {},
   "outputs": [],
   "source": [
    "# squares listindeki tek elemanlardan yeni bir liste yaratmak\n",
    "\n",
    "odd_squares = [e for e in squares if e % 2 == 1]"
   ]
  },
  {
   "cell_type": "code",
   "execution_count": 474,
   "id": "518c1c42-5623-4fb9-82f1-8b38c5a3aea2",
   "metadata": {},
   "outputs": [
    {
     "data": {
      "text/plain": [
       "[1, 9, 25, 49, 81]"
      ]
     },
     "execution_count": 474,
     "metadata": {},
     "output_type": "execute_result"
    }
   ],
   "source": [
    "odd_squares"
   ]
  },
  {
   "cell_type": "code",
   "execution_count": 476,
   "id": "68789f84-0e59-4da1-be45-221bb0feb92f",
   "metadata": {},
   "outputs": [],
   "source": [
    "# bu test mantığını fonksiyonla da sağlayabilirdik\n",
    "\n",
    "def is_odd(x): \n",
    "    \n",
    "    if x % 2 == 0:\n",
    "        return False\n",
    "    \n",
    "    if x % 2 == 1:\n",
    "        return True"
   ]
  },
  {
   "cell_type": "code",
   "execution_count": 478,
   "id": "8fad8aa6-6ddb-4cee-9642-2ecfd6d37dd4",
   "metadata": {},
   "outputs": [],
   "source": [
    "odd_squares = [e for e in squares if is_odd(e)]"
   ]
  },
  {
   "cell_type": "code",
   "execution_count": 480,
   "id": "e7437893-3962-45d5-843e-d9626a9acdf7",
   "metadata": {},
   "outputs": [
    {
     "data": {
      "text/plain": [
       "[1, 9, 25, 49, 81]"
      ]
     },
     "execution_count": 480,
     "metadata": {},
     "output_type": "execute_result"
    }
   ],
   "source": [
    "odd_squares"
   ]
  },
  {
   "cell_type": "code",
   "execution_count": 482,
   "id": "50c6490f-9d39-42d9-bafa-656ce389ff81",
   "metadata": {},
   "outputs": [],
   "source": [
    "def is_even(x):\n",
    "    \n",
    "    if x % 2 == 0:\n",
    "        return True\n",
    "    \n",
    "    if x % 2 == 1:\n",
    "        return False"
   ]
  },
  {
   "cell_type": "code",
   "execution_count": 484,
   "id": "af4302d5-c0d5-419a-bb36-e0012c62235c",
   "metadata": {},
   "outputs": [
    {
     "data": {
      "text/plain": [
       "[4, 16, 36, 64, 100]"
      ]
     },
     "execution_count": 484,
     "metadata": {},
     "output_type": "execute_result"
    }
   ],
   "source": [
    "even_squares = [e for e in squares if is_even(e)]\n",
    "even_squares"
   ]
  },
  {
   "cell_type": "code",
   "execution_count": 486,
   "id": "de73861c-b010-4f20-99e9-9ccc84b84af2",
   "metadata": {},
   "outputs": [
    {
     "data": {
      "text/plain": [
       "[-1, 4, -1, 16, -1, 36, -1, 64, -1, 100]"
      ]
     },
     "execution_count": 486,
     "metadata": {},
     "output_type": "execute_result"
    }
   ],
   "source": [
    "weird_squares = [e if e % 2 == 0 else -1 for e in squares]\n",
    "weird_squares"
   ]
  },
  {
   "cell_type": "code",
   "execution_count": 488,
   "id": "11148fc9-0470-42c9-a08a-81aedf13e4d8",
   "metadata": {},
   "outputs": [
    {
     "data": {
      "text/plain": [
       "[4, 16, 36, 64, 100]"
      ]
     },
     "execution_count": 488,
     "metadata": {},
     "output_type": "execute_result"
    }
   ],
   "source": [
    "ultra_weird_squares = [e if e % 2 == 0 else -1 for e in squares if is_even(e)]\n",
    "ultra_weird_squares\n"
   ]
  },
  {
   "cell_type": "markdown",
   "id": "98efdc72-ebc2-4e8b-9228-b8ccd997044b",
   "metadata": {},
   "source": [
    "<h3 style=\"text-align: center; color: RED\">Dictionary Comprehension</h3> \n",
    "\n"
   ]
  },
  {
   "cell_type": "code",
   "execution_count": 493,
   "id": "317c74eb-851a-4660-8161-db30be979215",
   "metadata": {},
   "outputs": [],
   "source": [
    "square_dict = {e:e * e for e in range(1,11)}"
   ]
  },
  {
   "cell_type": "code",
   "execution_count": 495,
   "id": "b38352ec-2b8c-4428-8592-1870c8340efb",
   "metadata": {},
   "outputs": [
    {
     "data": {
      "text/plain": [
       "{1: 1, 2: 4, 3: 9, 4: 16, 5: 25, 6: 36, 7: 49, 8: 64, 9: 81, 10: 100}"
      ]
     },
     "execution_count": 495,
     "metadata": {},
     "output_type": "execute_result"
    }
   ],
   "source": [
    "square_dict"
   ]
  },
  {
   "cell_type": "markdown",
   "id": "fb3d3313-8466-4e32-8033-61517c3e118a",
   "metadata": {},
   "source": [
    "<h3 style=\"text-align: center; color: RED\">Nested List Comprehension\n",
    "</h3> "
   ]
  },
  {
   "cell_type": "code",
   "execution_count": 499,
   "id": "c1643e13-4db6-4ea2-afd9-93f135e4031d",
   "metadata": {},
   "outputs": [
    {
     "data": {
      "text/plain": [
       "[[0, 1, 2, 3, 4, 5, 6],\n",
       " [0, 1, 2, 3, 4, 5, 6],\n",
       " [0, 1, 2, 3, 4, 5, 6],\n",
       " [0, 1, 2, 3, 4, 5, 6],\n",
       " [0, 1, 2, 3, 4, 5, 6]]"
      ]
     },
     "execution_count": 499,
     "metadata": {},
     "output_type": "execute_result"
    }
   ],
   "source": [
    "m = [[j for j in range(7)] for i in range(5)]\n",
    "m"
   ]
  },
  {
   "cell_type": "code",
   "execution_count": 501,
   "id": "d95980ef-658a-4a45-959f-d51e63373717",
   "metadata": {},
   "outputs": [
    {
     "name": "stdout",
     "output_type": "stream",
     "text": [
      "[10, 11, 12]\n",
      "[13, 14]\n",
      "[15, 16, 17, 18]\n"
     ]
    }
   ],
   "source": [
    "m = [[10, 11, 12], [13, 14], [15, 16, 17, 18]] \n",
    "for l in m:\n",
    "    print(l)"
   ]
  },
  {
   "cell_type": "code",
   "execution_count": 503,
   "id": "06c475d1-8ead-46b6-902b-8b9b5e3e4158",
   "metadata": {},
   "outputs": [
    {
     "name": "stdout",
     "output_type": "stream",
     "text": [
      "[10, 11, 12]\n",
      "[13, 14]\n",
      "[15, 16, 17, 18]\n"
     ]
    }
   ],
   "source": [
    "m = [[10, 11, 12], [13, 14], [15, 16, 17, 18]] \n",
    "for l in m:\n",
    "    print(l)"
   ]
  },
  {
   "cell_type": "code",
   "execution_count": 507,
   "id": "da04085a-e9b2-4302-873f-8032d0d31f78",
   "metadata": {},
   "outputs": [
    {
     "name": "stdout",
     "output_type": "stream",
     "text": [
      "[10, 11, 12]\n",
      "10\n",
      "11\n",
      "12\n",
      "[13, 14]\n",
      "13\n",
      "14\n",
      "[15, 16, 17, 18]\n",
      "15\n",
      "16\n",
      "17\n",
      "18\n"
     ]
    },
    {
     "data": {
      "text/plain": [
       "[10, 11, 12, 13, 14, 15, 16, 17, 18]"
      ]
     },
     "execution_count": 507,
     "metadata": {},
     "output_type": "execute_result"
    }
   ],
   "source": [
    "new_m = []\n",
    "for l in m:\n",
    "    print(l)\n",
    "    for e in l:\n",
    "        new_m.append(e)\n",
    "        print(e)\n",
    "new_m"
   ]
  },
  {
   "cell_type": "code",
   "execution_count": 509,
   "id": "ecea4531-c070-4656-ae48-481d1cce678e",
   "metadata": {},
   "outputs": [],
   "source": [
    "# matrixi list comprehension ile flat etmek\n",
    "\n",
    "flatten_m = [e for l in m for e in l]"
   ]
  },
  {
   "cell_type": "code",
   "execution_count": 511,
   "id": "8ddaa4be-50f2-43f7-bfc4-1556ad1826d8",
   "metadata": {},
   "outputs": [
    {
     "data": {
      "text/plain": [
       "[10, 11, 12, 13, 14, 15, 16, 17, 18]"
      ]
     },
     "execution_count": 511,
     "metadata": {},
     "output_type": "execute_result"
    }
   ],
   "source": [
    "flatten_m"
   ]
  },
  {
   "cell_type": "code",
   "execution_count": 513,
   "id": "79c57f6d-2070-4628-966e-de9f61320d9a",
   "metadata": {},
   "outputs": [],
   "source": [
    "# Sadece çift değerleri kabul edecek\n",
    "flatten_m = [e for l in m for e in l if e % 2 == 0]"
   ]
  },
  {
   "cell_type": "code",
   "execution_count": 515,
   "id": "8b012e93-11b1-4037-9a45-7c18eb538cdd",
   "metadata": {},
   "outputs": [
    {
     "data": {
      "text/plain": [
       "[10, 12, 14, 16, 18]"
      ]
     },
     "execution_count": 515,
     "metadata": {},
     "output_type": "execute_result"
    }
   ],
   "source": [
    "flatten_m"
   ]
  },
  {
   "cell_type": "code",
   "execution_count": 519,
   "id": "bf27007e-0cca-4325-9405-02c8d21a126b",
   "metadata": {},
   "outputs": [
    {
     "data": {
      "text/plain": [
       "[25, 36, 62, 28, 38, 64, 30, 40, 67, 1, 27, 56, 1, 25, 55, 2, 21, 51]"
      ]
     },
     "execution_count": 519,
     "metadata": {},
     "output_type": "execute_result"
    }
   ],
   "source": [
    "m=[[[ 25, 36, 62],[ 28, 38, 64],[ 30, 40, 67]],[[ 1, 27, 56],[ 1, 25, 55],[ 2, 21, 51]]]\n",
    "\n",
    "[i for l in m for e in l for i in e]\n",
    "\n"
   ]
  },
  {
   "cell_type": "markdown",
   "id": "2bb09784-570a-495a-8969-8243e4c92b93",
   "metadata": {},
   "source": [
    "<h3 style=\"text-align: center; color: RED\">Varible Unpacking</h3> "
   ]
  },
  {
   "cell_type": "markdown",
   "id": "01a3b153-87a0-4fbd-923b-306f79516ada",
   "metadata": {},
   "source": [
    "Şimdiye kadar hep tek değişkene tek değer verdik.Peki bir seferde birden çok değişkene değer vermek için ne yaparız?\n",
    "Aşağıdaki kodun sonucu,\n",
    "x=4\n",
    "\n",
    "y=7\n",
    "\n",
    "ile aynı\n",
    "\n",
    "x, y = "
   ]
  },
  {
   "cell_type": "code",
   "execution_count": 524,
   "id": "668cc511-0fad-43f0-8da1-4d4f2ae38e12",
   "metadata": {},
   "outputs": [],
   "source": [
    "x, y = (4, 7)"
   ]
  },
  {
   "cell_type": "code",
   "execution_count": 526,
   "id": "da0df144-cc98-4677-9c3e-97be09875db4",
   "metadata": {},
   "outputs": [
    {
     "data": {
      "text/plain": [
       "4"
      ]
     },
     "execution_count": 526,
     "metadata": {},
     "output_type": "execute_result"
    }
   ],
   "source": [
    "x"
   ]
  },
  {
   "cell_type": "code",
   "execution_count": 530,
   "id": "395d810f-b758-4ae2-b5cd-77c97e18557b",
   "metadata": {},
   "outputs": [
    {
     "data": {
      "text/plain": [
       "7"
      ]
     },
     "execution_count": 530,
     "metadata": {},
     "output_type": "execute_result"
    }
   ],
   "source": [
    "y"
   ]
  },
  {
   "cell_type": "markdown",
   "id": "6716f8fd-c154-4221-957d-3243f71f67f9",
   "metadata": {},
   "source": [
    "* 2'den çok değere de bunu yapabiliriz."
   ]
  },
  {
   "cell_type": "code",
   "execution_count": 533,
   "id": "07c2e725-65b0-4d06-9cd8-ef63fd7383c1",
   "metadata": {},
   "outputs": [],
   "source": [
    "x, y, z = (4, 7, 11)"
   ]
  },
  {
   "cell_type": "code",
   "execution_count": 535,
   "id": "f8927405-71c3-4b7c-a3f3-89d3691ea28f",
   "metadata": {},
   "outputs": [
    {
     "name": "stdout",
     "output_type": "stream",
     "text": [
      "4 7 11\n"
     ]
    }
   ],
   "source": [
    "print(x, y ,z)"
   ]
  },
  {
   "cell_type": "code",
   "execution_count": 537,
   "id": "c269512c-6bc9-4314-aebf-e4df5147fdda",
   "metadata": {},
   "outputs": [
    {
     "ename": "ValueError",
     "evalue": "too many values to unpack (expected 3)",
     "output_type": "error",
     "traceback": [
      "\u001b[1;31m---------------------------------------------------------------------------\u001b[0m",
      "\u001b[1;31mValueError\u001b[0m                                Traceback (most recent call last)",
      "Cell \u001b[1;32mIn[537], line 1\u001b[0m\n\u001b[1;32m----> 1\u001b[0m x, y, z \u001b[38;5;241m=\u001b[39m (\u001b[38;5;241m4\u001b[39m, \u001b[38;5;241m7\u001b[39m, \u001b[38;5;241m11\u001b[39m, \u001b[38;5;241m4\u001b[39m, \u001b[38;5;241m21\u001b[39m)\n",
      "\u001b[1;31mValueError\u001b[0m: too many values to unpack (expected 3)"
     ]
    }
   ],
   "source": [
    "x, y, z = (4, 7, 11, 4, 21)#sağdaki ve soldaki değerler eşit olmalı"
   ]
  },
  {
   "cell_type": "markdown",
   "id": "67a53d88-e3a2-465f-a93a-691a88b90f26",
   "metadata": {},
   "source": [
    "* Bunu gidermek için * yapısını kullanacağız. Aşağıdaki kod şu demek oluyor: İlk iki elemanı x ve y'ye eşitle, sonuna kadar kalan diğer tüm elemanları z'ye eşitle. Bunun sonunda z 11,2,21'den oluşacak, tipi list olacak."
   ]
  },
  {
   "cell_type": "code",
   "execution_count": 540,
   "id": "5d930082-b71a-41e9-9c12-41e97d783016",
   "metadata": {},
   "outputs": [],
   "source": [
    "x, y, *z = (4, 7, 11, 4, 21)"
   ]
  },
  {
   "cell_type": "code",
   "execution_count": 542,
   "id": "c9e91169-2897-419a-a1f4-4d165b28714d",
   "metadata": {},
   "outputs": [
    {
     "data": {
      "text/plain": [
       "4"
      ]
     },
     "execution_count": 542,
     "metadata": {},
     "output_type": "execute_result"
    }
   ],
   "source": [
    "x"
   ]
  },
  {
   "cell_type": "code",
   "execution_count": 544,
   "id": "45b94a48-0902-4e26-a6c1-c21ec24b73db",
   "metadata": {},
   "outputs": [
    {
     "data": {
      "text/plain": [
       "7"
      ]
     },
     "execution_count": 544,
     "metadata": {},
     "output_type": "execute_result"
    }
   ],
   "source": [
    "y"
   ]
  },
  {
   "cell_type": "code",
   "execution_count": 546,
   "id": "9ff3605f-c9eb-459b-a4d7-e9ff5b78fbd9",
   "metadata": {},
   "outputs": [
    {
     "data": {
      "text/plain": [
       "[11, 4, 21]"
      ]
     },
     "execution_count": 546,
     "metadata": {},
     "output_type": "execute_result"
    }
   ],
   "source": [
    "z"
   ]
  },
  {
   "cell_type": "code",
   "execution_count": 548,
   "id": "648dbd05-0258-4e59-b1a3-1363c5e27d97",
   "metadata": {},
   "outputs": [
    {
     "data": {
      "text/plain": [
       "list"
      ]
     },
     "execution_count": 548,
     "metadata": {},
     "output_type": "execute_result"
    }
   ],
   "source": [
    "type(z)"
   ]
  },
  {
   "cell_type": "code",
   "execution_count": 550,
   "id": "dc2b6d60-80be-46d2-9f89-9a514f7c5ec4",
   "metadata": {},
   "outputs": [],
   "source": [
    "#Diyelim ki ilk 2 'sini eşitleyip kalan hepsini görmezden gelmek istiyorum.\n",
    "x, y, *_ = (4, 7, 11, 12, 13)\n"
   ]
  },
  {
   "cell_type": "markdown",
   "id": "047e5190-4c2d-4830-8367-88c5ce664e0b",
   "metadata": {},
   "source": [
    "* İlk 2 ve son değeri belirli bir değişkene, arada kalanların hepsini başka bir değişkene eşitlemek istiyorsam:"
   ]
  },
  {
   "cell_type": "code",
   "execution_count": 553,
   "id": "6044d56d-1d47-452b-b0ed-5849044e0231",
   "metadata": {},
   "outputs": [],
   "source": [
    "x, y, *z, t = (4, 7, 11, 4, 21)"
   ]
  },
  {
   "cell_type": "code",
   "execution_count": 555,
   "id": "622a1f24-63e5-4ebf-a5df-525466adff3a",
   "metadata": {},
   "outputs": [
    {
     "data": {
      "text/plain": [
       "4"
      ]
     },
     "execution_count": 555,
     "metadata": {},
     "output_type": "execute_result"
    }
   ],
   "source": [
    "x"
   ]
  },
  {
   "cell_type": "code",
   "execution_count": 557,
   "id": "435d2bd9-3abf-40af-bcda-b54572bc0da5",
   "metadata": {},
   "outputs": [
    {
     "data": {
      "text/plain": [
       "7"
      ]
     },
     "execution_count": 557,
     "metadata": {},
     "output_type": "execute_result"
    }
   ],
   "source": [
    "y"
   ]
  },
  {
   "cell_type": "code",
   "execution_count": 559,
   "id": "5b255057-fbe8-474f-8bce-e5704ba8a096",
   "metadata": {},
   "outputs": [
    {
     "data": {
      "text/plain": [
       "[11, 4]"
      ]
     },
     "execution_count": 559,
     "metadata": {},
     "output_type": "execute_result"
    }
   ],
   "source": [
    "z"
   ]
  },
  {
   "cell_type": "code",
   "execution_count": 561,
   "id": "9f203f70-1e38-4593-871d-ee443a5464bf",
   "metadata": {},
   "outputs": [
    {
     "data": {
      "text/plain": [
       "21"
      ]
     },
     "execution_count": 561,
     "metadata": {},
     "output_type": "execute_result"
    }
   ],
   "source": [
    "t"
   ]
  },
  {
   "cell_type": "markdown",
   "id": "642c438e-2051-4f38-ac4e-10a854b7a2fb",
   "metadata": {},
   "source": [
    "* Ama aşağıdaki kod error verir, çünkü y ve t için kaç tane alacağını bilmiyor."
   ]
  },
  {
   "cell_type": "code",
   "execution_count": 565,
   "id": "123bde20-38ef-4d95-9016-b3994098fb9e",
   "metadata": {},
   "outputs": [
    {
     "ename": "SyntaxError",
     "evalue": "multiple starred expressions in assignment (2588496459.py, line 1)",
     "output_type": "error",
     "traceback": [
      "\u001b[1;36m  Cell \u001b[1;32mIn[565], line 1\u001b[1;36m\u001b[0m\n\u001b[1;33m    x, *y, *t = (4, 7, 11, 4)\u001b[0m\n\u001b[1;37m    ^\u001b[0m\n\u001b[1;31mSyntaxError\u001b[0m\u001b[1;31m:\u001b[0m multiple starred expressions in assignment\n"
     ]
    }
   ],
   "source": [
    "x, *y, *t = (4, 7, 11, 4)"
   ]
  },
  {
   "cell_type": "markdown",
   "id": "85cbe38e-fc98-4082-86d3-509a781a6738",
   "metadata": {},
   "source": [
    "<h3 style=\"text-align: center; color: RED\">Enumerate-Zip</h3> "
   ]
  },
  {
   "cell_type": "markdown",
   "id": "316e0f02-9ffe-444d-966a-65427607fba7",
   "metadata": {},
   "source": [
    "Enumerate:\n",
    "\n",
    "for ile non-scalar yapılar içerisinde dolaşırken ya elemanları ya da indexleri üzerinde dolanmıştık, ama neden ikisi de aynı anda olmasın?\n",
    "Variable Unpacking konusunda bir tuple, liste gibi yapıların değerlerini birden çok değişkene bir seferde eşitlemeyi görmüştük.\n",
    "Bunun aynısını iterasyonda da yapabiliriz."
   ]
  },
  {
   "cell_type": "code",
   "execution_count": 570,
   "id": "dd6574d7-f784-4778-995c-eb2d8101eab8",
   "metadata": {},
   "outputs": [],
   "source": [
    "l = [(1,2), (10,20)]"
   ]
  },
  {
   "cell_type": "code",
   "execution_count": 572,
   "id": "0a686d98-8bf6-4f9a-8884-5336279c5095",
   "metadata": {},
   "outputs": [
    {
     "name": "stdout",
     "output_type": "stream",
     "text": [
      "(1, 2)\n",
      "(10, 20)\n"
     ]
    }
   ],
   "source": [
    "for e in l:\n",
    "    print(e)"
   ]
  },
  {
   "cell_type": "code",
   "execution_count": 574,
   "id": "58c991e1-46af-4286-b4db-3c630df7858a",
   "metadata": {},
   "outputs": [
    {
     "name": "stdout",
     "output_type": "stream",
     "text": [
      "1\n",
      "2\n",
      "*********\n",
      "10\n",
      "20\n",
      "*********\n"
     ]
    }
   ],
   "source": [
    "for e in l:\n",
    "    a, b = e\n",
    "    print(a)\n",
    "    print(b)\n",
    "    print(\"*********\")"
   ]
  },
  {
   "cell_type": "code",
   "execution_count": 576,
   "id": "ba607a45-3090-4108-b09f-79b86415a054",
   "metadata": {},
   "outputs": [
    {
     "name": "stdout",
     "output_type": "stream",
     "text": [
      "tuple'ın ilk elemanı 1\n",
      "tuple'ın ikinci elemanı 2\n",
      "-----------------------------\n",
      "tuple'ın ilk elemanı 10\n",
      "tuple'ın ikinci elemanı 20\n",
      "-----------------------------\n"
     ]
    }
   ],
   "source": [
    "for a, b in l:\n",
    "    print(\"tuple'ın ilk elemanı\", a)\n",
    "    print(\"tuple'ın ikinci elemanı\", b)\n",
    "    print(\"-----------------------------\")"
   ]
  },
  {
   "cell_type": "markdown",
   "id": "a0aa1aa6-392b-4c82-92b3-03f3d3f0366c",
   "metadata": {},
   "source": [
    "* enumerate() bize (index, element) olarak verecek."
   ]
  },
  {
   "cell_type": "code",
   "execution_count": 579,
   "id": "98a19bca-9d6a-4a1f-94b1-6e2339c81a69",
   "metadata": {},
   "outputs": [],
   "source": [
    "adlar = ['Tyler', 'Blake', 'Cory', 'Cameron']"
   ]
  },
  {
   "cell_type": "code",
   "execution_count": 581,
   "id": "2f157059-a8f5-4305-ba5c-00b388802962",
   "metadata": {},
   "outputs": [
    {
     "name": "stdout",
     "output_type": "stream",
     "text": [
      "Tyler\n",
      "Blake\n",
      "Cory\n",
      "Cameron\n"
     ]
    }
   ],
   "source": [
    "for e in adlar:\n",
    "    print(e)"
   ]
  },
  {
   "cell_type": "code",
   "execution_count": 583,
   "id": "f706a317-dde9-45e0-8453-fd69a46e3ba3",
   "metadata": {},
   "outputs": [
    {
     "name": "stdout",
     "output_type": "stream",
     "text": [
      "0 indexindeki eleman: Tyler\n",
      "1 indexindeki eleman: Blake\n",
      "2 indexindeki eleman: Cory\n",
      "3 indexindeki eleman: Cameron\n"
     ]
    }
   ],
   "source": [
    "for i, e in enumerate(adlar):\n",
    "    print(i, \"indexindeki eleman:\", e)"
   ]
  },
  {
   "cell_type": "markdown",
   "id": "ceae0a9d-4b9a-4905-b48c-54ecd9938a5b",
   "metadata": {},
   "source": [
    "* enumerate() 0'dan başlamak zorunda değil, özellikle kaçtan başlayacağını belirtebiliriz."
   ]
  },
  {
   "cell_type": "code",
   "execution_count": 586,
   "id": "4c62722a-275f-4767-a308-3f58f4f9a23c",
   "metadata": {},
   "outputs": [
    {
     "name": "stdout",
     "output_type": "stream",
     "text": [
      "100 lokasyonunda bulunan eleman: Tyler\n",
      "101 lokasyonunda bulunan eleman: Blake\n",
      "102 lokasyonunda bulunan eleman: Cory\n",
      "103 lokasyonunda bulunan eleman: Cameron\n"
     ]
    }
   ],
   "source": [
    "for i, e in enumerate(adlar, start = 100):\n",
    "    print(i, \"lokasyonunda bulunan eleman:\", e)"
   ]
  },
  {
   "cell_type": "markdown",
   "id": "5541bdb0-c977-49ec-87e4-26d21d557f21",
   "metadata": {},
   "source": [
    "zip()\n",
    "Farklı yapıların içinde paralel iterasyon yapmamızı sağlar. zip()"
   ]
  },
  {
   "cell_type": "code",
   "execution_count": 589,
   "id": "b5f19417-09b5-4b58-a902-053e84f256c6",
   "metadata": {},
   "outputs": [],
   "source": [
    "ogrenciler = [\"ogrenci_1\", \"ogrenci_2\", \"ogrenci_3\"]"
   ]
  },
  {
   "cell_type": "code",
   "execution_count": 591,
   "id": "996d0636-3843-417f-a6bb-c5e86cf1e78d",
   "metadata": {},
   "outputs": [],
   "source": [
    "notlar = [90,80,72]"
   ]
  },
  {
   "cell_type": "code",
   "execution_count": 593,
   "id": "41e88dd8-95b9-4f5a-aca0-6512f45efc44",
   "metadata": {},
   "outputs": [
    {
     "name": "stdout",
     "output_type": "stream",
     "text": [
      "ogrenci_1 90\n",
      "ogrenci_2 80\n",
      "ogrenci_3 72\n"
     ]
    }
   ],
   "source": [
    "for s, g in zip(ogrenciler, notlar):\n",
    "    print(s, g)"
   ]
  },
  {
   "cell_type": "code",
   "execution_count": 595,
   "id": "c003f646-1ed2-413f-a830-3c4fc62c067a",
   "metadata": {},
   "outputs": [
    {
     "name": "stdout",
     "output_type": "stream",
     "text": [
      "('ogrenci_1', 90)\n",
      "('ogrenci_2', 80)\n",
      "('ogrenci_3', 72)\n"
     ]
    }
   ],
   "source": [
    "for e in zip(ogrenciler, notlar):\n",
    "    print(e)"
   ]
  },
  {
   "cell_type": "code",
   "execution_count": 597,
   "id": "c9b013b5-91c4-4fdc-9f47-0dd3ed812801",
   "metadata": {},
   "outputs": [
    {
     "name": "stdout",
     "output_type": "stream",
     "text": [
      "ogrenci_1 90\n",
      "ogrenci_2 80\n",
      "ogrenci_3 72\n"
     ]
    }
   ],
   "source": [
    "for i in range(len(ogrenciler)):\n",
    "    print(ogrenciler[i], notlar[i])"
   ]
  },
  {
   "cell_type": "code",
   "execution_count": 599,
   "id": "2c61b88d-3263-4d90-9958-00a510e80c20",
   "metadata": {},
   "outputs": [],
   "source": [
    "# Her ayki karı hesaplamak\n",
    "satis = [3500.00, 76300.00, 67200.00]"
   ]
  },
  {
   "cell_type": "code",
   "execution_count": 601,
   "id": "7813c9b7-667a-453c-9bf3-4c13847734ac",
   "metadata": {},
   "outputs": [],
   "source": [
    "maliyet = [56700.00, 21900.00, 12100.00]"
   ]
  },
  {
   "cell_type": "code",
   "execution_count": 603,
   "id": "e9c72845-8614-4009-a543-cbfd2b934056",
   "metadata": {},
   "outputs": [
    {
     "name": "stdout",
     "output_type": "stream",
     "text": [
      "Total profit: -53200.0\n",
      "Total profit: 54400.0\n",
      "Total profit: 55100.0\n"
     ]
    }
   ],
   "source": [
    "for i in range(len(maliyet)):\n",
    "    s = satis[i]\n",
    "    c = maliyet[i]\n",
    "    \n",
    "    kar = s - c\n",
    "    print(f'Total profit: {kar}')"
   ]
  },
  {
   "cell_type": "code",
   "execution_count": 607,
   "id": "471bf0b4-93dd-4f3c-a075-4edbcc86f7ce",
   "metadata": {},
   "outputs": [
    {
     "name": "stdout",
     "output_type": "stream",
     "text": [
      "Total profit: -53200.0\n",
      "Total profit: 54400.0\n",
      "Total profit: 55100.0\n"
     ]
    }
   ],
   "source": [
    "satis = [3500.00, 76300.00, 67200.00]\n",
    "maliyet = [56700.00, 21900.00, 12100.00]\n",
    "for s, c in zip(satis, maliyet):\n",
    "    kar = s - c\n",
    "    print(f'Total profit: {kar}')"
   ]
  },
  {
   "cell_type": "code",
   "execution_count": 609,
   "id": "5108215b-8b1f-4947-9159-6dbb582acb24",
   "metadata": {},
   "outputs": [
    {
     "data": {
      "text/plain": [
       "{'isim': 'Denis', 'soyad': 'Walker', 'ulke': 'Turkey', 'is': 'data scientist'}"
      ]
     },
     "execution_count": 609,
     "metadata": {},
     "output_type": "execute_result"
    }
   ],
   "source": [
    "#zip() ile Dictionary Oluşturmak:\n",
    "keys = ['isim', 'soyad', 'ulke', 'is']\n",
    "values = ['Denis', 'Walker', 'Turkey', 'data scientist']\n",
    "d = {}\n",
    "for k, v in zip(keys, values): \n",
    "    d[k] = v\n",
    "d"
   ]
  },
  {
   "cell_type": "code",
   "execution_count": null,
   "id": "e60b26b7-a728-4624-aca9-1b283289be5b",
   "metadata": {},
   "outputs": [],
   "source": []
  }
 ],
 "metadata": {
  "kernelspec": {
   "display_name": "Python [conda env:base] *",
   "language": "python",
   "name": "conda-base-py"
  },
  "language_info": {
   "codemirror_mode": {
    "name": "ipython",
    "version": 3
   },
   "file_extension": ".py",
   "mimetype": "text/x-python",
   "name": "python",
   "nbconvert_exporter": "python",
   "pygments_lexer": "ipython3",
   "version": "3.12.7"
  }
 },
 "nbformat": 4,
 "nbformat_minor": 5
}
