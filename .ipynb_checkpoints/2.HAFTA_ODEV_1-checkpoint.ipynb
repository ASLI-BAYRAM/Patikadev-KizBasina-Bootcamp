{
 "cells": [
  {
   "cell_type": "markdown",
   "id": "e46928fe-5fdf-4d4d-b2af-f04d1e709ee6",
   "metadata": {},
   "source": [
    "Girilen sayının negatif mi, pozitif mi olduğunu yazdıran  koşul."
   ]
  },
  {
   "cell_type": "code",
   "execution_count": 3,
   "id": "8160f86f-5983-4c38-90bd-117ddef25199",
   "metadata": {},
   "outputs": [
    {
     "name": "stdin",
     "output_type": "stream",
     "text": [
      "Bir sayı giriniz -3\n"
     ]
    },
    {
     "name": "stdout",
     "output_type": "stream",
     "text": [
      "negatif bir sayı girdiniz.\n"
     ]
    }
   ],
   "source": [
    "x = int(input('Bir sayı giriniz'))\n",
    "if x == 0:\n",
    "    print(f'Girdiğiniz sayı :{0}')\n",
    "elif x<0:\n",
    "    print('negatif bir sayı girdiniz.')\n",
    "else:\n",
    "    print('negatif bir sayı girdiniz.')"
   ]
  },
  {
   "cell_type": "markdown",
   "id": "afb49531-7768-4dcc-94eb-eb6d90deecfb",
   "metadata": {},
   "source": [
    "Girilen sayının çift mi tek mi olduğunu yazan koşul"
   ]
  },
  {
   "cell_type": "code",
   "execution_count": 78,
   "id": "7e7129af-f233-43d8-9f6f-c953806547f2",
   "metadata": {},
   "outputs": [
    {
     "name": "stdin",
     "output_type": "stream",
     "text": [
      "Bir sayı giriniz 5\n"
     ]
    },
    {
     "name": "stdout",
     "output_type": "stream",
     "text": [
      "Bu sayı bir tek sayıdır.\n"
     ]
    }
   ],
   "source": [
    "x = int(input('Bir sayı giriniz'))\n",
    "if x % 2 == 0:\n",
    "    print('Bu sayı bir çift sayıdır.')\n",
    "else:\n",
    "    print('Bu sayı bir tek sayıdır.')\n"
   ]
  },
  {
   "cell_type": "markdown",
   "id": "573e0a44-27ef-4c99-80cf-e6605c2372d3",
   "metadata": {},
   "source": [
    "Girilen puan aralığına göre harf notunu veren koşul"
   ]
  },
  {
   "cell_type": "code",
   "execution_count": 21,
   "id": "47808256-a62f-41a9-86ad-00494b9cdbd2",
   "metadata": {},
   "outputs": [
    {
     "name": "stdin",
     "output_type": "stream",
     "text": [
      "Notunuzu giriniz 55\n"
     ]
    },
    {
     "name": "stdout",
     "output_type": "stream",
     "text": [
      "Harf notunuz:'C'\n"
     ]
    }
   ],
   "source": [
    "puan=int(input('Notunuzu giriniz'))\n",
    "if puan>=80:\n",
    "    print(\"Harf notunuz:'A\\'\")\n",
    "elif 60<=puan<80:\n",
    "    print(\"Harf notunuz:'B\\'\")\n",
    "elif 45<=puan<60:\n",
    "    print(\"Harf notunuz:'C\\'\") \n",
    "elif 0<=puan<45:\n",
    "    print(\"Harf notunuz:'D\\'\") \n",
    "else:\n",
    "    print('Geçersiz bir not girdiniz')"
   ]
  },
  {
   "cell_type": "markdown",
   "id": "c2de616d-16c4-48fa-b350-f55e1e5afeca",
   "metadata": {},
   "source": [
    "Girilen ismin karakter saysına göre uzunluk bilgisini veren koşul"
   ]
  },
  {
   "cell_type": "code",
   "execution_count": 27,
   "id": "ccc28896-3a53-492c-8486-ce93e6b81971",
   "metadata": {},
   "outputs": [
    {
     "name": "stdin",
     "output_type": "stream",
     "text": [
      "İsminiz fatih\n"
     ]
    },
    {
     "name": "stdout",
     "output_type": "stream",
     "text": [
      "Uzun bir isminiz var\n"
     ]
    }
   ],
   "source": [
    "isim = input('İsminiz')\n",
    "isim = \"\".join(char for char in isim if char.isalpha())#sadece harfleri secer\n",
    "if len(isim)>=5:\n",
    "    print('Uzun bir isminiz var')\n",
    "else:\n",
    "    print(f'isminiz:{isim}')"
   ]
  },
  {
   "cell_type": "markdown",
   "id": "7e43f773-0c2b-4819-93cc-b1f667389361",
   "metadata": {},
   "source": [
    "Girilen sayının asal olup olmadıgını kontrol eden fonksiyon"
   ]
  },
  {
   "cell_type": "code",
   "execution_count": 4,
   "id": "e3de9ee1-86d4-42d2-b3e2-3c2996bebb6d",
   "metadata": {},
   "outputs": [
    {
     "name": "stdin",
     "output_type": "stream",
     "text": [
      "Sayı giriniz:  7\n"
     ]
    },
    {
     "name": "stdout",
     "output_type": "stream",
     "text": [
      "Asal sayıdır.\n"
     ]
    }
   ],
   "source": [
    "x = int(input(\"Sayı giriniz: \"))\n",
    "if x < 2:\n",
    "    print(\"Asal sayı değildir.\")\n",
    "else:\n",
    "    for i in range(2, x):\n",
    "        if x % i == 0:\n",
    "            print(\"Asal sayı değildir.\")\n",
    "            break\n",
    "    else:\n",
    "        print(\"Asal sayıdır.\")\n",
    "\n"
   ]
  },
  {
   "cell_type": "markdown",
   "id": "98fa76fe-636f-4209-86fa-f17ff8ceca00",
   "metadata": {},
   "source": [
    "75 sayısının index numarasını yazdıran döngü"
   ]
  },
  {
   "cell_type": "code",
   "execution_count": 39,
   "id": "f567c6a8-2a31-447e-a1b2-f2c8e17b5bb2",
   "metadata": {},
   "outputs": [
    {
     "name": "stdout",
     "output_type": "stream",
     "text": [
      "İndex numarası:2 \n"
     ]
    }
   ],
   "source": [
    "notlar = [45,85,75,50]\n",
    "for index, not_ in enumerate(notlar):\n",
    "    if not_== 75:\n",
    "        print(f'İndex numarası:{index} ')"
   ]
  },
  {
   "cell_type": "markdown",
   "id": "1ea42b48-7afb-423c-91ff-db7eda212656",
   "metadata": {},
   "source": [
    "Girilen sayının faktöriyelini alan fonksiyon"
   ]
  },
  {
   "cell_type": "code",
   "execution_count": 6,
   "id": "f457883d-ddba-4481-becd-96db96846908",
   "metadata": {},
   "outputs": [
    {
     "name": "stdin",
     "output_type": "stream",
     "text": [
      "Sayı giriniz:  5\n"
     ]
    },
    {
     "name": "stdout",
     "output_type": "stream",
     "text": [
      "120\n"
     ]
    }
   ],
   "source": [
    "x = int(input(\"Sayı giriniz: \"))\n",
    "faktöriyel=1\n",
    "if x < 0:\n",
    "    print('Negatif bir sayı girdiniz.')\n",
    "elif x==0:\n",
    "    print(\"0'ın faktöriyeli 1'dir.\")\n",
    "else:\n",
    "    for i in range(1,x+1):\n",
    "        faktöriyel*=i\n",
    "    print(faktöriyel)\n"
   ]
  },
  {
   "cell_type": "markdown",
   "id": "0dc082e9-462e-4e71-bdc8-3c07daf81084",
   "metadata": {},
   "source": [
    "fonksiyon ile girilen sayının asal olup olmadığını bulan kod dizisi. (for ve while)"
   ]
  },
  {
   "cell_type": "code",
   "execution_count": null,
   "id": "ed92eb93-c374-49bd-81c8-41e29273f19c",
   "metadata": {},
   "outputs": [],
   "source": [
    "def check_asal():\n",
    "    x = int(input(\"Sayı giriniz: \"))\n",
    "    if x < 2:\n",
    "        print(\"Asal sayı değildir.\")\n",
    "    else:\n",
    "        for i in range(2, x):\n",
    "            if x % i == 0:\n",
    "                print(\"Asal sayı değildir.\")\n",
    "                break\n",
    "        else:\n",
    "            print(\"Asal sayıdır.\")\n",
    "\n",
    "check_asal()"
   ]
  },
  {
   "cell_type": "markdown",
   "id": "50f42084-dad0-435b-b599-66b65f1595ca",
   "metadata": {},
   "source": [
    "fonksiyon ile girilen sayının faktöriyelini alalım. (for ve while)"
   ]
  },
  {
   "cell_type": "code",
   "execution_count": null,
   "id": "095e1296-dd3d-42f9-9831-c24368f0588d",
   "metadata": {},
   "outputs": [],
   "source": [
    "def faktöriyel():\n",
    "    x = int(input(\"Sayı giriniz: \"))\n",
    "    faktöriyel=1\n",
    "    if x < 0:\n",
    "        print('Negatif bir sayı girdiniz.')\n",
    "    elif x==0:\n",
    "        print(\"0'ın faktöriyeli 1'dir.\")\n",
    "    else:\n",
    "        for i in range(1,x+1):\n",
    "            faktöriyel*=i\n",
    "        print(faktöriyel)\n",
    "faktöriyel()"
   ]
  }
 ],
 "metadata": {
  "kernelspec": {
   "display_name": "Python [conda env:base] *",
   "language": "python",
   "name": "conda-base-py"
  },
  "language_info": {
   "codemirror_mode": {
    "name": "ipython",
    "version": 3
   },
   "file_extension": ".py",
   "mimetype": "text/x-python",
   "name": "python",
   "nbconvert_exporter": "python",
   "pygments_lexer": "ipython3",
   "version": "3.12.7"
  }
 },
 "nbformat": 4,
 "nbformat_minor": 5
}
