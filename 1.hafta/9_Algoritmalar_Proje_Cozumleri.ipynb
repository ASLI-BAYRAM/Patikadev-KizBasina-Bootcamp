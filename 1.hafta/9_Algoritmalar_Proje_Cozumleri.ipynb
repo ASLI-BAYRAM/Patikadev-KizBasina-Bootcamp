{
 "cells": [
  {
   "cell_type": "markdown",
   "id": "049584fb-d04f-4eac-bc97-c44dcaa2289f",
   "metadata": {},
   "source": [
    "# Insertion Sort Projesi\n",
    "**Proje 1**\n",
    "\n",
    "[22,27,16,2,18,6] -> Insertion Sort\n",
    "\n",
    "Yukarı verilen dizinin sort türüne göre aşamalarını yazınız.\n",
    "\n",
    "Big-O gösterimini yazınız.\n",
    "\n",
    "Time Complexity: Dizi sıralandıktan sonra 18 sayısı aşağıdaki case'lerden hangisinin kapsamına girer? Yazınız\n",
    "\n",
    "Average case: Aradığımız sayının ortada olması\n",
    "Worst case: Aradığımız sayının sonda olması\n",
    "Best case: Aradığımız sayının dizinin en başında olması.\n",
    ".\n",
    "\n",
    "\n",
    "\n",
    "[7,3,5,8,2,9,4,15,6] dizisinin Selection Sort'a göre ilk 4 adımını yazınız."
   ]
  },
  {
   "cell_type": "markdown",
   "id": "079162fa-637b-4a67-a3ab-ac80b3c6192a",
   "metadata": {},
   "source": [
    "**Insertion Sort Adımları**"
   ]
  },
  {
   "cell_type": "markdown",
   "id": "08e04841-2469-4961-a93b-35333a1d63bd",
   "metadata": {},
   "source": [
    "* 1.adım: Tüm elemanlar gezilir en küçük eleman bulunur ve en başa yazılır. Oluşan sayı dizisi = [2,27,16,22,18,6]\n",
    "* 2.adım: İlk elemanım artık en küçük oldu ve yeri sabit. İkinci en küçük eleman bulunur.\n",
    "  Oluşan sayı dizisi = [2,6,16,22,18,27]\n",
    "* 3.adım: Oluşan sayı dizisi = [2,6,16,22,18,27]\n",
    "* 4.adım: Oluşan sayı dizisi = [2,6,16,18,22,27]\n"
   ]
  },
  {
   "cell_type": "markdown",
   "id": "125780a8-f27c-46af-b0dd-fae8d30f5c4c",
   "metadata": {},
   "source": [
    "**Big-O gösterimi:**"
   ]
  },
  {
   "cell_type": "markdown",
   "id": "eedb1288-8179-4087-be27-5f0ca6983ca4",
   "metadata": {},
   "source": [
    "Her defasında n (n-1), (n-2),... şeklinde işlem yapıılır. Buradan 1'den n' e kadar olan sayılar toplamından n^2+n/2 den domine eden değer alınır. O(n^2) big-o gösterimi olur."
   ]
  },
  {
   "cell_type": "markdown",
   "id": "e8d86ece-927d-43c2-a393-a7466973281c",
   "metadata": {},
   "source": [
    "**Time Complexity**"
   ]
  },
  {
   "cell_type": "markdown",
   "id": "a5d42026-f9b6-494f-8c05-fdf8bb2a2cf2",
   "metadata": {},
   "source": [
    "Dizi sıralı hale geldikten sonra 18 sayısı ortada olduğu için average case kapsamına girer."
   ]
  },
  {
   "cell_type": "markdown",
   "id": "ac5d4f90-3448-4ebe-82cf-6c10b708ef1e",
   "metadata": {},
   "source": [
    "**[7,3,5,8,2,9,4,15,6] dizisinin Selection Sort'a göre ilk 4 adımını yazınız.**\n",
    "\n",
    "Selection Sort Mantığı:\n",
    "Her adımda en küçük eleman bulunur, başa alınır."
   ]
  },
  {
   "cell_type": "markdown",
   "id": "91e356f6-4e59-4b6e-83da-a8b76750fa14",
   "metadata": {},
   "source": [
    "* 1.adım= [2,3,5,8,7,9,4,15,6]\n",
    "\n",
    "* 2.adım= [2,3,5,8,7,9,4,15,6]\n",
    "\n",
    "* 3.adım = [2,3,4,8,7,9,5,15,6]\n",
    "\n",
    "* 4.adım= [2,3,4,5,7,9,8,15,6]"
   ]
  },
  {
   "cell_type": "markdown",
   "id": "a591f565-6945-4424-a919-7e14fb7c60b4",
   "metadata": {},
   "source": [
    "# Merge Sort\n",
    "**Proje 2**\n",
    "\n",
    "[16,21,11,8,12,22] -> Merge Sort\n",
    "\n",
    "Yukarıdaki dizinin sort türüne göre aşamalarını yazınız.\n",
    "Big-O gösterimini yazınız."
   ]
  },
  {
   "cell_type": "markdown",
   "id": "1d3892e3-de69-433c-b760-618f3be76a7e",
   "metadata": {},
   "source": [
    "[16,21,11] [8,12,22]\n",
    "\n",
    "[16] [21,11] [8] [12,22]\n",
    "\n",
    "[16] [21] [11] [8] [12] [22]\n",
    "\n",
    "[16,21] [8,11] [12,22]\n",
    "\n",
    "[8,11,16,21] [12,22]\n",
    "\n",
    "[8,11,12,16,21,22]\n",
    "\n"
   ]
  },
  {
   "cell_type": "markdown",
   "id": "91846e37-a32e-42c2-a837-24e328d7fc69",
   "metadata": {},
   "source": [
    "**Big-O gösterimi:**\n",
    "O(nlog(n))"
   ]
  },
  {
   "cell_type": "markdown",
   "id": "1f46c06b-a988-4570-83d4-47064613a512",
   "metadata": {},
   "source": [
    "# Binary Search Tree Projesi\n",
    "**Proje 3**\n",
    "\n",
    "[7, 5, 1, 8, 3, 6, 0, 9, 4, 2] dizisinin Binary-Search-Tree aşamalarını yazınız.\n",
    "\n",
    "Örnek: root x'dir. root'un sağından y bulunur. Solunda z bulunur vb."
   ]
  },
  {
   "cell_type": "markdown",
   "id": "67d59016-cd0e-4929-b9a3-5b3669a918cb",
   "metadata": {},
   "source": [
    "İlk eleman → Root (kök) olur. 7 "
   ]
  },
  {
   "cell_type": "markdown",
   "id": "bdb879a8-01e5-420c-9cff-3dff462e8036",
   "metadata": {},
   "source": [
    "**Adım 2:**\n",
    "5 < 7 → Soluna eklenir.\n"
   ]
  },
  {
   "cell_type": "markdown",
   "id": "75d48777-aec7-4237-9ff5-b5161dfd6667",
   "metadata": {},
   "source": [
    "**Adım 3:**\n",
    "1 < 7 → sola →\n",
    "1 < 5 → sola → ekle\n",
    "\n"
   ]
  },
  {
   "cell_type": "markdown",
   "id": "e408cb5e-8045-4f94-a8d4-0d31b95a2a06",
   "metadata": {},
   "source": [
    "**Adım 4:** 8 > 7 → sağına "
   ]
  },
  {
   "cell_type": "markdown",
   "id": "077c6c2e-e1a9-4f04-bd51-8c2d38946c46",
   "metadata": {},
   "source": [
    "**Adım 5:** 3 < 7 → sola\n",
    "3 < 5 → sola\n",
    "3 > 1 → sağına"
   ]
  },
  {
   "cell_type": "markdown",
   "id": "4d33600a-6ee7-4562-bd1b-589ad811fa26",
   "metadata": {},
   "source": [
    "**Adım 6:** 6 < 7 → sola\n",
    "6 > 5 → sağına"
   ]
  },
  {
   "cell_type": "markdown",
   "id": "c447dca2-4e51-4d56-9d1d-544ae63701b1",
   "metadata": {},
   "source": [
    "**Adım 7**: 0 < 7 → sola\n",
    "0 < 5 → sola\n",
    "0 < 1 → sola"
   ]
  },
  {
   "cell_type": "markdown",
   "id": "b3cd50d1-357f-4346-9c4e-96991e7dc4e9",
   "metadata": {},
   "source": [
    "**Adım 8:** 9 > 7 → sağ\n",
    "9 > 8 → sağ"
   ]
  },
  {
   "cell_type": "markdown",
   "id": "f39a46c8-9417-4559-8d0f-f19ec3316768",
   "metadata": {},
   "source": [
    "**Adım 9:** 4 < 7 → sola\n",
    "4 < 5 → sola\n",
    "4 > 1 → sağ\n",
    "4 > 3 → sağ"
   ]
  },
  {
   "cell_type": "markdown",
   "id": "e5a6adf8-6f00-4a73-826b-4fb07ddce698",
   "metadata": {},
   "source": [
    "**Adım 10:** 2 < 7 → sola\n",
    "2 < 5 → sola\n",
    "2 > 1 → sağ\n",
    "2 < 3 → sola"
   ]
  },
  {
   "cell_type": "markdown",
   "id": "7655a89e-d46b-40f5-8ebf-2264c09336c1",
   "metadata": {},
   "source": [
    "![Binary Search Tree](ağaç.png)"
   ]
  },
  {
   "cell_type": "code",
   "execution_count": null,
   "id": "6e75f1de-a7c7-41be-9a7f-39d1f05628f7",
   "metadata": {},
   "outputs": [],
   "source": []
  }
 ],
 "metadata": {
  "kernelspec": {
   "display_name": "Python [conda env:base] *",
   "language": "python",
   "name": "conda-base-py"
  },
  "language_info": {
   "codemirror_mode": {
    "name": "ipython",
    "version": 3
   },
   "file_extension": ".py",
   "mimetype": "text/x-python",
   "name": "python",
   "nbconvert_exporter": "python",
   "pygments_lexer": "ipython3",
   "version": "3.12.7"
  }
 },
 "nbformat": 4,
 "nbformat_minor": 5
}
