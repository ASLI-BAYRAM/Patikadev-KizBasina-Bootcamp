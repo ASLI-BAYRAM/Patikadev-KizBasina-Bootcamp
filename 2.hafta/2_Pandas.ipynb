{
 "cells": [
  {
   "cell_type": "markdown",
   "id": "41e7b0f4-f8a4-4a8c-be99-1cf8712dd866",
   "metadata": {},
   "source": [
    " <h1 style=\"text-align: center; color: RED\">PANDAS</h1> "
   ]
  },
  {
   "cell_type": "markdown",
   "id": "1d518fb9-b579-4b04-aee7-40e062b8d0b0",
   "metadata": {},
   "source": [
    "Pandas; veriyi yüklemek, analiz etmek, temizlemek, işlemek ve görselleştirmek için kullanılan bir Python kütüphanesidir. Aşağıdaki kodla import ederek kullanmaya başlayabiliriz "
   ]
  },
  {
   "cell_type": "markdown",
   "id": "c2cf904e-0503-42ff-b50d-8ecc57054f1f",
   "metadata": {},
   "source": [
    " <h3 style=\"text-align: center; color: RED\">PANDAS SERİLERİ</h3> "
   ]
  },
  {
   "cell_type": "markdown",
   "id": "29243684-0544-44bb-b522-7be7a70cb289",
   "metadata": {},
   "source": [
    "Pandas Series, her değerin bir indekse sahip olduğu tek boyutlu bir array'dir. Örneğin; bir tablodaki bir sütunu bir Pandas Series olarak gösterebiliriz. Aşağıda bir sayı arrayi Pandas Series'e dönüştürülmüş:"
   ]
  },
  {
   "cell_type": "code",
   "execution_count": 6,
   "id": "e2ad52da-80ec-4024-98f4-0a890d0bbedc",
   "metadata": {},
   "outputs": [],
   "source": [
    "import numpy as np\n",
    "import pandas as pd"
   ]
  },
  {
   "cell_type": "code",
   "execution_count": 8,
   "id": "c12cc79e-b2f5-45f1-8766-79ac939b0e8d",
   "metadata": {},
   "outputs": [],
   "source": [
    "series = pd.Series([49, 43, 65, 40, 160])"
   ]
  },
  {
   "cell_type": "code",
   "execution_count": 10,
   "id": "462d0ef6-daba-4fb4-9c23-5ed5ce92bf00",
   "metadata": {},
   "outputs": [
    {
     "data": {
      "text/plain": [
       "0     49\n",
       "1     43\n",
       "2     65\n",
       "3     40\n",
       "4    160\n",
       "dtype: int64"
      ]
     },
     "execution_count": 10,
     "metadata": {},
     "output_type": "execute_result"
    }
   ],
   "source": [
    "series"
   ]
  },
  {
   "cell_type": "markdown",
   "id": "d9483bb5-f795-4e82-a111-ea00cf20caec",
   "metadata": {},
   "source": [
    "Sağ sütunda serideki değerler, sol sütunda bu değerlerin serideki indeksleri, altta ise \"dtype\" yani veri tipi olarak \"64 bit integer\" yani serideki değerlerin \"tam sayı\" olduğu yazıyor. Dikkat ederseniz bu değerler aslında bir NumPy array olarak saklandığı için veri tipi tüm değerler için ortak.\n",
    "\n",
    "Bu değerler aslında birkaç pokemonun savunma güçlerinin değerleri! Serimize o zaman bir isim verelim."
   ]
  },
  {
   "cell_type": "code",
   "execution_count": 14,
   "id": "b3ddb185-050e-44a8-a8ee-936ee7f552f9",
   "metadata": {},
   "outputs": [],
   "source": [
    "series.name = \"Pokemon Savunma Güçleri\""
   ]
  },
  {
   "cell_type": "code",
   "execution_count": 16,
   "id": "002bdd20-81e0-4eed-bb52-8bb457ec4563",
   "metadata": {},
   "outputs": [
    {
     "data": {
      "text/plain": [
       "0     49\n",
       "1     43\n",
       "2     65\n",
       "3     40\n",
       "4    160\n",
       "Name: Pokemon Savunma Güçleri, dtype: int64"
      ]
     },
     "execution_count": 16,
     "metadata": {},
     "output_type": "execute_result"
    }
   ],
   "source": [
    "series"
   ]
  },
  {
   "cell_type": "code",
   "execution_count": 18,
   "id": "bbfc48bb-6f0e-401d-a3be-ab33c8446cd4",
   "metadata": {},
   "outputs": [
    {
     "data": {
      "text/plain": [
       "dtype('int64')"
      ]
     },
     "execution_count": 18,
     "metadata": {},
     "output_type": "execute_result"
    }
   ],
   "source": [
    "series.dtype"
   ]
  },
  {
   "cell_type": "markdown",
   "id": "cc52c74c-721f-40ca-98a7-a4d604d3195b",
   "metadata": {},
   "source": [
    "Serinin değerlerini bir NumPy array olarak alabiliriz. "
   ]
  },
  {
   "cell_type": "code",
   "execution_count": 21,
   "id": "b066b7e3-3e23-408e-9ac9-1d00e1f173e6",
   "metadata": {},
   "outputs": [
    {
     "data": {
      "text/plain": [
       "array([ 49,  43,  65,  40, 160], dtype=int64)"
      ]
     },
     "execution_count": 21,
     "metadata": {},
     "output_type": "execute_result"
    }
   ],
   "source": [
    "series.values"
   ]
  },
  {
   "cell_type": "markdown",
   "id": "196e1609-fbde-4714-ada3-c6e50f8211ce",
   "metadata": {},
   "source": [
    "Dediğimiz gibi her değerin bir indeksi var. İndeksleri seriyi yazdırdığımızda görebiliriz. Bir indeksteki değeri NumPy array'deki gibi alabiliriz."
   ]
  },
  {
   "cell_type": "code",
   "execution_count": 24,
   "id": "8104f989-1821-40d5-aa99-b132a4a9b815",
   "metadata": {},
   "outputs": [
    {
     "data": {
      "text/plain": [
       "43"
      ]
     },
     "execution_count": 24,
     "metadata": {},
     "output_type": "execute_result"
    }
   ],
   "source": [
    "series[1]"
   ]
  },
  {
   "cell_type": "markdown",
   "id": "2dd21a47-0d42-400b-a1d6-e669560fb3a2",
   "metadata": {},
   "source": [
    "İndeks değerlerini şöyle görebiliriz:"
   ]
  },
  {
   "cell_type": "code",
   "execution_count": 38,
   "id": "94354d23-13c1-4b85-aa05-bef972162e80",
   "metadata": {},
   "outputs": [
    {
     "data": {
      "text/plain": [
       "'Pikachu'"
      ]
     },
     "execution_count": 38,
     "metadata": {},
     "output_type": "execute_result"
    }
   ],
   "source": [
    "series.index[3]"
   ]
  },
  {
   "cell_type": "markdown",
   "id": "df6ee167-a376-4cf7-bc73-531fc59a3d4e",
   "metadata": {},
   "source": [
    "Buradaki değerlerin 5 pokemonun savunma değerleri olduğunu söylemiştik. İndekslere de pokemon adlarını verelim!"
   ]
  },
  {
   "cell_type": "code",
   "execution_count": 31,
   "id": "1015f549-aef2-4291-939a-b98ad3b7cb43",
   "metadata": {},
   "outputs": [],
   "source": [
    "series.index = [\"Bulbasaur\", \"Charmander\", \"Squirtle\", \"Pikachu\", \"Onix\"]"
   ]
  },
  {
   "cell_type": "code",
   "execution_count": 33,
   "id": "a70a3844-0840-47e2-8203-c2415236f2ec",
   "metadata": {},
   "outputs": [
    {
     "data": {
      "text/plain": [
       "Bulbasaur      49\n",
       "Charmander     43\n",
       "Squirtle       65\n",
       "Pikachu        40\n",
       "Onix          160\n",
       "Name: Pokemon Savunma Güçleri, dtype: int64"
      ]
     },
     "execution_count": 33,
     "metadata": {},
     "output_type": "execute_result"
    }
   ],
   "source": [
    "series"
   ]
  },
  {
   "cell_type": "markdown",
   "id": "3086ad7f-8e47-4824-b3f9-b929c8bd3efa",
   "metadata": {},
   "source": [
    "İndeks-değer eşlerinden oluşan bir dictionary (sözlük) kullanarak da seri oluşturabiliriz."
   ]
  },
  {
   "cell_type": "code",
   "execution_count": 36,
   "id": "2872cc97-0ec9-4cfb-ac9d-6064d6292994",
   "metadata": {},
   "outputs": [
    {
     "data": {
      "text/plain": [
       "Bulbasaur      49\n",
       "Charmander     43\n",
       "Squirtle       65\n",
       "Pikachu        40\n",
       "Onix          160\n",
       "Name: Pokemon Savunma Güçleri, dtype: int64"
      ]
     },
     "execution_count": 36,
     "metadata": {},
     "output_type": "execute_result"
    }
   ],
   "source": [
    "pd.Series({\n",
    "    'Bulbasaur': 49, \n",
    "    'Charmander': 43, \n",
    "    'Squirtle': 65, \n",
    "    'Pikachu': 40, \n",
    "    'Onix': 160\n",
    "    }, name=\"Pokemon Savunma Güçleri\")"
   ]
  },
  {
   "cell_type": "markdown",
   "id": "3e5ce388-bab1-4c04-9fcf-57e8c0505955",
   "metadata": {},
   "source": [
    " <span style=\"color: blue; font-weight: bold;\">Indexleme</span> "
   ]
  },
  {
   "cell_type": "markdown",
   "id": "7f01fd75-30c0-4992-8e86-736711522c3d",
   "metadata": {},
   "source": [
    "Seri bir sözlük gibidir ve değerlerini bir NumPy array'de tutar. Sözlükte nasıl bir değere ulaşabiliyorsak seride de ulaşabiliriz. Pokemon serisini bir hatırlayalım."
   ]
  },
  {
   "cell_type": "code",
   "execution_count": 43,
   "id": "113007ba-0d8a-479a-a915-b634dfad3d8b",
   "metadata": {},
   "outputs": [
    {
     "data": {
      "text/plain": [
       "Bulbasaur      49\n",
       "Charmander     43\n",
       "Squirtle       65\n",
       "Pikachu        40\n",
       "Onix          160\n",
       "Name: Pokemon Savunma Güçleri, dtype: int64"
      ]
     },
     "execution_count": 43,
     "metadata": {},
     "output_type": "execute_result"
    }
   ],
   "source": [
    "series"
   ]
  },
  {
   "cell_type": "markdown",
   "id": "703c6f41-e8c8-42f3-839b-84e5284b7ec7",
   "metadata": {},
   "source": [
    "Örneğin, Pikachu'nun değerini yazdıralım."
   ]
  },
  {
   "cell_type": "code",
   "execution_count": 46,
   "id": "e8833ad7-ac17-4511-9064-261ae3bffad0",
   "metadata": {},
   "outputs": [
    {
     "data": {
      "text/plain": [
       "40"
      ]
     },
     "execution_count": 46,
     "metadata": {},
     "output_type": "execute_result"
    }
   ],
   "source": [
    "series[\"Pikachu\"]"
   ]
  },
  {
   "cell_type": "markdown",
   "id": "aad57422-4225-4483-a08d-72035419f4fb",
   "metadata": {},
   "source": [
    "Ayrıca serinin \".iloc\" metodunu kullanarak değerlere sayısal indekslerini kullanarak da erişebiliriz."
   ]
  },
  {
   "cell_type": "code",
   "execution_count": 49,
   "id": "0ce93d28-1b36-496f-810e-b5f2c13021e9",
   "metadata": {},
   "outputs": [
    {
     "data": {
      "text/plain": [
       "65"
      ]
     },
     "execution_count": 49,
     "metadata": {},
     "output_type": "execute_result"
    }
   ],
   "source": [
    "# 2 indeksli değere ulaşalım, arrayin 3. değeri \n",
    "series.iloc[2]"
   ]
  },
  {
   "cell_type": "code",
   "execution_count": 51,
   "id": "64c49bc4-d68c-4609-b376-496c6fc3df0a",
   "metadata": {},
   "outputs": [
    {
     "data": {
      "text/plain": [
       "160"
      ]
     },
     "execution_count": 51,
     "metadata": {},
     "output_type": "execute_result"
    }
   ],
   "source": [
    "# arrayin son değerine ulaşalım\n",
    "series.iloc[-1]"
   ]
  },
  {
   "cell_type": "markdown",
   "id": "96ada267-81f6-46aa-8871-a1b32154018c",
   "metadata": {},
   "source": [
    "Birden çok indeks kullanarak da değerleri seçebiliriz (Bu bize başka bir Series döndürür)."
   ]
  },
  {
   "cell_type": "code",
   "execution_count": 58,
   "id": "f6d6be92-fb35-4b88-b027-bb2ee7f4051f",
   "metadata": {},
   "outputs": [
    {
     "data": {
      "text/plain": [
       "Bulbasaur     49\n",
       "Onix         160\n",
       "Name: Pokemon Savunma Güçleri, dtype: int64"
      ]
     },
     "execution_count": 58,
     "metadata": {},
     "output_type": "execute_result"
    }
   ],
   "source": [
    "series[[\"Bulbasaur\", \"Onix\"]]"
   ]
  },
  {
   "cell_type": "markdown",
   "id": "78135b20-03d1-47a9-9bd7-86c4e42478e1",
   "metadata": {},
   "source": [
    "Aynı şekilde birden çok sayısal indeks seçebiliriz."
   ]
  },
  {
   "cell_type": "code",
   "execution_count": 61,
   "id": "06824c8f-276f-4400-8e9f-d88aada3ab29",
   "metadata": {},
   "outputs": [
    {
     "name": "stderr",
     "output_type": "stream",
     "text": [
      "C:\\Users\\ASLI\\AppData\\Local\\Temp\\ipykernel_1508\\2005782741.py:1: FutureWarning: Series.__getitem__ treating keys as positions is deprecated. In a future version, integer keys will always be treated as labels (consistent with DataFrame behavior). To access a value by position, use `ser.iloc[pos]`\n",
      "  series[[1, 4]]\n"
     ]
    },
    {
     "data": {
      "text/plain": [
       "Charmander     43\n",
       "Onix          160\n",
       "Name: Pokemon Savunma Güçleri, dtype: int64"
      ]
     },
     "execution_count": 61,
     "metadata": {},
     "output_type": "execute_result"
    }
   ],
   "source": [
    "series[[1, 4]]"
   ]
  },
  {
   "cell_type": "markdown",
   "id": "ff552e59-2a35-4bf6-af29-5d240ac294f6",
   "metadata": {},
   "source": [
    "Dilimleme yaparak yani başlangıç ve bitiş indekslerini belirterek de seçim yapabiliriz (Pandas'ta bitiş değeri de sonuca eklenir! Örneğin aşağıda Squirtle da dahildir.)"
   ]
  },
  {
   "cell_type": "code",
   "execution_count": 64,
   "id": "b78dae3e-ef66-447f-a047-e162301e8ddc",
   "metadata": {},
   "outputs": [
    {
     "data": {
      "text/plain": [
       "Bulbasaur     49\n",
       "Charmander    43\n",
       "Squirtle      65\n",
       "Name: Pokemon Savunma Güçleri, dtype: int64"
      ]
     },
     "execution_count": 64,
     "metadata": {},
     "output_type": "execute_result"
    }
   ],
   "source": [
    "series[\"Bulbasaur\": \"Squirtle\"]"
   ]
  },
  {
   "cell_type": "markdown",
   "id": "1708c834-ddc6-49f4-a0d6-818efdd3068a",
   "metadata": {},
   "source": [
    " <span style=\"color: blue; font-weight: bold;\">Koşulu Seçim</span> "
   ]
  },
  {
   "cell_type": "markdown",
   "id": "5c92b44f-f0ed-4dda-8148-8b0f93707437",
   "metadata": {},
   "source": [
    "Serilerde, Numpy arraylerdeki gibi bir koşul ile boolean seçim yapabiliriz."
   ]
  },
  {
   "cell_type": "code",
   "execution_count": 69,
   "id": "d733e271-a566-4fcd-b299-334cff29ae2d",
   "metadata": {},
   "outputs": [
    {
     "data": {
      "text/plain": [
       "Bulbasaur      True\n",
       "Charmander    False\n",
       "Squirtle       True\n",
       "Pikachu       False\n",
       "Onix           True\n",
       "Name: Pokemon Savunma Güçleri, dtype: bool"
      ]
     },
     "execution_count": 69,
     "metadata": {},
     "output_type": "execute_result"
    }
   ],
   "source": [
    "series > 45"
   ]
  },
  {
   "cell_type": "markdown",
   "id": "17a97863-c311-49ba-b331-810f27260df3",
   "metadata": {},
   "source": [
    "Boolean indeksleme de yapabiliriz"
   ]
  },
  {
   "cell_type": "code",
   "execution_count": 72,
   "id": "a578e583-174a-477d-b864-a0a803f22555",
   "metadata": {},
   "outputs": [
    {
     "data": {
      "text/plain": [
       "Bulbasaur     49\n",
       "Squirtle      65\n",
       "Onix         160\n",
       "Name: Pokemon Savunma Güçleri, dtype: int64"
      ]
     },
     "execution_count": 72,
     "metadata": {},
     "output_type": "execute_result"
    }
   ],
   "source": [
    "series[series > 45]"
   ]
  },
  {
   "cell_type": "markdown",
   "id": "e45ff5ab-beb4-418c-b042-309008fd3375",
   "metadata": {},
   "source": [
    "Ortalamasını, standart sapmasını vb. Bulabiliriz. Numpy arraylerde yapabileceğimiz çoğu türlü işlemi yapabiliriz."
   ]
  },
  {
   "cell_type": "code",
   "execution_count": 75,
   "id": "82c73656-ae40-4b17-8e00-ccd4cd4835a0",
   "metadata": {},
   "outputs": [
    {
     "data": {
      "text/plain": [
       "71.4"
      ]
     },
     "execution_count": 75,
     "metadata": {},
     "output_type": "execute_result"
    }
   ],
   "source": [
    "series.mean()"
   ]
  },
  {
   "cell_type": "markdown",
   "id": "7471ee0f-a01d-469e-977a-6134be5a35e9",
   "metadata": {},
   "source": [
    "Ortalamanın üstündeki değerleri seçelim."
   ]
  },
  {
   "cell_type": "code",
   "execution_count": 78,
   "id": "b3a6fe6c-f6c2-4096-8ff4-6b6d1c3c0f8c",
   "metadata": {},
   "outputs": [
    {
     "data": {
      "text/plain": [
       "Onix    160\n",
       "Name: Pokemon Savunma Güçleri, dtype: int64"
      ]
     },
     "execution_count": 78,
     "metadata": {},
     "output_type": "execute_result"
    }
   ],
   "source": [
    "series[series > series.mean()]"
   ]
  },
  {
   "cell_type": "markdown",
   "id": "ffef677f-27e8-46f7-a6d1-bffce463c492",
   "metadata": {},
   "source": [
    "İki koşulu parantezlere koyarak seçebiliriz."
   ]
  },
  {
   "cell_type": "code",
   "execution_count": 81,
   "id": "b170b017-fea0-4b4f-b2ce-aacf0d949014",
   "metadata": {},
   "outputs": [
    {
     "data": {
      "text/plain": [
       "Bulbasaur    49\n",
       "Squirtle     65\n",
       "Name: Pokemon Savunma Güçleri, dtype: int64"
      ]
     },
     "execution_count": 81,
     "metadata": {},
     "output_type": "execute_result"
    }
   ],
   "source": [
    "series[(series > 45) & (series < 100)]"
   ]
  },
  {
   "cell_type": "markdown",
   "id": "a4cc6d92-d530-443f-8854-59112b5abb4c",
   "metadata": {},
   "source": [
    " <span style=\"color: blue; font-weight: bold;\">Serinin Değerlerini Değiştirme</span> "
   ]
  },
  {
   "cell_type": "markdown",
   "id": "16c9a655-33e8-4064-b471-e492ccfea6b9",
   "metadata": {},
   "source": [
    "Serileri istediğimiz gibi düzenleyebiliriz. İndeksi ile seçerek:"
   ]
  },
  {
   "cell_type": "code",
   "execution_count": 88,
   "id": "ec08bf13-5072-40bc-b140-b553c2ff9a80",
   "metadata": {},
   "outputs": [
    {
     "data": {
      "text/plain": [
       "70"
      ]
     },
     "execution_count": 88,
     "metadata": {},
     "output_type": "execute_result"
    }
   ],
   "source": [
    "series[\"Pikachu\"] = 70 \n",
    "# Pikachu'yu güçlendirdik \n",
    "series[\"Pikachu\"] # yazdıralım"
   ]
  },
  {
   "cell_type": "markdown",
   "id": "9fcfd068-e2a7-4b8b-aa13-81319ff1cf78",
   "metadata": {},
   "source": [
    "50'den yüksek olan değerleri 50 yapalım."
   ]
  },
  {
   "cell_type": "code",
   "execution_count": 91,
   "id": "66c0df74-aff6-447d-a96b-82e817b58947",
   "metadata": {},
   "outputs": [
    {
     "data": {
      "text/plain": [
       "Bulbasaur     49\n",
       "Charmander    43\n",
       "Squirtle      50\n",
       "Pikachu       50\n",
       "Onix          50\n",
       "Name: Pokemon Savunma Güçleri, dtype: int64"
      ]
     },
     "execution_count": 91,
     "metadata": {},
     "output_type": "execute_result"
    }
   ],
   "source": [
    "series[series > 50] = 50\n",
    "series"
   ]
  },
  {
   "cell_type": "markdown",
   "id": "3a1b4551-19eb-4901-ab34-64ed71eb535b",
   "metadata": {},
   "source": [
    "Orijinal seriyi tekrar oluşturalım."
   ]
  },
  {
   "cell_type": "code",
   "execution_count": 94,
   "id": "9bd10e6d-51c6-40c7-84bf-257b0a0c6894",
   "metadata": {},
   "outputs": [],
   "source": [
    "series = pd.Series({ 'Bulbasaur': 49, 'Charmander': 43, 'Squirtle': 65, 'Pikachu': 40, 'Onix': 160 }, name=\"Pokemon Savunma Güçleri\")"
   ]
  },
  {
   "cell_type": "markdown",
   "id": "1fdf4c77-fb5e-411e-94a2-55374419a1ae",
   "metadata": {},
   "source": [
    " <h3 style=\"text-align: center; color: RED\">PANDAS DATAFRAME</h3> "
   ]
  },
  {
   "cell_type": "markdown",
   "id": "afcd6e3f-dbe8-473f-972b-29b3134043de",
   "metadata": {},
   "source": [
    "Pandas Dataframe, satır ve sütunlardan oluşan 2 boyutlu bir tablodur. Aşağıda bir dataframe oluşturalım:"
   ]
  },
  {
   "cell_type": "code",
   "execution_count": 101,
   "id": "2520b8d8-f529-422c-b234-420f67319a39",
   "metadata": {},
   "outputs": [],
   "source": [
    "pokemon = pd.DataFrame({\n",
    "'atak': [49, 52, 48, 55, 45], 'savunma': [49, 43, 65, 40, 160], 'hız': [45, 65, 43, 90, 70], 'tür': ['ot', 'ateş', 'su', 'elektrik', 'kaya'] }, index=[\"Bulbasaur\", \"Charmander\", \"Squirtle\", \"Pikachu\", \"Onix\"])"
   ]
  },
  {
   "cell_type": "markdown",
   "id": "0c1128cd-ab9d-4f17-bc08-ea222c4ea70f",
   "metadata": {},
   "source": [
    "pokemon"
   ]
  },
  {
   "cell_type": "markdown",
   "id": "b6b60f5c-c3ac-4e76-a566-451cfd7eda8a",
   "metadata": {},
   "source": [
    "Dataframe'lerin bazı özelliklerine bakalım:\n",
    "\n",
    "Dataframe'in sütunlarına \".columns\" değeri ile erişelim"
   ]
  },
  {
   "cell_type": "code",
   "execution_count": 106,
   "id": "cc8a16ff-7d50-4dbc-9955-8f8efd8b940e",
   "metadata": {},
   "outputs": [
    {
     "data": {
      "text/plain": [
       "Index(['atak', 'savunma', 'hız', 'tür'], dtype='object')"
      ]
     },
     "execution_count": 106,
     "metadata": {},
     "output_type": "execute_result"
    }
   ],
   "source": [
    "pokemon.columns"
   ]
  },
  {
   "cell_type": "markdown",
   "id": "8d3f2868-5d40-49d1-8599-9f4930a04b7b",
   "metadata": {},
   "source": [
    "\".info()\" metodu ile dataframe hakkındaki bazı bilgileri edinebiliriz."
   ]
  },
  {
   "cell_type": "code",
   "execution_count": 109,
   "id": "1bbce5e8-eca6-4a54-8cf1-d3d032a0746c",
   "metadata": {},
   "outputs": [
    {
     "name": "stdout",
     "output_type": "stream",
     "text": [
      "<class 'pandas.core.frame.DataFrame'>\n",
      "Index: 5 entries, Bulbasaur to Onix\n",
      "Data columns (total 4 columns):\n",
      " #   Column   Non-Null Count  Dtype \n",
      "---  ------   --------------  ----- \n",
      " 0   atak     5 non-null      int64 \n",
      " 1   savunma  5 non-null      int64 \n",
      " 2   hız      5 non-null      int64 \n",
      " 3   tür      5 non-null      object\n",
      "dtypes: int64(3), object(1)\n",
      "memory usage: 200.0+ bytes\n"
     ]
    }
   ],
   "source": [
    "pokemon.info()"
   ]
  },
  {
   "cell_type": "markdown",
   "id": "4e022064-725e-4f0c-a874-010cdaf21862",
   "metadata": {},
   "source": [
    "Toplam değer sayısına bakalım:"
   ]
  },
  {
   "cell_type": "code",
   "execution_count": 112,
   "id": "f856f534-b996-47ef-b4c7-6ba812d6aa21",
   "metadata": {},
   "outputs": [
    {
     "data": {
      "text/plain": [
       "20"
      ]
     },
     "execution_count": 112,
     "metadata": {},
     "output_type": "execute_result"
    }
   ],
   "source": [
    "pokemon.size"
   ]
  },
  {
   "cell_type": "markdown",
   "id": "ee38d071-8e6c-4a4d-b651-2bae0e86b0a6",
   "metadata": {},
   "source": [
    "Pokemon dataframe'inin biçimini (satır ve sütun sayısını) yazdıralım:"
   ]
  },
  {
   "cell_type": "code",
   "execution_count": 115,
   "id": "04cdbcff-cf73-4503-954f-35d41219611f",
   "metadata": {},
   "outputs": [
    {
     "data": {
      "text/plain": [
       "(5, 4)"
      ]
     },
     "execution_count": 115,
     "metadata": {},
     "output_type": "execute_result"
    }
   ],
   "source": [
    "pokemon.shape"
   ]
  },
  {
   "cell_type": "markdown",
   "id": "88c22563-46d8-4c6e-b7ee-b1c3c8a7beab",
   "metadata": {},
   "source": [
    "Dataframe'in sayısal değerlerinin ortalama, sayı, standart sapma gibi değerlerini yazdıralım:"
   ]
  },
  {
   "cell_type": "code",
   "execution_count": 118,
   "id": "15733937-6dec-48ab-9ae9-2585c408abd5",
   "metadata": {},
   "outputs": [
    {
     "data": {
      "text/html": [
       "<div>\n",
       "<style scoped>\n",
       "    .dataframe tbody tr th:only-of-type {\n",
       "        vertical-align: middle;\n",
       "    }\n",
       "\n",
       "    .dataframe tbody tr th {\n",
       "        vertical-align: top;\n",
       "    }\n",
       "\n",
       "    .dataframe thead th {\n",
       "        text-align: right;\n",
       "    }\n",
       "</style>\n",
       "<table border=\"1\" class=\"dataframe\">\n",
       "  <thead>\n",
       "    <tr style=\"text-align: right;\">\n",
       "      <th></th>\n",
       "      <th>atak</th>\n",
       "      <th>savunma</th>\n",
       "      <th>hız</th>\n",
       "    </tr>\n",
       "  </thead>\n",
       "  <tbody>\n",
       "    <tr>\n",
       "      <th>count</th>\n",
       "      <td>5.000000</td>\n",
       "      <td>5.000000</td>\n",
       "      <td>5.000000</td>\n",
       "    </tr>\n",
       "    <tr>\n",
       "      <th>mean</th>\n",
       "      <td>49.800000</td>\n",
       "      <td>71.400000</td>\n",
       "      <td>62.600000</td>\n",
       "    </tr>\n",
       "    <tr>\n",
       "      <th>std</th>\n",
       "      <td>3.834058</td>\n",
       "      <td>50.460876</td>\n",
       "      <td>19.398454</td>\n",
       "    </tr>\n",
       "    <tr>\n",
       "      <th>min</th>\n",
       "      <td>45.000000</td>\n",
       "      <td>40.000000</td>\n",
       "      <td>43.000000</td>\n",
       "    </tr>\n",
       "    <tr>\n",
       "      <th>25%</th>\n",
       "      <td>48.000000</td>\n",
       "      <td>43.000000</td>\n",
       "      <td>45.000000</td>\n",
       "    </tr>\n",
       "    <tr>\n",
       "      <th>50%</th>\n",
       "      <td>49.000000</td>\n",
       "      <td>49.000000</td>\n",
       "      <td>65.000000</td>\n",
       "    </tr>\n",
       "    <tr>\n",
       "      <th>75%</th>\n",
       "      <td>52.000000</td>\n",
       "      <td>65.000000</td>\n",
       "      <td>70.000000</td>\n",
       "    </tr>\n",
       "    <tr>\n",
       "      <th>max</th>\n",
       "      <td>55.000000</td>\n",
       "      <td>160.000000</td>\n",
       "      <td>90.000000</td>\n",
       "    </tr>\n",
       "  </tbody>\n",
       "</table>\n",
       "</div>"
      ],
      "text/plain": [
       "            atak     savunma        hız\n",
       "count   5.000000    5.000000   5.000000\n",
       "mean   49.800000   71.400000  62.600000\n",
       "std     3.834058   50.460876  19.398454\n",
       "min    45.000000   40.000000  43.000000\n",
       "25%    48.000000   43.000000  45.000000\n",
       "50%    49.000000   49.000000  65.000000\n",
       "75%    52.000000   65.000000  70.000000\n",
       "max    55.000000  160.000000  90.000000"
      ]
     },
     "execution_count": 118,
     "metadata": {},
     "output_type": "execute_result"
    }
   ],
   "source": [
    "pokemon.describe()"
   ]
  },
  {
   "cell_type": "markdown",
   "id": "6f0245ac-0227-4c62-b774-e6e875465585",
   "metadata": {},
   "source": [
    " <span style=\"color: blue; font-weight: bold;\">İndeksleme, Seçme ve Dilimleme</span>"
   ]
  },
  {
   "cell_type": "code",
   "execution_count": 122,
   "id": "596a4707-c651-4112-8839-7e08326af370",
   "metadata": {},
   "outputs": [
    {
     "data": {
      "text/plain": [
       "Bulbasaur     45\n",
       "Charmander    65\n",
       "Squirtle      43\n",
       "Pikachu       90\n",
       "Onix          70\n",
       "Name: hız, dtype: int64"
      ]
     },
     "execution_count": 122,
     "metadata": {},
     "output_type": "execute_result"
    }
   ],
   "source": [
    "pokemon[\"hız\"]"
   ]
  },
  {
   "cell_type": "markdown",
   "id": "32e7b7b9-fcbe-4643-aaa7-d7c77059ae38",
   "metadata": {},
   "source": [
    "Dataframe'de de satırları sayısal indeksleriyle seçmek için \".iloc()\" metodunu kullanabiliriz."
   ]
  },
  {
   "cell_type": "code",
   "execution_count": null,
   "id": "98da9c61-26aa-4147-b088-f881fd9a5ab9",
   "metadata": {},
   "outputs": [],
   "source": [
    "pokemon.iloc[1]"
   ]
  },
  {
   "cell_type": "markdown",
   "id": "5cbea407-f952-43ec-bc1d-1276a69fa02f",
   "metadata": {},
   "source": [
    "Satırları normal indeksleriyle seçmek için ise \".loc()\" metodunu kullanabiliriz."
   ]
  },
  {
   "cell_type": "code",
   "execution_count": 128,
   "id": "2e5f5ef2-8821-440d-b9cd-1206e12646c7",
   "metadata": {},
   "outputs": [
    {
     "data": {
      "text/plain": [
       "atak             55\n",
       "savunma          40\n",
       "hız              90\n",
       "tür        elektrik\n",
       "Name: Pikachu, dtype: object"
      ]
     },
     "execution_count": 128,
     "metadata": {},
     "output_type": "execute_result"
    }
   ],
   "source": [
    "pokemon.loc[\"Pikachu\"]"
   ]
  },
  {
   "cell_type": "markdown",
   "id": "e4f8f4e3-e8fe-454d-8865-5e2c94337aed",
   "metadata": {},
   "source": [
    " <span style=\"color: blue; font-weight: bold;\">Koşullu Seçim ve Değiştirme</span>"
   ]
  },
  {
   "cell_type": "code",
   "execution_count": 132,
   "id": "89edd2d2-d907-4343-990e-d038d6a86fc5",
   "metadata": {},
   "outputs": [
    {
     "data": {
      "text/html": [
       "<div>\n",
       "<style scoped>\n",
       "    .dataframe tbody tr th:only-of-type {\n",
       "        vertical-align: middle;\n",
       "    }\n",
       "\n",
       "    .dataframe tbody tr th {\n",
       "        vertical-align: top;\n",
       "    }\n",
       "\n",
       "    .dataframe thead th {\n",
       "        text-align: right;\n",
       "    }\n",
       "</style>\n",
       "<table border=\"1\" class=\"dataframe\">\n",
       "  <thead>\n",
       "    <tr style=\"text-align: right;\">\n",
       "      <th></th>\n",
       "      <th>atak</th>\n",
       "      <th>savunma</th>\n",
       "      <th>hız</th>\n",
       "      <th>tür</th>\n",
       "    </tr>\n",
       "  </thead>\n",
       "  <tbody>\n",
       "    <tr>\n",
       "      <th>Bulbasaur</th>\n",
       "      <td>49</td>\n",
       "      <td>49</td>\n",
       "      <td>45</td>\n",
       "      <td>ot</td>\n",
       "    </tr>\n",
       "    <tr>\n",
       "      <th>Charmander</th>\n",
       "      <td>52</td>\n",
       "      <td>43</td>\n",
       "      <td>65</td>\n",
       "      <td>ateş</td>\n",
       "    </tr>\n",
       "    <tr>\n",
       "      <th>Squirtle</th>\n",
       "      <td>48</td>\n",
       "      <td>65</td>\n",
       "      <td>43</td>\n",
       "      <td>su</td>\n",
       "    </tr>\n",
       "    <tr>\n",
       "      <th>Pikachu</th>\n",
       "      <td>55</td>\n",
       "      <td>40</td>\n",
       "      <td>90</td>\n",
       "      <td>elektrik</td>\n",
       "    </tr>\n",
       "    <tr>\n",
       "      <th>Onix</th>\n",
       "      <td>45</td>\n",
       "      <td>160</td>\n",
       "      <td>70</td>\n",
       "      <td>kaya</td>\n",
       "    </tr>\n",
       "  </tbody>\n",
       "</table>\n",
       "</div>"
      ],
      "text/plain": [
       "            atak  savunma  hız       tür\n",
       "Bulbasaur     49       49   45        ot\n",
       "Charmander    52       43   65      ateş\n",
       "Squirtle      48       65   43        su\n",
       "Pikachu       55       40   90  elektrik\n",
       "Onix          45      160   70      kaya"
      ]
     },
     "execution_count": 132,
     "metadata": {},
     "output_type": "execute_result"
    }
   ],
   "source": [
    "pokemon"
   ]
  },
  {
   "cell_type": "code",
   "execution_count": 134,
   "id": "24507fab-a2eb-4b46-9d16-d58a24d7f833",
   "metadata": {},
   "outputs": [
    {
     "data": {
      "text/plain": [
       "Bulbasaur     False\n",
       "Charmander     True\n",
       "Squirtle      False\n",
       "Pikachu        True\n",
       "Onix           True\n",
       "Name: hız, dtype: bool"
      ]
     },
     "execution_count": 134,
     "metadata": {},
     "output_type": "execute_result"
    }
   ],
   "source": [
    "pokemon[\"hız\"] > 60"
   ]
  },
  {
   "cell_type": "markdown",
   "id": "1b6175fa-3785-4720-86dc-2121ef328a39",
   "metadata": {},
   "source": [
    "Şimdi bu pokemonları dataframe üzerinde seçelim ve yazdıralım:"
   ]
  },
  {
   "cell_type": "code",
   "execution_count": 139,
   "id": "c164ad1f-b914-404b-9cd9-549dcdd50487",
   "metadata": {},
   "outputs": [
    {
     "data": {
      "text/html": [
       "<div>\n",
       "<style scoped>\n",
       "    .dataframe tbody tr th:only-of-type {\n",
       "        vertical-align: middle;\n",
       "    }\n",
       "\n",
       "    .dataframe tbody tr th {\n",
       "        vertical-align: top;\n",
       "    }\n",
       "\n",
       "    .dataframe thead th {\n",
       "        text-align: right;\n",
       "    }\n",
       "</style>\n",
       "<table border=\"1\" class=\"dataframe\">\n",
       "  <thead>\n",
       "    <tr style=\"text-align: right;\">\n",
       "      <th></th>\n",
       "      <th>atak</th>\n",
       "      <th>savunma</th>\n",
       "      <th>hız</th>\n",
       "      <th>tür</th>\n",
       "    </tr>\n",
       "  </thead>\n",
       "  <tbody>\n",
       "    <tr>\n",
       "      <th>Charmander</th>\n",
       "      <td>52</td>\n",
       "      <td>43</td>\n",
       "      <td>65</td>\n",
       "      <td>ateş</td>\n",
       "    </tr>\n",
       "    <tr>\n",
       "      <th>Pikachu</th>\n",
       "      <td>55</td>\n",
       "      <td>40</td>\n",
       "      <td>90</td>\n",
       "      <td>elektrik</td>\n",
       "    </tr>\n",
       "    <tr>\n",
       "      <th>Onix</th>\n",
       "      <td>45</td>\n",
       "      <td>160</td>\n",
       "      <td>70</td>\n",
       "      <td>kaya</td>\n",
       "    </tr>\n",
       "  </tbody>\n",
       "</table>\n",
       "</div>"
      ],
      "text/plain": [
       "            atak  savunma  hız       tür\n",
       "Charmander    52       43   65      ateş\n",
       "Pikachu       55       40   90  elektrik\n",
       "Onix          45      160   70      kaya"
      ]
     },
     "execution_count": 139,
     "metadata": {},
     "output_type": "execute_result"
    }
   ],
   "source": [
    "pokemon.loc[pokemon[\"hız\"] > 60]"
   ]
  },
  {
   "cell_type": "markdown",
   "id": "4a7fdeb8-aa82-402b-879a-c2f115daaa86",
   "metadata": {},
   "source": [
    "Bir dataframe aldık. Boolean seçim yapılmış dataframeden de istediğimiz sütunu seçebiliriz:"
   ]
  },
  {
   "cell_type": "code",
   "execution_count": 142,
   "id": "ecaf561c-8cef-483a-b9be-c25d02bc2d30",
   "metadata": {},
   "outputs": [
    {
     "data": {
      "text/plain": [
       "Charmander    65\n",
       "Pikachu       90\n",
       "Onix          70\n",
       "Name: hız, dtype: int64"
      ]
     },
     "execution_count": 142,
     "metadata": {},
     "output_type": "execute_result"
    }
   ],
   "source": [
    "pokemon.loc[pokemon[\"hız\"] > 60, \"hız\"]"
   ]
  },
  {
   "cell_type": "markdown",
   "id": "22aecdc4-b5f0-45a1-b181-fc6843f90d6c",
   "metadata": {},
   "source": [
    " <span style=\"color: blue; font-weight: bold;\">Veri Silme</span>"
   ]
  },
  {
   "cell_type": "markdown",
   "id": "a23489b6-b4cc-4ee5-aec1-33b296034a8b",
   "metadata": {},
   "source": [
    "Not: Silme operasyonunda \"inplace\" parametresini True yapmazsak tablo modifiye edilmez.\n",
    "\n",
    "İstediğimiz satırı indeksini vererek silebiliriz:"
   ]
  },
  {
   "cell_type": "code",
   "execution_count": 147,
   "id": "6f7c1184-dcdc-44ea-9ffb-6cb4f24d095f",
   "metadata": {},
   "outputs": [
    {
     "data": {
      "text/html": [
       "<div>\n",
       "<style scoped>\n",
       "    .dataframe tbody tr th:only-of-type {\n",
       "        vertical-align: middle;\n",
       "    }\n",
       "\n",
       "    .dataframe tbody tr th {\n",
       "        vertical-align: top;\n",
       "    }\n",
       "\n",
       "    .dataframe thead th {\n",
       "        text-align: right;\n",
       "    }\n",
       "</style>\n",
       "<table border=\"1\" class=\"dataframe\">\n",
       "  <thead>\n",
       "    <tr style=\"text-align: right;\">\n",
       "      <th></th>\n",
       "      <th>atak</th>\n",
       "      <th>savunma</th>\n",
       "      <th>hız</th>\n",
       "      <th>tür</th>\n",
       "    </tr>\n",
       "  </thead>\n",
       "  <tbody>\n",
       "    <tr>\n",
       "      <th>Charmander</th>\n",
       "      <td>52</td>\n",
       "      <td>43</td>\n",
       "      <td>65</td>\n",
       "      <td>ateş</td>\n",
       "    </tr>\n",
       "    <tr>\n",
       "      <th>Squirtle</th>\n",
       "      <td>48</td>\n",
       "      <td>65</td>\n",
       "      <td>43</td>\n",
       "      <td>su</td>\n",
       "    </tr>\n",
       "    <tr>\n",
       "      <th>Pikachu</th>\n",
       "      <td>55</td>\n",
       "      <td>40</td>\n",
       "      <td>90</td>\n",
       "      <td>elektrik</td>\n",
       "    </tr>\n",
       "    <tr>\n",
       "      <th>Onix</th>\n",
       "      <td>45</td>\n",
       "      <td>160</td>\n",
       "      <td>70</td>\n",
       "      <td>kaya</td>\n",
       "    </tr>\n",
       "  </tbody>\n",
       "</table>\n",
       "</div>"
      ],
      "text/plain": [
       "            atak  savunma  hız       tür\n",
       "Charmander    52       43   65      ateş\n",
       "Squirtle      48       65   43        su\n",
       "Pikachu       55       40   90  elektrik\n",
       "Onix          45      160   70      kaya"
      ]
     },
     "execution_count": 147,
     "metadata": {},
     "output_type": "execute_result"
    }
   ],
   "source": [
    "pokemon.drop(\"Bulbasaur\")"
   ]
  },
  {
   "cell_type": "markdown",
   "id": "d44799df-84f9-41dd-aed3-48b601c847e1",
   "metadata": {},
   "source": [
    "Birden çok satırı da silebiliriz:"
   ]
  },
  {
   "cell_type": "code",
   "execution_count": 150,
   "id": "191451c6-82db-45e3-8e83-15ee0f6f1b25",
   "metadata": {},
   "outputs": [
    {
     "data": {
      "text/html": [
       "<div>\n",
       "<style scoped>\n",
       "    .dataframe tbody tr th:only-of-type {\n",
       "        vertical-align: middle;\n",
       "    }\n",
       "\n",
       "    .dataframe tbody tr th {\n",
       "        vertical-align: top;\n",
       "    }\n",
       "\n",
       "    .dataframe thead th {\n",
       "        text-align: right;\n",
       "    }\n",
       "</style>\n",
       "<table border=\"1\" class=\"dataframe\">\n",
       "  <thead>\n",
       "    <tr style=\"text-align: right;\">\n",
       "      <th></th>\n",
       "      <th>atak</th>\n",
       "      <th>savunma</th>\n",
       "      <th>hız</th>\n",
       "      <th>tür</th>\n",
       "    </tr>\n",
       "  </thead>\n",
       "  <tbody>\n",
       "    <tr>\n",
       "      <th>Bulbasaur</th>\n",
       "      <td>49</td>\n",
       "      <td>49</td>\n",
       "      <td>45</td>\n",
       "      <td>ot</td>\n",
       "    </tr>\n",
       "    <tr>\n",
       "      <th>Charmander</th>\n",
       "      <td>52</td>\n",
       "      <td>43</td>\n",
       "      <td>65</td>\n",
       "      <td>ateş</td>\n",
       "    </tr>\n",
       "    <tr>\n",
       "      <th>Squirtle</th>\n",
       "      <td>48</td>\n",
       "      <td>65</td>\n",
       "      <td>43</td>\n",
       "      <td>su</td>\n",
       "    </tr>\n",
       "  </tbody>\n",
       "</table>\n",
       "</div>"
      ],
      "text/plain": [
       "            atak  savunma  hız   tür\n",
       "Bulbasaur     49       49   45    ot\n",
       "Charmander    52       43   65  ateş\n",
       "Squirtle      48       65   43    su"
      ]
     },
     "execution_count": 150,
     "metadata": {},
     "output_type": "execute_result"
    }
   ],
   "source": [
    "pokemon.drop([\"Pikachu\", \"Onix\"])"
   ]
  },
  {
   "cell_type": "markdown",
   "id": "d6168ffb-2be3-4d98-9388-68cd3c430aaf",
   "metadata": {},
   "source": [
    "İstediğimiz sütunları da silebiliriz. \"drop\" metodunda \"axis\" parametresi varsayılan olarak 0'dır ve bu da satırlar demektir. Bu parametreyi 1 yaparak sütun silebiliriz."
   ]
  },
  {
   "cell_type": "code",
   "execution_count": null,
   "id": "bd4846b1-463c-4ac6-802d-d019b500d153",
   "metadata": {},
   "outputs": [],
   "source": [
    "pokemon.drop([\"hız\", \"tür\"], axis=1)"
   ]
  },
  {
   "cell_type": "markdown",
   "id": "a3b83257-44d1-4b2e-83f7-7bcf309c2dc7",
   "metadata": {},
   "source": [
    " <span style=\"color: blue; font-weight: bold;\">Operasyonlar</span>"
   ]
  },
  {
   "cell_type": "markdown",
   "id": "cac393c9-3896-4b8c-b11c-025975e521b1",
   "metadata": {},
   "source": [
    "Dataframe'de birden fazla sütuna aynı anda işlemler yapabiliriz. Örneğin, atak ve savunmayı 10'a bölelim"
   ]
  },
  {
   "cell_type": "code",
   "execution_count": 158,
   "id": "33ac04de-6bd5-465e-98df-3c2396d907e0",
   "metadata": {},
   "outputs": [
    {
     "data": {
      "text/html": [
       "<div>\n",
       "<style scoped>\n",
       "    .dataframe tbody tr th:only-of-type {\n",
       "        vertical-align: middle;\n",
       "    }\n",
       "\n",
       "    .dataframe tbody tr th {\n",
       "        vertical-align: top;\n",
       "    }\n",
       "\n",
       "    .dataframe thead th {\n",
       "        text-align: right;\n",
       "    }\n",
       "</style>\n",
       "<table border=\"1\" class=\"dataframe\">\n",
       "  <thead>\n",
       "    <tr style=\"text-align: right;\">\n",
       "      <th></th>\n",
       "      <th>atak</th>\n",
       "      <th>savunma</th>\n",
       "    </tr>\n",
       "  </thead>\n",
       "  <tbody>\n",
       "    <tr>\n",
       "      <th>Bulbasaur</th>\n",
       "      <td>4.9</td>\n",
       "      <td>4.9</td>\n",
       "    </tr>\n",
       "    <tr>\n",
       "      <th>Charmander</th>\n",
       "      <td>5.2</td>\n",
       "      <td>4.3</td>\n",
       "    </tr>\n",
       "    <tr>\n",
       "      <th>Squirtle</th>\n",
       "      <td>4.8</td>\n",
       "      <td>6.5</td>\n",
       "    </tr>\n",
       "    <tr>\n",
       "      <th>Pikachu</th>\n",
       "      <td>5.5</td>\n",
       "      <td>4.0</td>\n",
       "    </tr>\n",
       "    <tr>\n",
       "      <th>Onix</th>\n",
       "      <td>4.5</td>\n",
       "      <td>16.0</td>\n",
       "    </tr>\n",
       "  </tbody>\n",
       "</table>\n",
       "</div>"
      ],
      "text/plain": [
       "            atak  savunma\n",
       "Bulbasaur    4.9      4.9\n",
       "Charmander   5.2      4.3\n",
       "Squirtle     4.8      6.5\n",
       "Pikachu      5.5      4.0\n",
       "Onix         4.5     16.0"
      ]
     },
     "execution_count": 158,
     "metadata": {},
     "output_type": "execute_result"
    }
   ],
   "source": [
    "pokemon[[\"atak\", \"savunma\"]] / 10"
   ]
  },
  {
   "cell_type": "markdown",
   "id": "1300c482-a8b3-4466-a161-c70e166862cd",
   "metadata": {},
   "source": [
    "Tüm atak puanlarına 10, savunma puanlarına 5 sayılarını aynı anda ekleyelim:"
   ]
  },
  {
   "cell_type": "code",
   "execution_count": 161,
   "id": "2d491d44-09cf-40bd-87b0-13db653f1219",
   "metadata": {},
   "outputs": [
    {
     "data": {
      "text/html": [
       "<div>\n",
       "<style scoped>\n",
       "    .dataframe tbody tr th:only-of-type {\n",
       "        vertical-align: middle;\n",
       "    }\n",
       "\n",
       "    .dataframe tbody tr th {\n",
       "        vertical-align: top;\n",
       "    }\n",
       "\n",
       "    .dataframe thead th {\n",
       "        text-align: right;\n",
       "    }\n",
       "</style>\n",
       "<table border=\"1\" class=\"dataframe\">\n",
       "  <thead>\n",
       "    <tr style=\"text-align: right;\">\n",
       "      <th></th>\n",
       "      <th>atak</th>\n",
       "      <th>savunma</th>\n",
       "    </tr>\n",
       "  </thead>\n",
       "  <tbody>\n",
       "    <tr>\n",
       "      <th>Bulbasaur</th>\n",
       "      <td>59</td>\n",
       "      <td>54</td>\n",
       "    </tr>\n",
       "    <tr>\n",
       "      <th>Charmander</th>\n",
       "      <td>62</td>\n",
       "      <td>48</td>\n",
       "    </tr>\n",
       "    <tr>\n",
       "      <th>Squirtle</th>\n",
       "      <td>58</td>\n",
       "      <td>70</td>\n",
       "    </tr>\n",
       "    <tr>\n",
       "      <th>Pikachu</th>\n",
       "      <td>65</td>\n",
       "      <td>45</td>\n",
       "    </tr>\n",
       "    <tr>\n",
       "      <th>Onix</th>\n",
       "      <td>55</td>\n",
       "      <td>165</td>\n",
       "    </tr>\n",
       "  </tbody>\n",
       "</table>\n",
       "</div>"
      ],
      "text/plain": [
       "            atak  savunma\n",
       "Bulbasaur     59       54\n",
       "Charmander    62       48\n",
       "Squirtle      58       70\n",
       "Pikachu       65       45\n",
       "Onix          55      165"
      ]
     },
     "execution_count": 161,
     "metadata": {},
     "output_type": "execute_result"
    }
   ],
   "source": [
    "pokemon[[\"atak\", \"savunma\"]] + [10, 5]"
   ]
  },
  {
   "cell_type": "markdown",
   "id": "f3aac2c4-c7e2-4cfc-adcd-1ed452c67375",
   "metadata": {},
   "source": [
    " <span style=\"color: blue; font-weight: bold;\">Dataframe'leri Değiştirme/Düzenleme</span>"
   ]
  },
  {
   "cell_type": "code",
   "execution_count": 166,
   "id": "0d302cd7-e4eb-46e9-909e-92366785b0af",
   "metadata": {},
   "outputs": [],
   "source": [
    "# series oluşturalım, index bilgisini de girelim\n",
    "boylar = pd.Series(\n",
    "    [0.7, 0.6, 0.5, 0.4, 8.8],\n",
    "    index=pokemon.index) "
   ]
  },
  {
   "cell_type": "code",
   "execution_count": 168,
   "id": "22e3c994-6198-476d-a8d7-bbdca9719fad",
   "metadata": {},
   "outputs": [
    {
     "data": {
      "text/plain": [
       "Bulbasaur     0.7\n",
       "Charmander    0.6\n",
       "Squirtle      0.5\n",
       "Pikachu       0.4\n",
       "Onix          8.8\n",
       "dtype: float64"
      ]
     },
     "execution_count": 168,
     "metadata": {},
     "output_type": "execute_result"
    }
   ],
   "source": [
    "boylar"
   ]
  },
  {
   "cell_type": "markdown",
   "id": "f83d05f8-7bbf-4edd-9e6c-e68e0d8606b5",
   "metadata": {},
   "source": [
    "Pokemon dataframe'inde \"boy\" adında bir sütun oluşturalım ve boylar serisini bu sütuna atayalım."
   ]
  },
  {
   "cell_type": "code",
   "execution_count": 171,
   "id": "89b2584d-e435-42ae-bed2-b5655bdcd66f",
   "metadata": {},
   "outputs": [],
   "source": [
    "pokemon[\"boy\"] = boylar"
   ]
  },
  {
   "cell_type": "code",
   "execution_count": 173,
   "id": "1b320ef5-02a7-4e49-89d4-e839bb2b8ad1",
   "metadata": {},
   "outputs": [
    {
     "data": {
      "text/html": [
       "<div>\n",
       "<style scoped>\n",
       "    .dataframe tbody tr th:only-of-type {\n",
       "        vertical-align: middle;\n",
       "    }\n",
       "\n",
       "    .dataframe tbody tr th {\n",
       "        vertical-align: top;\n",
       "    }\n",
       "\n",
       "    .dataframe thead th {\n",
       "        text-align: right;\n",
       "    }\n",
       "</style>\n",
       "<table border=\"1\" class=\"dataframe\">\n",
       "  <thead>\n",
       "    <tr style=\"text-align: right;\">\n",
       "      <th></th>\n",
       "      <th>atak</th>\n",
       "      <th>savunma</th>\n",
       "      <th>hız</th>\n",
       "      <th>tür</th>\n",
       "      <th>boy</th>\n",
       "    </tr>\n",
       "  </thead>\n",
       "  <tbody>\n",
       "    <tr>\n",
       "      <th>Bulbasaur</th>\n",
       "      <td>49</td>\n",
       "      <td>49</td>\n",
       "      <td>45</td>\n",
       "      <td>ot</td>\n",
       "      <td>0.7</td>\n",
       "    </tr>\n",
       "    <tr>\n",
       "      <th>Charmander</th>\n",
       "      <td>52</td>\n",
       "      <td>43</td>\n",
       "      <td>65</td>\n",
       "      <td>ateş</td>\n",
       "      <td>0.6</td>\n",
       "    </tr>\n",
       "    <tr>\n",
       "      <th>Squirtle</th>\n",
       "      <td>48</td>\n",
       "      <td>65</td>\n",
       "      <td>43</td>\n",
       "      <td>su</td>\n",
       "      <td>0.5</td>\n",
       "    </tr>\n",
       "    <tr>\n",
       "      <th>Pikachu</th>\n",
       "      <td>55</td>\n",
       "      <td>40</td>\n",
       "      <td>90</td>\n",
       "      <td>elektrik</td>\n",
       "      <td>0.4</td>\n",
       "    </tr>\n",
       "    <tr>\n",
       "      <th>Onix</th>\n",
       "      <td>45</td>\n",
       "      <td>160</td>\n",
       "      <td>70</td>\n",
       "      <td>kaya</td>\n",
       "      <td>8.8</td>\n",
       "    </tr>\n",
       "  </tbody>\n",
       "</table>\n",
       "</div>"
      ],
      "text/plain": [
       "            atak  savunma  hız       tür  boy\n",
       "Bulbasaur     49       49   45        ot  0.7\n",
       "Charmander    52       43   65      ateş  0.6\n",
       "Squirtle      48       65   43        su  0.5\n",
       "Pikachu       55       40   90  elektrik  0.4\n",
       "Onix          45      160   70      kaya  8.8"
      ]
     },
     "execution_count": 173,
     "metadata": {},
     "output_type": "execute_result"
    }
   ],
   "source": [
    "pokemon"
   ]
  },
  {
   "cell_type": "markdown",
   "id": "d015e45a-ec32-4ed4-b5ab-e5c16015539a",
   "metadata": {},
   "source": [
    "Tüm boy değerlerini 1 yapalım:"
   ]
  },
  {
   "cell_type": "code",
   "execution_count": 176,
   "id": "bc761719-d512-4a3d-8d8e-697852021088",
   "metadata": {},
   "outputs": [
    {
     "data": {
      "text/html": [
       "<div>\n",
       "<style scoped>\n",
       "    .dataframe tbody tr th:only-of-type {\n",
       "        vertical-align: middle;\n",
       "    }\n",
       "\n",
       "    .dataframe tbody tr th {\n",
       "        vertical-align: top;\n",
       "    }\n",
       "\n",
       "    .dataframe thead th {\n",
       "        text-align: right;\n",
       "    }\n",
       "</style>\n",
       "<table border=\"1\" class=\"dataframe\">\n",
       "  <thead>\n",
       "    <tr style=\"text-align: right;\">\n",
       "      <th></th>\n",
       "      <th>atak</th>\n",
       "      <th>savunma</th>\n",
       "      <th>hız</th>\n",
       "      <th>tür</th>\n",
       "      <th>boy</th>\n",
       "    </tr>\n",
       "  </thead>\n",
       "  <tbody>\n",
       "    <tr>\n",
       "      <th>Bulbasaur</th>\n",
       "      <td>49</td>\n",
       "      <td>49</td>\n",
       "      <td>45</td>\n",
       "      <td>ot</td>\n",
       "      <td>1</td>\n",
       "    </tr>\n",
       "    <tr>\n",
       "      <th>Charmander</th>\n",
       "      <td>52</td>\n",
       "      <td>43</td>\n",
       "      <td>65</td>\n",
       "      <td>ateş</td>\n",
       "      <td>1</td>\n",
       "    </tr>\n",
       "    <tr>\n",
       "      <th>Squirtle</th>\n",
       "      <td>48</td>\n",
       "      <td>65</td>\n",
       "      <td>43</td>\n",
       "      <td>su</td>\n",
       "      <td>1</td>\n",
       "    </tr>\n",
       "    <tr>\n",
       "      <th>Pikachu</th>\n",
       "      <td>55</td>\n",
       "      <td>40</td>\n",
       "      <td>90</td>\n",
       "      <td>elektrik</td>\n",
       "      <td>1</td>\n",
       "    </tr>\n",
       "    <tr>\n",
       "      <th>Onix</th>\n",
       "      <td>45</td>\n",
       "      <td>160</td>\n",
       "      <td>70</td>\n",
       "      <td>kaya</td>\n",
       "      <td>1</td>\n",
       "    </tr>\n",
       "  </tbody>\n",
       "</table>\n",
       "</div>"
      ],
      "text/plain": [
       "            atak  savunma  hız       tür  boy\n",
       "Bulbasaur     49       49   45        ot    1\n",
       "Charmander    52       43   65      ateş    1\n",
       "Squirtle      48       65   43        su    1\n",
       "Pikachu       55       40   90  elektrik    1\n",
       "Onix          45      160   70      kaya    1"
      ]
     },
     "execution_count": 176,
     "metadata": {},
     "output_type": "execute_result"
    }
   ],
   "source": [
    "pokemon[\"boy\"] = 1\n",
    "pokemon"
   ]
  },
  {
   "cell_type": "code",
   "execution_count": 178,
   "id": "91791e56-31a7-41f1-93cf-feac0d319f32",
   "metadata": {},
   "outputs": [
    {
     "data": {
      "text/plain": [
       "dtype('int64')"
      ]
     },
     "execution_count": 178,
     "metadata": {},
     "output_type": "execute_result"
    }
   ],
   "source": [
    "pokemon[\"boy\"].dtype"
   ]
  },
  {
   "cell_type": "markdown",
   "id": "36a8447c-f86e-4445-8b21-a209771e456a",
   "metadata": {},
   "source": [
    "Boy değerlerini tekrar yerine koyalım:"
   ]
  },
  {
   "cell_type": "code",
   "execution_count": 181,
   "id": "63138f6b-c31a-4582-8304-1587ab4add1b",
   "metadata": {},
   "outputs": [],
   "source": [
    "pokemon[\"boy\"] = boylar"
   ]
  },
  {
   "cell_type": "markdown",
   "id": "429c5646-9e2e-4827-a2f0-b29227d79f05",
   "metadata": {},
   "source": [
    " <span style=\"color: blue; font-weight: bold;\">Yeniden adlandırma</span>"
   ]
  },
  {
   "cell_type": "code",
   "execution_count": 185,
   "id": "c893eaf6-f5ce-43a8-91ea-ab81f898bbd9",
   "metadata": {},
   "outputs": [
    {
     "data": {
      "text/html": [
       "<div>\n",
       "<style scoped>\n",
       "    .dataframe tbody tr th:only-of-type {\n",
       "        vertical-align: middle;\n",
       "    }\n",
       "\n",
       "    .dataframe tbody tr th {\n",
       "        vertical-align: top;\n",
       "    }\n",
       "\n",
       "    .dataframe thead th {\n",
       "        text-align: right;\n",
       "    }\n",
       "</style>\n",
       "<table border=\"1\" class=\"dataframe\">\n",
       "  <thead>\n",
       "    <tr style=\"text-align: right;\">\n",
       "      <th></th>\n",
       "      <th>attack</th>\n",
       "      <th>defense</th>\n",
       "      <th>speed</th>\n",
       "      <th>type</th>\n",
       "      <th>height</th>\n",
       "    </tr>\n",
       "  </thead>\n",
       "  <tbody>\n",
       "    <tr>\n",
       "      <th>Bulbasaur</th>\n",
       "      <td>49</td>\n",
       "      <td>49</td>\n",
       "      <td>45</td>\n",
       "      <td>ot</td>\n",
       "      <td>0.7</td>\n",
       "    </tr>\n",
       "    <tr>\n",
       "      <th>Charmander</th>\n",
       "      <td>52</td>\n",
       "      <td>43</td>\n",
       "      <td>65</td>\n",
       "      <td>ateş</td>\n",
       "      <td>0.6</td>\n",
       "    </tr>\n",
       "    <tr>\n",
       "      <th>Squirtle</th>\n",
       "      <td>48</td>\n",
       "      <td>65</td>\n",
       "      <td>43</td>\n",
       "      <td>su</td>\n",
       "      <td>0.5</td>\n",
       "    </tr>\n",
       "    <tr>\n",
       "      <th>Pikachu</th>\n",
       "      <td>55</td>\n",
       "      <td>40</td>\n",
       "      <td>90</td>\n",
       "      <td>elektrik</td>\n",
       "      <td>0.4</td>\n",
       "    </tr>\n",
       "    <tr>\n",
       "      <th>Onix</th>\n",
       "      <td>45</td>\n",
       "      <td>160</td>\n",
       "      <td>70</td>\n",
       "      <td>kaya</td>\n",
       "      <td>8.8</td>\n",
       "    </tr>\n",
       "  </tbody>\n",
       "</table>\n",
       "</div>"
      ],
      "text/plain": [
       "            attack  defense  speed      type  height\n",
       "Bulbasaur       49       49     45        ot     0.7\n",
       "Charmander      52       43     65      ateş     0.6\n",
       "Squirtle        48       65     43        su     0.5\n",
       "Pikachu         55       40     90  elektrik     0.4\n",
       "Onix            45      160     70      kaya     8.8"
      ]
     },
     "execution_count": 185,
     "metadata": {},
     "output_type": "execute_result"
    }
   ],
   "source": [
    "pokemon.rename(\n",
    "    columns={\n",
    "        \"atak\": \"attack\",\n",
    "        \"savunma\": \"defense\",\n",
    "        \"tür\": \"type\",\n",
    "        \"hız\": \"speed\",\n",
    "        \"boy\": \"height\"\n",
    "    }\n",
    ")"
   ]
  },
  {
   "cell_type": "markdown",
   "id": "6ab47007-e3bc-488f-b0ee-0f660b417d25",
   "metadata": {},
   "source": [
    "Not: \"inplace\" parametresi False olduğu için dataframe değiştirilmedi."
   ]
  },
  {
   "cell_type": "markdown",
   "id": "a6b3f5f0-4ddd-45f9-b09e-aa047640e836",
   "metadata": {},
   "source": [
    " <span style=\"color: blue; font-weight: bold;\">Dataframe'leri Değiştirme/Düzenleme</span>"
   ]
  },
  {
   "cell_type": "markdown",
   "id": "9eac02cf-b71a-4176-bade-c0fa3f663f36",
   "metadata": {},
   "source": [
    "Satır ekleme\n",
    "\n",
    "Charmander'in gelişmiş hali olan Charizard'ı da ekleyelim:"
   ]
  },
  {
   "cell_type": "code",
   "execution_count": 197,
   "id": "f8df9766-2014-492b-bebc-5ff30a52190b",
   "metadata": {},
   "outputs": [],
   "source": [
    "charizard = pd.Series({\n",
    "    \"atak\": 104,\n",
    "    \"savunma\": 78,\n",
    "    \"tür\": \"ateş\",\n",
    "    \"hız\": 100,\n",
    "    \"boy\": 1.7\n",
    "}, name=\"Charizard\")\n",
    "\n",
    "pokemon = pd.concat([pokemon, charizard.to_frame().T])"
   ]
  },
  {
   "cell_type": "code",
   "execution_count": 199,
   "id": "eb155748-9770-4294-8adc-d39b3a840fd0",
   "metadata": {},
   "outputs": [
    {
     "data": {
      "text/html": [
       "<div>\n",
       "<style scoped>\n",
       "    .dataframe tbody tr th:only-of-type {\n",
       "        vertical-align: middle;\n",
       "    }\n",
       "\n",
       "    .dataframe tbody tr th {\n",
       "        vertical-align: top;\n",
       "    }\n",
       "\n",
       "    .dataframe thead th {\n",
       "        text-align: right;\n",
       "    }\n",
       "</style>\n",
       "<table border=\"1\" class=\"dataframe\">\n",
       "  <thead>\n",
       "    <tr style=\"text-align: right;\">\n",
       "      <th></th>\n",
       "      <th>atak</th>\n",
       "      <th>savunma</th>\n",
       "      <th>hız</th>\n",
       "      <th>tür</th>\n",
       "      <th>boy</th>\n",
       "    </tr>\n",
       "  </thead>\n",
       "  <tbody>\n",
       "    <tr>\n",
       "      <th>Bulbasaur</th>\n",
       "      <td>49</td>\n",
       "      <td>49</td>\n",
       "      <td>45</td>\n",
       "      <td>ot</td>\n",
       "      <td>0.7</td>\n",
       "    </tr>\n",
       "    <tr>\n",
       "      <th>Charmander</th>\n",
       "      <td>52</td>\n",
       "      <td>43</td>\n",
       "      <td>65</td>\n",
       "      <td>ateş</td>\n",
       "      <td>0.6</td>\n",
       "    </tr>\n",
       "    <tr>\n",
       "      <th>Squirtle</th>\n",
       "      <td>48</td>\n",
       "      <td>65</td>\n",
       "      <td>43</td>\n",
       "      <td>su</td>\n",
       "      <td>0.5</td>\n",
       "    </tr>\n",
       "    <tr>\n",
       "      <th>Pikachu</th>\n",
       "      <td>55</td>\n",
       "      <td>40</td>\n",
       "      <td>90</td>\n",
       "      <td>elektrik</td>\n",
       "      <td>0.4</td>\n",
       "    </tr>\n",
       "    <tr>\n",
       "      <th>Onix</th>\n",
       "      <td>45</td>\n",
       "      <td>160</td>\n",
       "      <td>70</td>\n",
       "      <td>kaya</td>\n",
       "      <td>8.8</td>\n",
       "    </tr>\n",
       "    <tr>\n",
       "      <th>Charizard</th>\n",
       "      <td>104</td>\n",
       "      <td>78</td>\n",
       "      <td>100</td>\n",
       "      <td>ateş</td>\n",
       "      <td>1.7</td>\n",
       "    </tr>\n",
       "  </tbody>\n",
       "</table>\n",
       "</div>"
      ],
      "text/plain": [
       "           atak savunma  hız       tür  boy\n",
       "Bulbasaur    49      49   45        ot  0.7\n",
       "Charmander   52      43   65      ateş  0.6\n",
       "Squirtle     48      65   43        su  0.5\n",
       "Pikachu      55      40   90  elektrik  0.4\n",
       "Onix         45     160   70      kaya  8.8\n",
       "Charizard   104      78  100      ateş  1.7"
      ]
     },
     "execution_count": 199,
     "metadata": {},
     "output_type": "execute_result"
    }
   ],
   "source": [
    "pokemon\n"
   ]
  },
  {
   "cell_type": "markdown",
   "id": "1e8360ab-0987-4ab9-a412-573f390fb682",
   "metadata": {},
   "source": [
    "Sütunları kullanarak yeni bir sütun oluşturma\n",
    "\n",
    "Örneğin; atak, savunma ve hız değerlerini toplayıp \"toplam güç\" adında bir sütuna yazabiliriz:"
   ]
  },
  {
   "cell_type": "code",
   "execution_count": 202,
   "id": "bf9992d3-5182-45d9-9eb7-ce297a9c01ae",
   "metadata": {},
   "outputs": [
    {
     "data": {
      "text/html": [
       "<div>\n",
       "<style scoped>\n",
       "    .dataframe tbody tr th:only-of-type {\n",
       "        vertical-align: middle;\n",
       "    }\n",
       "\n",
       "    .dataframe tbody tr th {\n",
       "        vertical-align: top;\n",
       "    }\n",
       "\n",
       "    .dataframe thead th {\n",
       "        text-align: right;\n",
       "    }\n",
       "</style>\n",
       "<table border=\"1\" class=\"dataframe\">\n",
       "  <thead>\n",
       "    <tr style=\"text-align: right;\">\n",
       "      <th></th>\n",
       "      <th>atak</th>\n",
       "      <th>savunma</th>\n",
       "      <th>hız</th>\n",
       "      <th>tür</th>\n",
       "      <th>boy</th>\n",
       "      <th>toplam güç</th>\n",
       "    </tr>\n",
       "  </thead>\n",
       "  <tbody>\n",
       "    <tr>\n",
       "      <th>Bulbasaur</th>\n",
       "      <td>49</td>\n",
       "      <td>49</td>\n",
       "      <td>45</td>\n",
       "      <td>ot</td>\n",
       "      <td>0.7</td>\n",
       "      <td>143</td>\n",
       "    </tr>\n",
       "    <tr>\n",
       "      <th>Charmander</th>\n",
       "      <td>52</td>\n",
       "      <td>43</td>\n",
       "      <td>65</td>\n",
       "      <td>ateş</td>\n",
       "      <td>0.6</td>\n",
       "      <td>160</td>\n",
       "    </tr>\n",
       "    <tr>\n",
       "      <th>Squirtle</th>\n",
       "      <td>48</td>\n",
       "      <td>65</td>\n",
       "      <td>43</td>\n",
       "      <td>su</td>\n",
       "      <td>0.5</td>\n",
       "      <td>156</td>\n",
       "    </tr>\n",
       "    <tr>\n",
       "      <th>Pikachu</th>\n",
       "      <td>55</td>\n",
       "      <td>40</td>\n",
       "      <td>90</td>\n",
       "      <td>elektrik</td>\n",
       "      <td>0.4</td>\n",
       "      <td>185</td>\n",
       "    </tr>\n",
       "    <tr>\n",
       "      <th>Onix</th>\n",
       "      <td>45</td>\n",
       "      <td>160</td>\n",
       "      <td>70</td>\n",
       "      <td>kaya</td>\n",
       "      <td>8.8</td>\n",
       "      <td>275</td>\n",
       "    </tr>\n",
       "    <tr>\n",
       "      <th>Charizard</th>\n",
       "      <td>104</td>\n",
       "      <td>78</td>\n",
       "      <td>100</td>\n",
       "      <td>ateş</td>\n",
       "      <td>1.7</td>\n",
       "      <td>282</td>\n",
       "    </tr>\n",
       "  </tbody>\n",
       "</table>\n",
       "</div>"
      ],
      "text/plain": [
       "           atak savunma  hız       tür  boy toplam güç\n",
       "Bulbasaur    49      49   45        ot  0.7        143\n",
       "Charmander   52      43   65      ateş  0.6        160\n",
       "Squirtle     48      65   43        su  0.5        156\n",
       "Pikachu      55      40   90  elektrik  0.4        185\n",
       "Onix         45     160   70      kaya  8.8        275\n",
       "Charizard   104      78  100      ateş  1.7        282"
      ]
     },
     "execution_count": 202,
     "metadata": {},
     "output_type": "execute_result"
    }
   ],
   "source": [
    "# sütunu oluşturalım \n",
    "pokemon[\"toplam güç\"] = pokemon[\"atak\"] + pokemon[\"savunma\"] + pokemon[\"hız\"] \n",
    "# dataframe'i yazdıralım \n",
    "pokemon"
   ]
  },
  {
   "cell_type": "markdown",
   "id": "7e05842e-f0de-4ef8-b55c-6dba06ceff1a",
   "metadata": {},
   "source": [
    "Ya da \"atak/savunma\" oranını yani bir pokemonun ne kadar atak yapmaya yönelik olduğunu (saldırganlık) bulabiliriz: ,"
   ]
  },
  {
   "cell_type": "code",
   "execution_count": 205,
   "id": "8f33323d-820c-406f-bfa0-5771d454a9fb",
   "metadata": {},
   "outputs": [],
   "source": [
    "pokemon[\"saldırganlık\"] = pokemon[\"atak\"] / pokemon[\"savunma\"]"
   ]
  },
  {
   "cell_type": "code",
   "execution_count": 207,
   "id": "25a95098-7da6-41dc-9127-7229bd89d124",
   "metadata": {},
   "outputs": [
    {
     "data": {
      "text/html": [
       "<div>\n",
       "<style scoped>\n",
       "    .dataframe tbody tr th:only-of-type {\n",
       "        vertical-align: middle;\n",
       "    }\n",
       "\n",
       "    .dataframe tbody tr th {\n",
       "        vertical-align: top;\n",
       "    }\n",
       "\n",
       "    .dataframe thead th {\n",
       "        text-align: right;\n",
       "    }\n",
       "</style>\n",
       "<table border=\"1\" class=\"dataframe\">\n",
       "  <thead>\n",
       "    <tr style=\"text-align: right;\">\n",
       "      <th></th>\n",
       "      <th>atak</th>\n",
       "      <th>savunma</th>\n",
       "      <th>hız</th>\n",
       "      <th>tür</th>\n",
       "      <th>boy</th>\n",
       "      <th>toplam güç</th>\n",
       "      <th>saldırganlık</th>\n",
       "    </tr>\n",
       "  </thead>\n",
       "  <tbody>\n",
       "    <tr>\n",
       "      <th>Bulbasaur</th>\n",
       "      <td>49</td>\n",
       "      <td>49</td>\n",
       "      <td>45</td>\n",
       "      <td>ot</td>\n",
       "      <td>0.7</td>\n",
       "      <td>143</td>\n",
       "      <td>1.0</td>\n",
       "    </tr>\n",
       "    <tr>\n",
       "      <th>Charmander</th>\n",
       "      <td>52</td>\n",
       "      <td>43</td>\n",
       "      <td>65</td>\n",
       "      <td>ateş</td>\n",
       "      <td>0.6</td>\n",
       "      <td>160</td>\n",
       "      <td>1.209302</td>\n",
       "    </tr>\n",
       "    <tr>\n",
       "      <th>Squirtle</th>\n",
       "      <td>48</td>\n",
       "      <td>65</td>\n",
       "      <td>43</td>\n",
       "      <td>su</td>\n",
       "      <td>0.5</td>\n",
       "      <td>156</td>\n",
       "      <td>0.738462</td>\n",
       "    </tr>\n",
       "    <tr>\n",
       "      <th>Pikachu</th>\n",
       "      <td>55</td>\n",
       "      <td>40</td>\n",
       "      <td>90</td>\n",
       "      <td>elektrik</td>\n",
       "      <td>0.4</td>\n",
       "      <td>185</td>\n",
       "      <td>1.375</td>\n",
       "    </tr>\n",
       "    <tr>\n",
       "      <th>Onix</th>\n",
       "      <td>45</td>\n",
       "      <td>160</td>\n",
       "      <td>70</td>\n",
       "      <td>kaya</td>\n",
       "      <td>8.8</td>\n",
       "      <td>275</td>\n",
       "      <td>0.28125</td>\n",
       "    </tr>\n",
       "    <tr>\n",
       "      <th>Charizard</th>\n",
       "      <td>104</td>\n",
       "      <td>78</td>\n",
       "      <td>100</td>\n",
       "      <td>ateş</td>\n",
       "      <td>1.7</td>\n",
       "      <td>282</td>\n",
       "      <td>1.333333</td>\n",
       "    </tr>\n",
       "  </tbody>\n",
       "</table>\n",
       "</div>"
      ],
      "text/plain": [
       "           atak savunma  hız       tür  boy toplam güç saldırganlık\n",
       "Bulbasaur    49      49   45        ot  0.7        143          1.0\n",
       "Charmander   52      43   65      ateş  0.6        160     1.209302\n",
       "Squirtle     48      65   43        su  0.5        156     0.738462\n",
       "Pikachu      55      40   90  elektrik  0.4        185        1.375\n",
       "Onix         45     160   70      kaya  8.8        275      0.28125\n",
       "Charizard   104      78  100      ateş  1.7        282     1.333333"
      ]
     },
     "execution_count": 207,
     "metadata": {},
     "output_type": "execute_result"
    }
   ],
   "source": [
    "pokemon"
   ]
  },
  {
   "cell_type": "markdown",
   "id": "e5612717-4d02-4068-9e88-8b2b3332646b",
   "metadata": {},
   "source": [
    "Şu anda yaptığımız işlem, veri analizi için önemli bir işlemdi. Pokemonların atak/savunma oranları bize önemli bir bilgi veriyor. Saldırganlık değerlerine baktığımızda en az saldırgan olan pokemonun Onix olduğunu görüyoruz ki bu pokemon kaya türü olan ve tam bir savunma pokemonu. Squirtle da kaplumbağaya benzeyen bir pokemon ve savunmaya meyilli. Atak pokemonları olarak ise Charmander'ı ve özellikle Pikachu'yu görüyoruz. Evet, Pikachu'nun atağı güçlü ancak savunması zayıf."
   ]
  },
  {
   "cell_type": "markdown",
   "id": "e5acb6b8-3533-413b-b79c-0dc171bd3c8a",
   "metadata": {},
   "source": [
    " <span style=\"color: blue; font-weight: bold;\">İstatistiksel bilgi edinmek</span>"
   ]
  },
  {
   "cell_type": "markdown",
   "id": "f01e1992-99dd-4daa-9c88-93b2e5c2bf86",
   "metadata": {},
   "source": [
    "NumPy array'lerde yapabileceğimiz istatistiksel hesaplamaları aynı şekilde dataframe ya da serilerde de yapabiliriz. Önceden gördüğümüz gibi \".describe()\" metodu ile sayısal sütunların istatistiksel bilgisini edinebiliriz"
   ]
  },
  {
   "cell_type": "markdown",
   "id": "9f515858-c2d6-4f0f-839b-ccc482d11e36",
   "metadata": {},
   "source": [
    " <span style=\"color: blue; font-weight: bold;\">Dışarıdan Veri Okuma</span>"
   ]
  },
  {
   "cell_type": "markdown",
   "id": "33ddf1dc-21aa-4ead-8fb8-6fa1de1d73b2",
   "metadata": {},
   "source": [
    "Pandas kullanarak CSV, Excel, JSON gibi dosyaları okuyabilir ve dataframe'lere yükleyebiliriz. Pandas ile en çok CSV dosyaları kullanılır. \"Comma Separated Values\" yani \"virgül ile ayrılmış değerler\" anlamına gelir. Verideki her değer birer virgül ile, her satır ise birer satır sonu ile ayrılmıştır. Örneğin; aşağıda bitcoin'in zamana göre değerlerini içeren bir CSV verisi örneği var:"
   ]
  },
  {
   "cell_type": "code",
   "execution_count": 220,
   "id": "a5fffffc-e771-407c-bac4-91b2b34cb5ac",
   "metadata": {},
   "outputs": [],
   "source": [
    "df = pd.read_csv(\"btc-market-price.csv\")"
   ]
  },
  {
   "cell_type": "code",
   "execution_count": 222,
   "id": "959967d3-4f41-45eb-bb67-24774178fc05",
   "metadata": {},
   "outputs": [
    {
     "data": {
      "text/html": [
       "<div>\n",
       "<style scoped>\n",
       "    .dataframe tbody tr th:only-of-type {\n",
       "        vertical-align: middle;\n",
       "    }\n",
       "\n",
       "    .dataframe tbody tr th {\n",
       "        vertical-align: top;\n",
       "    }\n",
       "\n",
       "    .dataframe thead th {\n",
       "        text-align: right;\n",
       "    }\n",
       "</style>\n",
       "<table border=\"1\" class=\"dataframe\">\n",
       "  <thead>\n",
       "    <tr style=\"text-align: right;\">\n",
       "      <th></th>\n",
       "      <th>2017-04-02 00:00:00</th>\n",
       "      <th>1099.169125</th>\n",
       "    </tr>\n",
       "  </thead>\n",
       "  <tbody>\n",
       "    <tr>\n",
       "      <th>0</th>\n",
       "      <td>2017-04-03 00:00:00</td>\n",
       "      <td>1141.813000</td>\n",
       "    </tr>\n",
       "    <tr>\n",
       "      <th>1</th>\n",
       "      <td>2017-04-04 00:00:00</td>\n",
       "      <td>1141.600363</td>\n",
       "    </tr>\n",
       "    <tr>\n",
       "      <th>2</th>\n",
       "      <td>2017-04-05 00:00:00</td>\n",
       "      <td>1133.079314</td>\n",
       "    </tr>\n",
       "    <tr>\n",
       "      <th>3</th>\n",
       "      <td>2017-04-06 00:00:00</td>\n",
       "      <td>1196.307937</td>\n",
       "    </tr>\n",
       "    <tr>\n",
       "      <th>4</th>\n",
       "      <td>2017-04-07 00:00:00</td>\n",
       "      <td>1190.454250</td>\n",
       "    </tr>\n",
       "  </tbody>\n",
       "</table>\n",
       "</div>"
      ],
      "text/plain": [
       "   2017-04-02 00:00:00  1099.169125\n",
       "0  2017-04-03 00:00:00  1141.813000\n",
       "1  2017-04-04 00:00:00  1141.600363\n",
       "2  2017-04-05 00:00:00  1133.079314\n",
       "3  2017-04-06 00:00:00  1196.307937\n",
       "4  2017-04-07 00:00:00  1190.454250"
      ]
     },
     "execution_count": 222,
     "metadata": {},
     "output_type": "execute_result"
    }
   ],
   "source": [
    "# verinin ilk 5 satırını yazdıralım \n",
    "df.head()"
   ]
  },
  {
   "cell_type": "markdown",
   "id": "70f7727a-4462-49e9-af11-343f44bc8216",
   "metadata": {},
   "source": [
    "Veriyi okuduk, her satıra birer indeks verildi ancak bu veride ilk satırda sütun isimleri yoktu. Yukarıda ilk satırın sütun isimleri olarak alındığını görebiliriz. Bunu şöyle düzeltebiliriz:"
   ]
  },
  {
   "cell_type": "code",
   "execution_count": 225,
   "id": "317fb11c-0e44-4777-824f-80092cfb2a48",
   "metadata": {},
   "outputs": [
    {
     "data": {
      "text/html": [
       "<div>\n",
       "<style scoped>\n",
       "    .dataframe tbody tr th:only-of-type {\n",
       "        vertical-align: middle;\n",
       "    }\n",
       "\n",
       "    .dataframe tbody tr th {\n",
       "        vertical-align: top;\n",
       "    }\n",
       "\n",
       "    .dataframe thead th {\n",
       "        text-align: right;\n",
       "    }\n",
       "</style>\n",
       "<table border=\"1\" class=\"dataframe\">\n",
       "  <thead>\n",
       "    <tr style=\"text-align: right;\">\n",
       "      <th></th>\n",
       "      <th>zaman</th>\n",
       "      <th>değer</th>\n",
       "    </tr>\n",
       "  </thead>\n",
       "  <tbody>\n",
       "    <tr>\n",
       "      <th>0</th>\n",
       "      <td>2017-04-02 00:00:00</td>\n",
       "      <td>1099.169125</td>\n",
       "    </tr>\n",
       "    <tr>\n",
       "      <th>1</th>\n",
       "      <td>2017-04-03 00:00:00</td>\n",
       "      <td>1141.813000</td>\n",
       "    </tr>\n",
       "    <tr>\n",
       "      <th>2</th>\n",
       "      <td>2017-04-04 00:00:00</td>\n",
       "      <td>1141.600363</td>\n",
       "    </tr>\n",
       "    <tr>\n",
       "      <th>3</th>\n",
       "      <td>2017-04-05 00:00:00</td>\n",
       "      <td>1133.079314</td>\n",
       "    </tr>\n",
       "    <tr>\n",
       "      <th>4</th>\n",
       "      <td>2017-04-06 00:00:00</td>\n",
       "      <td>1196.307937</td>\n",
       "    </tr>\n",
       "  </tbody>\n",
       "</table>\n",
       "</div>"
      ],
      "text/plain": [
       "                 zaman        değer\n",
       "0  2017-04-02 00:00:00  1099.169125\n",
       "1  2017-04-03 00:00:00  1141.813000\n",
       "2  2017-04-04 00:00:00  1141.600363\n",
       "3  2017-04-05 00:00:00  1133.079314\n",
       "4  2017-04-06 00:00:00  1196.307937"
      ]
     },
     "execution_count": 225,
     "metadata": {},
     "output_type": "execute_result"
    }
   ],
   "source": [
    "df = pd.read_csv('btc-market-price.csv', header=None)\n",
    "# sütun isimlerini kendimiz verelim \n",
    "df.columns = [\"zaman\", \"değer\"]\n",
    "df.head()"
   ]
  },
  {
   "cell_type": "markdown",
   "id": "59da520b-2bf7-40ca-b769-813eff110a45",
   "metadata": {},
   "source": [
    "Zaman değerlerini string olarak değil de Datetime objesi şeklinde kullanabiliriz. \"pd.to_datetime\" metodu ile Datetime'a yani zaman objesine dönüştürebiliriz:"
   ]
  },
  {
   "cell_type": "code",
   "execution_count": 228,
   "id": "4309a68a-38e4-4865-8972-cdf1a5edc579",
   "metadata": {},
   "outputs": [],
   "source": [
    "df[\"zaman\"] = pd.to_datetime(df[\"zaman\"])"
   ]
  },
  {
   "cell_type": "code",
   "execution_count": 230,
   "id": "8a2acf68-1302-48ea-9cc1-34d66b713518",
   "metadata": {},
   "outputs": [
    {
     "data": {
      "text/plain": [
       "0   2017-04-02\n",
       "1   2017-04-03\n",
       "2   2017-04-04\n",
       "3   2017-04-05\n",
       "4   2017-04-06\n",
       "Name: zaman, dtype: datetime64[ns]"
      ]
     },
     "execution_count": 230,
     "metadata": {},
     "output_type": "execute_result"
    }
   ],
   "source": [
    "# zaman değerlerini yazdıralım \n",
    "df[\"zaman\"].head()"
   ]
  },
  {
   "cell_type": "markdown",
   "id": "cbd3ced6-85b3-43ad-84cd-e02d95ea5e5f",
   "metadata": {},
   "source": [
    "Dataframe'in indeksini zaman değerleri yaparsak daha etkin bir şekilde kullanabiliriz:"
   ]
  },
  {
   "cell_type": "code",
   "execution_count": 233,
   "id": "7ed6a30a-81ed-49d3-a290-743d743c45fd",
   "metadata": {},
   "outputs": [],
   "source": [
    "# indeksi değiştirelim \n",
    "df.set_index(\"zaman\", inplace=True)"
   ]
  },
  {
   "cell_type": "code",
   "execution_count": 235,
   "id": "8e4f9b75-c0dc-41f3-be00-d38472b11504",
   "metadata": {},
   "outputs": [
    {
     "data": {
      "text/html": [
       "<div>\n",
       "<style scoped>\n",
       "    .dataframe tbody tr th:only-of-type {\n",
       "        vertical-align: middle;\n",
       "    }\n",
       "\n",
       "    .dataframe tbody tr th {\n",
       "        vertical-align: top;\n",
       "    }\n",
       "\n",
       "    .dataframe thead th {\n",
       "        text-align: right;\n",
       "    }\n",
       "</style>\n",
       "<table border=\"1\" class=\"dataframe\">\n",
       "  <thead>\n",
       "    <tr style=\"text-align: right;\">\n",
       "      <th></th>\n",
       "      <th>değer</th>\n",
       "    </tr>\n",
       "    <tr>\n",
       "      <th>zaman</th>\n",
       "      <th></th>\n",
       "    </tr>\n",
       "  </thead>\n",
       "  <tbody>\n",
       "    <tr>\n",
       "      <th>2017-04-02</th>\n",
       "      <td>1099.169125</td>\n",
       "    </tr>\n",
       "    <tr>\n",
       "      <th>2017-04-03</th>\n",
       "      <td>1141.813000</td>\n",
       "    </tr>\n",
       "    <tr>\n",
       "      <th>2017-04-04</th>\n",
       "      <td>1141.600363</td>\n",
       "    </tr>\n",
       "    <tr>\n",
       "      <th>2017-04-05</th>\n",
       "      <td>1133.079314</td>\n",
       "    </tr>\n",
       "    <tr>\n",
       "      <th>2017-04-06</th>\n",
       "      <td>1196.307937</td>\n",
       "    </tr>\n",
       "  </tbody>\n",
       "</table>\n",
       "</div>"
      ],
      "text/plain": [
       "                  değer\n",
       "zaman                  \n",
       "2017-04-02  1099.169125\n",
       "2017-04-03  1141.813000\n",
       "2017-04-04  1141.600363\n",
       "2017-04-05  1133.079314\n",
       "2017-04-06  1196.307937"
      ]
     },
     "execution_count": 235,
     "metadata": {},
     "output_type": "execute_result"
    }
   ],
   "source": [
    "df.head()"
   ]
  },
  {
   "cell_type": "markdown",
   "id": "f22d0018-cfc1-4f63-beb6-5bde5e8156fa",
   "metadata": {},
   "source": [
    "İstediğimiz zamandaki değeri \".loc\" metodu ile bulabiliriz:"
   ]
  },
  {
   "cell_type": "code",
   "execution_count": 238,
   "id": "14147e5f-4402-4847-b5eb-c2a532d3df20",
   "metadata": {},
   "outputs": [
    {
     "data": {
      "text/plain": [
       "değer    1141.600363\n",
       "Name: 2017-04-04 00:00:00, dtype: float64"
      ]
     },
     "execution_count": 238,
     "metadata": {},
     "output_type": "execute_result"
    }
   ],
   "source": [
    "df.loc[\"2017-04-04\"]"
   ]
  },
  {
   "cell_type": "markdown",
   "id": "2a38175a-4264-4155-ac04-1c9a724ed3a8",
   "metadata": {},
   "source": [
    " <h3 style=\"text-align: center; color: RED\">VERİYİ GÖRSELLEŞTİRME</h3> "
   ]
  },
  {
   "cell_type": "markdown",
   "id": "39e89917-c4d4-4536-9d5f-eeaeffcf66b6",
   "metadata": {},
   "source": [
    "Pandas, Matplotlib ile entegredir ve görselleştirmeyi kolaylaştırır. Örneğin, zamana göre bitcoin değerlerini çizgi grafiği olarak gösterelim:"
   ]
  },
  {
   "cell_type": "code",
   "execution_count": 243,
   "id": "60404acc-0a4f-48e1-8f19-71f1a203eeeb",
   "metadata": {},
   "outputs": [
    {
     "data": {
      "text/plain": [
       "<Axes: xlabel='zaman'>"
      ]
     },
     "execution_count": 243,
     "metadata": {},
     "output_type": "execute_result"
    },
    {
     "data": {
      "image/png": "[encoded data removed]",
      "text/plain": [
       "<Figure size 640x480 with 1 Axes>"
      ]
     },
     "metadata": {},
     "output_type": "display_data"
    }
   ],
   "source": [
    "df.plot()"
   ]
  },
  {
   "cell_type": "markdown",
   "id": "6c17092e-f1fd-4bd9-9df7-a01c0394d67d",
   "metadata": {},
   "source": [
    "Gördüğümüz gibi kendisi grafiği çizdi ve zamanları da aylara ayırdı.\n",
    "\n",
    "Matplotlib'in pyplot arayüzünü kullanarak da grafik çizebiliriz:"
   ]
  },
  {
   "cell_type": "code",
   "execution_count": 250,
   "id": "5bc109e4-adbe-4a9b-b7cb-546d9cf268a3",
   "metadata": {},
   "outputs": [],
   "source": [
    "import matplotlib.pyplot as plt"
   ]
  },
  {
   "cell_type": "code",
   "execution_count": 252,
   "id": "58eb50a7-27b9-4c14-9b70-80a276a43c6f",
   "metadata": {},
   "outputs": [
    {
     "data": {
      "text/plain": [
       "[<matplotlib.lines.Line2D at 0x23e0f2b4fe0>]"
      ]
     },
     "execution_count": 252,
     "metadata": {},
     "output_type": "execute_result"
    },
    {
     "data": {
      "image/png": "[encoded data removed]",
      "text/plain": [
       "<Figure size 640x480 with 1 Axes>"
      ]
     },
     "metadata": {},
     "output_type": "display_data"
    }
   ],
   "source": [
    "# grafiği x ve y eksenlerindeki değerleri vererek çizdirelim\n",
    "plt.plot(df.index, df[\"değer\"])"
   ]
  },
  {
   "cell_type": "markdown",
   "id": "0a193488-0c35-4c6a-97f8-2ece540b627a",
   "metadata": {},
   "source": [
    " <h3 style=\"text-align: center; color: RED\">VERİ TEMİZLEME</h3> "
   ]
  },
  {
   "cell_type": "markdown",
   "id": "170f0973-7a65-49f0-87b9-daa4a9a63dbd",
   "metadata": {},
   "source": [
    " <span style=\"color: blue; font-weight: bold;\">NaN (Null, Boş) Değerler</span>"
   ]
  },
  {
   "cell_type": "markdown",
   "id": "fc6f9948-9586-48c5-bc21-ea02e8fe83d9",
   "metadata": {},
   "source": [
    "Pandas ve NumPy'da bazen değerlerin \"NaN\" olduğunu görürüz. Peki bu değerler nedir? NaN değerler verinin boş olduğunda (orada veri olmadığında), geçersiz olduğunda görülen değerlerdir. Bu durum verinin gerçekten boş olmasından ya da teknik aksaklıklardan (verinin elde edilmesinde olan hatalardan, verinin elde edilirken bozulmasından) da kaynaklanabilir. Örneğin; bitcoin verisi bir zaman aralığı için elde edilememiş olabilir, bu durum da o zaman aralığındaki değerin NaN olmasına yol açabilir. Ya da bir ankette birisi yaş değerini negatif girmiş olabilir ve yaş değerini kontrol eden algoritma bu değeri NaN olarak kaydetmiş olabilir. <br>\n",
    "\n",
    "Pandas'ta NaN değerlerle yapılabilen işlemlere bakalım. NumPy ve Pandas'ı import edelim: <br>"
   ]
  },
  {
   "cell_type": "markdown",
   "id": "7aecacad-5e80-43da-b9dc-3517e00128fc",
   "metadata": {},
   "source": [
    "Python'da NaN değerini \"np.nan\" ya da \"None\" kullanarak gösterebiliriz. Pandas bize NaN değerleri kontrol etmek ve belirlemek için bazı fonksiyonlar sunar. Aşağıda örnekler verilmiştir: <br>"
   ]
  },
  {
   "cell_type": "code",
   "execution_count": 260,
   "id": "fb5ebfda-58a6-4db6-8054-fadbb8ae61b5",
   "metadata": {},
   "outputs": [],
   "source": [
    "# değer null mu diye kontrol ediyoruz \n",
    "value = np.nan"
   ]
  },
  {
   "cell_type": "code",
   "execution_count": 262,
   "id": "eba874b3-44b6-4de9-87ac-fb0aa9860eb3",
   "metadata": {},
   "outputs": [
    {
     "data": {
      "text/plain": [
       "True"
      ]
     },
     "execution_count": 262,
     "metadata": {},
     "output_type": "execute_result"
    }
   ],
   "source": [
    "pd.isnull(value)"
   ]
  },
  {
   "cell_type": "markdown",
   "id": "6b94fbea-6dcf-4ce6-b681-254546fb10f8",
   "metadata": {},
   "source": [
    "Bu işlemlerin tersi ise şu fonksiyonlarla yapılabilir:"
   ]
  },
  {
   "cell_type": "code",
   "execution_count": 267,
   "id": "3a9fa904-5257-4c59-b812-bbac757389f2",
   "metadata": {},
   "outputs": [
    {
     "data": {
      "text/plain": [
       "False"
      ]
     },
     "execution_count": 267,
     "metadata": {},
     "output_type": "execute_result"
    }
   ],
   "source": [
    "value = None \n",
    "pd.notnull(value)\n",
    "# aynı şekilde \"pd.notna\" metodunu da kullanabiliriz"
   ]
  },
  {
   "cell_type": "markdown",
   "id": "3abb65bf-2808-425d-8bfb-2f933c5e13bc",
   "metadata": {},
   "source": [
    "Bu fonksiyonlar Seri ve Dataframe'lerde de çalışır: "
   ]
  },
  {
   "cell_type": "code",
   "execution_count": 271,
   "id": "7bdc6a3e-6dd9-4bc6-a38e-3de62f34fcde",
   "metadata": {},
   "outputs": [
    {
     "data": {
      "text/plain": [
       "0     True\n",
       "1    False\n",
       "2     True\n",
       "3    False\n",
       "dtype: bool"
      ]
     },
     "execution_count": 271,
     "metadata": {},
     "output_type": "execute_result"
    }
   ],
   "source": [
    "pd.isnull(pd.Series([None, 2, np.nan, \"\"]))"
   ]
  },
  {
   "cell_type": "code",
   "execution_count": 273,
   "id": "4faca69c-4ac1-4f2e-b049-88e7e2379cd0",
   "metadata": {},
   "outputs": [
    {
     "data": {
      "text/html": [
       "<div>\n",
       "<style scoped>\n",
       "    .dataframe tbody tr th:only-of-type {\n",
       "        vertical-align: middle;\n",
       "    }\n",
       "\n",
       "    .dataframe tbody tr th {\n",
       "        vertical-align: top;\n",
       "    }\n",
       "\n",
       "    .dataframe thead th {\n",
       "        text-align: right;\n",
       "    }\n",
       "</style>\n",
       "<table border=\"1\" class=\"dataframe\">\n",
       "  <thead>\n",
       "    <tr style=\"text-align: right;\">\n",
       "      <th></th>\n",
       "      <th>Sütun A</th>\n",
       "      <th>Sütun B</th>\n",
       "    </tr>\n",
       "  </thead>\n",
       "  <tbody>\n",
       "    <tr>\n",
       "      <th>0</th>\n",
       "      <td>False</td>\n",
       "      <td>True</td>\n",
       "    </tr>\n",
       "    <tr>\n",
       "      <th>1</th>\n",
       "      <td>True</td>\n",
       "      <td>False</td>\n",
       "    </tr>\n",
       "    <tr>\n",
       "      <th>2</th>\n",
       "      <td>False</td>\n",
       "      <td>True</td>\n",
       "    </tr>\n",
       "  </tbody>\n",
       "</table>\n",
       "</div>"
      ],
      "text/plain": [
       "   Sütun A  Sütun B\n",
       "0    False     True\n",
       "1     True    False\n",
       "2    False     True"
      ]
     },
     "execution_count": 273,
     "metadata": {},
     "output_type": "execute_result"
    }
   ],
   "source": [
    "pd.isnull(pd.DataFrame({ 'Sütun A': [1, np.nan, 7], 'Sütun B': [np.nan, 2, np.nan] }))"
   ]
  },
  {
   "cell_type": "markdown",
   "id": "9b7d6d82-c2c6-4aad-8fab-22a42eb96097",
   "metadata": {},
   "source": [
    " <span style=\"color: blue; font-weight: bold;\">Pandas ile NaN değerlerde işlem yapma</span>"
   ]
  },
  {
   "cell_type": "markdown",
   "id": "7cb6e4bf-a25c-4c60-923f-7a9dc6b8a88a",
   "metadata": {},
   "source": [
    "Eğer bir matematiksel işlem yapıyorsak Pandas NaN değerleri görmezden gelir ve işlemde hata vermez. <br>"
   ]
  },
  {
   "cell_type": "code",
   "execution_count": 278,
   "id": "8d5748df-881e-4425-94d9-78f2d3624d75",
   "metadata": {},
   "outputs": [
    {
     "data": {
      "text/plain": [
       "3.0"
      ]
     },
     "execution_count": 278,
     "metadata": {},
     "output_type": "execute_result"
    }
   ],
   "source": [
    "pd.Series([1, 2, np.nan]).sum()\n"
   ]
  },
  {
   "cell_type": "markdown",
   "id": "5f1da1a2-ca4b-4cde-9d0f-0b4b6df2d422",
   "metadata": {},
   "source": [
    " <span style=\"color: blue; font-weight: bold;\">Boş (Null) verileri filtreleme</span>"
   ]
  },
  {
   "cell_type": "markdown",
   "id": "6214a6f0-63b4-40c5-8819-d2750d3d4bbd",
   "metadata": {},
   "source": [
    "Pandas ile önce boş değerleri bularak sonra da boolean filtreleme yaparak boş değerleri filtreleyebiliriz"
   ]
  },
  {
   "cell_type": "code",
   "execution_count": 287,
   "id": "70f2b919-8245-4eab-9979-2e5c1e047eed",
   "metadata": {},
   "outputs": [
    {
     "data": {
      "text/plain": [
       "0    1.0\n",
       "1    2.0\n",
       "3    4.0\n",
       "dtype: float64"
      ]
     },
     "execution_count": 287,
     "metadata": {},
     "output_type": "execute_result"
    }
   ],
   "source": [
    "s = pd.Series([1, 2, np.nan, 4, np.nan]) \n",
    "# null olmayan değerleri alalım ve bu değerleri filtreleyelim \n",
    "s[pd.notnull(s)]"
   ]
  },
  {
   "cell_type": "markdown",
   "id": "e4e5263a-29a1-479a-bce6-dfd755209bb0",
   "metadata": {},
   "source": [
    " <span style=\"color: blue; font-weight: bold;\">Boş verileri silme</span>"
   ]
  },
  {
   "cell_type": "markdown",
   "id": "90d005df-8c04-4a53-b5cc-8de2a7989f22",
   "metadata": {},
   "source": [
    "Pandas bize \"dropna\" adlı metodu ile kolayca boş verilerden kurtulmayı sağlar:"
   ]
  },
  {
   "cell_type": "code",
   "execution_count": 294,
   "id": "a992d20f-586c-4627-9984-eb5a90947dab",
   "metadata": {},
   "outputs": [
    {
     "data": {
      "text/plain": [
       "0    1.0\n",
       "1    2.0\n",
       "3    4.0\n",
       "dtype: float64"
      ]
     },
     "execution_count": 294,
     "metadata": {},
     "output_type": "execute_result"
    }
   ],
   "source": [
    "# boş değerleri atılmış seriyi yazdıralım # (fonksiyonun inplacee parametresine True değerini vermezsek s serisinin değişmeyeceğini unutmayalım.) \n",
    "s.dropna()"
   ]
  },
  {
   "cell_type": "markdown",
   "id": "52e00b0f-6c10-4f80-8dfd-40cbcc375b92",
   "metadata": {},
   "source": [
    " <span style=\"color: blue; font-weight: bold;\">Dataframe'lerde Boş Verileri Silme</span>"
   ]
  },
  {
   "cell_type": "markdown",
   "id": "28beaf7a-13cd-4c34-995b-6f183aeeeeff",
   "metadata": {},
   "source": [
    "Pandas serilerinde veri silmek için sadece \"dropna\" metodunu yazmak yeterli. Ancak Dataframe'lerde belirlememiz gereken bazı parametreler var. Örneğin, satırları mı sileceğim sütunları mı? Aşağıdaki Dataframe üzerinde işlemler yapacağız:"
   ]
  },
  {
   "cell_type": "code",
   "execution_count": 299,
   "id": "d3bde4ef-7961-4ca9-b3aa-e7163a7d0c82",
   "metadata": {},
   "outputs": [],
   "source": [
    "df = pd.DataFrame({ 'Sütun A': [1, np.nan, 30, np.nan], 'Sütun B': [2, 8, 31, np.nan], 'Sütun C': [np.nan, 9, 32, 100], 'Sütun D': [5, 8, 34, 110], })"
   ]
  },
  {
   "cell_type": "code",
   "execution_count": 302,
   "id": "236127a7-4236-4322-b216-13277512ecd6",
   "metadata": {},
   "outputs": [
    {
     "data": {
      "text/html": [
       "<div>\n",
       "<style scoped>\n",
       "    .dataframe tbody tr th:only-of-type {\n",
       "        vertical-align: middle;\n",
       "    }\n",
       "\n",
       "    .dataframe tbody tr th {\n",
       "        vertical-align: top;\n",
       "    }\n",
       "\n",
       "    .dataframe thead th {\n",
       "        text-align: right;\n",
       "    }\n",
       "</style>\n",
       "<table border=\"1\" class=\"dataframe\">\n",
       "  <thead>\n",
       "    <tr style=\"text-align: right;\">\n",
       "      <th></th>\n",
       "      <th>Sütun A</th>\n",
       "      <th>Sütun B</th>\n",
       "      <th>Sütun C</th>\n",
       "      <th>Sütun D</th>\n",
       "    </tr>\n",
       "  </thead>\n",
       "  <tbody>\n",
       "    <tr>\n",
       "      <th>0</th>\n",
       "      <td>1.0</td>\n",
       "      <td>2.0</td>\n",
       "      <td>NaN</td>\n",
       "      <td>5</td>\n",
       "    </tr>\n",
       "    <tr>\n",
       "      <th>1</th>\n",
       "      <td>NaN</td>\n",
       "      <td>8.0</td>\n",
       "      <td>9.0</td>\n",
       "      <td>8</td>\n",
       "    </tr>\n",
       "    <tr>\n",
       "      <th>2</th>\n",
       "      <td>30.0</td>\n",
       "      <td>31.0</td>\n",
       "      <td>32.0</td>\n",
       "      <td>34</td>\n",
       "    </tr>\n",
       "    <tr>\n",
       "      <th>3</th>\n",
       "      <td>NaN</td>\n",
       "      <td>NaN</td>\n",
       "      <td>100.0</td>\n",
       "      <td>110</td>\n",
       "    </tr>\n",
       "  </tbody>\n",
       "</table>\n",
       "</div>"
      ],
      "text/plain": [
       "   Sütun A  Sütun B  Sütun C  Sütun D\n",
       "0      1.0      2.0      NaN        5\n",
       "1      NaN      8.0      9.0        8\n",
       "2     30.0     31.0     32.0       34\n",
       "3      NaN      NaN    100.0      110"
      ]
     },
     "execution_count": 302,
     "metadata": {},
     "output_type": "execute_result"
    }
   ],
   "source": [
    "df"
   ]
  },
  {
   "cell_type": "markdown",
   "id": "60c7621e-c850-4023-a2dd-311d32f2020f",
   "metadata": {},
   "source": [
    "Varsayılan olarak \"dropna\" bir Dataframe'de boş değer içeren tüm satırları silecektir:"
   ]
  },
  {
   "cell_type": "code",
   "execution_count": 305,
   "id": "cbb0eba9-1f78-4c68-ae6d-786bd8e58c11",
   "metadata": {},
   "outputs": [
    {
     "data": {
      "text/html": [
       "<div>\n",
       "<style scoped>\n",
       "    .dataframe tbody tr th:only-of-type {\n",
       "        vertical-align: middle;\n",
       "    }\n",
       "\n",
       "    .dataframe tbody tr th {\n",
       "        vertical-align: top;\n",
       "    }\n",
       "\n",
       "    .dataframe thead th {\n",
       "        text-align: right;\n",
       "    }\n",
       "</style>\n",
       "<table border=\"1\" class=\"dataframe\">\n",
       "  <thead>\n",
       "    <tr style=\"text-align: right;\">\n",
       "      <th></th>\n",
       "      <th>Sütun A</th>\n",
       "      <th>Sütun B</th>\n",
       "      <th>Sütun C</th>\n",
       "      <th>Sütun D</th>\n",
       "    </tr>\n",
       "  </thead>\n",
       "  <tbody>\n",
       "    <tr>\n",
       "      <th>2</th>\n",
       "      <td>30.0</td>\n",
       "      <td>31.0</td>\n",
       "      <td>32.0</td>\n",
       "      <td>34</td>\n",
       "    </tr>\n",
       "  </tbody>\n",
       "</table>\n",
       "</div>"
      ],
      "text/plain": [
       "   Sütun A  Sütun B  Sütun C  Sütun D\n",
       "2     30.0     31.0     32.0       34"
      ]
     },
     "execution_count": 305,
     "metadata": {},
     "output_type": "execute_result"
    }
   ],
   "source": [
    "df.dropna()"
   ]
  },
  {
   "cell_type": "markdown",
   "id": "f0d002fc-4454-4bdd-a65a-2b2ff07fc0d8",
   "metadata": {},
   "source": [
    "\"axis\" parametresi default olarak 0 ve bu da satırlar demek oluyor. Bu parametreyi 1 yaparak boş değer içeren sütunları silebiliriz:"
   ]
  },
  {
   "cell_type": "code",
   "execution_count": 308,
   "id": "3a790f98-3b10-4037-8573-675d6c536d5e",
   "metadata": {},
   "outputs": [
    {
     "data": {
      "text/html": [
       "<div>\n",
       "<style scoped>\n",
       "    .dataframe tbody tr th:only-of-type {\n",
       "        vertical-align: middle;\n",
       "    }\n",
       "\n",
       "    .dataframe tbody tr th {\n",
       "        vertical-align: top;\n",
       "    }\n",
       "\n",
       "    .dataframe thead th {\n",
       "        text-align: right;\n",
       "    }\n",
       "</style>\n",
       "<table border=\"1\" class=\"dataframe\">\n",
       "  <thead>\n",
       "    <tr style=\"text-align: right;\">\n",
       "      <th></th>\n",
       "      <th>Sütun D</th>\n",
       "    </tr>\n",
       "  </thead>\n",
       "  <tbody>\n",
       "    <tr>\n",
       "      <th>0</th>\n",
       "      <td>5</td>\n",
       "    </tr>\n",
       "    <tr>\n",
       "      <th>1</th>\n",
       "      <td>8</td>\n",
       "    </tr>\n",
       "    <tr>\n",
       "      <th>2</th>\n",
       "      <td>34</td>\n",
       "    </tr>\n",
       "    <tr>\n",
       "      <th>3</th>\n",
       "      <td>110</td>\n",
       "    </tr>\n",
       "  </tbody>\n",
       "</table>\n",
       "</div>"
      ],
      "text/plain": [
       "   Sütun D\n",
       "0        5\n",
       "1        8\n",
       "2       34\n",
       "3      110"
      ]
     },
     "execution_count": 308,
     "metadata": {},
     "output_type": "execute_result"
    }
   ],
   "source": [
    "df.dropna(axis=1)"
   ]
  },
  {
   "cell_type": "markdown",
   "id": "943ca8fa-d0e0-42fe-9a72-80b3c3ddac4a",
   "metadata": {},
   "source": [
    "\"how\" parametresi de bir tek boş değer olunca mı silinecek tüm değerler boş olunca mı onu belirler. Varsayılan olarak \"any\" değeri verilmiştir. Bu değeri \"all\" yaparak \"eğer tüm değerleri boş ise o satırı ya da sütunu sil\" komutunu verebiliriz:"
   ]
  },
  {
   "cell_type": "code",
   "execution_count": 311,
   "id": "41d2686c-4da1-4c0e-9d68-27e4b973bba8",
   "metadata": {},
   "outputs": [],
   "source": [
    "df2 = pd.DataFrame({\n",
    "'Sütun A': [1, np.nan, 30], 'Sütun B': [2, np.nan, 31], 'Sütun C': [np.nan, np.nan, 100] })"
   ]
  },
  {
   "cell_type": "code",
   "execution_count": 313,
   "id": "729fe86e-2b1f-4851-aef2-aa0ef484037f",
   "metadata": {},
   "outputs": [
    {
     "data": {
      "text/html": [
       "<div>\n",
       "<style scoped>\n",
       "    .dataframe tbody tr th:only-of-type {\n",
       "        vertical-align: middle;\n",
       "    }\n",
       "\n",
       "    .dataframe tbody tr th {\n",
       "        vertical-align: top;\n",
       "    }\n",
       "\n",
       "    .dataframe thead th {\n",
       "        text-align: right;\n",
       "    }\n",
       "</style>\n",
       "<table border=\"1\" class=\"dataframe\">\n",
       "  <thead>\n",
       "    <tr style=\"text-align: right;\">\n",
       "      <th></th>\n",
       "      <th>Sütun A</th>\n",
       "      <th>Sütun B</th>\n",
       "      <th>Sütun C</th>\n",
       "    </tr>\n",
       "  </thead>\n",
       "  <tbody>\n",
       "    <tr>\n",
       "      <th>0</th>\n",
       "      <td>1.0</td>\n",
       "      <td>2.0</td>\n",
       "      <td>NaN</td>\n",
       "    </tr>\n",
       "    <tr>\n",
       "      <th>1</th>\n",
       "      <td>NaN</td>\n",
       "      <td>NaN</td>\n",
       "      <td>NaN</td>\n",
       "    </tr>\n",
       "    <tr>\n",
       "      <th>2</th>\n",
       "      <td>30.0</td>\n",
       "      <td>31.0</td>\n",
       "      <td>100.0</td>\n",
       "    </tr>\n",
       "  </tbody>\n",
       "</table>\n",
       "</div>"
      ],
      "text/plain": [
       "   Sütun A  Sütun B  Sütun C\n",
       "0      1.0      2.0      NaN\n",
       "1      NaN      NaN      NaN\n",
       "2     30.0     31.0    100.0"
      ]
     },
     "execution_count": 313,
     "metadata": {},
     "output_type": "execute_result"
    }
   ],
   "source": [
    "df2"
   ]
  },
  {
   "cell_type": "markdown",
   "id": "c48a0725-8bd8-4a1b-8882-ea8e7775c9a2",
   "metadata": {},
   "source": [
    "Tüm değerleri NaN olan satırları silelim:"
   ]
  },
  {
   "cell_type": "code",
   "execution_count": 316,
   "id": "376f5065-f5bc-4d32-be26-d9605470015c",
   "metadata": {},
   "outputs": [
    {
     "data": {
      "text/html": [
       "<div>\n",
       "<style scoped>\n",
       "    .dataframe tbody tr th:only-of-type {\n",
       "        vertical-align: middle;\n",
       "    }\n",
       "\n",
       "    .dataframe tbody tr th {\n",
       "        vertical-align: top;\n",
       "    }\n",
       "\n",
       "    .dataframe thead th {\n",
       "        text-align: right;\n",
       "    }\n",
       "</style>\n",
       "<table border=\"1\" class=\"dataframe\">\n",
       "  <thead>\n",
       "    <tr style=\"text-align: right;\">\n",
       "      <th></th>\n",
       "      <th>Sütun A</th>\n",
       "      <th>Sütun B</th>\n",
       "      <th>Sütun C</th>\n",
       "    </tr>\n",
       "  </thead>\n",
       "  <tbody>\n",
       "    <tr>\n",
       "      <th>0</th>\n",
       "      <td>1.0</td>\n",
       "      <td>2.0</td>\n",
       "      <td>NaN</td>\n",
       "    </tr>\n",
       "    <tr>\n",
       "      <th>2</th>\n",
       "      <td>30.0</td>\n",
       "      <td>31.0</td>\n",
       "      <td>100.0</td>\n",
       "    </tr>\n",
       "  </tbody>\n",
       "</table>\n",
       "</div>"
      ],
      "text/plain": [
       "   Sütun A  Sütun B  Sütun C\n",
       "0      1.0      2.0      NaN\n",
       "2     30.0     31.0    100.0"
      ]
     },
     "execution_count": 316,
     "metadata": {},
     "output_type": "execute_result"
    }
   ],
   "source": [
    "df2.dropna(how=\"all\")"
   ]
  },
  {
   "cell_type": "markdown",
   "id": "1ae44505-7619-4114-add8-64e1f96a1a00",
   "metadata": {},
   "source": [
    " <span style=\"color: blue; font-weight: bold;\">Null (Boş) Değerleri Doldurma</span>"
   ]
  },
  {
   "cell_type": "markdown",
   "id": "05db981e-97e2-4379-afa4-78c5719daf75",
   "metadata": {},
   "source": [
    "Bazen null değerleri doldurmak, onları başka değerlerle değiştirmemiz gerekebilir. Örneğin, böyle tablo şeklinde bir veride bir Makine Öğrenmesi algoritması çalıştırmak istiyorsak genelde tabloda null veri olmaması gerekir. Böyle durumlarda null verileri 0, verinin ortalaması gibi değerlerle doldurmamız gerekir."
   ]
  },
  {
   "cell_type": "code",
   "execution_count": 321,
   "id": "cd50c072-38b5-4dcd-b420-bc5600c5a7ed",
   "metadata": {},
   "outputs": [
    {
     "data": {
      "text/plain": [
       "0    1.0\n",
       "1    2.0\n",
       "2    NaN\n",
       "3    4.0\n",
       "4    NaN\n",
       "dtype: float64"
      ]
     },
     "execution_count": 321,
     "metadata": {},
     "output_type": "execute_result"
    }
   ],
   "source": [
    "s"
   ]
  },
  {
   "cell_type": "markdown",
   "id": "3ae3f222-a7f6-4b3d-84b5-c4f939b28231",
   "metadata": {},
   "source": [
    "\"fillna\" metodu ile boş değerleri belirlediğimiz bir değerle doldurabiliriz:"
   ]
  },
  {
   "cell_type": "code",
   "execution_count": 324,
   "id": "8f1afbd7-c5a0-4eec-ac7d-c84962b7ec23",
   "metadata": {},
   "outputs": [
    {
     "data": {
      "text/plain": [
       "0    1.0\n",
       "1    2.0\n",
       "2    0.0\n",
       "3    4.0\n",
       "4    0.0\n",
       "dtype: float64"
      ]
     },
     "execution_count": 324,
     "metadata": {},
     "output_type": "execute_result"
    }
   ],
   "source": [
    "# null değerleri 0 sayısı ile dolduralım \n",
    "s.fillna(0)"
   ]
  },
  {
   "cell_type": "code",
   "execution_count": 326,
   "id": "c987a3ce-f547-4162-81c1-2213a18bea1b",
   "metadata": {},
   "outputs": [
    {
     "data": {
      "text/plain": [
       "0    1.000000\n",
       "1    2.000000\n",
       "2    2.333333\n",
       "3    4.000000\n",
       "4    2.333333\n",
       "dtype: float64"
      ]
     },
     "execution_count": 326,
     "metadata": {},
     "output_type": "execute_result"
    }
   ],
   "source": [
    "# şimdi de null değerleri serinin ortalamasıyla dolduralım\n",
    "s.fillna(s.mean())"
   ]
  },
  {
   "cell_type": "markdown",
   "id": "09a5bd88-8357-4d4b-a0c4-a71bc3e6951b",
   "metadata": {},
   "source": [
    "\"fillna\" fonksiyonunda \"method\" parametresine \"ffill\" değeri girerek boş değerleri bir önceki değerlerle doldurmasını, \"bfill\" değeri girerek boş değerleri bir sonraki değerlerle doldurmasını söyleyebiliriz:"
   ]
  },
  {
   "cell_type": "code",
   "execution_count": 329,
   "id": "1766fbca-0812-43dd-ba12-bf17c0599b85",
   "metadata": {},
   "outputs": [
    {
     "name": "stderr",
     "output_type": "stream",
     "text": [
      "C:\\Users\\ASLI\\AppData\\Local\\Temp\\ipykernel_1508\\3226383428.py:1: FutureWarning: Series.fillna with 'method' is deprecated and will raise in a future version. Use obj.ffill() or obj.bfill() instead.\n",
      "  s.fillna(method=\"ffill\")\n"
     ]
    },
    {
     "data": {
      "text/plain": [
       "0    1.0\n",
       "1    2.0\n",
       "2    2.0\n",
       "3    4.0\n",
       "4    4.0\n",
       "dtype: float64"
      ]
     },
     "execution_count": 329,
     "metadata": {},
     "output_type": "execute_result"
    }
   ],
   "source": [
    "s.fillna(method=\"ffill\")"
   ]
  },
  {
   "cell_type": "code",
   "execution_count": 331,
   "id": "7e9577a1-3588-4dfa-bf09-5344e7e63680",
   "metadata": {},
   "outputs": [
    {
     "name": "stderr",
     "output_type": "stream",
     "text": [
      "C:\\Users\\ASLI\\AppData\\Local\\Temp\\ipykernel_1508\\1815258262.py:1: FutureWarning: Series.fillna with 'method' is deprecated and will raise in a future version. Use obj.ffill() or obj.bfill() instead.\n",
      "  s.fillna(method=\"bfill\")\n"
     ]
    },
    {
     "data": {
      "text/plain": [
       "0    1.0\n",
       "1    2.0\n",
       "2    4.0\n",
       "3    4.0\n",
       "4    NaN\n",
       "dtype: float64"
      ]
     },
     "execution_count": 331,
     "metadata": {},
     "output_type": "execute_result"
    }
   ],
   "source": [
    "s.fillna(method=\"bfill\")"
   ]
  },
  {
   "cell_type": "markdown",
   "id": "00867af8-9d5a-46ed-bd72-7ba33ef05f29",
   "metadata": {},
   "source": [
    "\"bfill\" kullandığımızda son değerden sonra bir değer olmadığı için o değerin NaN olarak kaldığına dikkat edelim."
   ]
  },
  {
   "cell_type": "markdown",
   "id": "93efd6c1-a42c-4fba-b56e-966cdacacb97",
   "metadata": {},
   "source": [
    " <span style=\"color: blue; font-weight: bold;\">Tekrarlanan Değerler (Duplicates)</span>"
   ]
  },
  {
   "cell_type": "markdown",
   "id": "f576ea4c-ade6-4e5f-b972-c42880c7c487",
   "metadata": {},
   "source": [
    "Aşağıda elçilerin adlarının ve hangi ülkeyi temsil ettiklerinin bilgisinin olduğu bir seri var. Bu seride tekrarlanan değerler ile ilgili işlemler yapacağız:"
   ]
  },
  {
   "cell_type": "code",
   "execution_count": 338,
   "id": "e97a92de-f1e6-4f20-8d09-7a7375bfab3b",
   "metadata": {},
   "outputs": [],
   "source": [
    "elciler = pd.Series([ 'France', 'United Kingdom', 'United Kingdom', 'Italy', 'Germany', 'Germany', 'Germany', ], index=[\n",
    "'Gérard Araud', 'Kim Darroch', 'Peter Westmacott', 'Armando Varricchio', 'Peter Wittig', 'Peter Ammon', 'Klaus Scharioth ' ])"
   ]
  },
  {
   "cell_type": "code",
   "execution_count": 340,
   "id": "d7ee7aa0-c532-4cb6-8ce2-2d4d785727ac",
   "metadata": {},
   "outputs": [
    {
     "data": {
      "text/plain": [
       "Gérard Araud                  France\n",
       "Kim Darroch           United Kingdom\n",
       "Peter Westmacott      United Kingdom\n",
       "Armando Varricchio             Italy\n",
       "Peter Wittig                 Germany\n",
       "Peter Ammon                  Germany\n",
       "Klaus Scharioth              Germany\n",
       "dtype: object"
      ]
     },
     "execution_count": 340,
     "metadata": {},
     "output_type": "execute_result"
    }
   ],
   "source": [
    "elciler"
   ]
  },
  {
   "cell_type": "markdown",
   "id": "72c65d3a-90e1-4292-9b2e-aaa610d7ff85",
   "metadata": {},
   "source": [
    "\"duplicated\" metodu bize tekrarlanan değerleri verir. Varsayılan olarak ilk karşılaşılan değerlerden sonra tekrarlanan değerleri bize verir. \"keep\" parametresine \"last\" değerini vererek en son değerden önce tekrarlanan değerleri göstermesini de isteyebiliriz:"
   ]
  },
  {
   "cell_type": "code",
   "execution_count": 343,
   "id": "00ea3e35-f817-4e6b-8d29-7cbcbe1ec4a9",
   "metadata": {},
   "outputs": [
    {
     "data": {
      "text/plain": [
       "Gérard Araud          False\n",
       "Kim Darroch           False\n",
       "Peter Westmacott       True\n",
       "Armando Varricchio    False\n",
       "Peter Wittig          False\n",
       "Peter Ammon            True\n",
       "Klaus Scharioth        True\n",
       "dtype: bool"
      ]
     },
     "execution_count": 343,
     "metadata": {},
     "output_type": "execute_result"
    }
   ],
   "source": [
    "elciler.duplicated()"
   ]
  },
  {
   "cell_type": "code",
   "execution_count": 345,
   "id": "99bb80ac-2aee-45b3-8cf8-a92f8f666624",
   "metadata": {},
   "outputs": [
    {
     "data": {
      "text/plain": [
       "Gérard Araud          False\n",
       "Kim Darroch            True\n",
       "Peter Westmacott      False\n",
       "Armando Varricchio    False\n",
       "Peter Wittig           True\n",
       "Peter Ammon            True\n",
       "Klaus Scharioth       False\n",
       "dtype: bool"
      ]
     },
     "execution_count": 345,
     "metadata": {},
     "output_type": "execute_result"
    }
   ],
   "source": [
    "elciler.duplicated(keep=\"last\")"
   ]
  },
  {
   "cell_type": "markdown",
   "id": "24a785c0-b9ae-43ef-b5a2-a0d01d12f79a",
   "metadata": {},
   "source": [
    "\"keep\" parametresine False değerini verirsek bize tekrarlanan tüm değerleri verir (Örneğin; \"first\" değeri gibi sadece ilk değer dışındaki değerleri vermez):"
   ]
  },
  {
   "cell_type": "code",
   "execution_count": 348,
   "id": "cb92507d-18d4-4e8a-b418-68c53b9a5bd6",
   "metadata": {},
   "outputs": [
    {
     "data": {
      "text/plain": [
       "Gérard Araud          False\n",
       "Kim Darroch            True\n",
       "Peter Westmacott       True\n",
       "Armando Varricchio    False\n",
       "Peter Wittig           True\n",
       "Peter Ammon            True\n",
       "Klaus Scharioth        True\n",
       "dtype: bool"
      ]
     },
     "execution_count": 348,
     "metadata": {},
     "output_type": "execute_result"
    }
   ],
   "source": [
    "elciler.duplicated(keep=False)"
   ]
  },
  {
   "cell_type": "markdown",
   "id": "83345eed-d5a5-4152-8f21-7e3633f2340f",
   "metadata": {},
   "source": [
    "\"drop_duplicates\" metodu ile bu tekrarlanan değerleri silebiliriz. Aynı şekilde \"keep\" parametresine değerler atayabiliriz:"
   ]
  },
  {
   "cell_type": "code",
   "execution_count": 353,
   "id": "e4c7059c-e3ca-4b41-acec-8db1122ab383",
   "metadata": {},
   "outputs": [
    {
     "data": {
      "text/plain": [
       "Gérard Araud          France\n",
       "Armando Varricchio     Italy\n",
       "dtype: object"
      ]
     },
     "execution_count": 353,
     "metadata": {},
     "output_type": "execute_result"
    }
   ],
   "source": [
    "# keep=False diyerek bu serideki tekrarlanan tüm verileri silelim \n",
    "elciler.drop_duplicates(keep=False)"
   ]
  },
  {
   "cell_type": "markdown",
   "id": "184ede86-d055-49be-8565-faf37848eaae",
   "metadata": {},
   "source": [
    "\"keep\" parametresine \"first\" değerini verirsek tekrarlanan verilerin ilkleri dışındakileri siler:"
   ]
  },
  {
   "cell_type": "code",
   "execution_count": 356,
   "id": "837db983-accb-4146-8643-fc5d7f497677",
   "metadata": {},
   "outputs": [
    {
     "data": {
      "text/plain": [
       "Gérard Araud                  France\n",
       "Kim Darroch           United Kingdom\n",
       "Armando Varricchio             Italy\n",
       "Peter Wittig                 Germany\n",
       "dtype: object"
      ]
     },
     "execution_count": 356,
     "metadata": {},
     "output_type": "execute_result"
    }
   ],
   "source": [
    "elciler.drop_duplicates(keep=\"first\")"
   ]
  },
  {
   "cell_type": "markdown",
   "id": "97f387e0-2fd6-46fa-9c40-3840e305b57c",
   "metadata": {},
   "source": [
    " <span style=\"color: blue; font-weight: bold;\">Metin İşleme</span>"
   ]
  },
  {
   "cell_type": "markdown",
   "id": "22147e1a-ad68-4d0a-bbd4-bbabb6f7076f",
   "metadata": {},
   "source": [
    "Metin verilerini yani \"string\" verilerini işlemek ve temizlemek zor olabilir. Çünkü metin verilerinde birçok yanlış ve tutarsızlık olabilir. Yanlış yazım, büyük harf küçük harf farkları, encoding tipleri, aynı değerin farklı şekillerde yazılabilmesi bu yanlış ve tutarsızlıklara örnektir. Örneğin; tarih yazarken \"24/12/2018\" de yazabiliriz \"24-12-2018\" de. Bu iki metnin belirttiği tarihler aynı ancak içerdiği bazı karakterler farklı. Bazı metin işleme örneklerini inceleyelim:"
   ]
  },
  {
   "cell_type": "markdown",
   "id": "f6fe294a-6faf-494d-bb2f-b759d567d20a",
   "metadata": {},
   "source": [
    "Sütunlara ayırma\n",
    "\n",
    "Aşağıda anket sonuçlarının olduğu bir veri var. Bu veriyi Pandas Dataframe olarak yükleyelim:"
   ]
  },
  {
   "cell_type": "code",
   "execution_count": 364,
   "id": "0de14422-bcc5-4e46-954e-b0ebfaa423d9",
   "metadata": {},
   "outputs": [],
   "source": [
    "df = pd.DataFrame({ 'Veri': [ '1987_E_ABD _1', '1990?_E_ING_1', '1992_K_ABD_2', '1970?_E_ IT_1', '1985_K_I T_2' ]})"
   ]
  },
  {
   "cell_type": "markdown",
   "id": "e92e50dc-9d69-4502-a11a-94f3316d813d",
   "metadata": {},
   "source": [
    "Bu verideki sütunların sırasıyla yıl, cinsiyet, ülke ve çocuk sayısı verilerini içerdiğini biliyoruz. Örneğin; \"E\" erkek, \"K\" kız anlamına geliyor. Bu bilgileri ayırıp farklı sütunlar haline getireceğiz. Pandas \"str\" arayüzü ile string metotlarını kullanmamızı sağlar. \"split\" metodunu kullanalım"
   ]
  },
  {
   "cell_type": "code",
   "execution_count": 367,
   "id": "4a96ef57-f457-419f-b207-602ed942557f",
   "metadata": {},
   "outputs": [
    {
     "data": {
      "text/html": [
       "<div>\n",
       "<style scoped>\n",
       "    .dataframe tbody tr th:only-of-type {\n",
       "        vertical-align: middle;\n",
       "    }\n",
       "\n",
       "    .dataframe tbody tr th {\n",
       "        vertical-align: top;\n",
       "    }\n",
       "\n",
       "    .dataframe thead th {\n",
       "        text-align: right;\n",
       "    }\n",
       "</style>\n",
       "<table border=\"1\" class=\"dataframe\">\n",
       "  <thead>\n",
       "    <tr style=\"text-align: right;\">\n",
       "      <th></th>\n",
       "      <th>Veri</th>\n",
       "    </tr>\n",
       "  </thead>\n",
       "  <tbody>\n",
       "    <tr>\n",
       "      <th>0</th>\n",
       "      <td>1987_E_ABD _1</td>\n",
       "    </tr>\n",
       "    <tr>\n",
       "      <th>1</th>\n",
       "      <td>1990?_E_ING_1</td>\n",
       "    </tr>\n",
       "    <tr>\n",
       "      <th>2</th>\n",
       "      <td>1992_K_ABD_2</td>\n",
       "    </tr>\n",
       "    <tr>\n",
       "      <th>3</th>\n",
       "      <td>1970?_E_ IT_1</td>\n",
       "    </tr>\n",
       "    <tr>\n",
       "      <th>4</th>\n",
       "      <td>1985_K_I T_2</td>\n",
       "    </tr>\n",
       "  </tbody>\n",
       "</table>\n",
       "</div>"
      ],
      "text/plain": [
       "            Veri\n",
       "0  1987_E_ABD _1\n",
       "1  1990?_E_ING_1\n",
       "2   1992_K_ABD_2\n",
       "3  1970?_E_ IT_1\n",
       "4   1985_K_I T_2"
      ]
     },
     "execution_count": 367,
     "metadata": {},
     "output_type": "execute_result"
    }
   ],
   "source": [
    "df"
   ]
  },
  {
   "cell_type": "code",
   "execution_count": 369,
   "id": "927dcba2-fda5-4593-bb64-c34a0d5218db",
   "metadata": {},
   "outputs": [
    {
     "data": {
      "text/plain": [
       "0    [1987, E, ABD , 1]\n",
       "1    [1990?, E, ING, 1]\n",
       "2     [1992, K, ABD, 2]\n",
       "3    [1970?, E,  IT, 1]\n",
       "4     [1985, K, I T, 2]\n",
       "Name: Veri, dtype: object"
      ]
     },
     "execution_count": 369,
     "metadata": {},
     "output_type": "execute_result"
    }
   ],
   "source": [
    "df[\"Veri\"].str.split(\"_\")"
   ]
  },
  {
   "cell_type": "markdown",
   "id": "588d2fa9-a734-40cd-8bdb-c7a1ac876b07",
   "metadata": {},
   "source": [
    "\"expand\" parametresini True yaparak parçalanan verileri sütunlara ayırabiliriz:"
   ]
  },
  {
   "cell_type": "code",
   "execution_count": 372,
   "id": "1d97a2f6-bde5-45c5-b982-ef4b487fefdd",
   "metadata": {},
   "outputs": [
    {
     "data": {
      "text/html": [
       "<div>\n",
       "<style scoped>\n",
       "    .dataframe tbody tr th:only-of-type {\n",
       "        vertical-align: middle;\n",
       "    }\n",
       "\n",
       "    .dataframe tbody tr th {\n",
       "        vertical-align: top;\n",
       "    }\n",
       "\n",
       "    .dataframe thead th {\n",
       "        text-align: right;\n",
       "    }\n",
       "</style>\n",
       "<table border=\"1\" class=\"dataframe\">\n",
       "  <thead>\n",
       "    <tr style=\"text-align: right;\">\n",
       "      <th></th>\n",
       "      <th>0</th>\n",
       "      <th>1</th>\n",
       "      <th>2</th>\n",
       "      <th>3</th>\n",
       "    </tr>\n",
       "  </thead>\n",
       "  <tbody>\n",
       "    <tr>\n",
       "      <th>0</th>\n",
       "      <td>1987</td>\n",
       "      <td>E</td>\n",
       "      <td>ABD</td>\n",
       "      <td>1</td>\n",
       "    </tr>\n",
       "    <tr>\n",
       "      <th>1</th>\n",
       "      <td>1990?</td>\n",
       "      <td>E</td>\n",
       "      <td>ING</td>\n",
       "      <td>1</td>\n",
       "    </tr>\n",
       "    <tr>\n",
       "      <th>2</th>\n",
       "      <td>1992</td>\n",
       "      <td>K</td>\n",
       "      <td>ABD</td>\n",
       "      <td>2</td>\n",
       "    </tr>\n",
       "    <tr>\n",
       "      <th>3</th>\n",
       "      <td>1970?</td>\n",
       "      <td>E</td>\n",
       "      <td>IT</td>\n",
       "      <td>1</td>\n",
       "    </tr>\n",
       "    <tr>\n",
       "      <th>4</th>\n",
       "      <td>1985</td>\n",
       "      <td>K</td>\n",
       "      <td>I T</td>\n",
       "      <td>2</td>\n",
       "    </tr>\n",
       "  </tbody>\n",
       "</table>\n",
       "</div>"
      ],
      "text/plain": [
       "       0  1     2  3\n",
       "0   1987  E  ABD   1\n",
       "1  1990?  E   ING  1\n",
       "2   1992  K   ABD  2\n",
       "3  1970?  E    IT  1\n",
       "4   1985  K   I T  2"
      ]
     },
     "execution_count": 372,
     "metadata": {},
     "output_type": "execute_result"
    }
   ],
   "source": [
    "df[\"Veri\"].str.split(\"_\", expand=True)"
   ]
  },
  {
   "cell_type": "markdown",
   "id": "68e22f7a-1e7a-4df3-af3d-4b762d373081",
   "metadata": {},
   "source": [
    "Bu işlemleri yapıp Dataframe'i değiştirelim ve sütun isimlerini de güncelleyelim:"
   ]
  },
  {
   "cell_type": "code",
   "execution_count": 375,
   "id": "8dc4cb9e-7920-4743-9840-f43d8fcce016",
   "metadata": {},
   "outputs": [
    {
     "data": {
      "text/html": [
       "<div>\n",
       "<style scoped>\n",
       "    .dataframe tbody tr th:only-of-type {\n",
       "        vertical-align: middle;\n",
       "    }\n",
       "\n",
       "    .dataframe tbody tr th {\n",
       "        vertical-align: top;\n",
       "    }\n",
       "\n",
       "    .dataframe thead th {\n",
       "        text-align: right;\n",
       "    }\n",
       "</style>\n",
       "<table border=\"1\" class=\"dataframe\">\n",
       "  <thead>\n",
       "    <tr style=\"text-align: right;\">\n",
       "      <th></th>\n",
       "      <th>Yıl</th>\n",
       "      <th>Cinsiyet</th>\n",
       "      <th>Ülke</th>\n",
       "      <th>Çocuk Sayısı</th>\n",
       "    </tr>\n",
       "  </thead>\n",
       "  <tbody>\n",
       "    <tr>\n",
       "      <th>0</th>\n",
       "      <td>1987</td>\n",
       "      <td>E</td>\n",
       "      <td>ABD</td>\n",
       "      <td>1</td>\n",
       "    </tr>\n",
       "    <tr>\n",
       "      <th>1</th>\n",
       "      <td>1990?</td>\n",
       "      <td>E</td>\n",
       "      <td>ING</td>\n",
       "      <td>1</td>\n",
       "    </tr>\n",
       "    <tr>\n",
       "      <th>2</th>\n",
       "      <td>1992</td>\n",
       "      <td>K</td>\n",
       "      <td>ABD</td>\n",
       "      <td>2</td>\n",
       "    </tr>\n",
       "    <tr>\n",
       "      <th>3</th>\n",
       "      <td>1970?</td>\n",
       "      <td>E</td>\n",
       "      <td>IT</td>\n",
       "      <td>1</td>\n",
       "    </tr>\n",
       "    <tr>\n",
       "      <th>4</th>\n",
       "      <td>1985</td>\n",
       "      <td>K</td>\n",
       "      <td>I T</td>\n",
       "      <td>2</td>\n",
       "    </tr>\n",
       "  </tbody>\n",
       "</table>\n",
       "</div>"
      ],
      "text/plain": [
       "     Yıl Cinsiyet  Ülke Çocuk Sayısı\n",
       "0   1987        E  ABD             1\n",
       "1  1990?        E   ING            1\n",
       "2   1992        K   ABD            2\n",
       "3  1970?        E    IT            1\n",
       "4   1985        K   I T            2"
      ]
     },
     "execution_count": 375,
     "metadata": {},
     "output_type": "execute_result"
    }
   ],
   "source": [
    "# sütunlara ayıralım \n",
    "df = df[\"Veri\"].str.split(\"_\", expand=True)\n",
    "# sütun isimlerini değiştirelim \n",
    "df.columns = [\"Yıl\", \"Cinsiyet\", \"Ülke\", \"Çocuk Sayısı\"]\n",
    "df"
   ]
  },
  {
   "cell_type": "markdown",
   "id": "d0bae713-bac5-4ad5-89b3-584ea1a77616",
   "metadata": {},
   "source": [
    "Verilerde herhangi bir metin ya da karakter bulunuyor mu diye kontrol etmek için \"contains\" metodunu kullanabiliriz. Örneğin; soru işareti (?) içeren verilere bakalım:"
   ]
  },
  {
   "cell_type": "code",
   "execution_count": 378,
   "id": "064797a0-a8fd-47b8-bfd4-59ea2ac775d8",
   "metadata": {},
   "outputs": [
    {
     "name": "stderr",
     "output_type": "stream",
     "text": [
      "<>:1: SyntaxWarning: invalid escape sequence '\\?'\n",
      "<>:1: SyntaxWarning: invalid escape sequence '\\?'\n",
      "C:\\Users\\ASLI\\AppData\\Local\\Temp\\ipykernel_1508\\1208095726.py:1: SyntaxWarning: invalid escape sequence '\\?'\n",
      "  df[\"Yıl\"].str.contains(\"\\?\")\n"
     ]
    },
    {
     "data": {
      "text/plain": [
       "0    False\n",
       "1     True\n",
       "2    False\n",
       "3     True\n",
       "4    False\n",
       "Name: Yıl, dtype: bool"
      ]
     },
     "execution_count": 378,
     "metadata": {},
     "output_type": "execute_result"
    }
   ],
   "source": [
    "df[\"Yıl\"].str.contains(\"\\?\")"
   ]
  },
  {
   "cell_type": "markdown",
   "id": "70004ff9-9611-408c-9046-f07d869f463a",
   "metadata": {},
   "source": [
    "Burada soru işaretinden önce \"\" karakterini koyduk çünkü bu metot regex metni alıyor ve \"?\" karakterinin özel bir anlamı var. Bu özel anlamı baskılamak için \"\" karakteri koyduk. Burada iki tane yıl verisi \"?\" içeriyor, bu işaretleri silmemiz lazım. \"replace\" metodu ile bu işaretleri boş string (\"\") ile değiştirerek silebiliriz:"
   ]
  },
  {
   "cell_type": "code",
   "execution_count": 385,
   "id": "e410505f-68ff-45a6-963a-7e765f0508d4",
   "metadata": {},
   "outputs": [
    {
     "data": {
      "text/plain": [
       "0    1987\n",
       "1    1990\n",
       "2    1992\n",
       "3    1970\n",
       "4    1985\n",
       "Name: Yıl, dtype: object"
      ]
     },
     "execution_count": 385,
     "metadata": {},
     "output_type": "execute_result"
    }
   ],
   "source": [
    "# \"?\" karakterlerini silelim \n",
    "df[\"Yıl\"] = df[\"Yıl\"].str.replace(r\"\\?\", \"\", regex=True)\n",
    "df[\"Yıl\"]"
   ]
  },
  {
   "cell_type": "markdown",
   "id": "554b96d4-d011-490f-9711-c46a9fe2488d",
   "metadata": {},
   "source": [
    "Ülke isimlerindeki boşlukları (\" \") da kaldıralım:"
   ]
  },
  {
   "cell_type": "code",
   "execution_count": 390,
   "id": "981eb46a-2b0a-465e-99ee-e83ecf021009",
   "metadata": {},
   "outputs": [
    {
     "data": {
      "text/plain": [
       "0    ABD\n",
       "1    ING\n",
       "2    ABD\n",
       "3     IT\n",
       "4     IT\n",
       "Name: Ülke, dtype: object"
      ]
     },
     "execution_count": 390,
     "metadata": {},
     "output_type": "execute_result"
    }
   ],
   "source": [
    "df[\"Ülke\"] = df[\"Ülke\"].str.replace(\" \", \"\")\n",
    "df[\"Ülke\"]"
   ]
  },
  {
   "cell_type": "markdown",
   "id": "68c9271a-7edc-41d8-8cea-fe4fe1f61cca",
   "metadata": {},
   "source": [
    "Son olarak temizlenmiş olan tüm verimizi yazdıralım:"
   ]
  },
  {
   "cell_type": "code",
   "execution_count": 395,
   "id": "d65f4bff-750d-44ac-9e12-5fb9f7b42a9b",
   "metadata": {},
   "outputs": [
    {
     "data": {
      "text/html": [
       "<div>\n",
       "<style scoped>\n",
       "    .dataframe tbody tr th:only-of-type {\n",
       "        vertical-align: middle;\n",
       "    }\n",
       "\n",
       "    .dataframe tbody tr th {\n",
       "        vertical-align: top;\n",
       "    }\n",
       "\n",
       "    .dataframe thead th {\n",
       "        text-align: right;\n",
       "    }\n",
       "</style>\n",
       "<table border=\"1\" class=\"dataframe\">\n",
       "  <thead>\n",
       "    <tr style=\"text-align: right;\">\n",
       "      <th></th>\n",
       "      <th>Yıl</th>\n",
       "      <th>Cinsiyet</th>\n",
       "      <th>Ülke</th>\n",
       "      <th>Çocuk Sayısı</th>\n",
       "    </tr>\n",
       "  </thead>\n",
       "  <tbody>\n",
       "    <tr>\n",
       "      <th>0</th>\n",
       "      <td>1987</td>\n",
       "      <td>E</td>\n",
       "      <td>ABD</td>\n",
       "      <td>1</td>\n",
       "    </tr>\n",
       "    <tr>\n",
       "      <th>1</th>\n",
       "      <td>1990</td>\n",
       "      <td>E</td>\n",
       "      <td>ING</td>\n",
       "      <td>1</td>\n",
       "    </tr>\n",
       "    <tr>\n",
       "      <th>2</th>\n",
       "      <td>1992</td>\n",
       "      <td>K</td>\n",
       "      <td>ABD</td>\n",
       "      <td>2</td>\n",
       "    </tr>\n",
       "    <tr>\n",
       "      <th>3</th>\n",
       "      <td>1970</td>\n",
       "      <td>E</td>\n",
       "      <td>IT</td>\n",
       "      <td>1</td>\n",
       "    </tr>\n",
       "    <tr>\n",
       "      <th>4</th>\n",
       "      <td>1985</td>\n",
       "      <td>K</td>\n",
       "      <td>IT</td>\n",
       "      <td>2</td>\n",
       "    </tr>\n",
       "  </tbody>\n",
       "</table>\n",
       "</div>"
      ],
      "text/plain": [
       "    Yıl Cinsiyet Ülke Çocuk Sayısı\n",
       "0  1987        E  ABD            1\n",
       "1  1990        E  ING            1\n",
       "2  1992        K  ABD            2\n",
       "3  1970        E   IT            1\n",
       "4  1985        K   IT            2"
      ]
     },
     "execution_count": 395,
     "metadata": {},
     "output_type": "execute_result"
    }
   ],
   "source": [
    "df"
   ]
  },
  {
   "cell_type": "code",
   "execution_count": null,
   "id": "875fb1c4-e54d-4a07-ac52-7d9b3bed6e75",
   "metadata": {},
   "outputs": [],
   "source": []
  }
 ],
 "metadata": {
  "kernelspec": {
   "display_name": "Python [conda env:base] *",
   "language": "python",
   "name": "conda-base-py"
  },
  "language_info": {
   "codemirror_mode": {
    "name": "ipython",
    "version": 3
   },
   "file_extension": ".py",
   "mimetype": "text/x-python",
   "name": "python",
   "nbconvert_exporter": "python",
   "pygments_lexer": "ipython3",
   "version": "3.12.7"
  }
 },
 "nbformat": 4,
 "nbformat_minor": 5
}
