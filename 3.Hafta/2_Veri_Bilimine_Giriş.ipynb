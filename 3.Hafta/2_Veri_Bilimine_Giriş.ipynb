{
 "cells": [
  {
   "cell_type": "markdown",
   "id": "2bc26c00-0898-410b-b092-316dba08eca2",
   "metadata": {},
   "source": [
    " <h1 style=\"text-align: center; color: RED\">VERİ BİLİMİNE GİRİŞ</h1> "
   ]
  },
  {
   "cell_type": "markdown",
   "id": "69a94386-50e0-451c-b07a-5ceadcc23bc4",
   "metadata": {},
   "source": [
    " <span style=\"color: blue; font-weight: bold;\">Makine Öğrenmesi Nedir?</span> "
   ]
  },
  {
   "cell_type": "markdown",
   "id": "14bd28d6-5740-4830-bb15-1b8dbdb3abe6",
   "metadata": {},
   "source": [
    "Programlama bizlerin bilgisayar ile iletişim kurabilmemizi sağlayan bir araçtır. Makine öğrenmesinde  ise bilgisayar ile olan iletişimi örnekler üzerinden gerçekleştiririz."
   ]
  },
  {
   "cell_type": "markdown",
   "id": "7d56e018-8603-4fd6-8b51-250ea2ca9722",
   "metadata": {},
   "source": [
    " <span style=\"color: blue; font-weight: bold;\">Veri Bilimi Nedir?</span>"
   ]
  },
  {
   "cell_type": "markdown",
   "id": "35bbf252-8cb3-4d80-9ec5-69fe8b4fb220",
   "metadata": {},
   "source": [
    "Veri bilimi veriyi kullanışlı hale getirmedir.Veriden anlamlı iç görüler çıkarmamız sağlayan bir alandır. \n",
    "Veriyi kullanışlı hale getirme bilimidir ve bu süreçte yapılabilecek tüm adımları kapsar."
   ]
  },
  {
   "cell_type": "markdown",
   "id": "a62a3c9b-3fba-4f52-8fc1-696809f272e6",
   "metadata": {},
   "source": [
    "<span style=\"color: blue; font-weight: bold;\">Supervised vs Unsupervides Learning</span>"
   ]
  },
  {
   "cell_type": "markdown",
   "id": "b1007c31-2f31-4d0e-9ad8-ec86a64b171c",
   "metadata": {},
   "source": [
    "Denetimli Öğrenme(Supervised) veri içerinde etiketlerin ,labellerin olduğu, modellerin etiketlerle beslendiği öğrenme türüdür.\n",
    "\n",
    "Denetimsiz Öğrenme(Unsupervised) etiketlerin olmadığı, belirli bir patterne göre veya gruba göre öğrenme eylemi yapılır."
   ]
  },
  {
   "cell_type": "markdown",
   "id": "259bc39d-7af6-4854-b48c-e2d66e5edc96",
   "metadata": {},
   "source": [
    "<span style=\"color: blue; font-weight: bold;\">Regression vs Classification</span>"
   ]
  },
  {
   "cell_type": "markdown",
   "id": "fa3be7d9-ef60-4346-9780-3c468d8b740f",
   "metadata": {},
   "source": [
    "Eğer bağımlı değişken sürekli, sayısal değişken ise buna regresyon problemi denir.\n",
    "\n",
    "Bağımlı değişken kategorik bir değişken ise buna sınıflandırma problemi denilir."
   ]
  },
  {
   "cell_type": "markdown",
   "id": "6497bd60-214c-49fa-91cf-db8f133cd231",
   "metadata": {},
   "source": [
    "<span style=\"color: blue; font-weight: bold;\">Temel Veri Tipleri</span>"
   ]
  },
  {
   "cell_type": "markdown",
   "id": "3003f40a-5d1f-4643-bd5c-2d8ecb8f3ec7",
   "metadata": {},
   "source": [
    "**Numeric Veriler:** \n",
    "\n",
    "Sürekli ve süreksiz değişken olarak ikiye ayrılır.1.72,1,82 sürekli değişken;7,8, gibi değerler süreksiz değerlerdir.\n",
    "\n",
    "Interval veri tipi, sayısal (nicel) bir veri türüdür. Bu veriler:Sıralanabilir (bir değerin diğerinden büyük/küçük olduğu bilinir),aralarındaki fark anlamlıdır (örneğin: 30°C - 20°C = 10°C anlamlı bir farktır),ama mutlak “0” noktası yoktur!\n",
    "\n",
    "Sıcaklık (Celsius/Fahrenheit)\t30°C gerçekten 10°C'den 20°C daha sıcaktır ama \"0°C = hiç sıcaklık yok\" diyemezsin.\n",
    "\n",
    "Ratio veri tipi, sayısal bir türdür ve:Sıralanabilir,aralarındaki farklar anlamlıdır,gerçek ve mutlak bir sıfır noktası vardır.\n",
    "\n",
    "\n"
   ]
  },
  {
   "cell_type": "markdown",
   "id": "d1ddb000-4e3f-49b4-990d-a9db994829cb",
   "metadata": {},
   "source": [
    "**Kategorik veriler**:\n",
    "Binary ve multiclass kategorik veriler vardır.Binary 2 tane kategoriden oluşur. Multiclass 2'den fazla kategorik sınıfı olan verilerdir.\n",
    "\n",
    "Ayrıca kategorik değişkenleri nominal,ordinal, kardinal olarak üçe ayırabiliriz\n",
    "\n",
    "Ordinal veri tipi, kategorik bir veri türüdür. Kategoriler arasında doğal bir sıralama vardır, ama aralarındaki mesafe ölçülemez. İlkokul < Ortaokul < Lise < Üniversite buna örnek verilebilir.\n",
    "\n",
    "Nominal veri, kategorik bir veri türüdür. Ama bu kategoriler arasında hiçbir sıralama veya büyüklük ilişkisi yoktur. \tErkek, Kadın buna örnek verilebilir.\n",
    "\n",
    "Kardinal veri, veri bilimi veya makine öğrenmesi bağlamında genellikle çok fazla eşsiz (benzersiz) kategoriye sahip kategorik veri anlamında kullanılır. Bu tür değişkenlerde her bir gözlem neredeyse eşsizdi\n"
   ]
  },
  {
   "cell_type": "markdown",
   "id": "d55e44ac-a76b-4c7c-a54a-16fa74f23712",
   "metadata": {},
   "source": [
    "<span style=\"color: blue; font-weight: bold;\">\n",
    "Modeller Prediction (Tahmin) Yaparken Ortak Olarak Ne Yapıyorlar?</span>"
   ]
  },
  {
   "cell_type": "markdown",
   "id": "2d2f6421-4744-432e-9cd0-68f0558f8e72",
   "metadata": {},
   "source": [
    "Girdilerimi en az hata verecek şekilde çıktılara dönüştüren fonksiyonu bulmaktır. Örneğin elimizdeki çiçeklere ait veriyi input olarak modele veriyoruz model bunun zehirli mi zehirsiz mi tahmini yapması model prediction'dır.Modele İnputlar verilerek outputlar üretiriz. Bu outputlar modelin yaptığı tahminlerdir. Amacımız bu tahminlerin gerçek değerlere en yakın şekilde tahmin edilmesidir.Gerçek değerler ile tahmin eden değerler arasındaki fark  bize bir hata fonksiyonu oluşturur. Amacımız bu hata fonksiyonun değerini en aza indirmek, minimum değerini bulmaktır."
   ]
  },
  {
   "cell_type": "markdown",
   "id": "315205fe-d1ab-48a8-af88-3b37c61738ac",
   "metadata": {},
   "source": [
    "<span style=\"color: blue; font-weight: bold;\">\n",
    "Veriyi Model İçin Bölmek</span>"
   ]
  },
  {
   "cell_type": "markdown",
   "id": "88d98fb5-b163-4e6d-aeda-c99834c0c55d",
   "metadata": {},
   "source": [
    "Modeli eğittiğimiz veri ile test etmemiz pekde sağlıklı sonuçlar vermeyecektir. Modelimiz bize train setinde hata değerini en düşük değerde verirken test setinde yani hiç görmediği veride de minimum hatayı vermeli. Eğer model train setindeki örüntüyü öğrenmek yerine ezberlerse overfitting yapmış olur. Modeli train-validasyon-test üçlüsü yaparak hata değerini inceleyebilirim. "
   ]
  },
  {
   "cell_type": "markdown",
   "id": "27f91e31-965a-4089-ad92-408da7eae267",
   "metadata": {},
   "source": [
    "<span style=\"color: blue; font-weight: bold;\">Yapay Zekada Bias (Yanlılık)</span>"
   ]
  },
  {
   "cell_type": "markdown",
   "id": "523a3be6-af19-44dc-9844-429837d71eef",
   "metadata": {},
   "source": [
    "Bias, bir makine öğrenmesi modelinin tahminlerinde yaptığı sistematik hatadır.\n",
    "Yani modelin sürekli olarak belirli bir yönde yanlış tahminde bulunmasıdır.\n",
    "\n",
    " Bias Türleri:\n",
    "1. Model Bias (Tahmin Bias'ı)\n",
    "Modelin aşırı basitleştirilmesinden kaynaklanır.\n",
    "\n",
    "Underfitting (az öğrenme) ile ilişkilidir.\n",
    "\n",
    "Gerçek veri yapısını yakalayamaz.\n",
    "\n",
    "Örnek: Karmaşık bir problemi düz çizgiyle açıklamaya çalışmak.\n",
    "\n",
    "2. Data Bias (Veri Yanlılığı)\n",
    "Eğitim verisindeki dengesizliklerden veya temsil bozukluğundan kaynaklanır.\n",
    "\n",
    "Eğer verinin belirli grupları eksikse ya da fazla temsil ediliyorsa model de bu yanlılığı öğrenir.\n",
    "\n",
    "Örnek: Eğitim verisinde sadece genç müşteri varsa, model yaşlıları tanıyamaz.\n",
    "\n",
    "3.  Algorithmic Bias (Algoritmik Yanlılık)\n",
    "Modelin ya da algoritmanın karar verme şeklindeki yapısal yanlılıktır.\n",
    "\n",
    "Etik ve adalet problemleri doğurabilir. Özellikle işe alım, kredi değerlendirme gibi alanlarda tehlikelidir."
   ]
  },
  {
   "cell_type": "markdown",
   "id": "2a4c5fd9-c50e-419b-8408-95cd6160b5ec",
   "metadata": {},
   "source": [
    "<span style=\"color: blue; font-weight: bold;\">\n",
    "Bias Nasıl Azaltılmaya Çalışılabilir</span>"
   ]
  },
  {
   "cell_type": "markdown",
   "id": "938468aa-1a3a-4688-a17a-642fc0d1cf0e",
   "metadata": {},
   "source": [
    "Veri setinde çeşitliliği artırmak, tüm grupların eşit şekilde temsil edildiğinden emin olmak.\n",
    "Eksik ya da az temsil edilen grupları oversampling (SMOTE gibi) ya da daha fazla veri toplayarak dengelemek."
   ]
  },
  {
   "cell_type": "code",
   "execution_count": null,
   "id": "281fa3fe-533e-4e62-91fc-3be855079fe1",
   "metadata": {},
   "outputs": [],
   "source": []
  }
 ],
 "metadata": {
  "kernelspec": {
   "display_name": "Python [conda env:base] *",
   "language": "python",
   "name": "conda-base-py"
  },
  "language_info": {
   "codemirror_mode": {
    "name": "ipython",
    "version": 3
   },
   "file_extension": ".py",
   "mimetype": "text/x-python",
   "name": "python",
   "nbconvert_exporter": "python",
   "pygments_lexer": "ipython3",
   "version": "3.12.7"
  }
 },
 "nbformat": 4,
 "nbformat_minor": 5
}
